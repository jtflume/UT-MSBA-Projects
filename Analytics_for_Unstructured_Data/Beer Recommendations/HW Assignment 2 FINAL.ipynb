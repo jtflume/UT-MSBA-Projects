{
 "cells": [
  {
   "cell_type": "markdown",
   "id": "076b2930",
   "metadata": {},
   "source": [
    "# <p style=\"text-align: center;\">Analytics for Unstructured Data</p>\n",
    "## <p style=\"text-align: center;\">Group Assignment #2</p>\n",
    "### <p style=\"text-align: center;\">Authors: Conoly Cravens, JT Flume, Connor Gilmore, Jessie Lee, Garrett Sooter</p>\n",
    "### <p style=\"text-align: center;\">10:30AM Section</p>"
   ]
  },
  {
   "cell_type": "markdown",
   "id": "9babdddf",
   "metadata": {},
   "source": [
    "## Task B"
   ]
  },
  {
   "cell_type": "markdown",
   "id": "4808911f",
   "metadata": {},
   "source": [
    "### Import Libraries"
   ]
  },
  {
   "cell_type": "code",
   "execution_count": 1,
   "id": "3f45f7a1",
   "metadata": {},
   "outputs": [],
   "source": [
    "import pandas as pd\n",
    "import numpy as np"
   ]
  },
  {
   "cell_type": "code",
   "execution_count": 2,
   "id": "5a370566",
   "metadata": {},
   "outputs": [],
   "source": [
    "import spacy\n",
    "import pandas as pd\n",
    "import numpy as np\n",
    "%matplotlib inline\n",
    "import matplotlib.pyplot as plt\n",
    "nlp=spacy.load('en_core_web_sm')"
   ]
  },
  {
   "cell_type": "markdown",
   "id": "461fe5f7",
   "metadata": {},
   "source": [
    "### Import Data"
   ]
  },
  {
   "cell_type": "code",
   "execution_count": 3,
   "id": "e9d6a372",
   "metadata": {},
   "outputs": [],
   "source": [
    "#beer_df = pd.read_csv('beeradvocate.csv')\n",
    "beer_df = pd.read_csv('beer_review.csv')"
   ]
  },
  {
   "cell_type": "code",
   "execution_count": 4,
   "id": "61fb6d00",
   "metadata": {},
   "outputs": [
    {
     "data": {
      "text/html": [
       "<div>\n",
       "<style scoped>\n",
       "    .dataframe tbody tr th:only-of-type {\n",
       "        vertical-align: middle;\n",
       "    }\n",
       "\n",
       "    .dataframe tbody tr th {\n",
       "        vertical-align: top;\n",
       "    }\n",
       "\n",
       "    .dataframe thead th {\n",
       "        text-align: right;\n",
       "    }\n",
       "</style>\n",
       "<table border=\"1\" class=\"dataframe\">\n",
       "  <thead>\n",
       "    <tr style=\"text-align: right;\">\n",
       "      <th></th>\n",
       "      <th>Unnamed: 0</th>\n",
       "      <th>brand</th>\n",
       "      <th>score</th>\n",
       "      <th>review</th>\n",
       "    </tr>\n",
       "  </thead>\n",
       "  <tbody>\n",
       "    <tr>\n",
       "      <th>0</th>\n",
       "      <td>0</td>\n",
       "      <td>Kentucky Brunch Brand Stout</td>\n",
       "      <td>4.56</td>\n",
       "      <td>Long time waiting to tick this one, and I hav...</td>\n",
       "    </tr>\n",
       "    <tr>\n",
       "      <th>1</th>\n",
       "      <td>1</td>\n",
       "      <td>Kentucky Brunch Brand Stout</td>\n",
       "      <td>5.00</td>\n",
       "      <td>This review is for the 2019 batch. It was bot...</td>\n",
       "    </tr>\n",
       "    <tr>\n",
       "      <th>2</th>\n",
       "      <td>2</td>\n",
       "      <td>Kentucky Brunch Brand Stout</td>\n",
       "      <td>5.00</td>\n",
       "      <td>Supreme maple OD! Soooo easy drinking &amp;amp; w...</td>\n",
       "    </tr>\n",
       "    <tr>\n",
       "      <th>3</th>\n",
       "      <td>3</td>\n",
       "      <td>Kentucky Brunch Brand Stout</td>\n",
       "      <td>5.00</td>\n",
       "      <td>I have now had 4 different years of KBBS and ...</td>\n",
       "    </tr>\n",
       "    <tr>\n",
       "      <th>4</th>\n",
       "      <td>4</td>\n",
       "      <td>Kentucky Brunch Brand Stout</td>\n",
       "      <td>5.00</td>\n",
       "      <td>2020 Bottle.\\n\\nAbsolutely bonkers Maple Syru...</td>\n",
       "    </tr>\n",
       "  </tbody>\n",
       "</table>\n",
       "</div>"
      ],
      "text/plain": [
       "   Unnamed: 0                        brand  score  \\\n",
       "0           0  Kentucky Brunch Brand Stout   4.56   \n",
       "1           1  Kentucky Brunch Brand Stout   5.00   \n",
       "2           2  Kentucky Brunch Brand Stout   5.00   \n",
       "3           3  Kentucky Brunch Brand Stout   5.00   \n",
       "4           4  Kentucky Brunch Brand Stout   5.00   \n",
       "\n",
       "                                              review  \n",
       "0   Long time waiting to tick this one, and I hav...  \n",
       "1   This review is for the 2019 batch. It was bot...  \n",
       "2   Supreme maple OD! Soooo easy drinking &amp; w...  \n",
       "3   I have now had 4 different years of KBBS and ...  \n",
       "4   2020 Bottle.\\n\\nAbsolutely bonkers Maple Syru...  "
      ]
     },
     "execution_count": 4,
     "metadata": {},
     "output_type": "execute_result"
    }
   ],
   "source": [
    "beer_df.head()"
   ]
  },
  {
   "cell_type": "code",
   "execution_count": 5,
   "id": "f62bbbce",
   "metadata": {},
   "outputs": [],
   "source": [
    "products = pd.DataFrame(beer_df[['brand', 'score', 'review']])\n",
    "products.columns = ['product_name', 'user_rating', 'product_review']"
   ]
  },
  {
   "cell_type": "code",
   "execution_count": 6,
   "id": "ccf8784a",
   "metadata": {},
   "outputs": [],
   "source": [
    "products.to_csv('products.csv', index=False)"
   ]
  },
  {
   "cell_type": "markdown",
   "id": "61fd8c38",
   "metadata": {},
   "source": [
    "### Task B"
   ]
  },
  {
   "cell_type": "code",
   "execution_count": 7,
   "id": "43c7cf64",
   "metadata": {},
   "outputs": [],
   "source": [
    "beer_df['reviews'] = beer_df['review'].replace(r'\\n',' ', regex=True) \n",
    "beer_df['reviews'] = beer_df['reviews'].replace('[0-9]+', '', regex=True)"
   ]
  },
  {
   "cell_type": "code",
   "execution_count": 8,
   "id": "39983dd5",
   "metadata": {},
   "outputs": [],
   "source": [
    "beer_df['reviews'] = beer_df['reviews'].map(lambda x:nlp(x))"
   ]
  },
  {
   "cell_type": "code",
   "execution_count": 9,
   "id": "2ac18411",
   "metadata": {},
   "outputs": [],
   "source": [
    "# STEP 1: create frequency dictionary for ALL words (including stopwords)\n",
    "voc=dict()\n",
    "for row in range(len(beer_df)):\n",
    "    text=beer_df['reviews'].iloc[row]\n",
    "    for word in text:\n",
    "        if word.is_stop:\n",
    "            continue\n",
    "        if word.is_punct:\n",
    "            continue\n",
    "        if word.text == '' or ' ' in word.text:\n",
    "            continue\n",
    "        if word.text.lower() in voc:\n",
    "            voc[word.text.lower()]+=1\n",
    "        else:\n",
    "            voc[word.text.lower()]=1"
   ]
  },
  {
   "cell_type": "code",
   "execution_count": 10,
   "id": "57f47ab4",
   "metadata": {},
   "outputs": [],
   "source": [
    "# STEP 2: create dataframe from dictionary\n",
    "word_count = pd.DataFrame.from_dict(voc, orient = 'index')\n",
    "word_count.columns=['count']\n",
    "word_sort=word_count.sort_values(by='count',ascending=False)"
   ]
  },
  {
   "cell_type": "code",
   "execution_count": 11,
   "id": "ad388070",
   "metadata": {},
   "outputs": [
    {
     "data": {
      "text/html": [
       "<div>\n",
       "<style scoped>\n",
       "    .dataframe tbody tr th:only-of-type {\n",
       "        vertical-align: middle;\n",
       "    }\n",
       "\n",
       "    .dataframe tbody tr th {\n",
       "        vertical-align: top;\n",
       "    }\n",
       "\n",
       "    .dataframe thead th {\n",
       "        text-align: right;\n",
       "    }\n",
       "</style>\n",
       "<table border=\"1\" class=\"dataframe\">\n",
       "  <thead>\n",
       "    <tr style=\"text-align: right;\">\n",
       "      <th></th>\n",
       "      <th>count</th>\n",
       "    </tr>\n",
       "  </thead>\n",
       "  <tbody>\n",
       "    <tr>\n",
       "      <th>beer</th>\n",
       "      <td>4984</td>\n",
       "    </tr>\n",
       "    <tr>\n",
       "      <th>head</th>\n",
       "      <td>3819</td>\n",
       "    </tr>\n",
       "    <tr>\n",
       "      <th>taste</th>\n",
       "      <td>3162</td>\n",
       "    </tr>\n",
       "    <tr>\n",
       "      <th>chocolate</th>\n",
       "      <td>2904</td>\n",
       "    </tr>\n",
       "    <tr>\n",
       "      <th>dark</th>\n",
       "      <td>2830</td>\n",
       "    </tr>\n",
       "    <tr>\n",
       "      <th>like</th>\n",
       "      <td>2533</td>\n",
       "    </tr>\n",
       "    <tr>\n",
       "      <th>sweet</th>\n",
       "      <td>2495</td>\n",
       "    </tr>\n",
       "    <tr>\n",
       "      <th>coffee</th>\n",
       "      <td>2234</td>\n",
       "    </tr>\n",
       "    <tr>\n",
       "      <th>bourbon</th>\n",
       "      <td>2187</td>\n",
       "    </tr>\n",
       "    <tr>\n",
       "      <th>vanilla</th>\n",
       "      <td>2104</td>\n",
       "    </tr>\n",
       "    <tr>\n",
       "      <th>nice</th>\n",
       "      <td>2075</td>\n",
       "    </tr>\n",
       "    <tr>\n",
       "      <th>notes</th>\n",
       "      <td>2069</td>\n",
       "    </tr>\n",
       "    <tr>\n",
       "      <th>nose</th>\n",
       "      <td>2049</td>\n",
       "    </tr>\n",
       "    <tr>\n",
       "      <th>light</th>\n",
       "      <td>1966</td>\n",
       "    </tr>\n",
       "    <tr>\n",
       "      <th>good</th>\n",
       "      <td>1966</td>\n",
       "    </tr>\n",
       "    <tr>\n",
       "      <th>finish</th>\n",
       "      <td>1822</td>\n",
       "    </tr>\n",
       "    <tr>\n",
       "      <th>orange</th>\n",
       "      <td>1808</td>\n",
       "    </tr>\n",
       "    <tr>\n",
       "      <th>pours</th>\n",
       "      <td>1806</td>\n",
       "    </tr>\n",
       "    <tr>\n",
       "      <th>medium</th>\n",
       "      <td>1803</td>\n",
       "    </tr>\n",
       "    <tr>\n",
       "      <th>carbonation</th>\n",
       "      <td>1771</td>\n",
       "    </tr>\n",
       "    <tr>\n",
       "      <th>fruit</th>\n",
       "      <td>1767</td>\n",
       "    </tr>\n",
       "    <tr>\n",
       "      <th>aroma</th>\n",
       "      <td>1751</td>\n",
       "    </tr>\n",
       "    <tr>\n",
       "      <th>white</th>\n",
       "      <td>1714</td>\n",
       "    </tr>\n",
       "    <tr>\n",
       "      <th>body</th>\n",
       "      <td>1699</td>\n",
       "    </tr>\n",
       "    <tr>\n",
       "      <th>bottle</th>\n",
       "      <td>1696</td>\n",
       "    </tr>\n",
       "    <tr>\n",
       "      <th>black</th>\n",
       "      <td>1667</td>\n",
       "    </tr>\n",
       "    <tr>\n",
       "      <th>bit</th>\n",
       "      <td>1655</td>\n",
       "    </tr>\n",
       "    <tr>\n",
       "      <th>mouthfeel</th>\n",
       "      <td>1628</td>\n",
       "    </tr>\n",
       "    <tr>\n",
       "      <th>overall</th>\n",
       "      <td>1624</td>\n",
       "    </tr>\n",
       "    <tr>\n",
       "      <th>barrel</th>\n",
       "      <td>1600</td>\n",
       "    </tr>\n",
       "    <tr>\n",
       "      <th>flavor</th>\n",
       "      <td>1532</td>\n",
       "    </tr>\n",
       "    <tr>\n",
       "      <th>oak</th>\n",
       "      <td>1493</td>\n",
       "    </tr>\n",
       "    <tr>\n",
       "      <th>great</th>\n",
       "      <td>1455</td>\n",
       "    </tr>\n",
       "    <tr>\n",
       "      <th>lacing</th>\n",
       "      <td>1441</td>\n",
       "    </tr>\n",
       "    <tr>\n",
       "      <th>brown</th>\n",
       "      <td>1439</td>\n",
       "    </tr>\n",
       "    <tr>\n",
       "      <th>thick</th>\n",
       "      <td>1437</td>\n",
       "    </tr>\n",
       "    <tr>\n",
       "      <th>smooth</th>\n",
       "      <td>1433</td>\n",
       "    </tr>\n",
       "    <tr>\n",
       "      <th>glass</th>\n",
       "      <td>1431</td>\n",
       "    </tr>\n",
       "    <tr>\n",
       "      <th>little</th>\n",
       "      <td>1413</td>\n",
       "    </tr>\n",
       "    <tr>\n",
       "      <th>citrus</th>\n",
       "      <td>1359</td>\n",
       "    </tr>\n",
       "    <tr>\n",
       "      <th>flavors</th>\n",
       "      <td>1319</td>\n",
       "    </tr>\n",
       "    <tr>\n",
       "      <th>feel</th>\n",
       "      <td>1248</td>\n",
       "    </tr>\n",
       "    <tr>\n",
       "      <th>smell</th>\n",
       "      <td>1247</td>\n",
       "    </tr>\n",
       "    <tr>\n",
       "      <th>malt</th>\n",
       "      <td>1226</td>\n",
       "    </tr>\n",
       "    <tr>\n",
       "      <th>color</th>\n",
       "      <td>1225</td>\n",
       "    </tr>\n",
       "    <tr>\n",
       "      <th>poured</th>\n",
       "      <td>1188</td>\n",
       "    </tr>\n",
       "    <tr>\n",
       "      <th>bitterness</th>\n",
       "      <td>1148</td>\n",
       "    </tr>\n",
       "    <tr>\n",
       "      <th>caramel</th>\n",
       "      <td>1145</td>\n",
       "    </tr>\n",
       "    <tr>\n",
       "      <th>creamy</th>\n",
       "      <td>1116</td>\n",
       "    </tr>\n",
       "    <tr>\n",
       "      <th>sweetness</th>\n",
       "      <td>1087</td>\n",
       "    </tr>\n",
       "    <tr>\n",
       "      <th>dry</th>\n",
       "      <td>1063</td>\n",
       "    </tr>\n",
       "    <tr>\n",
       "      <th>stout</th>\n",
       "      <td>1041</td>\n",
       "    </tr>\n",
       "    <tr>\n",
       "      <th>sour</th>\n",
       "      <td>942</td>\n",
       "    </tr>\n",
       "    <tr>\n",
       "      <th>maple</th>\n",
       "      <td>930</td>\n",
       "    </tr>\n",
       "    <tr>\n",
       "      <th>big</th>\n",
       "      <td>930</td>\n",
       "    </tr>\n",
       "    <tr>\n",
       "      <th>rich</th>\n",
       "      <td>913</td>\n",
       "    </tr>\n",
       "    <tr>\n",
       "      <th>hazy</th>\n",
       "      <td>902</td>\n",
       "    </tr>\n",
       "    <tr>\n",
       "      <th>grapefruit</th>\n",
       "      <td>897</td>\n",
       "    </tr>\n",
       "    <tr>\n",
       "      <th>balanced</th>\n",
       "      <td>860</td>\n",
       "    </tr>\n",
       "    <tr>\n",
       "      <th>bitter</th>\n",
       "      <td>851</td>\n",
       "    </tr>\n",
       "  </tbody>\n",
       "</table>\n",
       "</div>"
      ],
      "text/plain": [
       "             count\n",
       "beer          4984\n",
       "head          3819\n",
       "taste         3162\n",
       "chocolate     2904\n",
       "dark          2830\n",
       "like          2533\n",
       "sweet         2495\n",
       "coffee        2234\n",
       "bourbon       2187\n",
       "vanilla       2104\n",
       "nice          2075\n",
       "notes         2069\n",
       "nose          2049\n",
       "light         1966\n",
       "good          1966\n",
       "finish        1822\n",
       "orange        1808\n",
       "pours         1806\n",
       "medium        1803\n",
       "carbonation   1771\n",
       "fruit         1767\n",
       "aroma         1751\n",
       "white         1714\n",
       "body          1699\n",
       "bottle        1696\n",
       "black         1667\n",
       "bit           1655\n",
       "mouthfeel     1628\n",
       "overall       1624\n",
       "barrel        1600\n",
       "flavor        1532\n",
       "oak           1493\n",
       "great         1455\n",
       "lacing        1441\n",
       "brown         1439\n",
       "thick         1437\n",
       "smooth        1433\n",
       "glass         1431\n",
       "little        1413\n",
       "citrus        1359\n",
       "flavors       1319\n",
       "feel          1248\n",
       "smell         1247\n",
       "malt          1226\n",
       "color         1225\n",
       "poured        1188\n",
       "bitterness    1148\n",
       "caramel       1145\n",
       "creamy        1116\n",
       "sweetness     1087\n",
       "dry           1063\n",
       "stout         1041\n",
       "sour           942\n",
       "maple          930\n",
       "big            930\n",
       "rich           913\n",
       "hazy           902\n",
       "grapefruit     897\n",
       "balanced       860\n",
       "bitter         851"
      ]
     },
     "execution_count": 11,
     "metadata": {},
     "output_type": "execute_result"
    }
   ],
   "source": [
    "word_sort[:60]"
   ]
  },
  {
   "cell_type": "markdown",
   "id": "cf8f0623",
   "metadata": {},
   "source": [
    "**Three Attributes:**\n",
    "\n",
    "* Malty\n",
    "* Fruity \n",
    "* Balanced"
   ]
  },
  {
   "cell_type": "code",
   "execution_count": 12,
   "id": "06cedd21",
   "metadata": {},
   "outputs": [],
   "source": [
    "attributes = pd.DataFrame(['malty', 'fruity', 'crisp'])\n",
    "attributes.columns = ['attributes']"
   ]
  },
  {
   "cell_type": "code",
   "execution_count": 13,
   "id": "f6c516cf",
   "metadata": {},
   "outputs": [],
   "source": [
    "attributes.to_csv('attributes.csv', index=False)"
   ]
  },
  {
   "cell_type": "markdown",
   "id": "f8505812",
   "metadata": {},
   "source": [
    "## Task C"
   ]
  },
  {
   "cell_type": "markdown",
   "id": "f7b1cf99",
   "metadata": {},
   "source": [
    "### Import Libraries"
   ]
  },
  {
   "cell_type": "code",
   "execution_count": 14,
   "id": "67083810",
   "metadata": {},
   "outputs": [],
   "source": [
    "import pandas as pd\n",
    "import numpy as np"
   ]
  },
  {
   "cell_type": "code",
   "execution_count": 15,
   "id": "4677e960",
   "metadata": {},
   "outputs": [],
   "source": [
    "import math"
   ]
  },
  {
   "cell_type": "code",
   "execution_count": 16,
   "id": "85efccc9",
   "metadata": {},
   "outputs": [],
   "source": [
    "import spacy\n",
    "import pandas as pd\n",
    "import numpy as np\n",
    "%matplotlib inline\n",
    "import matplotlib.pyplot as plt\n",
    "nlp=spacy.load('en_core_web_sm')"
   ]
  },
  {
   "cell_type": "markdown",
   "id": "8f0fc742",
   "metadata": {},
   "source": [
    "### Import Data"
   ]
  },
  {
   "cell_type": "code",
   "execution_count": 17,
   "id": "5c2eb471",
   "metadata": {},
   "outputs": [],
   "source": [
    "products_df = pd.read_csv('products.csv')"
   ]
  },
  {
   "cell_type": "code",
   "execution_count": 18,
   "id": "366b9b8f",
   "metadata": {},
   "outputs": [],
   "source": [
    "attributes = pd.read_csv('attributes.csv')"
   ]
  },
  {
   "cell_type": "code",
   "execution_count": 19,
   "id": "bcb41e3e",
   "metadata": {},
   "outputs": [],
   "source": [
    "attributes_list = attributes['attributes'].to_list()"
   ]
  },
  {
   "cell_type": "code",
   "execution_count": 20,
   "id": "0fd90527",
   "metadata": {},
   "outputs": [],
   "source": [
    "products_df['product_review'] = products_df['product_review'].replace(r'\\n',' ', regex=True) "
   ]
  },
  {
   "cell_type": "markdown",
   "id": "fbd729c4",
   "metadata": {},
   "source": [
    "### Cosine Similarity"
   ]
  },
  {
   "cell_type": "code",
   "execution_count": 21,
   "id": "c03855c1",
   "metadata": {},
   "outputs": [],
   "source": [
    "def get_sim(review):\n",
    "    review_tokens = review.split(' ')\n",
    "    #vectors\n",
    "    vec1 = [1, 1, 1]\n",
    "    vec2 = [0, 0, 0]\n",
    "    for i in range(0, len(attributes_list)):\n",
    "        if attributes_list[0] in review_tokens:\n",
    "            vec2[0] = 1\n",
    "    #same as dot product b\n",
    "    numerator = np.dot(vec1, vec2)\n",
    "    denominator = (math.sqrt(3) * math.sqrt(3))\n",
    "    return numerator / denominator "
   ]
  },
  {
   "cell_type": "code",
   "execution_count": 22,
   "id": "f18e0c7b",
   "metadata": {},
   "outputs": [],
   "source": [
    "products_df['similarity_score'] = products_df['product_review'].map(lambda x:get_sim(x))"
   ]
  },
  {
   "cell_type": "code",
   "execution_count": 23,
   "id": "5c48906c",
   "metadata": {},
   "outputs": [],
   "source": [
    "new_products_df = pd.DataFrame(products_df[['product_name', 'product_review', 'similarity_score']])"
   ]
  },
  {
   "cell_type": "code",
   "execution_count": 24,
   "id": "b06c50db",
   "metadata": {},
   "outputs": [],
   "source": [
    "new_products_df.to_csv('products_w_sim.csv', index=False)"
   ]
  },
  {
   "cell_type": "markdown",
   "id": "7921506b",
   "metadata": {},
   "source": [
    "## Task D"
   ]
  },
  {
   "cell_type": "markdown",
   "id": "04739b5b",
   "metadata": {},
   "source": [
    "### VADER Sentiment Analyzer\n",
    "\n",
    "This code is from https://towardsdatascience.com/sentimental-analysis-using-vader-a3415fef7664.  "
   ]
  },
  {
   "cell_type": "markdown",
   "id": "60c63694",
   "metadata": {},
   "source": [
    "### Import Libraries"
   ]
  },
  {
   "cell_type": "code",
   "execution_count": 25,
   "id": "83ecece2",
   "metadata": {},
   "outputs": [],
   "source": [
    "import warnings\n",
    "warnings.filterwarnings(\"ignore\",category=DeprecationWarning)"
   ]
  },
  {
   "cell_type": "code",
   "execution_count": 26,
   "id": "eb65eabb",
   "metadata": {},
   "outputs": [
    {
     "name": "stderr",
     "output_type": "stream",
     "text": [
      "[nltk_data] Downloading package vader_lexicon to\n",
      "[nltk_data]     C:\\Users\\conol\\AppData\\Roaming\\nltk_data...\n",
      "[nltk_data]   Package vader_lexicon is already up-to-date!\n"
     ]
    }
   ],
   "source": [
    "import pandas as pd\n",
    "import nltk\n",
    "nltk.download('vader_lexicon')\n",
    "from nltk.sentiment.vader import SentimentIntensityAnalyzer"
   ]
  },
  {
   "cell_type": "markdown",
   "id": "51192233",
   "metadata": {},
   "source": [
    "### Import Data"
   ]
  },
  {
   "cell_type": "code",
   "execution_count": 27,
   "id": "22824193",
   "metadata": {},
   "outputs": [],
   "source": [
    "product_df = pd.read_csv('products.csv')"
   ]
  },
  {
   "cell_type": "markdown",
   "id": "842f8975",
   "metadata": {},
   "source": [
    "### Prep Data"
   ]
  },
  {
   "cell_type": "code",
   "execution_count": 28,
   "id": "e010be7a",
   "metadata": {},
   "outputs": [],
   "source": [
    "product_df['product_review'] = product_df['product_review'].map(lambda x: str(x))"
   ]
  },
  {
   "cell_type": "markdown",
   "id": "972b19ed",
   "metadata": {},
   "source": [
    "### Get Sentiment"
   ]
  },
  {
   "cell_type": "code",
   "execution_count": 29,
   "id": "0fa188fd",
   "metadata": {},
   "outputs": [
    {
     "data": {
      "text/html": [
       "<div>\n",
       "<style scoped>\n",
       "    .dataframe tbody tr th:only-of-type {\n",
       "        vertical-align: middle;\n",
       "    }\n",
       "\n",
       "    .dataframe tbody tr th {\n",
       "        vertical-align: top;\n",
       "    }\n",
       "\n",
       "    .dataframe thead th {\n",
       "        text-align: right;\n",
       "    }\n",
       "</style>\n",
       "<table border=\"1\" class=\"dataframe\">\n",
       "  <thead>\n",
       "    <tr style=\"text-align: right;\">\n",
       "      <th></th>\n",
       "      <th>product_name</th>\n",
       "      <th>user_rating</th>\n",
       "      <th>product_review</th>\n",
       "      <th>review_scores</th>\n",
       "      <th>compound</th>\n",
       "    </tr>\n",
       "  </thead>\n",
       "  <tbody>\n",
       "    <tr>\n",
       "      <th>0</th>\n",
       "      <td>Kentucky Brunch Brand Stout</td>\n",
       "      <td>4.56</td>\n",
       "      <td>Long time waiting to tick this one, and I hav...</td>\n",
       "      <td>{'neg': 0.066, 'neu': 0.836, 'pos': 0.098, 'co...</td>\n",
       "      <td>0.1159</td>\n",
       "    </tr>\n",
       "    <tr>\n",
       "      <th>1</th>\n",
       "      <td>Kentucky Brunch Brand Stout</td>\n",
       "      <td>5.00</td>\n",
       "      <td>This review is for the 2019 batch. It was bot...</td>\n",
       "      <td>{'neg': 0.029, 'neu': 0.829, 'pos': 0.142, 'co...</td>\n",
       "      <td>0.8316</td>\n",
       "    </tr>\n",
       "    <tr>\n",
       "      <th>2</th>\n",
       "      <td>Kentucky Brunch Brand Stout</td>\n",
       "      <td>5.00</td>\n",
       "      <td>Supreme maple OD! Soooo easy drinking &amp;amp; w...</td>\n",
       "      <td>{'neg': 0.0, 'neu': 0.828, 'pos': 0.172, 'comp...</td>\n",
       "      <td>0.7955</td>\n",
       "    </tr>\n",
       "    <tr>\n",
       "      <th>3</th>\n",
       "      <td>Kentucky Brunch Brand Stout</td>\n",
       "      <td>5.00</td>\n",
       "      <td>I have now had 4 different years of KBBS and ...</td>\n",
       "      <td>{'neg': 0.0, 'neu': 0.843, 'pos': 0.157, 'comp...</td>\n",
       "      <td>0.9022</td>\n",
       "    </tr>\n",
       "    <tr>\n",
       "      <th>4</th>\n",
       "      <td>Kentucky Brunch Brand Stout</td>\n",
       "      <td>5.00</td>\n",
       "      <td>2020 Bottle.\\n\\nAbsolutely bonkers Maple Syru...</td>\n",
       "      <td>{'neg': 0.146, 'neu': 0.79, 'pos': 0.064, 'com...</td>\n",
       "      <td>-0.6114</td>\n",
       "    </tr>\n",
       "  </tbody>\n",
       "</table>\n",
       "</div>"
      ],
      "text/plain": [
       "                  product_name  user_rating  \\\n",
       "0  Kentucky Brunch Brand Stout         4.56   \n",
       "1  Kentucky Brunch Brand Stout         5.00   \n",
       "2  Kentucky Brunch Brand Stout         5.00   \n",
       "3  Kentucky Brunch Brand Stout         5.00   \n",
       "4  Kentucky Brunch Brand Stout         5.00   \n",
       "\n",
       "                                      product_review  \\\n",
       "0   Long time waiting to tick this one, and I hav...   \n",
       "1   This review is for the 2019 batch. It was bot...   \n",
       "2   Supreme maple OD! Soooo easy drinking &amp; w...   \n",
       "3   I have now had 4 different years of KBBS and ...   \n",
       "4   2020 Bottle.\\n\\nAbsolutely bonkers Maple Syru...   \n",
       "\n",
       "                                       review_scores  compound  \n",
       "0  {'neg': 0.066, 'neu': 0.836, 'pos': 0.098, 'co...    0.1159  \n",
       "1  {'neg': 0.029, 'neu': 0.829, 'pos': 0.142, 'co...    0.8316  \n",
       "2  {'neg': 0.0, 'neu': 0.828, 'pos': 0.172, 'comp...    0.7955  \n",
       "3  {'neg': 0.0, 'neu': 0.843, 'pos': 0.157, 'comp...    0.9022  \n",
       "4  {'neg': 0.146, 'neu': 0.79, 'pos': 0.064, 'com...   -0.6114  "
      ]
     },
     "execution_count": 29,
     "metadata": {},
     "output_type": "execute_result"
    }
   ],
   "source": [
    "sid = SentimentIntensityAnalyzer()\n",
    "product_df['review_scores'] = product_df['product_review'].apply(lambda review: sid.polarity_scores(review))\n",
    "product_df['compound'] = product_df['review_scores'].apply(lambda score_dict: score_dict['compound'])\n",
    "product_df.head()"
   ]
  },
  {
   "cell_type": "markdown",
   "id": "d0020fdc",
   "metadata": {},
   "source": [
    "### Aggregate Sentiment"
   ]
  },
  {
   "cell_type": "code",
   "execution_count": 30,
   "id": "8873de79",
   "metadata": {},
   "outputs": [
    {
     "data": {
      "text/html": [
       "<div>\n",
       "<style scoped>\n",
       "    .dataframe tbody tr th:only-of-type {\n",
       "        vertical-align: middle;\n",
       "    }\n",
       "\n",
       "    .dataframe tbody tr th {\n",
       "        vertical-align: top;\n",
       "    }\n",
       "\n",
       "    .dataframe thead th {\n",
       "        text-align: right;\n",
       "    }\n",
       "</style>\n",
       "<table border=\"1\" class=\"dataframe\">\n",
       "  <thead>\n",
       "    <tr style=\"text-align: right;\">\n",
       "      <th></th>\n",
       "      <th>product_name</th>\n",
       "      <th>compound</th>\n",
       "    </tr>\n",
       "  </thead>\n",
       "  <tbody>\n",
       "    <tr>\n",
       "      <th>51</th>\n",
       "      <td>Cable Car Kriek</td>\n",
       "      <td>0.931096</td>\n",
       "    </tr>\n",
       "    <tr>\n",
       "      <th>50</th>\n",
       "      <td>Cable Car</td>\n",
       "      <td>0.904376</td>\n",
       "    </tr>\n",
       "    <tr>\n",
       "      <th>113</th>\n",
       "      <td>Genealogy Of Morals - Bourbon Barrel-Aged</td>\n",
       "      <td>0.903220</td>\n",
       "    </tr>\n",
       "    <tr>\n",
       "      <th>96</th>\n",
       "      <td>Expedition Stout - Bourbon Barrel-Aged</td>\n",
       "      <td>0.897408</td>\n",
       "    </tr>\n",
       "    <tr>\n",
       "      <th>223</th>\n",
       "      <td>Ten FIDY - Bourbon Barrel Aged</td>\n",
       "      <td>0.891664</td>\n",
       "    </tr>\n",
       "    <tr>\n",
       "      <th>98</th>\n",
       "      <td>Flora Plum</td>\n",
       "      <td>0.889096</td>\n",
       "    </tr>\n",
       "    <tr>\n",
       "      <th>176</th>\n",
       "      <td>Mother Of All Storms</td>\n",
       "      <td>0.884268</td>\n",
       "    </tr>\n",
       "    <tr>\n",
       "      <th>126</th>\n",
       "      <td>Hellaboozie (Bourbon Barrel Aged Dark Lord Imp...</td>\n",
       "      <td>0.882748</td>\n",
       "    </tr>\n",
       "    <tr>\n",
       "      <th>247</th>\n",
       "      <td>Zenne Y Frontera</td>\n",
       "      <td>0.877152</td>\n",
       "    </tr>\n",
       "    <tr>\n",
       "      <th>87</th>\n",
       "      <td>Double Shot</td>\n",
       "      <td>0.874096</td>\n",
       "    </tr>\n",
       "  </tbody>\n",
       "</table>\n",
       "</div>"
      ],
      "text/plain": [
       "                                          product_name  compound\n",
       "51                                     Cable Car Kriek  0.931096\n",
       "50                                           Cable Car  0.904376\n",
       "113          Genealogy Of Morals - Bourbon Barrel-Aged  0.903220\n",
       "96              Expedition Stout - Bourbon Barrel-Aged  0.897408\n",
       "223                     Ten FIDY - Bourbon Barrel Aged  0.891664\n",
       "98                                          Flora Plum  0.889096\n",
       "176                               Mother Of All Storms  0.884268\n",
       "126  Hellaboozie (Bourbon Barrel Aged Dark Lord Imp...  0.882748\n",
       "247                                   Zenne Y Frontera  0.877152\n",
       "87                                         Double Shot  0.874096"
      ]
     },
     "execution_count": 30,
     "metadata": {},
     "output_type": "execute_result"
    }
   ],
   "source": [
    "sentiment_df = pd.DataFrame(product_df[['product_name', 'compound']])\n",
    "averages_df = pd.DataFrame(sentiment_df.groupby('product_name').mean()).reset_index()\n",
    "averages_df.columns = ['product_name', 'compound']\n",
    "averages_df.sort_values('compound', ascending = False).head(10)"
   ]
  },
  {
   "cell_type": "code",
   "execution_count": 31,
   "id": "2b9b18c5",
   "metadata": {},
   "outputs": [],
   "source": [
    "averages_df.to_csv('avg_sentiment_by_beer.csv', index=False)"
   ]
  },
  {
   "cell_type": "markdown",
   "id": "db52b442",
   "metadata": {},
   "source": [
    "## Task E"
   ]
  },
  {
   "cell_type": "markdown",
   "id": "c35c3ce2",
   "metadata": {},
   "source": [
    "### Import Libraries"
   ]
  },
  {
   "cell_type": "code",
   "execution_count": 32,
   "id": "0f8616de",
   "metadata": {},
   "outputs": [],
   "source": [
    "import pandas as pd"
   ]
  },
  {
   "cell_type": "markdown",
   "id": "97c6b5e0",
   "metadata": {},
   "source": [
    "### Import Data"
   ]
  },
  {
   "cell_type": "code",
   "execution_count": 33,
   "id": "b8a77d7f",
   "metadata": {},
   "outputs": [],
   "source": [
    "avg_sent = pd.read_csv('avg_sentiment_by_beer.csv')"
   ]
  },
  {
   "cell_type": "code",
   "execution_count": 34,
   "id": "5345f480",
   "metadata": {},
   "outputs": [],
   "source": [
    "product_sim = pd.read_csv('products_w_sim.csv')"
   ]
  },
  {
   "cell_type": "markdown",
   "id": "76aa724d",
   "metadata": {},
   "source": [
    "### Analyze"
   ]
  },
  {
   "cell_type": "code",
   "execution_count": 35,
   "id": "53426e7d",
   "metadata": {},
   "outputs": [],
   "source": [
    "avg_sim = pd.DataFrame(product_sim.groupby('product_name').mean()).reset_index()"
   ]
  },
  {
   "cell_type": "code",
   "execution_count": 36,
   "id": "2e8be852",
   "metadata": {},
   "outputs": [],
   "source": [
    "product_scores = avg_sent.merge(avg_sim, \n",
    "          on='product_name')\n",
    "product_scores.rename(columns={\"compound\": 'sent_score'}, inplace = True)"
   ]
  },
  {
   "cell_type": "code",
   "execution_count": 37,
   "id": "67df4b06",
   "metadata": {},
   "outputs": [],
   "source": [
    "product_scores['evaluation_score'] = product_scores['sent_score'] + product_scores['similarity_score']"
   ]
  },
  {
   "cell_type": "markdown",
   "id": "2c0fc480",
   "metadata": {},
   "source": [
    "### Reccomendation"
   ]
  },
  {
   "cell_type": "code",
   "execution_count": 38,
   "id": "3f0c67d4",
   "metadata": {},
   "outputs": [
    {
     "data": {
      "text/html": [
       "<div>\n",
       "<style scoped>\n",
       "    .dataframe tbody tr th:only-of-type {\n",
       "        vertical-align: middle;\n",
       "    }\n",
       "\n",
       "    .dataframe tbody tr th {\n",
       "        vertical-align: top;\n",
       "    }\n",
       "\n",
       "    .dataframe thead th {\n",
       "        text-align: right;\n",
       "    }\n",
       "</style>\n",
       "<table border=\"1\" class=\"dataframe\">\n",
       "  <thead>\n",
       "    <tr style=\"text-align: right;\">\n",
       "      <th></th>\n",
       "      <th>product_name</th>\n",
       "      <th>sent_score</th>\n",
       "      <th>similarity_score</th>\n",
       "      <th>evaluation_score</th>\n",
       "    </tr>\n",
       "  </thead>\n",
       "  <tbody>\n",
       "    <tr>\n",
       "      <th>51</th>\n",
       "      <td>Cable Car Kriek</td>\n",
       "      <td>0.931096</td>\n",
       "      <td>0.013333</td>\n",
       "      <td>0.944429</td>\n",
       "    </tr>\n",
       "    <tr>\n",
       "      <th>176</th>\n",
       "      <td>Mother Of All Storms</td>\n",
       "      <td>0.884268</td>\n",
       "      <td>0.053333</td>\n",
       "      <td>0.937601</td>\n",
       "    </tr>\n",
       "    <tr>\n",
       "      <th>96</th>\n",
       "      <td>Expedition Stout - Bourbon Barrel-Aged</td>\n",
       "      <td>0.897408</td>\n",
       "      <td>0.013333</td>\n",
       "      <td>0.910741</td>\n",
       "    </tr>\n",
       "  </tbody>\n",
       "</table>\n",
       "</div>"
      ],
      "text/plain": [
       "                               product_name  sent_score  similarity_score  \\\n",
       "51                          Cable Car Kriek    0.931096          0.013333   \n",
       "176                    Mother Of All Storms    0.884268          0.053333   \n",
       "96   Expedition Stout - Bourbon Barrel-Aged    0.897408          0.013333   \n",
       "\n",
       "     evaluation_score  \n",
       "51           0.944429  \n",
       "176          0.937601  \n",
       "96           0.910741  "
      ]
     },
     "execution_count": 38,
     "metadata": {},
     "output_type": "execute_result"
    }
   ],
   "source": [
    "top_beers = pd.DataFrame(product_scores.sort_values(by = 'evaluation_score', ascending = False))\n",
    "bow_recs = list(top_beers.head(3)['product_name'])\n",
    "top_beers.head(3)"
   ]
  },
  {
   "cell_type": "markdown",
   "id": "3c7556bb",
   "metadata": {},
   "source": [
    "**Our three reccomendations based on Bag Of Words:**\n",
    "1. Cable Car Kriek\n",
    "2. Mother Of All Storms\n",
    "3. Expedition Stout - Bourbon Barrel-Aged"
   ]
  },
  {
   "cell_type": "markdown",
   "id": "edbc8cb8",
   "metadata": {},
   "source": [
    "### Task F"
   ]
  },
  {
   "cell_type": "markdown",
   "id": "3727b355",
   "metadata": {},
   "source": [
    "### Import Libraries"
   ]
  },
  {
   "cell_type": "code",
   "execution_count": 39,
   "id": "1365c1e1",
   "metadata": {},
   "outputs": [],
   "source": [
    "import pandas as pd\n",
    "import numpy as np\n",
    "\n",
    "import spacy\n",
    "nlp = spacy.load('en_core_web_md')"
   ]
  },
  {
   "cell_type": "markdown",
   "id": "8f6d50e1",
   "metadata": {},
   "source": [
    "### Import Data"
   ]
  },
  {
   "cell_type": "code",
   "execution_count": 40,
   "id": "35e23201",
   "metadata": {},
   "outputs": [],
   "source": [
    "reviews_df = pd.read_csv('beer_review.csv')"
   ]
  },
  {
   "cell_type": "markdown",
   "id": "c64245ca",
   "metadata": {},
   "source": [
    "### Analyze Data"
   ]
  },
  {
   "cell_type": "code",
   "execution_count": 41,
   "id": "191bf62d",
   "metadata": {},
   "outputs": [],
   "source": [
    "reviews_df['review_token'] = reviews_df['review'].map(lambda x:nlp(x))"
   ]
  },
  {
   "cell_type": "code",
   "execution_count": 42,
   "id": "17c18fd9",
   "metadata": {},
   "outputs": [],
   "source": [
    "def vectorize (nlpObject):\n",
    "    return nlpObject.vector\n",
    "\n",
    "reviews_df['vector'] = reviews_df['review_token'].map(lambda x:vectorize(x))"
   ]
  },
  {
   "cell_type": "code",
   "execution_count": 43,
   "id": "94e4a007",
   "metadata": {},
   "outputs": [],
   "source": [
    "attributes = 'malty fruity crisp'\n",
    "attributes_token = nlp(attributes)\n",
    "attribute_vector = attributes_token.vector"
   ]
  },
  {
   "cell_type": "code",
   "execution_count": 44,
   "id": "9bca457d",
   "metadata": {},
   "outputs": [],
   "source": [
    "def getCosineSimilarity(reviewVector, attribute_vector):\n",
    "    num = np.dot(reviewVector, attribute_vector)\n",
    "    den = 300\n",
    "    return num / den"
   ]
  },
  {
   "cell_type": "code",
   "execution_count": 45,
   "id": "332d95ed",
   "metadata": {},
   "outputs": [],
   "source": [
    "reviews_df['similarity'] = reviews_df['vector'].map(lambda x:getCosineSimilarity(x, attribute_vector))"
   ]
  },
  {
   "cell_type": "code",
   "execution_count": 46,
   "id": "d5a1ff4b",
   "metadata": {},
   "outputs": [
    {
     "data": {
      "text/html": [
       "<div>\n",
       "<style scoped>\n",
       "    .dataframe tbody tr th:only-of-type {\n",
       "        vertical-align: middle;\n",
       "    }\n",
       "\n",
       "    .dataframe tbody tr th {\n",
       "        vertical-align: top;\n",
       "    }\n",
       "\n",
       "    .dataframe thead th {\n",
       "        text-align: right;\n",
       "    }\n",
       "</style>\n",
       "<table border=\"1\" class=\"dataframe\">\n",
       "  <thead>\n",
       "    <tr style=\"text-align: right;\">\n",
       "      <th></th>\n",
       "      <th>similarity</th>\n",
       "    </tr>\n",
       "    <tr>\n",
       "      <th>brand</th>\n",
       "      <th></th>\n",
       "    </tr>\n",
       "  </thead>\n",
       "  <tbody>\n",
       "    <tr>\n",
       "      <th>Appervation</th>\n",
       "      <td>0.039329</td>\n",
       "    </tr>\n",
       "    <tr>\n",
       "      <th>All That Is And All That Ever Will Be</th>\n",
       "      <td>0.038649</td>\n",
       "    </tr>\n",
       "    <tr>\n",
       "      <th>Double Dry Hopped Congress Street</th>\n",
       "      <td>0.038565</td>\n",
       "    </tr>\n",
       "  </tbody>\n",
       "</table>\n",
       "</div>"
      ],
      "text/plain": [
       "                                       similarity\n",
       "brand                                            \n",
       "Appervation                              0.039329\n",
       "All That Is And All That Ever Will Be    0.038649\n",
       "Double Dry Hopped Congress Street        0.038565"
      ]
     },
     "execution_count": 46,
     "metadata": {},
     "output_type": "execute_result"
    }
   ],
   "source": [
    "vector_recs = list(reviews_df.groupby(['brand'])['similarity'].mean().sort_values(ascending=False)[:3].index)\n",
    "pd.DataFrame(reviews_df.groupby(['brand'])['similarity'].mean()).sort_values(by = 'similarity', ascending=False).head(3)"
   ]
  },
  {
   "cell_type": "markdown",
   "id": "044929ac",
   "metadata": {},
   "source": [
    "**Our three reccomendations based on Word Vectors:**\n",
    "1. Appervation\n",
    "2. All That Is And All That Ever Will Be\n",
    "3. Double Dry Hopped Congress Street"
   ]
  },
  {
   "cell_type": "markdown",
   "id": "a2f42d1a",
   "metadata": {},
   "source": [
    "### Analyze Reccomendations\n",
    "To compare bag of words versus word vectors, we compared the percent of reviews that contain each attributes for our reccomendations. As a reminder: \n",
    "\n",
    "*Our three reccomendations based on Bag Of Words:*\n",
    "1. Cable Car Kriek\n",
    "2. Mother Of All Storms\n",
    "3. Expedition Stout - Bourbon Barrel-Aged\n",
    "\n",
    "*Our three reccomendations based on Word Vectors:*\n",
    "1. Appervation\n",
    "2. All That Is And All That Ever Will Be\n",
    "3. Double Dry Hopped Congress Street"
   ]
  },
  {
   "cell_type": "code",
   "execution_count": 47,
   "id": "1c9770ae",
   "metadata": {},
   "outputs": [],
   "source": [
    "def mentionCounts(review, attribute):\n",
    "    count = 0\n",
    "    for word in review:\n",
    "        if word.text == attribute:\n",
    "            count = 1\n",
    "    return count"
   ]
  },
  {
   "cell_type": "code",
   "execution_count": 48,
   "id": "e7c52688",
   "metadata": {},
   "outputs": [],
   "source": [
    "reviews_df['% of comments that mention malty'] = reviews_df['review_token'].map(lambda x:mentionCounts(x,'malty'))\n",
    "reviews_df['% of comments that mention fruity'] = reviews_df['review_token'].map(lambda x:mentionCounts(x,'fruity'))\n",
    "reviews_df['% of comments that mention crisp'] = reviews_df['review_token'].map(lambda x:mentionCounts(x,'crisp'))"
   ]
  },
  {
   "cell_type": "code",
   "execution_count": 49,
   "id": "26fd305d",
   "metadata": {},
   "outputs": [],
   "source": [
    "percentage_counts = pd.DataFrame(reviews_df.groupby(['brand'])[['% of comments that mention malty','% of comments that mention fruity','% of comments that mention crisp']].mean()).reset_index()"
   ]
  },
  {
   "cell_type": "code",
   "execution_count": 50,
   "id": "441527ff",
   "metadata": {},
   "outputs": [
    {
     "name": "stdout",
     "output_type": "stream",
     "text": [
      "Percent of Comments that Mention each Attribute for Reccomendations from Word Vectors\n"
     ]
    },
    {
     "data": {
      "text/html": [
       "<div>\n",
       "<style scoped>\n",
       "    .dataframe tbody tr th:only-of-type {\n",
       "        vertical-align: middle;\n",
       "    }\n",
       "\n",
       "    .dataframe tbody tr th {\n",
       "        vertical-align: top;\n",
       "    }\n",
       "\n",
       "    .dataframe thead th {\n",
       "        text-align: right;\n",
       "    }\n",
       "</style>\n",
       "<table border=\"1\" class=\"dataframe\">\n",
       "  <thead>\n",
       "    <tr style=\"text-align: right;\">\n",
       "      <th></th>\n",
       "      <th>brand</th>\n",
       "      <th>% of comments that mention malty</th>\n",
       "      <th>% of comments that mention fruity</th>\n",
       "      <th>% of comments that mention crisp</th>\n",
       "    </tr>\n",
       "  </thead>\n",
       "  <tbody>\n",
       "    <tr>\n",
       "      <th>10</th>\n",
       "      <td>All That Is And All That Ever Will Be</td>\n",
       "      <td>0.04</td>\n",
       "      <td>0.08</td>\n",
       "      <td>0.0</td>\n",
       "    </tr>\n",
       "    <tr>\n",
       "      <th>14</th>\n",
       "      <td>Appervation</td>\n",
       "      <td>0.04</td>\n",
       "      <td>0.00</td>\n",
       "      <td>0.0</td>\n",
       "    </tr>\n",
       "    <tr>\n",
       "      <th>79</th>\n",
       "      <td>Double Dry Hopped Congress Street</td>\n",
       "      <td>0.04</td>\n",
       "      <td>0.12</td>\n",
       "      <td>0.0</td>\n",
       "    </tr>\n",
       "  </tbody>\n",
       "</table>\n",
       "</div>"
      ],
      "text/plain": [
       "                                    brand  % of comments that mention malty  \\\n",
       "10  All That Is And All That Ever Will Be                              0.04   \n",
       "14                            Appervation                              0.04   \n",
       "79      Double Dry Hopped Congress Street                              0.04   \n",
       "\n",
       "    % of comments that mention fruity  % of comments that mention crisp  \n",
       "10                               0.08                               0.0  \n",
       "14                               0.00                               0.0  \n",
       "79                               0.12                               0.0  "
      ]
     },
     "execution_count": 50,
     "metadata": {},
     "output_type": "execute_result"
    }
   ],
   "source": [
    "mask1=percentage_counts['brand'] == vector_recs[0]\n",
    "mask2=percentage_counts['brand'] == vector_recs[1]\n",
    "mask3=percentage_counts['brand'] == vector_recs[2]\n",
    "print('Percent of Comments that Mention each Attribute for Reccomendations from Word Vectors')\n",
    "percentage_counts[mask1|mask2|mask3]"
   ]
  },
  {
   "cell_type": "markdown",
   "id": "90ec171e",
   "metadata": {},
   "source": [
    "Versus BOW recs"
   ]
  },
  {
   "cell_type": "code",
   "execution_count": 51,
   "id": "fcd7cd7a",
   "metadata": {},
   "outputs": [
    {
     "name": "stdout",
     "output_type": "stream",
     "text": [
      "Percent of Comments that Mention each Attribute for Reccomendations from Bag of Words\n"
     ]
    },
    {
     "data": {
      "text/html": [
       "<div>\n",
       "<style scoped>\n",
       "    .dataframe tbody tr th:only-of-type {\n",
       "        vertical-align: middle;\n",
       "    }\n",
       "\n",
       "    .dataframe tbody tr th {\n",
       "        vertical-align: top;\n",
       "    }\n",
       "\n",
       "    .dataframe thead th {\n",
       "        text-align: right;\n",
       "    }\n",
       "</style>\n",
       "<table border=\"1\" class=\"dataframe\">\n",
       "  <thead>\n",
       "    <tr style=\"text-align: right;\">\n",
       "      <th></th>\n",
       "      <th>brand</th>\n",
       "      <th>% of comments that mention malty</th>\n",
       "      <th>% of comments that mention fruity</th>\n",
       "      <th>% of comments that mention crisp</th>\n",
       "    </tr>\n",
       "  </thead>\n",
       "  <tbody>\n",
       "    <tr>\n",
       "      <th>51</th>\n",
       "      <td>Cable Car Kriek</td>\n",
       "      <td>0.04</td>\n",
       "      <td>0.28</td>\n",
       "      <td>0.12</td>\n",
       "    </tr>\n",
       "    <tr>\n",
       "      <th>96</th>\n",
       "      <td>Expedition Stout - Bourbon Barrel-Aged</td>\n",
       "      <td>0.12</td>\n",
       "      <td>0.00</td>\n",
       "      <td>0.00</td>\n",
       "    </tr>\n",
       "    <tr>\n",
       "      <th>176</th>\n",
       "      <td>Mother Of All Storms</td>\n",
       "      <td>0.16</td>\n",
       "      <td>0.16</td>\n",
       "      <td>0.00</td>\n",
       "    </tr>\n",
       "  </tbody>\n",
       "</table>\n",
       "</div>"
      ],
      "text/plain": [
       "                                      brand  % of comments that mention malty  \\\n",
       "51                          Cable Car Kriek                              0.04   \n",
       "96   Expedition Stout - Bourbon Barrel-Aged                              0.12   \n",
       "176                    Mother Of All Storms                              0.16   \n",
       "\n",
       "     % of comments that mention fruity  % of comments that mention crisp  \n",
       "51                                0.28                              0.12  \n",
       "96                                0.00                              0.00  \n",
       "176                               0.16                              0.00  "
      ]
     },
     "execution_count": 51,
     "metadata": {},
     "output_type": "execute_result"
    }
   ],
   "source": [
    "mask1=percentage_counts['brand'] == bow_recs[0]\n",
    "mask2=percentage_counts['brand'] == bow_recs[1]\n",
    "mask3=percentage_counts['brand'] == bow_recs[2]\n",
    "print('Percent of Comments that Mention each Attribute for Reccomendations from Bag of Words')\n",
    "percentage_counts[mask1|mask2|mask3]"
   ]
  },
  {
   "cell_type": "markdown",
   "id": "8adb3647",
   "metadata": {},
   "source": [
    "We see that bag of words actually reccomends products that *literally* mention our three attributes more frequently. We could ultimately say these reccomendations are 'better' which is in part due to the fact that word vectors deam some of our attributes are correlated. In some sense, maybe even all three are slightly correlated. "
   ]
  },
  {
   "cell_type": "markdown",
   "id": "c108c5fd",
   "metadata": {},
   "source": [
    "## Task F"
   ]
  },
  {
   "cell_type": "code",
   "execution_count": 52,
   "id": "387b2567",
   "metadata": {},
   "outputs": [
    {
     "data": {
      "text/html": [
       "<div>\n",
       "<style scoped>\n",
       "    .dataframe tbody tr th:only-of-type {\n",
       "        vertical-align: middle;\n",
       "    }\n",
       "\n",
       "    .dataframe tbody tr th {\n",
       "        vertical-align: top;\n",
       "    }\n",
       "\n",
       "    .dataframe thead th {\n",
       "        text-align: right;\n",
       "    }\n",
       "</style>\n",
       "<table border=\"1\" class=\"dataframe\">\n",
       "  <thead>\n",
       "    <tr style=\"text-align: right;\">\n",
       "      <th></th>\n",
       "      <th>brand</th>\n",
       "      <th>score</th>\n",
       "    </tr>\n",
       "  </thead>\n",
       "  <tbody>\n",
       "    <tr>\n",
       "      <th>54</th>\n",
       "      <td>Chemtrailmix</td>\n",
       "      <td>4.77160</td>\n",
       "    </tr>\n",
       "    <tr>\n",
       "      <th>238</th>\n",
       "      <td>Vanilla Bean Assassin</td>\n",
       "      <td>4.74625</td>\n",
       "    </tr>\n",
       "    <tr>\n",
       "      <th>38</th>\n",
       "      <td>Blessed</td>\n",
       "      <td>4.74280</td>\n",
       "    </tr>\n",
       "  </tbody>\n",
       "</table>\n",
       "</div>"
      ],
      "text/plain": [
       "                     brand    score\n",
       "54            Chemtrailmix  4.77160\n",
       "238  Vanilla Bean Assassin  4.74625\n",
       "38                 Blessed  4.74280"
      ]
     },
     "execution_count": 52,
     "metadata": {},
     "output_type": "execute_result"
    }
   ],
   "source": [
    "top_scores = pd.DataFrame(reviews_df.groupby(['brand'])['score'].mean()).reset_index().sort_values(by='score', ascending = False)\n",
    "top_scores_recs = list(top_scores.head(3)['brand'])\n",
    "top_scores.head(3)"
   ]
  },
  {
   "cell_type": "markdown",
   "id": "0a16a47d",
   "metadata": {},
   "source": [
    "**Our three reccomendations based on Score Ratings:**\n",
    "1. Chemtrailmix\n",
    "2. Vanilla Bean Assassin\n",
    "3. Blessed"
   ]
  },
  {
   "cell_type": "code",
   "execution_count": 53,
   "id": "7672a772",
   "metadata": {},
   "outputs": [
    {
     "name": "stdout",
     "output_type": "stream",
     "text": [
      "Percent of Comments that Mention each Attribute for Reccomendations on Score Rating\n"
     ]
    },
    {
     "data": {
      "text/html": [
       "<div>\n",
       "<style scoped>\n",
       "    .dataframe tbody tr th:only-of-type {\n",
       "        vertical-align: middle;\n",
       "    }\n",
       "\n",
       "    .dataframe tbody tr th {\n",
       "        vertical-align: top;\n",
       "    }\n",
       "\n",
       "    .dataframe thead th {\n",
       "        text-align: right;\n",
       "    }\n",
       "</style>\n",
       "<table border=\"1\" class=\"dataframe\">\n",
       "  <thead>\n",
       "    <tr style=\"text-align: right;\">\n",
       "      <th></th>\n",
       "      <th>brand</th>\n",
       "      <th>% of comments that mention malty</th>\n",
       "      <th>% of comments that mention fruity</th>\n",
       "      <th>% of comments that mention crisp</th>\n",
       "    </tr>\n",
       "  </thead>\n",
       "  <tbody>\n",
       "    <tr>\n",
       "      <th>38</th>\n",
       "      <td>Blessed</td>\n",
       "      <td>0.0</td>\n",
       "      <td>0.0</td>\n",
       "      <td>0.0</td>\n",
       "    </tr>\n",
       "    <tr>\n",
       "      <th>54</th>\n",
       "      <td>Chemtrailmix</td>\n",
       "      <td>0.0</td>\n",
       "      <td>0.0</td>\n",
       "      <td>0.0</td>\n",
       "    </tr>\n",
       "    <tr>\n",
       "      <th>238</th>\n",
       "      <td>Vanilla Bean Assassin</td>\n",
       "      <td>0.0</td>\n",
       "      <td>0.0</td>\n",
       "      <td>0.0</td>\n",
       "    </tr>\n",
       "  </tbody>\n",
       "</table>\n",
       "</div>"
      ],
      "text/plain": [
       "                     brand  % of comments that mention malty  \\\n",
       "38                 Blessed                               0.0   \n",
       "54            Chemtrailmix                               0.0   \n",
       "238  Vanilla Bean Assassin                               0.0   \n",
       "\n",
       "     % of comments that mention fruity  % of comments that mention crisp  \n",
       "38                                 0.0                               0.0  \n",
       "54                                 0.0                               0.0  \n",
       "238                                0.0                               0.0  "
      ]
     },
     "execution_count": 53,
     "metadata": {},
     "output_type": "execute_result"
    }
   ],
   "source": [
    "mask1=percentage_counts['brand'] == top_scores_recs[0]\n",
    "mask2=percentage_counts['brand'] == top_scores_recs[1]\n",
    "mask3=percentage_counts['brand'] == top_scores_recs[2]\n",
    "print('Percent of Comments that Mention each Attribute for Reccomendations on Score Rating')\n",
    "percentage_counts[mask1|mask2|mask3]"
   ]
  },
  {
   "cell_type": "markdown",
   "id": "b9829b18",
   "metadata": {},
   "source": [
    "As expected, we see that while the top 3 rated beer brands have no mention of the particular attributes the user requested. The top scores would not be a viable reccomendation system SINCE a user's preferences vary greatly. For instance, one user may want a fruity beer while some users may want a complex beer. A better reccomendation would obviuosly consider the specefics user's preference."
   ]
  }
 ],
 "metadata": {
  "kernelspec": {
   "display_name": "Python 3",
   "language": "python",
   "name": "python3"
  },
  "language_info": {
   "codemirror_mode": {
    "name": "ipython",
    "version": 3
   },
   "file_extension": ".py",
   "mimetype": "text/x-python",
   "name": "python",
   "nbconvert_exporter": "python",
   "pygments_lexer": "ipython3",
   "version": "3.8.8"
  }
 },
 "nbformat": 4,
 "nbformat_minor": 5
}
