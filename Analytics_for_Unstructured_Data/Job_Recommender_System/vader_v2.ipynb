{
 "cells": [
  {
   "cell_type": "markdown",
   "id": "c8a070bb",
   "metadata": {},
   "source": [
    "# VADER Sentiment Analyzer\n",
    "\n",
    "This code is from https://towardsdatascience.com/sentimental-analysis-using-vader-a3415fef7664. \n",
    "\n",
    "We apply an the VADER Sentiment Analyzer to reviews of companies on Glassdoor to understand what topics/categories people talk about when describing their work place / work experience.  "
   ]
  },
  {
   "cell_type": "markdown",
   "id": "f71524af",
   "metadata": {},
   "source": [
    "## Import Libraries"
   ]
  },
  {
   "cell_type": "code",
   "execution_count": 3,
   "id": "202fed4d",
   "metadata": {},
   "outputs": [],
   "source": [
    "import warnings\n",
    "warnings.filterwarnings(\"ignore\",category=DeprecationWarning)"
   ]
  },
  {
   "cell_type": "code",
   "execution_count": 4,
   "id": "cc9f489a",
   "metadata": {},
   "outputs": [
    {
     "name": "stderr",
     "output_type": "stream",
     "text": [
      "[nltk_data] Downloading package vader_lexicon to\n",
      "[nltk_data]     /Users/connorgilmore/nltk_data...\n",
      "[nltk_data]   Package vader_lexicon is already up-to-date!\n"
     ]
    }
   ],
   "source": [
    "import pandas as pd\n",
    "import nltk\n",
    "nltk.download('vader_lexicon')\n",
    "from nltk.sentiment.vader import SentimentIntensityAnalyzer"
   ]
  },
  {
   "cell_type": "markdown",
   "id": "5e5d1689",
   "metadata": {},
   "source": [
    "## Import Data"
   ]
  },
  {
   "cell_type": "code",
   "execution_count": 5,
   "id": "e5c0d2b3",
   "metadata": {},
   "outputs": [],
   "source": [
    "reviews_df = pd.read_csv('reviews.csv')"
   ]
  },
  {
   "cell_type": "markdown",
   "id": "1c16137e",
   "metadata": {},
   "source": [
    "## Prep Data"
   ]
  },
  {
   "cell_type": "code",
   "execution_count": 6,
   "id": "9509a2d1",
   "metadata": {},
   "outputs": [],
   "source": [
    "#replace newline characters\n",
    "reviews_df = reviews_df.replace(r'\\n',' ', regex=True)"
   ]
  },
  {
   "cell_type": "code",
   "execution_count": 9,
   "id": "7396d60f",
   "metadata": {},
   "outputs": [
    {
     "name": "stderr",
     "output_type": "stream",
     "text": [
      "/Users/connorgilmore/opt/anaconda3/lib/python3.7/site-packages/ipykernel_launcher.py:1: FutureWarning: In a future version of pandas all arguments of DataFrame.drop except for the argument 'labels' will be keyword-only\n",
      "  \"\"\"Entry point for launching an IPython kernel.\n"
     ]
    }
   ],
   "source": [
    "reviews_df = reviews_df.drop('Unnamed: 0', 1)"
   ]
  },
  {
   "cell_type": "code",
   "execution_count": 10,
   "id": "b5f0d0b0",
   "metadata": {},
   "outputs": [
    {
     "data": {
      "text/html": [
       "<div>\n",
       "<style scoped>\n",
       "    .dataframe tbody tr th:only-of-type {\n",
       "        vertical-align: middle;\n",
       "    }\n",
       "\n",
       "    .dataframe tbody tr th {\n",
       "        vertical-align: top;\n",
       "    }\n",
       "\n",
       "    .dataframe thead th {\n",
       "        text-align: right;\n",
       "    }\n",
       "</style>\n",
       "<table border=\"1\" class=\"dataframe\">\n",
       "  <thead>\n",
       "    <tr style=\"text-align: right;\">\n",
       "      <th></th>\n",
       "      <th>company</th>\n",
       "      <th>pros</th>\n",
       "      <th>cons</th>\n",
       "    </tr>\n",
       "  </thead>\n",
       "  <tbody>\n",
       "    <tr>\n",
       "      <th>0</th>\n",
       "      <td>Uber</td>\n",
       "      <td>Hours, pay, management and environment</td>\n",
       "      <td>I wouldn’t say I had any cons working at this job</td>\n",
       "    </tr>\n",
       "    <tr>\n",
       "      <th>1</th>\n",
       "      <td>Uber</td>\n",
       "      <td>Work your very own schedule</td>\n",
       "      <td>Sometimes the pay can be unbalanced</td>\n",
       "    </tr>\n",
       "    <tr>\n",
       "      <th>2</th>\n",
       "      <td>Uber</td>\n",
       "      <td>Uber stock, good benefits, good experience</td>\n",
       "      <td>Bad commission structure, limited upside</td>\n",
       "    </tr>\n",
       "    <tr>\n",
       "      <th>3</th>\n",
       "      <td>Uber</td>\n",
       "      <td>Decent pay for the work you do.</td>\n",
       "      <td>The customer service department doesnt take th...</td>\n",
       "    </tr>\n",
       "    <tr>\n",
       "      <th>4</th>\n",
       "      <td>Uber</td>\n",
       "      <td>Smart people\\r Lots of resources\\r Great comp ...</td>\n",
       "      <td>Fast-moving org - sometimes a little too fast ...</td>\n",
       "    </tr>\n",
       "  </tbody>\n",
       "</table>\n",
       "</div>"
      ],
      "text/plain": [
       "  company                                               pros  \\\n",
       "0    Uber             Hours, pay, management and environment   \n",
       "1    Uber                        Work your very own schedule   \n",
       "2    Uber         Uber stock, good benefits, good experience   \n",
       "3    Uber                    Decent pay for the work you do.   \n",
       "4    Uber  Smart people\\r Lots of resources\\r Great comp ...   \n",
       "\n",
       "                                                cons  \n",
       "0  I wouldn’t say I had any cons working at this job  \n",
       "1                Sometimes the pay can be unbalanced  \n",
       "2           Bad commission structure, limited upside  \n",
       "3  The customer service department doesnt take th...  \n",
       "4  Fast-moving org - sometimes a little too fast ...  "
      ]
     },
     "execution_count": 10,
     "metadata": {},
     "output_type": "execute_result"
    }
   ],
   "source": [
    "reviews_df.head()"
   ]
  },
  {
   "cell_type": "markdown",
   "id": "7c6c4caa",
   "metadata": {},
   "source": [
    "## Get Sentiment"
   ]
  },
  {
   "cell_type": "code",
   "execution_count": 11,
   "id": "807c8164",
   "metadata": {},
   "outputs": [],
   "source": [
    "sid = SentimentIntensityAnalyzer()"
   ]
  },
  {
   "cell_type": "code",
   "execution_count": 12,
   "id": "4a4e701c",
   "metadata": {},
   "outputs": [],
   "source": [
    "reviews_df['pros_scores'] = reviews_df['pros'].apply(lambda review: sid.polarity_scores(review))\n",
    "reviews_df['cons_scores'] = reviews_df['cons'].apply(lambda review: sid.polarity_scores(review))"
   ]
  },
  {
   "cell_type": "code",
   "execution_count": 14,
   "id": "b7971a7a",
   "metadata": {},
   "outputs": [],
   "source": [
    "reviews_df['pros_compound'] = reviews_df['pros_scores'].apply(lambda score_dict: score_dict['compound'])\n",
    "reviews_df['cons_compound'] = reviews_df['cons_scores'].apply(lambda score_dict: score_dict['compound'])"
   ]
  },
  {
   "cell_type": "code",
   "execution_count": 15,
   "id": "43baaa21",
   "metadata": {},
   "outputs": [
    {
     "data": {
      "text/html": [
       "<div>\n",
       "<style scoped>\n",
       "    .dataframe tbody tr th:only-of-type {\n",
       "        vertical-align: middle;\n",
       "    }\n",
       "\n",
       "    .dataframe tbody tr th {\n",
       "        vertical-align: top;\n",
       "    }\n",
       "\n",
       "    .dataframe thead th {\n",
       "        text-align: right;\n",
       "    }\n",
       "</style>\n",
       "<table border=\"1\" class=\"dataframe\">\n",
       "  <thead>\n",
       "    <tr style=\"text-align: right;\">\n",
       "      <th></th>\n",
       "      <th>company</th>\n",
       "      <th>pros</th>\n",
       "      <th>cons</th>\n",
       "      <th>pros_scores</th>\n",
       "      <th>cons_scores</th>\n",
       "      <th>pros_compound</th>\n",
       "      <th>cons_compound</th>\n",
       "    </tr>\n",
       "  </thead>\n",
       "  <tbody>\n",
       "    <tr>\n",
       "      <th>0</th>\n",
       "      <td>Uber</td>\n",
       "      <td>Hours, pay, management and environment</td>\n",
       "      <td>I wouldn’t say I had any cons working at this job</td>\n",
       "      <td>{'neg': 0.259, 'neu': 0.741, 'pos': 0.0, 'comp...</td>\n",
       "      <td>{'neg': 0.0, 'neu': 1.0, 'pos': 0.0, 'compound...</td>\n",
       "      <td>-0.1027</td>\n",
       "      <td>0.0000</td>\n",
       "    </tr>\n",
       "    <tr>\n",
       "      <th>1</th>\n",
       "      <td>Uber</td>\n",
       "      <td>Work your very own schedule</td>\n",
       "      <td>Sometimes the pay can be unbalanced</td>\n",
       "      <td>{'neg': 0.0, 'neu': 1.0, 'pos': 0.0, 'compound...</td>\n",
       "      <td>{'neg': 0.219, 'neu': 0.781, 'pos': 0.0, 'comp...</td>\n",
       "      <td>0.0000</td>\n",
       "      <td>-0.1027</td>\n",
       "    </tr>\n",
       "    <tr>\n",
       "      <th>2</th>\n",
       "      <td>Uber</td>\n",
       "      <td>Uber stock, good benefits, good experience</td>\n",
       "      <td>Bad commission structure, limited upside</td>\n",
       "      <td>{'neg': 0.0, 'neu': 0.245, 'pos': 0.755, 'comp...</td>\n",
       "      <td>{'neg': 0.643, 'neu': 0.357, 'pos': 0.0, 'comp...</td>\n",
       "      <td>0.8489</td>\n",
       "      <td>-0.6597</td>\n",
       "    </tr>\n",
       "    <tr>\n",
       "      <th>3</th>\n",
       "      <td>Uber</td>\n",
       "      <td>Decent pay for the work you do.</td>\n",
       "      <td>The customer service department doesnt take th...</td>\n",
       "      <td>{'neg': 0.189, 'neu': 0.811, 'pos': 0.0, 'comp...</td>\n",
       "      <td>{'neg': 0.159, 'neu': 0.841, 'pos': 0.0, 'comp...</td>\n",
       "      <td>-0.1027</td>\n",
       "      <td>-0.1779</td>\n",
       "    </tr>\n",
       "    <tr>\n",
       "      <th>4</th>\n",
       "      <td>Uber</td>\n",
       "      <td>Smart people\\r Lots of resources\\r Great comp ...</td>\n",
       "      <td>Fast-moving org - sometimes a little too fast ...</td>\n",
       "      <td>{'neg': 0.0, 'neu': 0.691, 'pos': 0.309, 'comp...</td>\n",
       "      <td>{'neg': 0.0, 'neu': 0.738, 'pos': 0.262, 'comp...</td>\n",
       "      <td>0.9022</td>\n",
       "      <td>0.5993</td>\n",
       "    </tr>\n",
       "  </tbody>\n",
       "</table>\n",
       "</div>"
      ],
      "text/plain": [
       "  company                                               pros  \\\n",
       "0    Uber             Hours, pay, management and environment   \n",
       "1    Uber                        Work your very own schedule   \n",
       "2    Uber         Uber stock, good benefits, good experience   \n",
       "3    Uber                    Decent pay for the work you do.   \n",
       "4    Uber  Smart people\\r Lots of resources\\r Great comp ...   \n",
       "\n",
       "                                                cons  \\\n",
       "0  I wouldn’t say I had any cons working at this job   \n",
       "1                Sometimes the pay can be unbalanced   \n",
       "2           Bad commission structure, limited upside   \n",
       "3  The customer service department doesnt take th...   \n",
       "4  Fast-moving org - sometimes a little too fast ...   \n",
       "\n",
       "                                         pros_scores  \\\n",
       "0  {'neg': 0.259, 'neu': 0.741, 'pos': 0.0, 'comp...   \n",
       "1  {'neg': 0.0, 'neu': 1.0, 'pos': 0.0, 'compound...   \n",
       "2  {'neg': 0.0, 'neu': 0.245, 'pos': 0.755, 'comp...   \n",
       "3  {'neg': 0.189, 'neu': 0.811, 'pos': 0.0, 'comp...   \n",
       "4  {'neg': 0.0, 'neu': 0.691, 'pos': 0.309, 'comp...   \n",
       "\n",
       "                                         cons_scores  pros_compound  \\\n",
       "0  {'neg': 0.0, 'neu': 1.0, 'pos': 0.0, 'compound...        -0.1027   \n",
       "1  {'neg': 0.219, 'neu': 0.781, 'pos': 0.0, 'comp...         0.0000   \n",
       "2  {'neg': 0.643, 'neu': 0.357, 'pos': 0.0, 'comp...         0.8489   \n",
       "3  {'neg': 0.159, 'neu': 0.841, 'pos': 0.0, 'comp...        -0.1027   \n",
       "4  {'neg': 0.0, 'neu': 0.738, 'pos': 0.262, 'comp...         0.9022   \n",
       "\n",
       "   cons_compound  \n",
       "0         0.0000  \n",
       "1        -0.1027  \n",
       "2        -0.6597  \n",
       "3        -0.1779  \n",
       "4         0.5993  "
      ]
     },
     "execution_count": 15,
     "metadata": {},
     "output_type": "execute_result"
    }
   ],
   "source": [
    "reviews_df.head()"
   ]
  },
  {
   "cell_type": "code",
   "execution_count": null,
   "id": "42ff0694",
   "metadata": {},
   "outputs": [],
   "source": []
  }
 ],
 "metadata": {
  "kernelspec": {
   "display_name": "Python 3",
   "language": "python",
   "name": "python3"
  },
  "language_info": {
   "codemirror_mode": {
    "name": "ipython",
    "version": 3
   },
   "file_extension": ".py",
   "mimetype": "text/x-python",
   "name": "python",
   "nbconvert_exporter": "python",
   "pygments_lexer": "ipython3",
   "version": "3.7.4"
  }
 },
 "nbformat": 4,
 "nbformat_minor": 5
}
