{
 "cells": [
  {
   "cell_type": "markdown",
   "id": "5da31286",
   "metadata": {},
   "source": [
    "## Import Libraries"
   ]
  },
  {
   "cell_type": "code",
   "execution_count": 1,
   "id": "d8751fb1",
   "metadata": {},
   "outputs": [],
   "source": [
    "import pandas as pd\n",
    "import numpy as np"
   ]
  },
  {
   "cell_type": "code",
   "execution_count": 11,
   "id": "a9085187",
   "metadata": {},
   "outputs": [],
   "source": [
    "import re"
   ]
  },
  {
   "cell_type": "markdown",
   "id": "3c8d6aa3",
   "metadata": {},
   "source": [
    "## Import Data"
   ]
  },
  {
   "cell_type": "markdown",
   "id": "28b159cb",
   "metadata": {},
   "source": [
    "Job Description"
   ]
  },
  {
   "cell_type": "code",
   "execution_count": 2,
   "id": "4e2dc469",
   "metadata": {},
   "outputs": [],
   "source": [
    "with open('glassdoorjob.txt',encoding='utf8', errors='ignore') as f:\n",
    "    lines = f.readlines()"
   ]
  },
  {
   "cell_type": "code",
   "execution_count": 3,
   "id": "aa66bbb4",
   "metadata": {},
   "outputs": [],
   "source": [
    "doc=[]\n",
    "i=0\n",
    "text = ''\n",
    "for line in lines:\n",
    "    if line=='##########\\n':\n",
    "        doc.append(text)\n",
    "        text =''\n",
    "    else:\n",
    "        text += line"
   ]
  },
  {
   "cell_type": "code",
   "execution_count": 4,
   "id": "a6e9ceff",
   "metadata": {},
   "outputs": [],
   "source": [
    "job_desc_df=pd.DataFrame(doc)\n",
    "job_desc_df.columns=['original']"
   ]
  },
  {
   "cell_type": "code",
   "execution_count": 12,
   "id": "30bd873e",
   "metadata": {},
   "outputs": [],
   "source": [
    "company_name=[]\n",
    "summary=[]\n",
    "date=[]\n",
    "for item in doc:\n",
    "    company_name.append((re.search(r'...*\\n',item)).group().rstrip('\\n'))"
   ]
  },
  {
   "cell_type": "code",
   "execution_count": 13,
   "id": "2948180f",
   "metadata": {},
   "outputs": [],
   "source": [
    "job_desc_df['company']=company_name"
   ]
  },
  {
   "cell_type": "markdown",
   "id": "c99d4e6c",
   "metadata": {},
   "source": [
    "Reviews"
   ]
  },
  {
   "cell_type": "code",
   "execution_count": 5,
   "id": "eb99a740",
   "metadata": {},
   "outputs": [],
   "source": [
    "reviews1 = pd.read_csv('reviews.csv')\n",
    "reviews2 = pd.read_csv('reviews_part2.csv')"
   ]
  },
  {
   "cell_type": "code",
   "execution_count": 7,
   "id": "a5a4ee81",
   "metadata": {},
   "outputs": [],
   "source": [
    "reviews_df = pd.concat([reviews1, reviews2])"
   ]
  },
  {
   "cell_type": "markdown",
   "id": "024056a6",
   "metadata": {},
   "source": [
    "## EDA"
   ]
  },
  {
   "cell_type": "code",
   "execution_count": 48,
   "id": "d5e8b3e4",
   "metadata": {},
   "outputs": [],
   "source": [
    "reviews_df.to_csv('all_reviews.csv', index=False)\n",
    "job_desc_df.to_csv('job_desc.csv', index=False)"
   ]
  },
  {
   "cell_type": "code",
   "execution_count": 14,
   "id": "899f104e",
   "metadata": {},
   "outputs": [
    {
     "data": {
      "text/html": [
       "<div>\n",
       "<style scoped>\n",
       "    .dataframe tbody tr th:only-of-type {\n",
       "        vertical-align: middle;\n",
       "    }\n",
       "\n",
       "    .dataframe tbody tr th {\n",
       "        vertical-align: top;\n",
       "    }\n",
       "\n",
       "    .dataframe thead th {\n",
       "        text-align: right;\n",
       "    }\n",
       "</style>\n",
       "<table border=\"1\" class=\"dataframe\">\n",
       "  <thead>\n",
       "    <tr style=\"text-align: right;\">\n",
       "      <th></th>\n",
       "      <th>original</th>\n",
       "      <th>company</th>\n",
       "    </tr>\n",
       "  </thead>\n",
       "  <tbody>\n",
       "    <tr>\n",
       "      <th>0</th>\n",
       "      <td>Leidos\\nDescription\\nJob Description:\\nAn oppo...</td>\n",
       "      <td>Leidos</td>\n",
       "    </tr>\n",
       "    <tr>\n",
       "      <th>1</th>\n",
       "      <td>Apple\\nSummary\\nPosted: May 26, 2021\\nWeekly H...</td>\n",
       "      <td>Apple</td>\n",
       "    </tr>\n",
       "    <tr>\n",
       "      <th>2</th>\n",
       "      <td>Apple\\nSummary\\nPosted: Aug 17, 2021\\nWeekly H...</td>\n",
       "      <td>Apple</td>\n",
       "    </tr>\n",
       "    <tr>\n",
       "      <th>3</th>\n",
       "      <td>Apple\\nSummary\\nPosted: Aug 31, 2021\\nRole Num...</td>\n",
       "      <td>Apple</td>\n",
       "    </tr>\n",
       "    <tr>\n",
       "      <th>4</th>\n",
       "      <td>Apple\\nSummary\\nPosted: Jan 14, 2021\\nRole Num...</td>\n",
       "      <td>Apple</td>\n",
       "    </tr>\n",
       "  </tbody>\n",
       "</table>\n",
       "</div>"
      ],
      "text/plain": [
       "                                            original company\n",
       "0  Leidos\\nDescription\\nJob Description:\\nAn oppo...  Leidos\n",
       "1  Apple\\nSummary\\nPosted: May 26, 2021\\nWeekly H...   Apple\n",
       "2  Apple\\nSummary\\nPosted: Aug 17, 2021\\nWeekly H...   Apple\n",
       "3  Apple\\nSummary\\nPosted: Aug 31, 2021\\nRole Num...   Apple\n",
       "4  Apple\\nSummary\\nPosted: Jan 14, 2021\\nRole Num...   Apple"
      ]
     },
     "execution_count": 14,
     "metadata": {},
     "output_type": "execute_result"
    }
   ],
   "source": [
    "job_desc_df.head()"
   ]
  },
  {
   "cell_type": "code",
   "execution_count": 9,
   "id": "e34f461b",
   "metadata": {},
   "outputs": [
    {
     "data": {
      "text/html": [
       "<div>\n",
       "<style scoped>\n",
       "    .dataframe tbody tr th:only-of-type {\n",
       "        vertical-align: middle;\n",
       "    }\n",
       "\n",
       "    .dataframe tbody tr th {\n",
       "        vertical-align: top;\n",
       "    }\n",
       "\n",
       "    .dataframe thead th {\n",
       "        text-align: right;\n",
       "    }\n",
       "</style>\n",
       "<table border=\"1\" class=\"dataframe\">\n",
       "  <thead>\n",
       "    <tr style=\"text-align: right;\">\n",
       "      <th></th>\n",
       "      <th>Unnamed: 0</th>\n",
       "      <th>company</th>\n",
       "      <th>pros</th>\n",
       "      <th>cons</th>\n",
       "    </tr>\n",
       "  </thead>\n",
       "  <tbody>\n",
       "    <tr>\n",
       "      <th>0</th>\n",
       "      <td>0</td>\n",
       "      <td>Uber</td>\n",
       "      <td>Hours, pay, management and environment</td>\n",
       "      <td>I wouldn’t say I had any cons working at this job</td>\n",
       "    </tr>\n",
       "    <tr>\n",
       "      <th>1</th>\n",
       "      <td>1</td>\n",
       "      <td>Uber</td>\n",
       "      <td>Work your very own schedule</td>\n",
       "      <td>Sometimes the pay can be unbalanced</td>\n",
       "    </tr>\n",
       "    <tr>\n",
       "      <th>2</th>\n",
       "      <td>2</td>\n",
       "      <td>Uber</td>\n",
       "      <td>Uber stock, good benefits, good experience</td>\n",
       "      <td>Bad commission structure, limited upside</td>\n",
       "    </tr>\n",
       "    <tr>\n",
       "      <th>3</th>\n",
       "      <td>3</td>\n",
       "      <td>Uber</td>\n",
       "      <td>Decent pay for the work you do.</td>\n",
       "      <td>The customer service department doesnt take th...</td>\n",
       "    </tr>\n",
       "    <tr>\n",
       "      <th>4</th>\n",
       "      <td>4</td>\n",
       "      <td>Uber</td>\n",
       "      <td>Smart people\\r\\nLots of resources\\r\\nGreat com...</td>\n",
       "      <td>Fast-moving org - sometimes a little too fast ...</td>\n",
       "    </tr>\n",
       "  </tbody>\n",
       "</table>\n",
       "</div>"
      ],
      "text/plain": [
       "   Unnamed: 0 company                                               pros  \\\n",
       "0           0    Uber             Hours, pay, management and environment   \n",
       "1           1    Uber                        Work your very own schedule   \n",
       "2           2    Uber         Uber stock, good benefits, good experience   \n",
       "3           3    Uber                    Decent pay for the work you do.   \n",
       "4           4    Uber  Smart people\\r\\nLots of resources\\r\\nGreat com...   \n",
       "\n",
       "                                                cons  \n",
       "0  I wouldn’t say I had any cons working at this job  \n",
       "1                Sometimes the pay can be unbalanced  \n",
       "2           Bad commission structure, limited upside  \n",
       "3  The customer service department doesnt take th...  \n",
       "4  Fast-moving org - sometimes a little too fast ...  "
      ]
     },
     "execution_count": 9,
     "metadata": {},
     "output_type": "execute_result"
    }
   ],
   "source": [
    "reviews_df.head()"
   ]
  },
  {
   "cell_type": "code",
   "execution_count": 15,
   "id": "2f22fc45",
   "metadata": {},
   "outputs": [
    {
     "data": {
      "text/plain": [
       "Harnham              158\n",
       "Apple                147\n",
       "CyberCoders           65\n",
       "HiRoad                34\n",
       "Valvoline             27\n",
       "                    ... \n",
       "Epsilon                1\n",
       "Procter & Gamble       1\n",
       "Sparks Group           1\n",
       "Colgate-Palmolive      1\n",
       "Insight Global         1\n",
       "Name: company, Length: 77, dtype: int64"
      ]
     },
     "execution_count": 15,
     "metadata": {},
     "output_type": "execute_result"
    }
   ],
   "source": [
    "job_desc_df['company'].value_counts()"
   ]
  },
  {
   "cell_type": "code",
   "execution_count": 16,
   "id": "d372fa7e",
   "metadata": {},
   "outputs": [
    {
     "data": {
      "text/plain": [
       "Uber                           100\n",
       "Udemy, Inc.                    100\n",
       "Southwest Airlines Co.         100\n",
       "Unity Technologies             100\n",
       "Harvard University             100\n",
       "                              ... \n",
       "Verisk Analytics, Inc.          50\n",
       "General Electric Company        40\n",
       "Doma Holdings, Inc.             39\n",
       "Verizon Communications Inc.     30\n",
       "PayPal, Inc.                    30\n",
       "Name: company, Length: 105, dtype: int64"
      ]
     },
     "execution_count": 16,
     "metadata": {},
     "output_type": "execute_result"
    }
   ],
   "source": [
    "reviews_df['company'].value_counts()"
   ]
  },
  {
   "cell_type": "code",
   "execution_count": 38,
   "id": "d553a6cb",
   "metadata": {},
   "outputs": [],
   "source": [
    "unique_comp_job = list(set(job_desc_df['company']))"
   ]
  },
  {
   "cell_type": "code",
   "execution_count": 39,
   "id": "f6323fdf",
   "metadata": {},
   "outputs": [],
   "source": [
    "unique_comp_rev = list(set(reviews_df['company']))"
   ]
  },
  {
   "cell_type": "code",
   "execution_count": 22,
   "id": "cfd876ed",
   "metadata": {},
   "outputs": [],
   "source": [
    "intersection = list(unique_comp_job and unique_comp_rev)"
   ]
  },
  {
   "cell_type": "code",
   "execution_count": 49,
   "id": "6d48f37f",
   "metadata": {},
   "outputs": [
    {
     "data": {
      "text/plain": [
       "0       False\n",
       "1       False\n",
       "2       False\n",
       "3       False\n",
       "4       False\n",
       "        ...  \n",
       "5894    False\n",
       "5895    False\n",
       "5896    False\n",
       "5897    False\n",
       "5898    False\n",
       "Name: company, Length: 9668, dtype: bool"
      ]
     },
     "execution_count": 49,
     "metadata": {},
     "output_type": "execute_result"
    }
   ],
   "source": [
    "mask = reviews_df['company'].isin(job_desc_df['company'])\n",
    "reviews_df"
   ]
  },
  {
   "cell_type": "code",
   "execution_count": 46,
   "id": "4f143f4b",
   "metadata": {},
   "outputs": [
    {
     "data": {
      "text/html": [
       "<div>\n",
       "<style scoped>\n",
       "    .dataframe tbody tr th:only-of-type {\n",
       "        vertical-align: middle;\n",
       "    }\n",
       "\n",
       "    .dataframe tbody tr th {\n",
       "        vertical-align: top;\n",
       "    }\n",
       "\n",
       "    .dataframe thead th {\n",
       "        text-align: right;\n",
       "    }\n",
       "</style>\n",
       "<table border=\"1\" class=\"dataframe\">\n",
       "  <thead>\n",
       "    <tr style=\"text-align: right;\">\n",
       "      <th></th>\n",
       "      <th>Unnamed: 0</th>\n",
       "      <th>company</th>\n",
       "      <th>pros</th>\n",
       "      <th>cons</th>\n",
       "    </tr>\n",
       "  </thead>\n",
       "  <tbody>\n",
       "    <tr>\n",
       "      <th>1610</th>\n",
       "      <td>1610</td>\n",
       "      <td>Apple Inc.</td>\n",
       "      <td>- passionate community\\r\\n- great perks\\r\\n- m...</td>\n",
       "      <td>- rigid schedule (slight flexibility)\\r\\n- som...</td>\n",
       "    </tr>\n",
       "    <tr>\n",
       "      <th>1611</th>\n",
       "      <td>1611</td>\n",
       "      <td>Apple Inc.</td>\n",
       "      <td>We work with geniuses - in every department,  ...</td>\n",
       "      <td>ZERO   ZERO   ZERO   work/life balance.   Exec...</td>\n",
       "    </tr>\n",
       "    <tr>\n",
       "      <th>1612</th>\n",
       "      <td>1612</td>\n",
       "      <td>Apple Inc.</td>\n",
       "      <td>Benefits, values, environment, innovation, rew...</td>\n",
       "      <td>Low income, little vacation time,</td>\n",
       "    </tr>\n",
       "    <tr>\n",
       "      <th>1613</th>\n",
       "      <td>1613</td>\n",
       "      <td>Apple Inc.</td>\n",
       "      <td>Good working conditions, fair pay.</td>\n",
       "      <td>Large company can feel stiffling</td>\n",
       "    </tr>\n",
       "    <tr>\n",
       "      <th>1614</th>\n",
       "      <td>1614</td>\n",
       "      <td>Apple Inc.</td>\n",
       "      <td>- Good benefit\\r\\n- Chance to learns a lot</td>\n",
       "      <td>- a tight working environment</td>\n",
       "    </tr>\n",
       "    <tr>\n",
       "      <th>...</th>\n",
       "      <td>...</td>\n",
       "      <td>...</td>\n",
       "      <td>...</td>\n",
       "      <td>...</td>\n",
       "    </tr>\n",
       "    <tr>\n",
       "      <th>1695</th>\n",
       "      <td>1695</td>\n",
       "      <td>Apple Inc.</td>\n",
       "      <td>they are good people who carr</td>\n",
       "      <td>hard work needed to be successful</td>\n",
       "    </tr>\n",
       "    <tr>\n",
       "      <th>1696</th>\n",
       "      <td>1696</td>\n",
       "      <td>Apple Inc.</td>\n",
       "      <td>Really good pay and a nice job</td>\n",
       "      <td>Nothing is bad about it</td>\n",
       "    </tr>\n",
       "    <tr>\n",
       "      <th>1697</th>\n",
       "      <td>1697</td>\n",
       "      <td>Apple Inc.</td>\n",
       "      <td>- Good Money\\r\\n- Fantastic Learning and growth</td>\n",
       "      <td>- Your voice will hurt and looking at a screen...</td>\n",
       "    </tr>\n",
       "    <tr>\n",
       "      <th>1698</th>\n",
       "      <td>1698</td>\n",
       "      <td>Apple Inc.</td>\n",
       "      <td>Good pay but hard work</td>\n",
       "      <td>Nothing specific to be mentioned</td>\n",
       "    </tr>\n",
       "    <tr>\n",
       "      <th>1699</th>\n",
       "      <td>1699</td>\n",
       "      <td>Apple Inc.</td>\n",
       "      <td>Amazing benefits, great company to work for</td>\n",
       "      <td>If you are looking for flexible hours , not ab...</td>\n",
       "    </tr>\n",
       "  </tbody>\n",
       "</table>\n",
       "<p>90 rows × 4 columns</p>\n",
       "</div>"
      ],
      "text/plain": [
       "      Unnamed: 0     company  \\\n",
       "1610        1610  Apple Inc.   \n",
       "1611        1611  Apple Inc.   \n",
       "1612        1612  Apple Inc.   \n",
       "1613        1613  Apple Inc.   \n",
       "1614        1614  Apple Inc.   \n",
       "...          ...         ...   \n",
       "1695        1695  Apple Inc.   \n",
       "1696        1696  Apple Inc.   \n",
       "1697        1697  Apple Inc.   \n",
       "1698        1698  Apple Inc.   \n",
       "1699        1699  Apple Inc.   \n",
       "\n",
       "                                                   pros  \\\n",
       "1610  - passionate community\\r\\n- great perks\\r\\n- m...   \n",
       "1611  We work with geniuses - in every department,  ...   \n",
       "1612  Benefits, values, environment, innovation, rew...   \n",
       "1613                 Good working conditions, fair pay.   \n",
       "1614         - Good benefit\\r\\n- Chance to learns a lot   \n",
       "...                                                 ...   \n",
       "1695                      they are good people who carr   \n",
       "1696                     Really good pay and a nice job   \n",
       "1697    - Good Money\\r\\n- Fantastic Learning and growth   \n",
       "1698                             Good pay but hard work   \n",
       "1699        Amazing benefits, great company to work for   \n",
       "\n",
       "                                                   cons  \n",
       "1610  - rigid schedule (slight flexibility)\\r\\n- som...  \n",
       "1611  ZERO   ZERO   ZERO   work/life balance.   Exec...  \n",
       "1612                  Low income, little vacation time,  \n",
       "1613                   Large company can feel stiffling  \n",
       "1614                      - a tight working environment  \n",
       "...                                                 ...  \n",
       "1695                  hard work needed to be successful  \n",
       "1696                            Nothing is bad about it  \n",
       "1697  - Your voice will hurt and looking at a screen...  \n",
       "1698                   Nothing specific to be mentioned  \n",
       "1699  If you are looking for flexible hours , not ab...  \n",
       "\n",
       "[90 rows x 4 columns]"
      ]
     },
     "execution_count": 46,
     "metadata": {},
     "output_type": "execute_result"
    }
   ],
   "source": [
    "mask = (reviews_df['company'] == 'Apple Inc.')\n",
    "reviews_df[mask]"
   ]
  },
  {
   "cell_type": "code",
   "execution_count": 23,
   "id": "1de38a6e",
   "metadata": {},
   "outputs": [
    {
     "data": {
      "text/plain": [
       "105"
      ]
     },
     "execution_count": 23,
     "metadata": {},
     "output_type": "execute_result"
    }
   ],
   "source": [
    "len(intersection)"
   ]
  },
  {
   "cell_type": "code",
   "execution_count": 24,
   "id": "d673f6ea",
   "metadata": {},
   "outputs": [],
   "source": [
    "counts_df = pd.DataFrame()"
   ]
  },
  {
   "cell_type": "code",
   "execution_count": 30,
   "id": "d24842b4",
   "metadata": {},
   "outputs": [],
   "source": [
    "counts_df.index = intersection"
   ]
  },
  {
   "cell_type": "code",
   "execution_count": 31,
   "id": "10537e55",
   "metadata": {},
   "outputs": [],
   "source": [
    "job_counts = pd.Series(job_desc_df['company'].value_counts())\n",
    "review_counts = pd.Series(reviews_df['company'].value_counts())"
   ]
  },
  {
   "cell_type": "code",
   "execution_count": 32,
   "id": "5cb6b02f",
   "metadata": {},
   "outputs": [],
   "source": [
    "counts_df = pd.merge(job_counts, review_counts)"
   ]
  },
  {
   "cell_type": "code",
   "execution_count": 33,
   "id": "4674226f",
   "metadata": {},
   "outputs": [
    {
     "data": {
      "text/html": [
       "<div>\n",
       "<style scoped>\n",
       "    .dataframe tbody tr th:only-of-type {\n",
       "        vertical-align: middle;\n",
       "    }\n",
       "\n",
       "    .dataframe tbody tr th {\n",
       "        vertical-align: top;\n",
       "    }\n",
       "\n",
       "    .dataframe thead th {\n",
       "        text-align: right;\n",
       "    }\n",
       "</style>\n",
       "<table border=\"1\" class=\"dataframe\">\n",
       "  <thead>\n",
       "    <tr style=\"text-align: right;\">\n",
       "      <th></th>\n",
       "      <th>company</th>\n",
       "    </tr>\n",
       "  </thead>\n",
       "  <tbody>\n",
       "  </tbody>\n",
       "</table>\n",
       "</div>"
      ],
      "text/plain": [
       "Empty DataFrame\n",
       "Columns: [company]\n",
       "Index: []"
      ]
     },
     "execution_count": 33,
     "metadata": {},
     "output_type": "execute_result"
    }
   ],
   "source": [
    "job_counts.head()"
   ]
  },
  {
   "cell_type": "code",
   "execution_count": null,
   "id": "8f53f720",
   "metadata": {},
   "outputs": [],
   "source": []
  }
 ],
 "metadata": {
  "kernelspec": {
   "display_name": "Python 3",
   "language": "python",
   "name": "python3"
  },
  "language_info": {
   "codemirror_mode": {
    "name": "ipython",
    "version": 3
   },
   "file_extension": ".py",
   "mimetype": "text/x-python",
   "name": "python",
   "nbconvert_exporter": "python",
   "pygments_lexer": "ipython3",
   "version": "3.7.4"
  }
 },
 "nbformat": 4,
 "nbformat_minor": 5
}
