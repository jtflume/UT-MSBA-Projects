{
 "cells": [
  {
   "cell_type": "code",
   "execution_count": 4,
   "id": "9d91ae26",
   "metadata": {},
   "outputs": [],
   "source": [
    "import pandas as pd"
   ]
  },
  {
   "cell_type": "code",
   "execution_count": 33,
   "id": "becddda7",
   "metadata": {},
   "outputs": [],
   "source": [
    "pro=pd.read_csv('pro_lift.csv')\n",
    "con=pd.read_csv('con_lift.csv')\n",
    "sent=pd.read_csv('avg_sentiment_by_company.csv')"
   ]
  },
  {
   "cell_type": "code",
   "execution_count": 34,
   "id": "edb8a26e",
   "metadata": {},
   "outputs": [
    {
     "data": {
      "text/html": [
       "<div>\n",
       "<style scoped>\n",
       "    .dataframe tbody tr th:only-of-type {\n",
       "        vertical-align: middle;\n",
       "    }\n",
       "\n",
       "    .dataframe tbody tr th {\n",
       "        vertical-align: top;\n",
       "    }\n",
       "\n",
       "    .dataframe thead th {\n",
       "        text-align: right;\n",
       "    }\n",
       "</style>\n",
       "<table border=\"1\" class=\"dataframe\">\n",
       "  <thead>\n",
       "    <tr style=\"text-align: right;\">\n",
       "      <th></th>\n",
       "      <th>company</th>\n",
       "      <th>diversity</th>\n",
       "      <th>environment</th>\n",
       "      <th>culture</th>\n",
       "      <th>worklife</th>\n",
       "      <th>pay</th>\n",
       "      <th>growth</th>\n",
       "      <th>leadership</th>\n",
       "      <th>personaldevelopment</th>\n",
       "    </tr>\n",
       "  </thead>\n",
       "  <tbody>\n",
       "    <tr>\n",
       "      <th>0</th>\n",
       "      <td>University of Virginia</td>\n",
       "      <td>0.867775</td>\n",
       "      <td>0.710906</td>\n",
       "      <td>0.489823</td>\n",
       "      <td>0.843708</td>\n",
       "      <td>0.699251</td>\n",
       "      <td>0.572760</td>\n",
       "      <td>0.108938</td>\n",
       "      <td>0.798969</td>\n",
       "    </tr>\n",
       "    <tr>\n",
       "      <th>1</th>\n",
       "      <td>National Institutes of Health</td>\n",
       "      <td>0.433888</td>\n",
       "      <td>0.533180</td>\n",
       "      <td>0.576262</td>\n",
       "      <td>1.124945</td>\n",
       "      <td>0.599358</td>\n",
       "      <td>1.336439</td>\n",
       "      <td>0.326814</td>\n",
       "      <td>1.597939</td>\n",
       "    </tr>\n",
       "    <tr>\n",
       "      <th>2</th>\n",
       "      <td>The MathWorks, Inc.</td>\n",
       "      <td>0.433888</td>\n",
       "      <td>1.777266</td>\n",
       "      <td>1.267777</td>\n",
       "      <td>1.757726</td>\n",
       "      <td>0.549412</td>\n",
       "      <td>1.050059</td>\n",
       "      <td>0.980442</td>\n",
       "      <td>1.154067</td>\n",
       "    </tr>\n",
       "    <tr>\n",
       "      <th>3</th>\n",
       "      <td>Udemy, Inc.</td>\n",
       "      <td>1.301663</td>\n",
       "      <td>1.954992</td>\n",
       "      <td>1.642348</td>\n",
       "      <td>0.914017</td>\n",
       "      <td>0.599358</td>\n",
       "      <td>2.291038</td>\n",
       "      <td>1.960884</td>\n",
       "      <td>2.396908</td>\n",
       "    </tr>\n",
       "    <tr>\n",
       "      <th>4</th>\n",
       "      <td>Slack Technologies, Inc.</td>\n",
       "      <td>2.603325</td>\n",
       "      <td>1.332949</td>\n",
       "      <td>1.469469</td>\n",
       "      <td>0.843708</td>\n",
       "      <td>0.998930</td>\n",
       "      <td>1.431899</td>\n",
       "      <td>1.960884</td>\n",
       "      <td>1.065293</td>\n",
       "    </tr>\n",
       "    <tr>\n",
       "      <th>...</th>\n",
       "      <td>...</td>\n",
       "      <td>...</td>\n",
       "      <td>...</td>\n",
       "      <td>...</td>\n",
       "      <td>...</td>\n",
       "      <td>...</td>\n",
       "      <td>...</td>\n",
       "      <td>...</td>\n",
       "      <td>...</td>\n",
       "    </tr>\n",
       "    <tr>\n",
       "      <th>123</th>\n",
       "      <td>Verisk Analytics, Inc.</td>\n",
       "      <td>0.000000</td>\n",
       "      <td>1.421813</td>\n",
       "      <td>0.864394</td>\n",
       "      <td>1.968653</td>\n",
       "      <td>1.598289</td>\n",
       "      <td>0.572760</td>\n",
       "      <td>1.307256</td>\n",
       "      <td>0.887744</td>\n",
       "    </tr>\n",
       "    <tr>\n",
       "      <th>124</th>\n",
       "      <td>General Electric Company</td>\n",
       "      <td>0.000000</td>\n",
       "      <td>1.777266</td>\n",
       "      <td>0.936426</td>\n",
       "      <td>0.351545</td>\n",
       "      <td>0.749198</td>\n",
       "      <td>0.477300</td>\n",
       "      <td>0.817035</td>\n",
       "      <td>1.331616</td>\n",
       "    </tr>\n",
       "    <tr>\n",
       "      <th>125</th>\n",
       "      <td>Verizon Communications Inc.</td>\n",
       "      <td>0.000000</td>\n",
       "      <td>0.888633</td>\n",
       "      <td>0.672306</td>\n",
       "      <td>1.406181</td>\n",
       "      <td>2.164349</td>\n",
       "      <td>0.636399</td>\n",
       "      <td>1.089380</td>\n",
       "      <td>1.479573</td>\n",
       "    </tr>\n",
       "    <tr>\n",
       "      <th>126</th>\n",
       "      <td>US Department of the Air Force</td>\n",
       "      <td>0.000000</td>\n",
       "      <td>0.888633</td>\n",
       "      <td>0.096044</td>\n",
       "      <td>0.468727</td>\n",
       "      <td>1.165419</td>\n",
       "      <td>0.636399</td>\n",
       "      <td>0.000000</td>\n",
       "      <td>1.775488</td>\n",
       "    </tr>\n",
       "    <tr>\n",
       "      <th>127</th>\n",
       "      <td>PayPal, Inc.</td>\n",
       "      <td>2.892584</td>\n",
       "      <td>0.592422</td>\n",
       "      <td>0.768350</td>\n",
       "      <td>1.171817</td>\n",
       "      <td>1.498396</td>\n",
       "      <td>0.318200</td>\n",
       "      <td>1.089380</td>\n",
       "      <td>0.591829</td>\n",
       "    </tr>\n",
       "  </tbody>\n",
       "</table>\n",
       "<p>128 rows × 9 columns</p>\n",
       "</div>"
      ],
      "text/plain": [
       "                            company  diversity  environment   culture  \\\n",
       "0            University of Virginia   0.867775     0.710906  0.489823   \n",
       "1     National Institutes of Health   0.433888     0.533180  0.576262   \n",
       "2               The MathWorks, Inc.   0.433888     1.777266  1.267777   \n",
       "3                       Udemy, Inc.   1.301663     1.954992  1.642348   \n",
       "4          Slack Technologies, Inc.   2.603325     1.332949  1.469469   \n",
       "..                              ...        ...          ...       ...   \n",
       "123          Verisk Analytics, Inc.   0.000000     1.421813  0.864394   \n",
       "124        General Electric Company   0.000000     1.777266  0.936426   \n",
       "125     Verizon Communications Inc.   0.000000     0.888633  0.672306   \n",
       "126  US Department of the Air Force   0.000000     0.888633  0.096044   \n",
       "127                    PayPal, Inc.   2.892584     0.592422  0.768350   \n",
       "\n",
       "     worklife       pay    growth  leadership  personaldevelopment  \n",
       "0    0.843708  0.699251  0.572760    0.108938             0.798969  \n",
       "1    1.124945  0.599358  1.336439    0.326814             1.597939  \n",
       "2    1.757726  0.549412  1.050059    0.980442             1.154067  \n",
       "3    0.914017  0.599358  2.291038    1.960884             2.396908  \n",
       "4    0.843708  0.998930  1.431899    1.960884             1.065293  \n",
       "..        ...       ...       ...         ...                  ...  \n",
       "123  1.968653  1.598289  0.572760    1.307256             0.887744  \n",
       "124  0.351545  0.749198  0.477300    0.817035             1.331616  \n",
       "125  1.406181  2.164349  0.636399    1.089380             1.479573  \n",
       "126  0.468727  1.165419  0.636399    0.000000             1.775488  \n",
       "127  1.171817  1.498396  0.318200    1.089380             0.591829  \n",
       "\n",
       "[128 rows x 9 columns]"
      ]
     },
     "execution_count": 34,
     "metadata": {},
     "output_type": "execute_result"
    }
   ],
   "source": [
    "pro.columns=['company', 'diversity', 'environment', 'culture', 'worklife', 'pay',\n",
    "       'growth', 'leadership', 'personaldevelopment']\n",
    "pro"
   ]
  },
  {
   "cell_type": "code",
   "execution_count": 35,
   "id": "0e928675",
   "metadata": {},
   "outputs": [
    {
     "data": {
      "text/html": [
       "<div>\n",
       "<style scoped>\n",
       "    .dataframe tbody tr th:only-of-type {\n",
       "        vertical-align: middle;\n",
       "    }\n",
       "\n",
       "    .dataframe tbody tr th {\n",
       "        vertical-align: top;\n",
       "    }\n",
       "\n",
       "    .dataframe thead th {\n",
       "        text-align: right;\n",
       "    }\n",
       "</style>\n",
       "<table border=\"1\" class=\"dataframe\">\n",
       "  <thead>\n",
       "    <tr style=\"text-align: right;\">\n",
       "      <th></th>\n",
       "      <th>company</th>\n",
       "      <th>diversity</th>\n",
       "      <th>environment</th>\n",
       "      <th>culture</th>\n",
       "      <th>worklife</th>\n",
       "      <th>pay</th>\n",
       "      <th>growth</th>\n",
       "      <th>leadership</th>\n",
       "      <th>personaldevelopment</th>\n",
       "    </tr>\n",
       "  </thead>\n",
       "  <tbody>\n",
       "    <tr>\n",
       "      <th>0</th>\n",
       "      <td>University of Virginia</td>\n",
       "      <td>0.788711</td>\n",
       "      <td>0.845048</td>\n",
       "      <td>0.554686</td>\n",
       "      <td>1.230807</td>\n",
       "      <td>1.424341</td>\n",
       "      <td>0.472219</td>\n",
       "      <td>0.391571</td>\n",
       "      <td>0.393481</td>\n",
       "    </tr>\n",
       "    <tr>\n",
       "      <th>1</th>\n",
       "      <td>National Institutes of Health</td>\n",
       "      <td>0.000000</td>\n",
       "      <td>0.563365</td>\n",
       "      <td>0.554686</td>\n",
       "      <td>0.335675</td>\n",
       "      <td>0.971142</td>\n",
       "      <td>0.661107</td>\n",
       "      <td>0.391571</td>\n",
       "      <td>0.688592</td>\n",
       "    </tr>\n",
       "    <tr>\n",
       "      <th>2</th>\n",
       "      <td>The MathWorks, Inc.</td>\n",
       "      <td>0.000000</td>\n",
       "      <td>1.690095</td>\n",
       "      <td>1.148993</td>\n",
       "      <td>0.447566</td>\n",
       "      <td>1.942284</td>\n",
       "      <td>1.322214</td>\n",
       "      <td>0.626514</td>\n",
       "      <td>1.180443</td>\n",
       "    </tr>\n",
       "    <tr>\n",
       "      <th>3</th>\n",
       "      <td>Udemy, Inc.</td>\n",
       "      <td>1.577422</td>\n",
       "      <td>1.408413</td>\n",
       "      <td>1.505577</td>\n",
       "      <td>0.335675</td>\n",
       "      <td>0.453200</td>\n",
       "      <td>3.022203</td>\n",
       "      <td>1.096399</td>\n",
       "      <td>1.082073</td>\n",
       "    </tr>\n",
       "    <tr>\n",
       "      <th>4</th>\n",
       "      <td>Slack Technologies, Inc.</td>\n",
       "      <td>0.788711</td>\n",
       "      <td>0.985889</td>\n",
       "      <td>1.545198</td>\n",
       "      <td>0.447566</td>\n",
       "      <td>0.194228</td>\n",
       "      <td>1.322214</td>\n",
       "      <td>1.174713</td>\n",
       "      <td>1.573925</td>\n",
       "    </tr>\n",
       "    <tr>\n",
       "      <th>...</th>\n",
       "      <td>...</td>\n",
       "      <td>...</td>\n",
       "      <td>...</td>\n",
       "      <td>...</td>\n",
       "      <td>...</td>\n",
       "      <td>...</td>\n",
       "      <td>...</td>\n",
       "      <td>...</td>\n",
       "      <td>...</td>\n",
       "    </tr>\n",
       "    <tr>\n",
       "      <th>123</th>\n",
       "      <td>Verisk Analytics, Inc.</td>\n",
       "      <td>0.000000</td>\n",
       "      <td>1.126730</td>\n",
       "      <td>1.109373</td>\n",
       "      <td>1.566482</td>\n",
       "      <td>2.071769</td>\n",
       "      <td>0.944439</td>\n",
       "      <td>1.096399</td>\n",
       "      <td>0.393481</td>\n",
       "    </tr>\n",
       "    <tr>\n",
       "      <th>124</th>\n",
       "      <td>General Electric Company</td>\n",
       "      <td>0.000000</td>\n",
       "      <td>0.704206</td>\n",
       "      <td>0.990511</td>\n",
       "      <td>1.958102</td>\n",
       "      <td>1.132999</td>\n",
       "      <td>0.944439</td>\n",
       "      <td>0.978928</td>\n",
       "      <td>0.491851</td>\n",
       "    </tr>\n",
       "    <tr>\n",
       "      <th>125</th>\n",
       "      <td>Verizon Communications Inc.</td>\n",
       "      <td>0.000000</td>\n",
       "      <td>0.469471</td>\n",
       "      <td>1.320682</td>\n",
       "      <td>1.491887</td>\n",
       "      <td>1.079047</td>\n",
       "      <td>0.944439</td>\n",
       "      <td>2.088379</td>\n",
       "      <td>0.655802</td>\n",
       "    </tr>\n",
       "    <tr>\n",
       "      <th>126</th>\n",
       "      <td>US Department of the Air Force</td>\n",
       "      <td>0.000000</td>\n",
       "      <td>0.000000</td>\n",
       "      <td>1.056545</td>\n",
       "      <td>2.610803</td>\n",
       "      <td>0.647428</td>\n",
       "      <td>0.314813</td>\n",
       "      <td>0.261047</td>\n",
       "      <td>0.000000</td>\n",
       "    </tr>\n",
       "    <tr>\n",
       "      <th>127</th>\n",
       "      <td>PayPal, Inc.</td>\n",
       "      <td>0.000000</td>\n",
       "      <td>3.286296</td>\n",
       "      <td>1.188614</td>\n",
       "      <td>0.745944</td>\n",
       "      <td>1.079047</td>\n",
       "      <td>1.574064</td>\n",
       "      <td>1.044189</td>\n",
       "      <td>0.983703</td>\n",
       "    </tr>\n",
       "  </tbody>\n",
       "</table>\n",
       "<p>128 rows × 9 columns</p>\n",
       "</div>"
      ],
      "text/plain": [
       "                            company  diversity  environment   culture  \\\n",
       "0            University of Virginia   0.788711     0.845048  0.554686   \n",
       "1     National Institutes of Health   0.000000     0.563365  0.554686   \n",
       "2               The MathWorks, Inc.   0.000000     1.690095  1.148993   \n",
       "3                       Udemy, Inc.   1.577422     1.408413  1.505577   \n",
       "4          Slack Technologies, Inc.   0.788711     0.985889  1.545198   \n",
       "..                              ...        ...          ...       ...   \n",
       "123          Verisk Analytics, Inc.   0.000000     1.126730  1.109373   \n",
       "124        General Electric Company   0.000000     0.704206  0.990511   \n",
       "125     Verizon Communications Inc.   0.000000     0.469471  1.320682   \n",
       "126  US Department of the Air Force   0.000000     0.000000  1.056545   \n",
       "127                    PayPal, Inc.   0.000000     3.286296  1.188614   \n",
       "\n",
       "     worklife       pay    growth  leadership  personaldevelopment  \n",
       "0    1.230807  1.424341  0.472219    0.391571             0.393481  \n",
       "1    0.335675  0.971142  0.661107    0.391571             0.688592  \n",
       "2    0.447566  1.942284  1.322214    0.626514             1.180443  \n",
       "3    0.335675  0.453200  3.022203    1.096399             1.082073  \n",
       "4    0.447566  0.194228  1.322214    1.174713             1.573925  \n",
       "..        ...       ...       ...         ...                  ...  \n",
       "123  1.566482  2.071769  0.944439    1.096399             0.393481  \n",
       "124  1.958102  1.132999  0.944439    0.978928             0.491851  \n",
       "125  1.491887  1.079047  0.944439    2.088379             0.655802  \n",
       "126  2.610803  0.647428  0.314813    0.261047             0.000000  \n",
       "127  0.745944  1.079047  1.574064    1.044189             0.983703  \n",
       "\n",
       "[128 rows x 9 columns]"
      ]
     },
     "execution_count": 35,
     "metadata": {},
     "output_type": "execute_result"
    }
   ],
   "source": [
    "con.columns=['company', 'diversity', 'environment', 'culture', 'worklife', 'pay',\n",
    "       'growth', 'leadership', 'personaldevelopment']\n",
    "con"
   ]
  },
  {
   "cell_type": "code",
   "execution_count": 36,
   "id": "c635503d",
   "metadata": {},
   "outputs": [],
   "source": [
    "pro=pro.merge(sent, \n",
    "          on='company', \n",
    "          )\n",
    "con=con.merge(sent, \n",
    "          on='company', \n",
    "          )"
   ]
  },
  {
   "cell_type": "code",
   "execution_count": 38,
   "id": "f1f5e34d",
   "metadata": {},
   "outputs": [
    {
     "data": {
      "text/html": [
       "<div>\n",
       "<style scoped>\n",
       "    .dataframe tbody tr th:only-of-type {\n",
       "        vertical-align: middle;\n",
       "    }\n",
       "\n",
       "    .dataframe tbody tr th {\n",
       "        vertical-align: top;\n",
       "    }\n",
       "\n",
       "    .dataframe thead th {\n",
       "        text-align: right;\n",
       "    }\n",
       "</style>\n",
       "<table border=\"1\" class=\"dataframe\">\n",
       "  <thead>\n",
       "    <tr style=\"text-align: right;\">\n",
       "      <th></th>\n",
       "      <th>company</th>\n",
       "      <th>diversity</th>\n",
       "      <th>environment</th>\n",
       "      <th>culture</th>\n",
       "      <th>worklife</th>\n",
       "      <th>pay</th>\n",
       "      <th>growth</th>\n",
       "      <th>leadership</th>\n",
       "      <th>personaldevelopment</th>\n",
       "      <th>pros_average</th>\n",
       "      <th>cons_average</th>\n",
       "      <th>sum_pros_and_cons</th>\n",
       "    </tr>\n",
       "  </thead>\n",
       "  <tbody>\n",
       "    <tr>\n",
       "      <th>0</th>\n",
       "      <td>University of Virginia</td>\n",
       "      <td>0.867775</td>\n",
       "      <td>0.710906</td>\n",
       "      <td>0.489823</td>\n",
       "      <td>0.843708</td>\n",
       "      <td>0.699251</td>\n",
       "      <td>0.572760</td>\n",
       "      <td>0.108938</td>\n",
       "      <td>0.798969</td>\n",
       "      <td>0.597364</td>\n",
       "      <td>-0.087308</td>\n",
       "      <td>0.510056</td>\n",
       "    </tr>\n",
       "    <tr>\n",
       "      <th>1</th>\n",
       "      <td>National Institutes of Health</td>\n",
       "      <td>0.433888</td>\n",
       "      <td>0.533180</td>\n",
       "      <td>0.576262</td>\n",
       "      <td>1.124945</td>\n",
       "      <td>0.599358</td>\n",
       "      <td>1.336439</td>\n",
       "      <td>0.326814</td>\n",
       "      <td>1.597939</td>\n",
       "      <td>0.573802</td>\n",
       "      <td>0.026265</td>\n",
       "      <td>0.600067</td>\n",
       "    </tr>\n",
       "    <tr>\n",
       "      <th>2</th>\n",
       "      <td>The MathWorks, Inc.</td>\n",
       "      <td>0.433888</td>\n",
       "      <td>1.777266</td>\n",
       "      <td>1.267777</td>\n",
       "      <td>1.757726</td>\n",
       "      <td>0.549412</td>\n",
       "      <td>1.050059</td>\n",
       "      <td>0.980442</td>\n",
       "      <td>1.154067</td>\n",
       "      <td>0.717076</td>\n",
       "      <td>-0.016381</td>\n",
       "      <td>0.700695</td>\n",
       "    </tr>\n",
       "    <tr>\n",
       "      <th>3</th>\n",
       "      <td>Udemy, Inc.</td>\n",
       "      <td>1.301663</td>\n",
       "      <td>1.954992</td>\n",
       "      <td>1.642348</td>\n",
       "      <td>0.914017</td>\n",
       "      <td>0.599358</td>\n",
       "      <td>2.291038</td>\n",
       "      <td>1.960884</td>\n",
       "      <td>2.396908</td>\n",
       "      <td>0.712584</td>\n",
       "      <td>0.165437</td>\n",
       "      <td>0.878021</td>\n",
       "    </tr>\n",
       "    <tr>\n",
       "      <th>4</th>\n",
       "      <td>Slack Technologies, Inc.</td>\n",
       "      <td>2.603325</td>\n",
       "      <td>1.332949</td>\n",
       "      <td>1.469469</td>\n",
       "      <td>0.843708</td>\n",
       "      <td>0.998930</td>\n",
       "      <td>1.431899</td>\n",
       "      <td>1.960884</td>\n",
       "      <td>1.065293</td>\n",
       "      <td>0.790871</td>\n",
       "      <td>0.160153</td>\n",
       "      <td>0.951024</td>\n",
       "    </tr>\n",
       "    <tr>\n",
       "      <th>...</th>\n",
       "      <td>...</td>\n",
       "      <td>...</td>\n",
       "      <td>...</td>\n",
       "      <td>...</td>\n",
       "      <td>...</td>\n",
       "      <td>...</td>\n",
       "      <td>...</td>\n",
       "      <td>...</td>\n",
       "      <td>...</td>\n",
       "      <td>...</td>\n",
       "      <td>...</td>\n",
       "      <td>...</td>\n",
       "    </tr>\n",
       "    <tr>\n",
       "      <th>123</th>\n",
       "      <td>Verisk Analytics, Inc.</td>\n",
       "      <td>0.000000</td>\n",
       "      <td>1.421813</td>\n",
       "      <td>0.864394</td>\n",
       "      <td>1.968653</td>\n",
       "      <td>1.598289</td>\n",
       "      <td>0.572760</td>\n",
       "      <td>1.307256</td>\n",
       "      <td>0.887744</td>\n",
       "      <td>0.678272</td>\n",
       "      <td>-0.022132</td>\n",
       "      <td>0.656140</td>\n",
       "    </tr>\n",
       "    <tr>\n",
       "      <th>124</th>\n",
       "      <td>General Electric Company</td>\n",
       "      <td>0.000000</td>\n",
       "      <td>1.777266</td>\n",
       "      <td>0.936426</td>\n",
       "      <td>0.351545</td>\n",
       "      <td>0.749198</td>\n",
       "      <td>0.477300</td>\n",
       "      <td>0.817035</td>\n",
       "      <td>1.331616</td>\n",
       "      <td>0.530310</td>\n",
       "      <td>0.082865</td>\n",
       "      <td>0.613175</td>\n",
       "    </tr>\n",
       "    <tr>\n",
       "      <th>125</th>\n",
       "      <td>Verizon Communications Inc.</td>\n",
       "      <td>0.000000</td>\n",
       "      <td>0.888633</td>\n",
       "      <td>0.672306</td>\n",
       "      <td>1.406181</td>\n",
       "      <td>2.164349</td>\n",
       "      <td>0.636399</td>\n",
       "      <td>1.089380</td>\n",
       "      <td>1.479573</td>\n",
       "      <td>0.670463</td>\n",
       "      <td>-0.020057</td>\n",
       "      <td>0.650407</td>\n",
       "    </tr>\n",
       "    <tr>\n",
       "      <th>126</th>\n",
       "      <td>US Department of the Air Force</td>\n",
       "      <td>0.000000</td>\n",
       "      <td>0.888633</td>\n",
       "      <td>0.096044</td>\n",
       "      <td>0.468727</td>\n",
       "      <td>1.165419</td>\n",
       "      <td>0.636399</td>\n",
       "      <td>0.000000</td>\n",
       "      <td>1.775488</td>\n",
       "      <td>0.551650</td>\n",
       "      <td>0.006927</td>\n",
       "      <td>0.558577</td>\n",
       "    </tr>\n",
       "    <tr>\n",
       "      <th>127</th>\n",
       "      <td>PayPal, Inc.</td>\n",
       "      <td>2.892584</td>\n",
       "      <td>0.592422</td>\n",
       "      <td>0.768350</td>\n",
       "      <td>1.171817</td>\n",
       "      <td>1.498396</td>\n",
       "      <td>0.318200</td>\n",
       "      <td>1.089380</td>\n",
       "      <td>0.591829</td>\n",
       "      <td>0.560643</td>\n",
       "      <td>0.068120</td>\n",
       "      <td>0.628763</td>\n",
       "    </tr>\n",
       "  </tbody>\n",
       "</table>\n",
       "<p>128 rows × 12 columns</p>\n",
       "</div>"
      ],
      "text/plain": [
       "                            company  diversity  environment   culture  \\\n",
       "0            University of Virginia   0.867775     0.710906  0.489823   \n",
       "1     National Institutes of Health   0.433888     0.533180  0.576262   \n",
       "2               The MathWorks, Inc.   0.433888     1.777266  1.267777   \n",
       "3                       Udemy, Inc.   1.301663     1.954992  1.642348   \n",
       "4          Slack Technologies, Inc.   2.603325     1.332949  1.469469   \n",
       "..                              ...        ...          ...       ...   \n",
       "123          Verisk Analytics, Inc.   0.000000     1.421813  0.864394   \n",
       "124        General Electric Company   0.000000     1.777266  0.936426   \n",
       "125     Verizon Communications Inc.   0.000000     0.888633  0.672306   \n",
       "126  US Department of the Air Force   0.000000     0.888633  0.096044   \n",
       "127                    PayPal, Inc.   2.892584     0.592422  0.768350   \n",
       "\n",
       "     worklife       pay    growth  leadership  personaldevelopment  \\\n",
       "0    0.843708  0.699251  0.572760    0.108938             0.798969   \n",
       "1    1.124945  0.599358  1.336439    0.326814             1.597939   \n",
       "2    1.757726  0.549412  1.050059    0.980442             1.154067   \n",
       "3    0.914017  0.599358  2.291038    1.960884             2.396908   \n",
       "4    0.843708  0.998930  1.431899    1.960884             1.065293   \n",
       "..        ...       ...       ...         ...                  ...   \n",
       "123  1.968653  1.598289  0.572760    1.307256             0.887744   \n",
       "124  0.351545  0.749198  0.477300    0.817035             1.331616   \n",
       "125  1.406181  2.164349  0.636399    1.089380             1.479573   \n",
       "126  0.468727  1.165419  0.636399    0.000000             1.775488   \n",
       "127  1.171817  1.498396  0.318200    1.089380             0.591829   \n",
       "\n",
       "     pros_average  cons_average  sum_pros_and_cons  \n",
       "0        0.597364     -0.087308           0.510056  \n",
       "1        0.573802      0.026265           0.600067  \n",
       "2        0.717076     -0.016381           0.700695  \n",
       "3        0.712584      0.165437           0.878021  \n",
       "4        0.790871      0.160153           0.951024  \n",
       "..            ...           ...                ...  \n",
       "123      0.678272     -0.022132           0.656140  \n",
       "124      0.530310      0.082865           0.613175  \n",
       "125      0.670463     -0.020057           0.650407  \n",
       "126      0.551650      0.006927           0.558577  \n",
       "127      0.560643      0.068120           0.628763  \n",
       "\n",
       "[128 rows x 12 columns]"
      ]
     },
     "execution_count": 38,
     "metadata": {},
     "output_type": "execute_result"
    }
   ],
   "source": [
    "pro"
   ]
  },
  {
   "cell_type": "code",
   "execution_count": 100,
   "id": "906f9918",
   "metadata": {},
   "outputs": [
    {
     "data": {
      "text/html": [
       "<div>\n",
       "<style scoped>\n",
       "    .dataframe tbody tr th:only-of-type {\n",
       "        vertical-align: middle;\n",
       "    }\n",
       "\n",
       "    .dataframe tbody tr th {\n",
       "        vertical-align: top;\n",
       "    }\n",
       "\n",
       "    .dataframe thead th {\n",
       "        text-align: right;\n",
       "    }\n",
       "</style>\n",
       "<table border=\"1\" class=\"dataframe\">\n",
       "  <thead>\n",
       "    <tr style=\"text-align: right;\">\n",
       "      <th></th>\n",
       "      <th>company</th>\n",
       "      <th>diversity</th>\n",
       "      <th>environment</th>\n",
       "      <th>culture</th>\n",
       "      <th>worklife</th>\n",
       "      <th>pay</th>\n",
       "      <th>growth</th>\n",
       "      <th>leadership</th>\n",
       "      <th>personaldevelopment</th>\n",
       "      <th>pros_average</th>\n",
       "      <th>cons_average</th>\n",
       "      <th>sum_pros_and_cons</th>\n",
       "    </tr>\n",
       "  </thead>\n",
       "  <tbody>\n",
       "    <tr>\n",
       "      <th>37</th>\n",
       "      <td>Healthcare Catalyst</td>\n",
       "      <td>4.732267</td>\n",
       "      <td>1.408413</td>\n",
       "      <td>1.941402</td>\n",
       "      <td>1.230807</td>\n",
       "      <td>1.61857</td>\n",
       "      <td>1.416658</td>\n",
       "      <td>1.957855</td>\n",
       "      <td>2.360887</td>\n",
       "      <td>0.853159</td>\n",
       "      <td>0.251976</td>\n",
       "      <td>1.105135</td>\n",
       "    </tr>\n",
       "  </tbody>\n",
       "</table>\n",
       "</div>"
      ],
      "text/plain": [
       "                company  diversity  environment   culture  worklife      pay  \\\n",
       "37  Healthcare Catalyst   4.732267     1.408413  1.941402  1.230807  1.61857   \n",
       "\n",
       "      growth  leadership  personaldevelopment  pros_average  cons_average  \\\n",
       "37  1.416658    1.957855             2.360887      0.853159      0.251976   \n",
       "\n",
       "    sum_pros_and_cons  \n",
       "37           1.105135  "
      ]
     },
     "execution_count": 100,
     "metadata": {},
     "output_type": "execute_result"
    }
   ],
   "source": [
    "con[con['company']=='Healthcare Catalyst']"
   ]
  },
  {
   "cell_type": "markdown",
   "id": "9f9cc024",
   "metadata": {},
   "source": [
    "# Choose 3 most important things you care about from the list:\n",
    "\n",
    "1: Diversity\n",
    "\n",
    "2: Environment\n",
    "\n",
    "3: Culture\n",
    "\n",
    "4: Work life balance\n",
    "\n",
    "5: Pay\n",
    "\n",
    "6: Growth\n",
    "\n",
    "7: Leadership\n",
    "\n",
    "8: Personal development"
   ]
  },
  {
   "cell_type": "markdown",
   "id": "34662b96",
   "metadata": {},
   "source": [
    "# Test 1: \n",
    "1: Diversity\n",
    "\n",
    "2: Environment\n",
    "\n",
    "3: Culture"
   ]
  },
  {
   "cell_type": "code",
   "execution_count": 91,
   "id": "84e0308f",
   "metadata": {},
   "outputs": [
    {
     "data": {
      "text/plain": [
       "<AxesSubplot:xlabel='company'>"
      ]
     },
     "execution_count": 91,
     "metadata": {},
     "output_type": "execute_result"
    },
    {
     "data": {
      "image/png": "[encoded data removed]",
      "text/plain": [
       "<Figure size 432x288 with 1 Axes>"
      ]
     },
     "metadata": {
      "needs_background": "light"
     },
     "output_type": "display_data"
    }
   ],
   "source": [
    "choice1=1\n",
    "choice2=2\n",
    "choice3=3\n",
    "final_score=pd.concat({'pro_final':pro.iloc[:,[choice1,choice2,choice3]].sum(axis=1)*pro['pros_average'],\n",
    "                       'con_final':con.iloc[:,[choice1,choice2,choice3]].sum(axis=1)*con['cons_average']},\n",
    "                      axis=1)\n",
    "final_score.index=pro['company']\n",
    "final_score['final']=final_score['pro_final']+final_score['con_final']\n",
    "final_score['final'].sort_values(ascending=False)[:10].plot(kind='bar')"
   ]
  },
  {
   "cell_type": "code",
   "execution_count": 94,
   "id": "5cbe6f90",
   "metadata": {},
   "outputs": [
    {
     "data": {
      "text/plain": [
       "<AxesSubplot:xlabel='company'>"
      ]
     },
     "execution_count": 94,
     "metadata": {},
     "output_type": "execute_result"
    },
    {
     "data": {
      "image/png": "[encoded data removed]",
      "text/plain": [
       "<Figure size 432x288 with 1 Axes>"
      ]
     },
     "metadata": {
      "needs_background": "light"
     },
     "output_type": "display_data"
    }
   ],
   "source": [
    "final_score.sort_values(by='final',ascending=False)[:10].plot(kind='bar')"
   ]
  },
  {
   "cell_type": "markdown",
   "id": "e1fb6d75",
   "metadata": {},
   "source": [
    "# Test 2: \n",
    "4: Work life balance\n",
    "\n",
    "5: Pay\n",
    "\n",
    "6: Growth"
   ]
  },
  {
   "cell_type": "code",
   "execution_count": 95,
   "id": "380d7faf",
   "metadata": {},
   "outputs": [
    {
     "data": {
      "text/plain": [
       "<AxesSubplot:xlabel='company'>"
      ]
     },
     "execution_count": 95,
     "metadata": {},
     "output_type": "execute_result"
    },
    {
     "data": {
      "image/png": "[encoded data removed]",
      "text/plain": [
       "<Figure size 432x288 with 1 Axes>"
      ]
     },
     "metadata": {
      "needs_background": "light"
     },
     "output_type": "display_data"
    }
   ],
   "source": [
    "choice1=4\n",
    "choice2=5\n",
    "choice3=6\n",
    "final_score=pd.concat({'pro_final':pro.iloc[:,[choice1,choice2,choice3]].sum(axis=1)*pro['pros_average'],\n",
    "                       'con_final':con.iloc[:,[choice1,choice2,choice3]].sum(axis=1)*con['cons_average']},\n",
    "                      axis=1)\n",
    "final_score.index=pro['company']\n",
    "final_score['final']=final_score['pro_final']+final_score['con_final']\n",
    "final_score['final'].sort_values(ascending=False)[:10].plot(kind='bar')"
   ]
  },
  {
   "cell_type": "code",
   "execution_count": 97,
   "id": "5ac4a095",
   "metadata": {},
   "outputs": [
    {
     "data": {
      "text/plain": [
       "<AxesSubplot:xlabel='company'>"
      ]
     },
     "execution_count": 97,
     "metadata": {},
     "output_type": "execute_result"
    },
    {
     "data": {
      "image/png": "[encoded data removed]",
      "text/plain": [
       "<Figure size 432x288 with 1 Axes>"
      ]
     },
     "metadata": {
      "needs_background": "light"
     },
     "output_type": "display_data"
    }
   ],
   "source": [
    "final_score.sort_values(by='final',ascending=False)[:10].plot(kind='bar')"
   ]
  },
  {
   "cell_type": "code",
   "execution_count": null,
   "id": "e769cc4b",
   "metadata": {},
   "outputs": [],
   "source": []
  },
  {
   "cell_type": "markdown",
   "id": "57f933a2",
   "metadata": {},
   "source": [
    "# Test 3\n",
    "4: Work life balance\n",
    "\n",
    "7: Leadership\n",
    "\n",
    "8: Personal development"
   ]
  },
  {
   "cell_type": "code",
   "execution_count": 107,
   "id": "7b6c94ef",
   "metadata": {},
   "outputs": [
    {
     "data": {
      "text/plain": [
       "<AxesSubplot:xlabel='company'>"
      ]
     },
     "execution_count": 107,
     "metadata": {},
     "output_type": "execute_result"
    },
    {
     "data": {
      "image/png": "[encoded data removed]",
      "text/plain": [
       "<Figure size 432x288 with 1 Axes>"
      ]
     },
     "metadata": {
      "needs_background": "light"
     },
     "output_type": "display_data"
    }
   ],
   "source": [
    "choice1=4\n",
    "choice2=7\n",
    "choice3=8\n",
    "final_score=pd.concat({'pro_final':pro.iloc[:,[choice1,choice2,choice3]].sum(axis=1)*pro['pros_average'],\n",
    "                       'con_final':con.iloc[:,[choice1,choice2,choice3]].sum(axis=1)*con['cons_average']},\n",
    "                      axis=1)\n",
    "final_score.index=pro['company']\n",
    "final_score['final']=final_score['pro_final']+final_score['con_final']\n",
    "final_score['final'].sort_values(ascending=False)[:10].plot(kind='bar')"
   ]
  },
  {
   "cell_type": "code",
   "execution_count": 104,
   "id": "c1e5fe7f",
   "metadata": {
    "scrolled": true
   },
   "outputs": [
    {
     "data": {
      "text/plain": [
       "<AxesSubplot:xlabel='company'>"
      ]
     },
     "execution_count": 104,
     "metadata": {},
     "output_type": "execute_result"
    },
    {
     "data": {
      "image/png": "[encoded data removed]",
      "text/plain": [
       "<Figure size 432x288 with 1 Axes>"
      ]
     },
     "metadata": {
      "needs_background": "light"
     },
     "output_type": "display_data"
    }
   ],
   "source": [
    "final_score.sort_values(by='final',ascending=False)[:10].plot(kind='bar')"
   ]
  },
  {
   "cell_type": "markdown",
   "id": "b5bf03e0",
   "metadata": {},
   "source": [
    "# Test 4 - Reverse Order to see the worst companies\n",
    "4: Work life balance\n",
    "\n",
    "7: Leadership\n",
    "\n",
    "8: Personal development"
   ]
  },
  {
   "cell_type": "code",
   "execution_count": 109,
   "id": "7b6c94ef",
   "metadata": {},
   "outputs": [
    {
     "data": {
      "text/plain": [
       "<AxesSubplot:xlabel='company'>"
      ]
     },
     "execution_count": 109,
     "metadata": {},
     "output_type": "execute_result"
    },
    {
     "data": {
      "image/png": "[encoded data removed]",
      "text/plain": [
       "<Figure size 432x288 with 1 Axes>"
      ]
     },
     "metadata": {
      "needs_background": "light"
     },
     "output_type": "display_data"
    }
   ],
   "source": [
    "choice1=4\n",
    "choice2=7\n",
    "choice3=8\n",
    "final_score=pd.concat({'pro_final':pro.iloc[:,[choice1,choice2,choice3]].sum(axis=1)*pro['pros_average'],\n",
    "                       'con_final':con.iloc[:,[choice1,choice2,choice3]].sum(axis=1)*con['cons_average']},\n",
    "                      axis=1)\n",
    "final_score.index=pro['company']\n",
    "final_score['final']=final_score['pro_final']+final_score['con_final']\n",
    "final_score['final'].sort_values(ascending=True)[:10].plot(kind='bar')"
   ]
  },
  {
   "cell_type": "code",
   "execution_count": 111,
   "id": "c1e5fe7f",
   "metadata": {
    "scrolled": true
   },
   "outputs": [
    {
     "data": {
      "text/plain": [
       "<AxesSubplot:xlabel='company'>"
      ]
     },
     "execution_count": 111,
     "metadata": {},
     "output_type": "execute_result"
    },
    {
     "data": {
      "image/png": "[encoded data removed]",
      "text/plain": [
       "<Figure size 432x288 with 1 Axes>"
      ]
     },
     "metadata": {
      "needs_background": "light"
     },
     "output_type": "display_data"
    }
   ],
   "source": [
    "final_score.sort_values(by='final',ascending=True)[:10].plot(kind='bar')"
   ]
  },
  {
   "cell_type": "code",
   "execution_count": null,
   "id": "9ae3223d",
   "metadata": {},
   "outputs": [],
   "source": []
  }
 ],
 "metadata": {
  "kernelspec": {
   "display_name": "Python 3",
   "language": "python",
   "name": "python3"
  },
  "language_info": {
   "codemirror_mode": {
    "name": "ipython",
    "version": 3
   },
   "file_extension": ".py",
   "mimetype": "text/x-python",
   "name": "python",
   "nbconvert_exporter": "python",
   "pygments_lexer": "ipython3",
   "version": "3.8.8"
  }
 },
 "nbformat": 4,
 "nbformat_minor": 5
}
