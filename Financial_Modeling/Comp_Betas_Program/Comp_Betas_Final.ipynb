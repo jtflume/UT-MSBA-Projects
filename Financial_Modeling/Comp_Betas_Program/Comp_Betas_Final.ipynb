{
 "cells": [
  {
   "cell_type": "markdown",
   "id": "nutritional-serum",
   "metadata": {},
   "source": [
    "# Assignment 2\n",
    "##  J.T. Flume (jtf576), Narain Mandyam (ntm555), and Chandler Wann (clw4642)\n"
   ]
  },
  {
   "cell_type": "code",
   "execution_count": 2,
   "id": "certain-knitting",
   "metadata": {},
   "outputs": [
    {
     "name": "stdout",
     "output_type": "stream",
     "text": [
      "Collecting yfinance\n",
      "  Downloading yfinance-0.1.64.tar.gz (26 kB)\n",
      "Requirement already satisfied: pandas>=0.24 in c:\\users\\jtflu\\anaconda3\\lib\\site-packages (from yfinance) (1.2.4)\n",
      "Requirement already satisfied: numpy>=1.15 in c:\\users\\jtflu\\anaconda3\\lib\\site-packages (from yfinance) (1.20.1)\n",
      "Requirement already satisfied: requests>=2.20 in c:\\users\\jtflu\\anaconda3\\lib\\site-packages (from yfinance) (2.25.1)\n",
      "Collecting multitasking>=0.0.7\n",
      "  Downloading multitasking-0.0.9.tar.gz (8.1 kB)\n",
      "Requirement already satisfied: lxml>=4.5.1 in c:\\users\\jtflu\\anaconda3\\lib\\site-packages (from yfinance) (4.6.3)\n",
      "Requirement already satisfied: pytz>=2017.3 in c:\\users\\jtflu\\anaconda3\\lib\\site-packages (from pandas>=0.24->yfinance) (2021.1)\n",
      "Requirement already satisfied: python-dateutil>=2.7.3 in c:\\users\\jtflu\\anaconda3\\lib\\site-packages (from pandas>=0.24->yfinance) (2.8.1)\n",
      "Requirement already satisfied: six>=1.5 in c:\\users\\jtflu\\anaconda3\\lib\\site-packages (from python-dateutil>=2.7.3->pandas>=0.24->yfinance) (1.15.0)\n",
      "Requirement already satisfied: chardet<5,>=3.0.2 in c:\\users\\jtflu\\anaconda3\\lib\\site-packages (from requests>=2.20->yfinance) (4.0.0)\n",
      "Requirement already satisfied: urllib3<1.27,>=1.21.1 in c:\\users\\jtflu\\anaconda3\\lib\\site-packages (from requests>=2.20->yfinance) (1.26.4)\n",
      "Requirement already satisfied: idna<3,>=2.5 in c:\\users\\jtflu\\anaconda3\\lib\\site-packages (from requests>=2.20->yfinance) (2.10)\n",
      "Requirement already satisfied: certifi>=2017.4.17 in c:\\users\\jtflu\\anaconda3\\lib\\site-packages (from requests>=2.20->yfinance) (2020.12.5)\n",
      "Building wheels for collected packages: yfinance, multitasking\n",
      "  Building wheel for yfinance (setup.py): started\n",
      "  Building wheel for yfinance (setup.py): finished with status 'done'\n",
      "  Created wheel for yfinance: filename=yfinance-0.1.64-py2.py3-none-any.whl size=24095 sha256=5ac78bf104118c1ed6eac54d8a174ef24ffa8f620a365a85e259ebeef651c8c0\n",
      "  Stored in directory: c:\\users\\jtflu\\appdata\\local\\pip\\cache\\wheels\\f9\\e9\\7e\\8b13db3bf3aeb5049d759e10702736fb96753089ac950fddc0\n",
      "  Building wheel for multitasking (setup.py): started\n",
      "  Building wheel for multitasking (setup.py): finished with status 'done'\n",
      "  Created wheel for multitasking: filename=multitasking-0.0.9-py3-none-any.whl size=8368 sha256=d8a4b255406b45169cb9cf7ed41b66f6045b237daa1c94fe705a96a9c6e2a113\n",
      "  Stored in directory: c:\\users\\jtflu\\appdata\\local\\pip\\cache\\wheels\\57\\6d\\a3\\a39b839cc75274d2acfb1c58bfead2f726c6577fe8c4723f13\n",
      "Successfully built yfinance multitasking\n",
      "Installing collected packages: multitasking, yfinance\n",
      "Successfully installed multitasking-0.0.9 yfinance-0.1.64\n"
     ]
    }
   ],
   "source": [
    "!pip install yfinance"
   ]
  },
  {
   "cell_type": "code",
   "execution_count": 38,
   "id": "adverse-routine",
   "metadata": {},
   "outputs": [],
   "source": [
    "import yfinance as yf\n",
    "import pandas as pd\n",
    "import numpy as np\n",
    "import statsmodels.api as sm\n",
    "\n",
    "def query_user():\n",
    "    comparables = []\n",
    "    tmp = \" \"\n",
    "    granularity_list = ['1d','1mo','3mo']\n",
    "    stock = ''\n",
    "    while not stock.isalpha():\n",
    "    \n",
    "        stock = input(\"Choose a stock ticker:\")\n",
    "        print(stock.isalpha())\n",
    "        if not stock.isalpha(): \n",
    "            print(\"Invalid Input, Try again\")\n",
    "\n",
    "\n",
    "\n",
    "    comp_number = int(input(\"Enter the number of comparables: \"))\n",
    "    while comp_number > 0:  \n",
    "        tmp = input(\"Enter comparable: \")\n",
    "        if not tmp.isalpha():\n",
    "            print(\"Invalid Input, Try again\")\n",
    "        comparables.append(tmp)\n",
    "        comp_number -= 1\n",
    "\n",
    "    start_date = input(\"Choose a start date [yyyy-mm-dd]: \")\n",
    "\n",
    "    end_date = input(\"Choose an end date [yyyy-mm-dd]: \")\n",
    "\n",
    "    granularity = \"\"\n",
    "    while granularity not in granularity_list: \n",
    "        granularity = input(\"Enter Granularity in format [1d,1mo,3mo]:\" )\n",
    "        if granularity not in granularity_list:\n",
    "            print(\"wrong input, try again.\")\n",
    "\n",
    "    cap_type = 2\n",
    "    while cap_type not in [0,1]:\n",
    "        cap_type = int(input(\"Is there constant debt [0], or constant debt_to_equity ratio[1]?: \"))\n",
    "        if cap_type not in [0,1]:\n",
    "            print(\"invalid input, try again.\" )\n",
    "    if cap_type > 0: \n",
    "        \n",
    "        debt_beta = float(input(\"Choose a beta of debt:\"))\n",
    "    else:\n",
    "        debt_beta = 0 \n",
    "    return stock,comparables,start_date,end_date,granularity,cap_type,debt_beta\n",
    "\n",
    "def get_returns(SYMB, start_date ='2016-10-21', end_date = '2021-10-21',gran = \"1d\" ):\n",
    "\n",
    "    target = yf.download(tickers = SYMB,start = start_date, end= end_date, interval = gran ,progress =False).dropna() \n",
    "    target = target[['Adj Close']]\n",
    "    target['ret'] = (target['Adj Close'] - target['Adj Close'].shift())/target['Adj Close'].shift() \n",
    "\n",
    "    return target.iloc[1:]\n",
    "\n",
    "def get_beta(SYMB,gran = '1d'): \n",
    "    target = get_returns(SYMB, gran = gran)\n",
    "    market = get_returns(\"SPY\",gran = gran)\n",
    "    col_names = [SYMB,\"SPY\"]\n",
    "\n",
    "    comb = pd.concat([target['ret'],market['ret']],axis = 1)\n",
    "    comb.columns = col_names\n",
    "    ols = sm.formula.ols(SYMB + \" ~ SPY\",data = comb)\n",
    "    res = ols.fit()\n",
    "    return res.params[1]\n",
    "\n",
    "\n",
    "def get_balance_sheet(SYMB):\n",
    "    ticker = yf.Ticker(SYMB)\n",
    "    return ticker.balance_sheet\n",
    "\n",
    "def get_tax_rate(SYMB):\n",
    "    ticker = yf.Ticker(SYMB)\n",
    "    financials = ticker.financials\n",
    "    ebt = financials.loc['Ebit']  + financials.loc[\"Interest Expense\"]\n",
    "    tax_rate = financials.loc['Income Tax Expense']/ ebt\n",
    "    return np.mean(tax_rate[:3])\n",
    "\n",
    "def get_DE_ratio(SYMB):\n",
    "    ticker = yf.Ticker(SYMB)\n",
    "    return ticker.info['debtToEquity']/100\n",
    "\n",
    "# def get_DE_ratio(SYMB):\n",
    "#     #ticker = yf.Ticker(SYMB)\n",
    "#     bs = get_balance_sheet(SYMB)\n",
    "#     print(bs)\n",
    "#     return bs.loc['Long Term Debt'][0]/bs.loc['Total Stockholder Equity'][0]\n",
    "\n",
    "def create_table(tickers,beta_d  = .3,start_date ='2016-10-21', end_date = '2021-10-21', gran = '1d'):\n",
    "    table  = pd.DataFrame(columns = ['symbol','beta_e','beta_d','debt/equity','tax_rate'])\n",
    "    for ticker in tickers:\n",
    "        beta_e = get_beta(ticker)\n",
    "        d_to_e = get_DE_ratio(ticker)\n",
    "        tax_rate = get_tax_rate(ticker)\n",
    "        table = table.append({\"symbol\":ticker,'beta_e':beta_e,'beta_d':beta_d,'debt/equity':d_to_e,'tax_rate':tax_rate},ignore_index = True)\n",
    "    return table\n",
    "def unlever(table,cap_type = 0):\n",
    "    if cap_type == 0:\n",
    "        beta_u = table['beta_e']/(1+(1-table['tax_rate'])*table['debt/equity'])\n",
    "        table['beta_u'] = beta_u\n",
    "    elif cap_type == 1:\n",
    "        beta_u = table['beta_e']/(1+table['debt/equity'])+table['beta_d']*table['debt/equity']/(1+table['debt/equity'])\n",
    "        table['beta_u'] = beta_u\n",
    "        \n",
    "    #TODO other types ( constant D/E, beta_d != 0)\n",
    "    return np.mean(beta_u)\n",
    "    \n",
    "def relever(d_to_e,beta_ua,tax_rate,cap_type = 0):\n",
    "    if cap_type == 0:\n",
    "        beta_e = beta_ua*(1+(1-tax_rate)*d_to_e)\n",
    "    elif cap_type == 1:\n",
    "        beta_e = beta_ua*(1+d_to_e) - table['beta_d']*(d_to_e)\n",
    "    #TODO other types ( constant D/E, beta_d != 0)\n",
    "    return beta_e\n",
    "\n",
    "    "
   ]
  },
  {
   "cell_type": "code",
   "execution_count": 71,
   "id": "optimum-ideal",
   "metadata": {},
   "outputs": [
    {
     "data": {
      "text/html": [
       "<div>\n",
       "<style scoped>\n",
       "    .dataframe tbody tr th:only-of-type {\n",
       "        vertical-align: middle;\n",
       "    }\n",
       "\n",
       "    .dataframe tbody tr th {\n",
       "        vertical-align: top;\n",
       "    }\n",
       "\n",
       "    .dataframe thead th {\n",
       "        text-align: right;\n",
       "    }\n",
       "</style>\n",
       "<table border=\"1\" class=\"dataframe\">\n",
       "  <thead>\n",
       "    <tr style=\"text-align: right;\">\n",
       "      <th></th>\n",
       "      <th>Adj Close</th>\n",
       "      <th>ret</th>\n",
       "    </tr>\n",
       "    <tr>\n",
       "      <th>Date</th>\n",
       "      <th></th>\n",
       "      <th></th>\n",
       "    </tr>\n",
       "  </thead>\n",
       "  <tbody>\n",
       "    <tr>\n",
       "      <th>2016-10-24</th>\n",
       "      <td>27.544031</td>\n",
       "      <td>0.009005</td>\n",
       "    </tr>\n",
       "    <tr>\n",
       "      <th>2016-10-25</th>\n",
       "      <td>27.684504</td>\n",
       "      <td>0.005100</td>\n",
       "    </tr>\n",
       "    <tr>\n",
       "      <th>2016-10-26</th>\n",
       "      <td>27.061749</td>\n",
       "      <td>-0.022495</td>\n",
       "    </tr>\n",
       "    <tr>\n",
       "      <th>2016-10-27</th>\n",
       "      <td>26.801878</td>\n",
       "      <td>-0.009603</td>\n",
       "    </tr>\n",
       "    <tr>\n",
       "      <th>2016-10-28</th>\n",
       "      <td>26.623947</td>\n",
       "      <td>-0.006639</td>\n",
       "    </tr>\n",
       "    <tr>\n",
       "      <th>...</th>\n",
       "      <td>...</td>\n",
       "      <td>...</td>\n",
       "    </tr>\n",
       "    <tr>\n",
       "      <th>2021-10-14</th>\n",
       "      <td>143.550491</td>\n",
       "      <td>0.020226</td>\n",
       "    </tr>\n",
       "    <tr>\n",
       "      <th>2021-10-15</th>\n",
       "      <td>144.628922</td>\n",
       "      <td>0.007513</td>\n",
       "    </tr>\n",
       "    <tr>\n",
       "      <th>2021-10-18</th>\n",
       "      <td>146.336426</td>\n",
       "      <td>0.011806</td>\n",
       "    </tr>\n",
       "    <tr>\n",
       "      <th>2021-10-19</th>\n",
       "      <td>148.543198</td>\n",
       "      <td>0.015080</td>\n",
       "    </tr>\n",
       "    <tr>\n",
       "      <th>2021-10-20</th>\n",
       "      <td>149.042480</td>\n",
       "      <td>0.003361</td>\n",
       "    </tr>\n",
       "  </tbody>\n",
       "</table>\n",
       "<p>1257 rows × 2 columns</p>\n",
       "</div>"
      ],
      "text/plain": [
       "             Adj Close       ret\n",
       "Date                            \n",
       "2016-10-24   27.544031  0.009005\n",
       "2016-10-25   27.684504  0.005100\n",
       "2016-10-26   27.061749 -0.022495\n",
       "2016-10-27   26.801878 -0.009603\n",
       "2016-10-28   26.623947 -0.006639\n",
       "...                ...       ...\n",
       "2021-10-14  143.550491  0.020226\n",
       "2021-10-15  144.628922  0.007513\n",
       "2021-10-18  146.336426  0.011806\n",
       "2021-10-19  148.543198  0.015080\n",
       "2021-10-20  149.042480  0.003361\n",
       "\n",
       "[1257 rows x 2 columns]"
      ]
     },
     "execution_count": 71,
     "metadata": {},
     "output_type": "execute_result"
    }
   ],
   "source": [
    "get_returns(\"AAPL\")"
   ]
  },
  {
   "cell_type": "code",
   "execution_count": 72,
   "id": "confident-eugene",
   "metadata": {},
   "outputs": [],
   "source": [
    "# bs = get_balance_sheet(\"AAPL\")\n",
    "# bs2 = get_balance_sheet(\"MSFT\")\n",
    "# bs3 = get_balance_sheet(\"GOOGL\")\n",
    "# de = get_DE_ratio(\"MSFT\")"
   ]
  },
  {
   "cell_type": "code",
   "execution_count": 73,
   "id": "fallen-inside",
   "metadata": {},
   "outputs": [],
   "source": [
    "# bs.loc['Long Term Debt'][0]/bs.loc['Total Stockholder Equity'][0]"
   ]
  },
  {
   "cell_type": "code",
   "execution_count": 74,
   "id": "functional-process",
   "metadata": {},
   "outputs": [],
   "source": [
    "#bs2.loc['Long Term Debt'][0]/bs2.loc['Total Stockholder Equity'][0]"
   ]
  },
  {
   "cell_type": "code",
   "execution_count": 75,
   "id": "portuguese-coordinator",
   "metadata": {},
   "outputs": [],
   "source": [
    "#bs3.loc['Long Term Debt'][0]/bs3.loc['Total Stockholder Equity'][0]"
   ]
  },
  {
   "cell_type": "code",
   "execution_count": 76,
   "id": "ambient-magnet",
   "metadata": {},
   "outputs": [
    {
     "data": {
      "text/plain": [
       "1.205714"
      ]
     },
     "execution_count": 76,
     "metadata": {},
     "output_type": "execute_result"
    }
   ],
   "source": [
    "beta_yf = yf.Ticker(\"AAPL\").info['beta']\n",
    "beta_yf"
   ]
  },
  {
   "cell_type": "code",
   "execution_count": 77,
   "id": "suited-scott",
   "metadata": {
    "scrolled": true
   },
   "outputs": [
    {
     "data": {
      "text/plain": [
       "0.1543197575959034"
      ]
     },
     "execution_count": 77,
     "metadata": {},
     "output_type": "execute_result"
    }
   ],
   "source": [
    "get_tax_rate(\"AAPL\")"
   ]
  },
  {
   "cell_type": "code",
   "execution_count": 78,
   "id": "acquired-climb",
   "metadata": {},
   "outputs": [],
   "source": [
    "beta_custom = get_beta(\"AAPL\")"
   ]
  },
  {
   "cell_type": "code",
   "execution_count": 79,
   "id": "meaningful-patent",
   "metadata": {
    "scrolled": true
   },
   "outputs": [
    {
     "data": {
      "text/plain": [
       "0.020009259162590255"
      ]
     },
     "execution_count": 79,
     "metadata": {},
     "output_type": "execute_result"
    }
   ],
   "source": [
    "np.abs(beta_custom - beta_yf)/beta_custom"
   ]
  },
  {
   "cell_type": "code",
   "execution_count": 17,
   "id": "ancient-fireplace",
   "metadata": {},
   "outputs": [],
   "source": [
    "table = create_table(['GOOGL','MSFT'])"
   ]
  },
  {
   "cell_type": "code",
   "execution_count": 18,
   "id": "exempt-facility",
   "metadata": {},
   "outputs": [
    {
     "data": {
      "text/html": [
       "<div>\n",
       "<style scoped>\n",
       "    .dataframe tbody tr th:only-of-type {\n",
       "        vertical-align: middle;\n",
       "    }\n",
       "\n",
       "    .dataframe tbody tr th {\n",
       "        vertical-align: top;\n",
       "    }\n",
       "\n",
       "    .dataframe thead th {\n",
       "        text-align: right;\n",
       "    }\n",
       "</style>\n",
       "<table border=\"1\" class=\"dataframe\">\n",
       "  <thead>\n",
       "    <tr style=\"text-align: right;\">\n",
       "      <th></th>\n",
       "      <th>symbol</th>\n",
       "      <th>beta_e</th>\n",
       "      <th>beta_d</th>\n",
       "      <th>debt/equity</th>\n",
       "      <th>tax_rate</th>\n",
       "    </tr>\n",
       "  </thead>\n",
       "  <tbody>\n",
       "    <tr>\n",
       "      <th>0</th>\n",
       "      <td>GOOGL</td>\n",
       "      <td>1.107316</td>\n",
       "      <td>0.3</td>\n",
       "      <td>0.057661</td>\n",
       "      <td>0.154643</td>\n",
       "    </tr>\n",
       "    <tr>\n",
       "      <th>1</th>\n",
       "      <td>MSFT</td>\n",
       "      <td>1.213571</td>\n",
       "      <td>0.3</td>\n",
       "      <td>0.352664</td>\n",
       "      <td>0.143029</td>\n",
       "    </tr>\n",
       "  </tbody>\n",
       "</table>\n",
       "</div>"
      ],
      "text/plain": [
       "  symbol    beta_e  beta_d  debt/equity  tax_rate\n",
       "0  GOOGL  1.107316     0.3     0.057661  0.154643\n",
       "1   MSFT  1.213571     0.3     0.352664  0.143029"
      ]
     },
     "execution_count": 18,
     "metadata": {},
     "output_type": "execute_result"
    }
   ],
   "source": [
    "table"
   ]
  },
  {
   "cell_type": "code",
   "execution_count": 93,
   "id": "formed-prize",
   "metadata": {},
   "outputs": [
    {
     "data": {
      "text/plain": [
       "0.993886585466758"
      ]
     },
     "execution_count": 93,
     "metadata": {},
     "output_type": "execute_result"
    }
   ],
   "source": [
    "b_ua"
   ]
  },
  {
   "cell_type": "code",
   "execution_count": 94,
   "id": "stable-defendant",
   "metadata": {},
   "outputs": [],
   "source": [
    "aapl_tax_rate = get_tax_rate(\"AAPL\")\n",
    "aapl_de = get_DE_ratio(\"AAPL\")"
   ]
  },
  {
   "cell_type": "code",
   "execution_count": 95,
   "id": "dated-tuesday",
   "metadata": {},
   "outputs": [
    {
     "data": {
      "text/plain": [
       "1.729370740212395"
      ]
     },
     "execution_count": 95,
     "metadata": {},
     "output_type": "execute_result"
    }
   ],
   "source": [
    "aapl_de"
   ]
  },
  {
   "cell_type": "code",
   "execution_count": 96,
   "id": "dirty-discussion",
   "metadata": {},
   "outputs": [
    {
     "data": {
      "text/plain": [
       "2.447440416105389"
      ]
     },
     "execution_count": 96,
     "metadata": {},
     "output_type": "execute_result"
    }
   ],
   "source": [
    "relever(aapl_de,b_ua,aapl_tax_rate)"
   ]
  },
  {
   "cell_type": "code",
   "execution_count": null,
   "id": "brutal-operations",
   "metadata": {},
   "outputs": [],
   "source": []
  },
  {
   "cell_type": "code",
   "execution_count": 6,
   "id": "explicit-fossil",
   "metadata": {},
   "outputs": [
    {
     "data": {
      "text/plain": [
       "1.2303313252946502"
      ]
     },
     "execution_count": 6,
     "metadata": {},
     "output_type": "execute_result"
    }
   ],
   "source": [
    "get_beta(\"AAPL\") # BIG ERROR"
   ]
  },
  {
   "cell_type": "code",
   "execution_count": 97,
   "id": "mexican-algebra",
   "metadata": {},
   "outputs": [
    {
     "data": {
      "text/plain": [
       "1.0193452718785656"
      ]
     },
     "execution_count": 97,
     "metadata": {},
     "output_type": "execute_result"
    }
   ],
   "source": [
    "b_ua2 = unlever(table,cap_type = 1)\n",
    "b_ua2"
   ]
  },
  {
   "cell_type": "code",
   "execution_count": 98,
   "id": "charming-honor",
   "metadata": {},
   "outputs": [
    {
     "data": {
      "text/plain": [
       "0    2.193874\n",
       "1    2.193874\n",
       "Name: beta_d, dtype: float64"
      ]
     },
     "execution_count": 98,
     "metadata": {},
     "output_type": "execute_result"
    }
   ],
   "source": [
    "relever(aapl_de,b_ua,aapl_tax_rate,cap_type = 1)"
   ]
  },
  {
   "cell_type": "code",
   "execution_count": 46,
   "id": "bored-supply",
   "metadata": {},
   "outputs": [],
   "source": [
    "\n",
    "def cost_of_capital(equity_beta):\n",
    "    risk_free = None\n",
    "    while risk_free == None:\n",
    "        try:\n",
    "            market_return = float(input(\"Market return as a percent:\"))/100\n",
    "            risk_free = float(input(\"Risk free Rate as percent:\"))/100\n",
    "        except:\n",
    "            print('Invalid Input, try again!')\n",
    "    capm = risk_free + (equity_beta*(market_return-risk_free))\n",
    "    return capm\n"
   ]
  },
  {
   "cell_type": "code",
   "execution_count": 27,
   "id": "historic-spencer",
   "metadata": {},
   "outputs": [
    {
     "name": "stdout",
     "output_type": "stream",
     "text": [
      "Choose a stock ticker:AAPL\n",
      "True\n",
      "Enter the number of comparables: 3\n",
      "Enter comparable: GOOGL\n",
      "Enter comparable: AMZN\n",
      "Enter comparable: MSFT\n",
      "Choose a start date [yyyy-mm-dd]: 2015-12-31\n",
      "Choose an end date [yyyy-mm-dd]: 2021-11-05\n",
      "Enter Granularity in format [1d,1mo,3mo]:1mo\n",
      "Is there constant debt [0], or constant debt_to_equity ratio[1]?: 0\n",
      "Choose a beta of debt:.3\n"
     ]
    }
   ],
   "source": [
    "stock,comparables,start_date,end_date,granularity,cap_type,debt_beta = query_user()"
   ]
  },
  {
   "cell_type": "code",
   "execution_count": 28,
   "id": "cleared-station",
   "metadata": {},
   "outputs": [
    {
     "data": {
      "text/html": [
       "<div>\n",
       "<style scoped>\n",
       "    .dataframe tbody tr th:only-of-type {\n",
       "        vertical-align: middle;\n",
       "    }\n",
       "\n",
       "    .dataframe tbody tr th {\n",
       "        vertical-align: top;\n",
       "    }\n",
       "\n",
       "    .dataframe thead th {\n",
       "        text-align: right;\n",
       "    }\n",
       "</style>\n",
       "<table border=\"1\" class=\"dataframe\">\n",
       "  <thead>\n",
       "    <tr style=\"text-align: right;\">\n",
       "      <th></th>\n",
       "      <th>symbol</th>\n",
       "      <th>beta_e</th>\n",
       "      <th>beta_d</th>\n",
       "      <th>debt/equity</th>\n",
       "      <th>tax_rate</th>\n",
       "    </tr>\n",
       "  </thead>\n",
       "  <tbody>\n",
       "    <tr>\n",
       "      <th>0</th>\n",
       "      <td>GOOGL</td>\n",
       "      <td>1.107316</td>\n",
       "      <td>0.3</td>\n",
       "      <td>0.11493</td>\n",
       "      <td>0.154643</td>\n",
       "    </tr>\n",
       "    <tr>\n",
       "      <th>1</th>\n",
       "      <td>AMZN</td>\n",
       "      <td>0.957294</td>\n",
       "      <td>0.3</td>\n",
       "      <td>1.13001</td>\n",
       "      <td>0.142969</td>\n",
       "    </tr>\n",
       "    <tr>\n",
       "      <th>2</th>\n",
       "      <td>MSFT</td>\n",
       "      <td>1.213571</td>\n",
       "      <td>0.3</td>\n",
       "      <td>0.51938</td>\n",
       "      <td>0.143029</td>\n",
       "    </tr>\n",
       "  </tbody>\n",
       "</table>\n",
       "</div>"
      ],
      "text/plain": [
       "  symbol    beta_e  beta_d  debt/equity  tax_rate\n",
       "0  GOOGL  1.107316     0.3      0.11493  0.154643\n",
       "1   AMZN  0.957294     0.3      1.13001  0.142969\n",
       "2   MSFT  1.213571     0.3      0.51938  0.143029"
      ]
     },
     "execution_count": 28,
     "metadata": {},
     "output_type": "execute_result"
    }
   ],
   "source": [
    "tbl = create_table(comparables,debt_beta,start_date,end_date,gran = granularity)\n",
    "tbl"
   ]
  },
  {
   "cell_type": "code",
   "execution_count": 29,
   "id": "amateur-click",
   "metadata": {},
   "outputs": [],
   "source": [
    "b_ua2 = unlever(tbl,cap_type = cap_type)"
   ]
  },
  {
   "cell_type": "code",
   "execution_count": 30,
   "id": "connected-entity",
   "metadata": {},
   "outputs": [
    {
     "data": {
      "text/plain": [
       "2.2030145742863967"
      ]
     },
     "execution_count": 30,
     "metadata": {},
     "output_type": "execute_result"
    }
   ],
   "source": [
    "aapl_tax_rate = get_tax_rate(\"AAPL\")\n",
    "aapl_de = get_DE_ratio(\"AAPL\")\n",
    "relever(aapl_de,b_ua2,aapl_tax_rate,cap_type = 0)"
   ]
  },
  {
   "cell_type": "code",
   "execution_count": 35,
   "id": "growing-digit",
   "metadata": {},
   "outputs": [],
   "source": [
    "def main():\n",
    "    stock,comparables,start_date,end_date,granularity,cap_type,debt_beta = query_user()\n",
    "    print(\"\\nCreating Table...\")\n",
    "    tbl = create_table(comparables,debt_beta,start_date,end_date,gran = granularity)\n",
    "    print(\"\\nHere is the Table of Comparables: \")\n",
    "    print(\"\\n\",tbl)\n",
    "    if cap_type == 1: \n",
    "        stock_debt_beta = input(\"What is the beta debt of the stock? \")\n",
    "    b_ua = unlever(tbl,cap_type = cap_type)\n",
    "    print(\"\\nTable after Unlevering: \")\n",
    "    print(tbl)\n",
    "    stock_de = get_DE_ratio(stock)\n",
    "    stock_tax_rate = get_tax_rate(stock)\n",
    "    stock_beta_e = relever(stock_de,b_ua,stock_tax_rate,cap_type = 0)\n",
    "    print(f\"\\nBeta of stock {stock}: {stock_beta_e}\")\n",
    "    stock_scl = get_beta(stock)\n",
    "    err = np.abs(stock_beta_e - stock_scl)/stock_beta_e\n",
    "    print(\"\\nError of comparable method vs SCL: \",err)\n",
    "    capm_comp = cost_of_capital(stock_beta_e)\n",
    "    capm_scl = cost_of_capital(stock_scl)\n",
    "    print(\"difference in returns[capm of SCL - capm of Comp]: \",(capm_scl-capm_comp))"
   ]
  },
  {
   "cell_type": "code",
   "execution_count": 45,
   "id": "communist-pharmacology",
   "metadata": {},
   "outputs": [
    {
     "name": "stdout",
     "output_type": "stream",
     "text": [
      "Choose a stock ticker:AAPL\n",
      "True\n",
      "Enter the number of comparables: 3\n",
      "Enter comparable: AMZN\n",
      "Enter comparable: GOOGL\n",
      "Enter comparable: MSFT\n",
      "Choose a start date [yyyy-mm-dd]: 2015-12-31\n",
      "Choose an end date [yyyy-mm-dd]: 2021-11-05\n",
      "Enter Granularity in format [1d,1mo,3mo]:1mo\n",
      "Is there constant debt [0], or constant debt_to_equity ratio[1]?: 0\n",
      "\n",
      "Creating Table...\n",
      "\n",
      "Here is the Table of Comparables: \n",
      "\n",
      "   symbol    beta_e beta_d  debt/equity  tax_rate\n",
      "0   AMZN  0.957294      0      1.13001  0.142969\n",
      "1  GOOGL  1.107316      0      0.11493  0.154643\n",
      "2   MSFT  1.213571      0      0.51938  0.143029\n",
      "\n",
      "Table after Unlevering: \n",
      "  symbol    beta_e beta_d  debt/equity  tax_rate    beta_u\n",
      "0   AMZN  0.957294      0      1.13001  0.142969  0.486318\n",
      "1  GOOGL  1.107316      0      0.11493  0.154643  1.009260\n",
      "2   MSFT  1.213571      0      0.51938  0.143029  0.839787\n",
      "\n",
      "Beta of stock AAPL: 2.168770954756913\n",
      "\n",
      "Error of comparable method vs SCL:  0.4327057896258921\n",
      "Market return as a percent:12\n",
      "Risk free Rate as percent:4\n",
      "Market return as a percent:12\n",
      "Risk free Rate as percent:4\n",
      "difference in returns[capm of SCL - capm of Comp]:  -0.0750751798796632\n"
     ]
    }
   ],
   "source": [
    "main()"
   ]
  },
  {
   "cell_type": "code",
   "execution_count": null,
   "id": "architectural-eating",
   "metadata": {},
   "outputs": [],
   "source": [
    "!jupyter nbconvert --to pdf assignment_2_final.ipynb "
   ]
  },
  {
   "cell_type": "code",
   "execution_count": null,
   "id": "ecological-gamma",
   "metadata": {},
   "outputs": [],
   "source": []
  }
 ],
 "metadata": {
  "kernelspec": {
   "display_name": "Python 3",
   "language": "python",
   "name": "python3"
  },
  "language_info": {
   "codemirror_mode": {
    "name": "ipython",
    "version": 3
   },
   "file_extension": ".py",
   "mimetype": "text/x-python",
   "name": "python",
   "nbconvert_exporter": "python",
   "pygments_lexer": "ipython3",
   "version": "3.8.3"
  }
 },
 "nbformat": 4,
 "nbformat_minor": 5
}
