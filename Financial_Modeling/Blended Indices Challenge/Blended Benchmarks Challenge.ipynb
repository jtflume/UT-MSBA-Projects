{
 "cells": [
  {
   "cell_type": "markdown",
   "id": "a9065b13",
   "metadata": {},
   "source": [
    "# Innealta Capital Blended Benchmarks Challenge"
   ]
  },
  {
   "cell_type": "markdown",
   "id": "3e82a484",
   "metadata": {},
   "source": [
    "# J.T. Flume"
   ]
  },
  {
   "cell_type": "markdown",
   "id": "812b252e",
   "metadata": {},
   "source": [
    "## Import Libraries"
   ]
  },
  {
   "cell_type": "code",
   "execution_count": 115,
   "id": "e45be775",
   "metadata": {},
   "outputs": [
    {
     "name": "stdout",
     "output_type": "stream",
     "text": [
      "Populating the interactive namespace from numpy and matplotlib\n"
     ]
    },
    {
     "name": "stderr",
     "output_type": "stream",
     "text": [
      "C:\\Users\\John Flume\\anaconda3\\lib\\site-packages\\IPython\\core\\magics\\pylab.py:159: UserWarning: pylab import has clobbered these variables: ['datetime', 'indices']\n",
      "`%matplotlib` prevents importing * from pylab and numpy\n",
      "  warn(\"pylab import has clobbered these variables: %s\"  % clobbered +\n"
     ]
    }
   ],
   "source": [
    "import pandas as pd\n",
    "from datetime import datetime\n",
    "import numpy as np\n",
    "pd.options.mode.chained_assignment = None  # default='warn'\n",
    "%pylab inline"
   ]
  },
  {
   "cell_type": "code",
   "execution_count": 99,
   "id": "68dad258",
   "metadata": {},
   "outputs": [
    {
     "data": {
      "text/html": [
       "<div>\n",
       "<style scoped>\n",
       "    .dataframe tbody tr th:only-of-type {\n",
       "        vertical-align: middle;\n",
       "    }\n",
       "\n",
       "    .dataframe tbody tr th {\n",
       "        vertical-align: top;\n",
       "    }\n",
       "\n",
       "    .dataframe thead th {\n",
       "        text-align: right;\n",
       "    }\n",
       "</style>\n",
       "<table border=\"1\" class=\"dataframe\">\n",
       "  <thead>\n",
       "    <tr style=\"text-align: right;\">\n",
       "      <th></th>\n",
       "      <th>Ticker</th>\n",
       "      <th>Date</th>\n",
       "      <th>Return</th>\n",
       "    </tr>\n",
       "  </thead>\n",
       "  <tbody>\n",
       "    <tr>\n",
       "      <th>0</th>\n",
       "      <td>Index 1</td>\n",
       "      <td>1979-12-31</td>\n",
       "      <td>0.001048</td>\n",
       "    </tr>\n",
       "    <tr>\n",
       "      <th>1</th>\n",
       "      <td>Index 1</td>\n",
       "      <td>1980-01-02</td>\n",
       "      <td>-0.020222</td>\n",
       "    </tr>\n",
       "    <tr>\n",
       "      <th>2</th>\n",
       "      <td>Index 1</td>\n",
       "      <td>1980-01-03</td>\n",
       "      <td>-0.006496</td>\n",
       "    </tr>\n",
       "    <tr>\n",
       "      <th>3</th>\n",
       "      <td>Index 1</td>\n",
       "      <td>1980-01-04</td>\n",
       "      <td>0.013491</td>\n",
       "    </tr>\n",
       "    <tr>\n",
       "      <th>4</th>\n",
       "      <td>Index 1</td>\n",
       "      <td>1980-01-07</td>\n",
       "      <td>0.003757</td>\n",
       "    </tr>\n",
       "    <tr>\n",
       "      <th>...</th>\n",
       "      <td>...</td>\n",
       "      <td>...</td>\n",
       "      <td>...</td>\n",
       "    </tr>\n",
       "    <tr>\n",
       "      <th>36964</th>\n",
       "      <td>Index 5</td>\n",
       "      <td>2021-03-24</td>\n",
       "      <td>-0.000565</td>\n",
       "    </tr>\n",
       "    <tr>\n",
       "      <th>36965</th>\n",
       "      <td>Index 5</td>\n",
       "      <td>2021-03-25</td>\n",
       "      <td>-0.002111</td>\n",
       "    </tr>\n",
       "    <tr>\n",
       "      <th>36966</th>\n",
       "      <td>Index 5</td>\n",
       "      <td>2021-03-26</td>\n",
       "      <td>-0.000918</td>\n",
       "    </tr>\n",
       "    <tr>\n",
       "      <th>36967</th>\n",
       "      <td>Index 5</td>\n",
       "      <td>2021-03-29</td>\n",
       "      <td>-0.002805</td>\n",
       "    </tr>\n",
       "    <tr>\n",
       "      <th>36968</th>\n",
       "      <td>Index 5</td>\n",
       "      <td>2021-03-30</td>\n",
       "      <td>-0.002705</td>\n",
       "    </tr>\n",
       "  </tbody>\n",
       "</table>\n",
       "<p>36969 rows × 3 columns</p>\n",
       "</div>"
      ],
      "text/plain": [
       "        Ticker       Date    Return\n",
       "0      Index 1 1979-12-31  0.001048\n",
       "1      Index 1 1980-01-02 -0.020222\n",
       "2      Index 1 1980-01-03 -0.006496\n",
       "3      Index 1 1980-01-04  0.013491\n",
       "4      Index 1 1980-01-07  0.003757\n",
       "...        ...        ...       ...\n",
       "36964  Index 5 2021-03-24 -0.000565\n",
       "36965  Index 5 2021-03-25 -0.002111\n",
       "36966  Index 5 2021-03-26 -0.000918\n",
       "36967  Index 5 2021-03-29 -0.002805\n",
       "36968  Index 5 2021-03-30 -0.002705\n",
       "\n",
       "[36969 rows x 3 columns]"
      ]
     },
     "execution_count": 99,
     "metadata": {},
     "output_type": "execute_result"
    }
   ],
   "source": [
    "df = pd.read_excel('Interview Challenge - Blended Benchmarks.xlsx')\n",
    "df"
   ]
  },
  {
   "cell_type": "markdown",
   "id": "577068bf",
   "metadata": {},
   "source": [
    "## Clean dataframe for usability"
   ]
  },
  {
   "cell_type": "code",
   "execution_count": 100,
   "id": "df23680d",
   "metadata": {},
   "outputs": [
    {
     "name": "stdout",
     "output_type": "stream",
     "text": [
      "<class 'pandas.core.frame.DataFrame'>\n",
      "RangeIndex: 36969 entries, 0 to 36968\n",
      "Data columns (total 3 columns):\n",
      " #   Column  Non-Null Count  Dtype         \n",
      "---  ------  --------------  -----         \n",
      " 0   Ticker  36969 non-null  object        \n",
      " 1   Date    36969 non-null  datetime64[ns]\n",
      " 2   Return  36969 non-null  float64       \n",
      "dtypes: datetime64[ns](1), float64(1), object(1)\n",
      "memory usage: 866.6+ KB\n"
     ]
    }
   ],
   "source": [
    "# Convert to datetime\n",
    "df['Date'] = pd.to_datetime(df['Date'])\n",
    "df.info()"
   ]
  },
  {
   "cell_type": "code",
   "execution_count": 101,
   "id": "08f49a4a",
   "metadata": {},
   "outputs": [
    {
     "data": {
      "text/html": [
       "<div>\n",
       "<style scoped>\n",
       "    .dataframe tbody tr th:only-of-type {\n",
       "        vertical-align: middle;\n",
       "    }\n",
       "\n",
       "    .dataframe tbody tr th {\n",
       "        vertical-align: top;\n",
       "    }\n",
       "\n",
       "    .dataframe thead th {\n",
       "        text-align: right;\n",
       "    }\n",
       "</style>\n",
       "<table border=\"1\" class=\"dataframe\">\n",
       "  <thead>\n",
       "    <tr style=\"text-align: right;\">\n",
       "      <th>Ticker</th>\n",
       "      <th>Index 1</th>\n",
       "      <th>Index 2</th>\n",
       "      <th>Index 3</th>\n",
       "      <th>Index 4</th>\n",
       "      <th>Index 5</th>\n",
       "    </tr>\n",
       "    <tr>\n",
       "      <th>Date</th>\n",
       "      <th></th>\n",
       "      <th></th>\n",
       "      <th></th>\n",
       "      <th></th>\n",
       "      <th></th>\n",
       "    </tr>\n",
       "  </thead>\n",
       "  <tbody>\n",
       "    <tr>\n",
       "      <th>1979-12-31</th>\n",
       "      <td>0.001048</td>\n",
       "      <td>NaN</td>\n",
       "      <td>NaN</td>\n",
       "      <td>-0.004755</td>\n",
       "      <td>NaN</td>\n",
       "    </tr>\n",
       "    <tr>\n",
       "      <th>1980-01-02</th>\n",
       "      <td>-0.020222</td>\n",
       "      <td>NaN</td>\n",
       "      <td>NaN</td>\n",
       "      <td>0.008506</td>\n",
       "      <td>NaN</td>\n",
       "    </tr>\n",
       "    <tr>\n",
       "      <th>1980-01-03</th>\n",
       "      <td>-0.006496</td>\n",
       "      <td>NaN</td>\n",
       "      <td>NaN</td>\n",
       "      <td>0.003899</td>\n",
       "      <td>NaN</td>\n",
       "    </tr>\n",
       "    <tr>\n",
       "      <th>1980-01-04</th>\n",
       "      <td>0.013491</td>\n",
       "      <td>NaN</td>\n",
       "      <td>NaN</td>\n",
       "      <td>-0.002374</td>\n",
       "      <td>NaN</td>\n",
       "    </tr>\n",
       "    <tr>\n",
       "      <th>1980-01-07</th>\n",
       "      <td>0.003757</td>\n",
       "      <td>NaN</td>\n",
       "      <td>NaN</td>\n",
       "      <td>-0.013065</td>\n",
       "      <td>NaN</td>\n",
       "    </tr>\n",
       "    <tr>\n",
       "      <th>...</th>\n",
       "      <td>...</td>\n",
       "      <td>...</td>\n",
       "      <td>...</td>\n",
       "      <td>...</td>\n",
       "      <td>...</td>\n",
       "    </tr>\n",
       "    <tr>\n",
       "      <th>2021-03-24</th>\n",
       "      <td>-0.008045</td>\n",
       "      <td>-0.011439</td>\n",
       "      <td>-0.001987</td>\n",
       "      <td>0.027818</td>\n",
       "      <td>-0.000565</td>\n",
       "    </tr>\n",
       "    <tr>\n",
       "      <th>2021-03-25</th>\n",
       "      <td>0.006739</td>\n",
       "      <td>-0.002808</td>\n",
       "      <td>0.003066</td>\n",
       "      <td>-0.025150</td>\n",
       "      <td>-0.002111</td>\n",
       "    </tr>\n",
       "    <tr>\n",
       "      <th>2021-03-26</th>\n",
       "      <td>0.016524</td>\n",
       "      <td>0.011950</td>\n",
       "      <td>0.015082</td>\n",
       "      <td>0.025345</td>\n",
       "      <td>-0.000918</td>\n",
       "    </tr>\n",
       "    <tr>\n",
       "      <th>2021-03-29</th>\n",
       "      <td>-0.004312</td>\n",
       "      <td>0.000593</td>\n",
       "      <td>-0.005954</td>\n",
       "      <td>0.001186</td>\n",
       "      <td>-0.002805</td>\n",
       "    </tr>\n",
       "    <tr>\n",
       "      <th>2021-03-30</th>\n",
       "      <td>-0.000658</td>\n",
       "      <td>0.002666</td>\n",
       "      <td>0.004867</td>\n",
       "      <td>-0.011824</td>\n",
       "      <td>-0.002705</td>\n",
       "    </tr>\n",
       "  </tbody>\n",
       "</table>\n",
       "<p>10613 rows × 5 columns</p>\n",
       "</div>"
      ],
      "text/plain": [
       "Ticker       Index 1   Index 2   Index 3   Index 4   Index 5\n",
       "Date                                                        \n",
       "1979-12-31  0.001048       NaN       NaN -0.004755       NaN\n",
       "1980-01-02 -0.020222       NaN       NaN  0.008506       NaN\n",
       "1980-01-03 -0.006496       NaN       NaN  0.003899       NaN\n",
       "1980-01-04  0.013491       NaN       NaN -0.002374       NaN\n",
       "1980-01-07  0.003757       NaN       NaN -0.013065       NaN\n",
       "...              ...       ...       ...       ...       ...\n",
       "2021-03-24 -0.008045 -0.011439 -0.001987  0.027818 -0.000565\n",
       "2021-03-25  0.006739 -0.002808  0.003066 -0.025150 -0.002111\n",
       "2021-03-26  0.016524  0.011950  0.015082  0.025345 -0.000918\n",
       "2021-03-29 -0.004312  0.000593 -0.005954  0.001186 -0.002805\n",
       "2021-03-30 -0.000658  0.002666  0.004867 -0.011824 -0.002705\n",
       "\n",
       "[10613 rows x 5 columns]"
      ]
     },
     "execution_count": 101,
     "metadata": {},
     "output_type": "execute_result"
    }
   ],
   "source": [
    "# Make Indices into columns of corresponding returns for each date\n",
    "# This makes returns comparable and able to be processed in a for loop for each date to create a portfolio\n",
    "df = df.pivot_table(index=['Date'],columns='Ticker',values='Return')\n",
    "df"
   ]
  },
  {
   "cell_type": "markdown",
   "id": "b98c52cf",
   "metadata": {},
   "source": [
    "## Target Weights"
   ]
  },
  {
   "cell_type": "code",
   "execution_count": 102,
   "id": "291c0613",
   "metadata": {},
   "outputs": [],
   "source": [
    "weight1, weight2, weight3, weight4, weight5 = .175, .2, .05, .075, .5"
   ]
  },
  {
   "cell_type": "markdown",
   "id": "199123f2",
   "metadata": {},
   "source": [
    "## Filter Dates"
   ]
  },
  {
   "cell_type": "code",
   "execution_count": 103,
   "id": "be5c8b6b",
   "metadata": {},
   "outputs": [
    {
     "data": {
      "text/html": [
       "<div>\n",
       "<style scoped>\n",
       "    .dataframe tbody tr th:only-of-type {\n",
       "        vertical-align: middle;\n",
       "    }\n",
       "\n",
       "    .dataframe tbody tr th {\n",
       "        vertical-align: top;\n",
       "    }\n",
       "\n",
       "    .dataframe thead th {\n",
       "        text-align: right;\n",
       "    }\n",
       "</style>\n",
       "<table border=\"1\" class=\"dataframe\">\n",
       "  <thead>\n",
       "    <tr style=\"text-align: right;\">\n",
       "      <th>Ticker</th>\n",
       "      <th>Index 1</th>\n",
       "      <th>Index 2</th>\n",
       "      <th>Index 3</th>\n",
       "      <th>Index 4</th>\n",
       "      <th>Index 5</th>\n",
       "    </tr>\n",
       "    <tr>\n",
       "      <th>Date</th>\n",
       "      <th></th>\n",
       "      <th></th>\n",
       "      <th></th>\n",
       "      <th></th>\n",
       "      <th></th>\n",
       "    </tr>\n",
       "  </thead>\n",
       "  <tbody>\n",
       "    <tr>\n",
       "      <th>2006-01-02</th>\n",
       "      <td>NaN</td>\n",
       "      <td>0.002102</td>\n",
       "      <td>0.000867</td>\n",
       "      <td>NaN</td>\n",
       "      <td>NaN</td>\n",
       "    </tr>\n",
       "    <tr>\n",
       "      <th>2006-01-03</th>\n",
       "      <td>0.015784</td>\n",
       "      <td>0.018978</td>\n",
       "      <td>0.016391</td>\n",
       "      <td>0.015399</td>\n",
       "      <td>0.006417</td>\n",
       "    </tr>\n",
       "    <tr>\n",
       "      <th>2006-01-04</th>\n",
       "      <td>0.004512</td>\n",
       "      <td>0.018118</td>\n",
       "      <td>0.008779</td>\n",
       "      <td>0.000970</td>\n",
       "      <td>0.008793</td>\n",
       "    </tr>\n",
       "    <tr>\n",
       "      <th>2006-01-05</th>\n",
       "      <td>0.000637</td>\n",
       "      <td>0.000781</td>\n",
       "      <td>0.004324</td>\n",
       "      <td>-0.014597</td>\n",
       "      <td>0.001227</td>\n",
       "    </tr>\n",
       "    <tr>\n",
       "      <th>2006-01-06</th>\n",
       "      <td>0.009717</td>\n",
       "      <td>0.009834</td>\n",
       "      <td>0.006673</td>\n",
       "      <td>0.013558</td>\n",
       "      <td>0.003731</td>\n",
       "    </tr>\n",
       "    <tr>\n",
       "      <th>...</th>\n",
       "      <td>...</td>\n",
       "      <td>...</td>\n",
       "      <td>...</td>\n",
       "      <td>...</td>\n",
       "      <td>...</td>\n",
       "    </tr>\n",
       "    <tr>\n",
       "      <th>2020-12-25</th>\n",
       "      <td>NaN</td>\n",
       "      <td>0.000588</td>\n",
       "      <td>0.000049</td>\n",
       "      <td>NaN</td>\n",
       "      <td>-0.000064</td>\n",
       "    </tr>\n",
       "    <tr>\n",
       "      <th>2020-12-28</th>\n",
       "      <td>0.005483</td>\n",
       "      <td>0.003686</td>\n",
       "      <td>0.006399</td>\n",
       "      <td>-0.007006</td>\n",
       "      <td>-0.000207</td>\n",
       "    </tr>\n",
       "    <tr>\n",
       "      <th>2020-12-29</th>\n",
       "      <td>-0.003940</td>\n",
       "      <td>0.011591</td>\n",
       "      <td>-0.000192</td>\n",
       "      <td>0.007100</td>\n",
       "      <td>0.002933</td>\n",
       "    </tr>\n",
       "    <tr>\n",
       "      <th>2020-12-30</th>\n",
       "      <td>0.002730</td>\n",
       "      <td>0.006277</td>\n",
       "      <td>0.006078</td>\n",
       "      <td>0.007775</td>\n",
       "      <td>0.002730</td>\n",
       "    </tr>\n",
       "    <tr>\n",
       "      <th>2020-12-31</th>\n",
       "      <td>0.004848</td>\n",
       "      <td>-0.003837</td>\n",
       "      <td>0.003097</td>\n",
       "      <td>0.004000</td>\n",
       "      <td>-0.000438</td>\n",
       "    </tr>\n",
       "  </tbody>\n",
       "</table>\n",
       "<p>3914 rows × 5 columns</p>\n",
       "</div>"
      ],
      "text/plain": [
       "Ticker       Index 1   Index 2   Index 3   Index 4   Index 5\n",
       "Date                                                        \n",
       "2006-01-02       NaN  0.002102  0.000867       NaN       NaN\n",
       "2006-01-03  0.015784  0.018978  0.016391  0.015399  0.006417\n",
       "2006-01-04  0.004512  0.018118  0.008779  0.000970  0.008793\n",
       "2006-01-05  0.000637  0.000781  0.004324 -0.014597  0.001227\n",
       "2006-01-06  0.009717  0.009834  0.006673  0.013558  0.003731\n",
       "...              ...       ...       ...       ...       ...\n",
       "2020-12-25       NaN  0.000588  0.000049       NaN -0.000064\n",
       "2020-12-28  0.005483  0.003686  0.006399 -0.007006 -0.000207\n",
       "2020-12-29 -0.003940  0.011591 -0.000192  0.007100  0.002933\n",
       "2020-12-30  0.002730  0.006277  0.006078  0.007775  0.002730\n",
       "2020-12-31  0.004848 -0.003837  0.003097  0.004000 -0.000438\n",
       "\n",
       "[3914 rows x 5 columns]"
      ]
     },
     "execution_count": 103,
     "metadata": {},
     "output_type": "execute_result"
    }
   ],
   "source": [
    "# Time Frame from 2006-01-01 to 2020-12-31\n",
    "df = df.loc['2006-01-01':'2020-12-31']\n",
    "df"
   ]
  },
  {
   "cell_type": "markdown",
   "id": "79182757",
   "metadata": {},
   "source": [
    "## The assumption is made that dropping missing rows is reasonable as only 145 rows are dropped because each index is using the same days for all of their actual values. However, if we wanted a more precise look from day to day we could fill missing values with an average of the closest values to always be able to see day to day movement. "
   ]
  },
  {
   "cell_type": "code",
   "execution_count": 104,
   "id": "3ae15732",
   "metadata": {},
   "outputs": [
    {
     "data": {
      "text/html": [
       "<div>\n",
       "<style scoped>\n",
       "    .dataframe tbody tr th:only-of-type {\n",
       "        vertical-align: middle;\n",
       "    }\n",
       "\n",
       "    .dataframe tbody tr th {\n",
       "        vertical-align: top;\n",
       "    }\n",
       "\n",
       "    .dataframe thead th {\n",
       "        text-align: right;\n",
       "    }\n",
       "</style>\n",
       "<table border=\"1\" class=\"dataframe\">\n",
       "  <thead>\n",
       "    <tr style=\"text-align: right;\">\n",
       "      <th>Ticker</th>\n",
       "      <th>Index 1</th>\n",
       "      <th>Index 2</th>\n",
       "      <th>Index 3</th>\n",
       "      <th>Index 4</th>\n",
       "      <th>Index 5</th>\n",
       "    </tr>\n",
       "    <tr>\n",
       "      <th>Date</th>\n",
       "      <th></th>\n",
       "      <th></th>\n",
       "      <th></th>\n",
       "      <th></th>\n",
       "      <th></th>\n",
       "    </tr>\n",
       "  </thead>\n",
       "  <tbody>\n",
       "    <tr>\n",
       "      <th>2006-01-03</th>\n",
       "      <td>0.015784</td>\n",
       "      <td>0.018978</td>\n",
       "      <td>0.016391</td>\n",
       "      <td>0.015399</td>\n",
       "      <td>0.006417</td>\n",
       "    </tr>\n",
       "    <tr>\n",
       "      <th>2006-01-04</th>\n",
       "      <td>0.004512</td>\n",
       "      <td>0.018118</td>\n",
       "      <td>0.008779</td>\n",
       "      <td>0.000970</td>\n",
       "      <td>0.008793</td>\n",
       "    </tr>\n",
       "    <tr>\n",
       "      <th>2006-01-05</th>\n",
       "      <td>0.000637</td>\n",
       "      <td>0.000781</td>\n",
       "      <td>0.004324</td>\n",
       "      <td>-0.014597</td>\n",
       "      <td>0.001227</td>\n",
       "    </tr>\n",
       "    <tr>\n",
       "      <th>2006-01-06</th>\n",
       "      <td>0.009717</td>\n",
       "      <td>0.009834</td>\n",
       "      <td>0.006673</td>\n",
       "      <td>0.013558</td>\n",
       "      <td>0.003731</td>\n",
       "    </tr>\n",
       "    <tr>\n",
       "      <th>2006-01-09</th>\n",
       "      <td>0.004495</td>\n",
       "      <td>-0.000365</td>\n",
       "      <td>0.001339</td>\n",
       "      <td>-0.011840</td>\n",
       "      <td>-0.001979</td>\n",
       "    </tr>\n",
       "    <tr>\n",
       "      <th>...</th>\n",
       "      <td>...</td>\n",
       "      <td>...</td>\n",
       "      <td>...</td>\n",
       "      <td>...</td>\n",
       "      <td>...</td>\n",
       "    </tr>\n",
       "    <tr>\n",
       "      <th>2020-12-24</th>\n",
       "      <td>0.002783</td>\n",
       "      <td>0.000474</td>\n",
       "      <td>0.007579</td>\n",
       "      <td>0.000324</td>\n",
       "      <td>0.000851</td>\n",
       "    </tr>\n",
       "    <tr>\n",
       "      <th>2020-12-28</th>\n",
       "      <td>0.005483</td>\n",
       "      <td>0.003686</td>\n",
       "      <td>0.006399</td>\n",
       "      <td>-0.007006</td>\n",
       "      <td>-0.000207</td>\n",
       "    </tr>\n",
       "    <tr>\n",
       "      <th>2020-12-29</th>\n",
       "      <td>-0.003940</td>\n",
       "      <td>0.011591</td>\n",
       "      <td>-0.000192</td>\n",
       "      <td>0.007100</td>\n",
       "      <td>0.002933</td>\n",
       "    </tr>\n",
       "    <tr>\n",
       "      <th>2020-12-30</th>\n",
       "      <td>0.002730</td>\n",
       "      <td>0.006277</td>\n",
       "      <td>0.006078</td>\n",
       "      <td>0.007775</td>\n",
       "      <td>0.002730</td>\n",
       "    </tr>\n",
       "    <tr>\n",
       "      <th>2020-12-31</th>\n",
       "      <td>0.004848</td>\n",
       "      <td>-0.003837</td>\n",
       "      <td>0.003097</td>\n",
       "      <td>0.004000</td>\n",
       "      <td>-0.000438</td>\n",
       "    </tr>\n",
       "  </tbody>\n",
       "</table>\n",
       "<p>3769 rows × 5 columns</p>\n",
       "</div>"
      ],
      "text/plain": [
       "Ticker       Index 1   Index 2   Index 3   Index 4   Index 5\n",
       "Date                                                        \n",
       "2006-01-03  0.015784  0.018978  0.016391  0.015399  0.006417\n",
       "2006-01-04  0.004512  0.018118  0.008779  0.000970  0.008793\n",
       "2006-01-05  0.000637  0.000781  0.004324 -0.014597  0.001227\n",
       "2006-01-06  0.009717  0.009834  0.006673  0.013558  0.003731\n",
       "2006-01-09  0.004495 -0.000365  0.001339 -0.011840 -0.001979\n",
       "...              ...       ...       ...       ...       ...\n",
       "2020-12-24  0.002783  0.000474  0.007579  0.000324  0.000851\n",
       "2020-12-28  0.005483  0.003686  0.006399 -0.007006 -0.000207\n",
       "2020-12-29 -0.003940  0.011591 -0.000192  0.007100  0.002933\n",
       "2020-12-30  0.002730  0.006277  0.006078  0.007775  0.002730\n",
       "2020-12-31  0.004848 -0.003837  0.003097  0.004000 -0.000438\n",
       "\n",
       "[3769 rows x 5 columns]"
      ]
     },
     "execution_count": 104,
     "metadata": {},
     "output_type": "execute_result"
    }
   ],
   "source": [
    "# Only 145 rows dropped with missing values, could also fill na's with average of two closest dates\n",
    "df = df.dropna()\n",
    "df"
   ]
  },
  {
   "cell_type": "code",
   "execution_count": 105,
   "id": "5e07a9e8",
   "metadata": {},
   "outputs": [],
   "source": [
    "# indices = list(df.columns)\n",
    "# indices"
   ]
  },
  {
   "cell_type": "code",
   "execution_count": 106,
   "id": "b1c64a64",
   "metadata": {},
   "outputs": [
    {
     "data": {
      "text/plain": [
       "Int64Index([1, 2, 3, 4], dtype='int64', name='Date')"
      ]
     },
     "execution_count": 106,
     "metadata": {},
     "output_type": "execute_result"
    }
   ],
   "source": [
    "df.index.quarter.unique()"
   ]
  },
  {
   "cell_type": "markdown",
   "id": "9907ca4c",
   "metadata": {},
   "source": [
    "## Anothing assumption we make is that all portfolios are priced the same when rebalancing or that their is no cost to rebalancing since we don't have price information on the indices.\n",
    "\n",
    "# Next the portfolio is created."
   ]
  },
  {
   "cell_type": "markdown",
   "id": "456a5253",
   "metadata": {},
   "source": [
    "### Portfolio creation walkthrough:\n",
    "A function is created that takes a dataframe and the target weights. \n",
    "\n",
    "From this a new dataframe is created from the existing dataframe that will be populated with the investment value and the growth from returns.\n",
    "\n",
    "The first row is given the value of the investment times the targetted weights because this is the day we make our investment at each weight, so we don't realize gains from the returns for that day. The next day we will have growth or losses from the returns.\n",
    "\n",
    "The returns are calculated by multiplying the previous day's value of the investment by 1 + the return for the day. A new column is created to keep track of the cumulative returns of the entire portfolio.\n",
    "\n",
    "Next we update the investment about to be this cumulative return value. On each first day of a new quarter the row is updated to be the target weights times the cumulative value of the portfolio. The process of the portfolio growing is then repeated until the next unique quarter day, which is then rebalanced again."
   ]
  },
  {
   "cell_type": "code",
   "execution_count": 107,
   "id": "52d4263e",
   "metadata": {},
   "outputs": [],
   "source": [
    "def get_portfolio(df=df, weight1=.175, weight2=.2, weight3=.05, weight4=.075, weight5=.5):\n",
    "  returns_df = df.copy() #create a df to be populated with values that depend on previous df\n",
    "  results_df = pd.DataFrame(columns=['Index 1', 'Index 2', 'Index 3', 'Index 4', 'Index 5']) #create columns minus tickers\n",
    "  inv = 100 #our investment of $100\n",
    "  for year in returns_df.index.year.unique()[0:]:\n",
    "        temp_df = returns_df[returns_df.index.year == year] #create temp df to be iterated on\n",
    "        for quarter in temp_df.index.quarter.unique(): #we want to iterate over each quarter and then create a new row at the beg of each quarter\n",
    "          quarter_df = temp_df[temp_df.index.quarter == quarter] #another temp df to be iterated on\n",
    "          quarter_df.iloc[0] = [weight1 * inv, weight2 * inv, weight3 * inv, weight4 * inv, weight5 * inv] #The first row is the value invested in each index according to target weight (returns for this day are ignored)\n",
    "          for i in range(1, len(quarter_df)):\n",
    "            quarter_df.iloc[i] = quarter_df.iloc[i-1] * (quarter_df.iloc[i] + 1) #Each day of each quarter takes the previous row (which is a value for each index) and multiplies by 1 + today's return\n",
    "          inv = quarter_df.iloc[-1].sum() #The new investment amount is updated to be the sum of index values\n",
    "          results_df = results_df.append(quarter_df) #The results are added to the actual df we want of the portfolio\n",
    "\n",
    "  results_df['cumulative_returns'] = results_df.apply(np.sum, axis = 1) #A new column is created to show cumulative portfolio return\n",
    "  return results_df"
   ]
  },
  {
   "cell_type": "code",
   "execution_count": 108,
   "id": "004f6097",
   "metadata": {},
   "outputs": [
    {
     "data": {
      "text/html": [
       "<div>\n",
       "<style scoped>\n",
       "    .dataframe tbody tr th:only-of-type {\n",
       "        vertical-align: middle;\n",
       "    }\n",
       "\n",
       "    .dataframe tbody tr th {\n",
       "        vertical-align: top;\n",
       "    }\n",
       "\n",
       "    .dataframe thead th {\n",
       "        text-align: right;\n",
       "    }\n",
       "</style>\n",
       "<table border=\"1\" class=\"dataframe\">\n",
       "  <thead>\n",
       "    <tr style=\"text-align: right;\">\n",
       "      <th></th>\n",
       "      <th>Index 1</th>\n",
       "      <th>Index 2</th>\n",
       "      <th>Index 3</th>\n",
       "      <th>Index 4</th>\n",
       "      <th>Index 5</th>\n",
       "      <th>cumulative_returns</th>\n",
       "    </tr>\n",
       "  </thead>\n",
       "  <tbody>\n",
       "    <tr>\n",
       "      <th>2006-01-03</th>\n",
       "      <td>17.500000</td>\n",
       "      <td>20.000000</td>\n",
       "      <td>5.000000</td>\n",
       "      <td>7.500000</td>\n",
       "      <td>50.000000</td>\n",
       "      <td>100.000000</td>\n",
       "    </tr>\n",
       "    <tr>\n",
       "      <th>2006-01-04</th>\n",
       "      <td>17.578960</td>\n",
       "      <td>20.362360</td>\n",
       "      <td>5.043895</td>\n",
       "      <td>7.507275</td>\n",
       "      <td>50.439650</td>\n",
       "      <td>100.932140</td>\n",
       "    </tr>\n",
       "    <tr>\n",
       "      <th>2006-01-05</th>\n",
       "      <td>17.590158</td>\n",
       "      <td>20.378263</td>\n",
       "      <td>5.065705</td>\n",
       "      <td>7.397691</td>\n",
       "      <td>50.501539</td>\n",
       "      <td>100.933356</td>\n",
       "    </tr>\n",
       "    <tr>\n",
       "      <th>2006-01-06</th>\n",
       "      <td>17.761081</td>\n",
       "      <td>20.578663</td>\n",
       "      <td>5.099508</td>\n",
       "      <td>7.497989</td>\n",
       "      <td>50.689961</td>\n",
       "      <td>101.627202</td>\n",
       "    </tr>\n",
       "    <tr>\n",
       "      <th>2006-01-09</th>\n",
       "      <td>17.840917</td>\n",
       "      <td>20.571152</td>\n",
       "      <td>5.106336</td>\n",
       "      <td>7.409213</td>\n",
       "      <td>50.589645</td>\n",
       "      <td>101.517264</td>\n",
       "    </tr>\n",
       "    <tr>\n",
       "      <th>...</th>\n",
       "      <td>...</td>\n",
       "      <td>...</td>\n",
       "      <td>...</td>\n",
       "      <td>...</td>\n",
       "      <td>...</td>\n",
       "      <td>...</td>\n",
       "    </tr>\n",
       "    <tr>\n",
       "      <th>2020-12-24</th>\n",
       "      <td>35.000033</td>\n",
       "      <td>40.501774</td>\n",
       "      <td>9.775081</td>\n",
       "      <td>15.341562</td>\n",
       "      <td>91.044135</td>\n",
       "      <td>191.662585</td>\n",
       "    </tr>\n",
       "    <tr>\n",
       "      <th>2020-12-28</th>\n",
       "      <td>35.191938</td>\n",
       "      <td>40.651064</td>\n",
       "      <td>9.837632</td>\n",
       "      <td>15.234079</td>\n",
       "      <td>91.025289</td>\n",
       "      <td>191.940001</td>\n",
       "    </tr>\n",
       "    <tr>\n",
       "      <th>2020-12-29</th>\n",
       "      <td>35.053282</td>\n",
       "      <td>41.122250</td>\n",
       "      <td>9.835743</td>\n",
       "      <td>15.342241</td>\n",
       "      <td>91.292266</td>\n",
       "      <td>192.645782</td>\n",
       "    </tr>\n",
       "    <tr>\n",
       "      <th>2020-12-30</th>\n",
       "      <td>35.148977</td>\n",
       "      <td>41.380375</td>\n",
       "      <td>9.895524</td>\n",
       "      <td>15.461527</td>\n",
       "      <td>91.541494</td>\n",
       "      <td>193.427897</td>\n",
       "    </tr>\n",
       "    <tr>\n",
       "      <th>2020-12-31</th>\n",
       "      <td>35.319380</td>\n",
       "      <td>41.221598</td>\n",
       "      <td>9.926171</td>\n",
       "      <td>15.523373</td>\n",
       "      <td>91.501399</td>\n",
       "      <td>193.491920</td>\n",
       "    </tr>\n",
       "  </tbody>\n",
       "</table>\n",
       "<p>3769 rows × 6 columns</p>\n",
       "</div>"
      ],
      "text/plain": [
       "              Index 1    Index 2   Index 3    Index 4    Index 5  \\\n",
       "2006-01-03  17.500000  20.000000  5.000000   7.500000  50.000000   \n",
       "2006-01-04  17.578960  20.362360  5.043895   7.507275  50.439650   \n",
       "2006-01-05  17.590158  20.378263  5.065705   7.397691  50.501539   \n",
       "2006-01-06  17.761081  20.578663  5.099508   7.497989  50.689961   \n",
       "2006-01-09  17.840917  20.571152  5.106336   7.409213  50.589645   \n",
       "...               ...        ...       ...        ...        ...   \n",
       "2020-12-24  35.000033  40.501774  9.775081  15.341562  91.044135   \n",
       "2020-12-28  35.191938  40.651064  9.837632  15.234079  91.025289   \n",
       "2020-12-29  35.053282  41.122250  9.835743  15.342241  91.292266   \n",
       "2020-12-30  35.148977  41.380375  9.895524  15.461527  91.541494   \n",
       "2020-12-31  35.319380  41.221598  9.926171  15.523373  91.501399   \n",
       "\n",
       "            cumulative_returns  \n",
       "2006-01-03          100.000000  \n",
       "2006-01-04          100.932140  \n",
       "2006-01-05          100.933356  \n",
       "2006-01-06          101.627202  \n",
       "2006-01-09          101.517264  \n",
       "...                        ...  \n",
       "2020-12-24          191.662585  \n",
       "2020-12-28          191.940001  \n",
       "2020-12-29          192.645782  \n",
       "2020-12-30          193.427897  \n",
       "2020-12-31          193.491920  \n",
       "\n",
       "[3769 rows x 6 columns]"
      ]
     },
     "execution_count": 108,
     "metadata": {},
     "output_type": "execute_result"
    }
   ],
   "source": [
    "#Create a portfolio dataframe from the get_portfolio() function which returns a results_df named portfolio\n",
    "portfolio = get_portfolio()\n",
    "portfolio"
   ]
  },
  {
   "cell_type": "markdown",
   "id": "42d007a0",
   "metadata": {},
   "source": [
    "## Now let's check if we are rebalancing correctly at the start of the quarter"
   ]
  },
  {
   "cell_type": "code",
   "execution_count": 109,
   "id": "d10fd89a",
   "metadata": {},
   "outputs": [
    {
     "data": {
      "text/plain": [
       "Index 1                31.031644\n",
       "Index 2                35.464736\n",
       "Index 3                 8.866184\n",
       "Index 4                13.299276\n",
       "Index 5                88.661839\n",
       "cumulative_returns    177.323678\n",
       "Name: 2020-10-01 00:00:00, dtype: float64"
      ]
     },
     "execution_count": 109,
     "metadata": {},
     "output_type": "execute_result"
    }
   ],
   "source": [
    "# The last quarter date of October 1st\n",
    "portfolio.iloc[-64]"
   ]
  },
  {
   "cell_type": "code",
   "execution_count": 110,
   "id": "8f205144",
   "metadata": {},
   "outputs": [],
   "source": [
    "#A list of the latest index investments and the total return value\n",
    "growth = list(portfolio.iloc[-64][0:5])\n",
    "total = portfolio.iloc[-64][-1]"
   ]
  },
  {
   "cell_type": "code",
   "execution_count": 111,
   "id": "5daeaf4c",
   "metadata": {
    "scrolled": true
   },
   "outputs": [
    {
     "name": "stdout",
     "output_type": "stream",
     "text": [
      "0.17500000000000002\n",
      "0.20000000000000004\n",
      "0.05000000000000001\n",
      "0.07500000000000001\n",
      "0.5000000000000001\n"
     ]
    }
   ],
   "source": [
    "#Take each current index value at the beg of the quarter and divide by the cumulative return value\n",
    "for i in range(0,len(growth)):\n",
    "    print(growth[i]/total)"
   ]
  },
  {
   "cell_type": "code",
   "execution_count": 114,
   "id": "c5bc2d58",
   "metadata": {},
   "outputs": [
    {
     "name": "stdout",
     "output_type": "stream",
     "text": [
      "0.175\n",
      "0.2\n",
      "0.05\n",
      "0.075\n",
      "0.5\n"
     ]
    }
   ],
   "source": [
    "print(weight1)\n",
    "print(weight2)\n",
    "print(weight3)\n",
    "print(weight4)\n",
    "print(weight5)"
   ]
  },
  {
   "cell_type": "markdown",
   "id": "abe0cc75",
   "metadata": {},
   "source": [
    "## Successful rebalancing at that quarter date. The value of each index divided by the cumulative portfolio value is equal to the target weights."
   ]
  },
  {
   "cell_type": "markdown",
   "id": "6dd4eb2f",
   "metadata": {},
   "source": [
    "# Graphs"
   ]
  },
  {
   "cell_type": "code",
   "execution_count": 127,
   "id": "7157d556",
   "metadata": {},
   "outputs": [
    {
     "data": {
      "text/plain": [
       "<matplotlib.legend.Legend at 0x132ac4bddf0>"
      ]
     },
     "execution_count": 127,
     "metadata": {},
     "output_type": "execute_result"
    },
    {
     "data": {
      "image/png": "[encoded data removed]",
      "text/plain": [
       "<Figure size 864x576 with 1 Axes>"
      ]
     },
     "metadata": {
      "needs_background": "light"
     },
     "output_type": "display_data"
    }
   ],
   "source": [
    "from matplotlib import pyplot as plt\n",
    "\n",
    "fig = plt.figure(figsize = (12,8))\n",
    "plt.plot(portfolio)\n",
    "fig.suptitle('Portfolio Returns')\n",
    "plt.xlabel('Date')\n",
    "plt.ylabel('Value')\n",
    "plt.legend(portfolio.columns, loc='best')"
   ]
  },
  {
   "cell_type": "code",
   "execution_count": 128,
   "id": "4cf6fac0",
   "metadata": {},
   "outputs": [
    {
     "data": {
      "text/plain": [
       "Text(0, 0.5, 'Value')"
      ]
     },
     "execution_count": 128,
     "metadata": {},
     "output_type": "execute_result"
    },
    {
     "data": {
      "image/png": "[encoded data removed]",
      "text/plain": [
       "<Figure size 432x288 with 1 Axes>"
      ]
     },
     "metadata": {
      "needs_background": "light"
     },
     "output_type": "display_data"
    }
   ],
   "source": [
    "fig = plt.figure()\n",
    "plt.plot(portfolio['cumulative_returns'])\n",
    "fig.suptitle('Total Portfolio Returns')\n",
    "plt.xlabel('Date')\n",
    "plt.ylabel('Value')"
   ]
  },
  {
   "cell_type": "code",
   "execution_count": 129,
   "id": "389754e0",
   "metadata": {},
   "outputs": [],
   "source": [
    "portfolio.to_csv('Blended Benchmarks Challenge.csv')"
   ]
  }
 ],
 "metadata": {
  "kernelspec": {
   "display_name": "Python 3",
   "language": "python",
   "name": "python3"
  },
  "language_info": {
   "codemirror_mode": {
    "name": "ipython",
    "version": 3
   },
   "file_extension": ".py",
   "mimetype": "text/x-python",
   "name": "python",
   "nbconvert_exporter": "python",
   "pygments_lexer": "ipython3",
   "version": "3.8.8"
  }
 },
 "nbformat": 4,
 "nbformat_minor": 5
}
