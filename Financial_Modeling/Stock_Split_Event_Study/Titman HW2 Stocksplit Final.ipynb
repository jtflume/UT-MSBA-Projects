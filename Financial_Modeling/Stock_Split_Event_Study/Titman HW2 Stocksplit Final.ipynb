{
 "cells": [
  {
   "cell_type": "code",
   "execution_count": 1,
   "metadata": {},
   "outputs": [],
   "source": [
    "import pandas as pd\n",
    "import statsmodels.api as sm\n",
    "from tqdm import tqdm\n",
    "import math"
   ]
  },
  {
   "cell_type": "code",
   "execution_count": 2,
   "metadata": {
    "pycharm": {
     "name": "#%%\n"
    }
   },
   "outputs": [
    {
     "name": "stderr",
     "output_type": "stream",
     "text": [
      "C:\\Users\\John Flume\\anaconda3\\lib\\site-packages\\IPython\\core\\interactiveshell.py:3165: DtypeWarning: Columns (4,5) have mixed types.Specify dtype option on import or set low_memory=False.\n",
      "  has_raised = await self.run_ast_nodes(code_ast.body, cell_name,\n"
     ]
    },
    {
     "data": {
      "text/html": [
       "<div>\n",
       "<style scoped>\n",
       "    .dataframe tbody tr th:only-of-type {\n",
       "        vertical-align: middle;\n",
       "    }\n",
       "\n",
       "    .dataframe tbody tr th {\n",
       "        vertical-align: top;\n",
       "    }\n",
       "\n",
       "    .dataframe thead th {\n",
       "        text-align: right;\n",
       "    }\n",
       "</style>\n",
       "<table border=\"1\" class=\"dataframe\">\n",
       "  <thead>\n",
       "    <tr style=\"text-align: right;\">\n",
       "      <th></th>\n",
       "      <th>PERMNO</th>\n",
       "      <th>date</th>\n",
       "      <th>SHRCD</th>\n",
       "      <th>EXCHCD</th>\n",
       "      <th>SICCD</th>\n",
       "      <th>SHRCLS</th>\n",
       "      <th>PRC</th>\n",
       "      <th>RET</th>\n",
       "      <th>SHROUT</th>\n",
       "      <th>sprtrn</th>\n",
       "    </tr>\n",
       "  </thead>\n",
       "  <tbody>\n",
       "    <tr>\n",
       "      <th>0</th>\n",
       "      <td>10000</td>\n",
       "      <td>01/06/1986</td>\n",
       "      <td>NaN</td>\n",
       "      <td>NaN</td>\n",
       "      <td>NaN</td>\n",
       "      <td>NaN</td>\n",
       "      <td>NaN</td>\n",
       "      <td>NaN</td>\n",
       "      <td>NaN</td>\n",
       "      <td>-0.001091</td>\n",
       "    </tr>\n",
       "    <tr>\n",
       "      <th>1</th>\n",
       "      <td>10000</td>\n",
       "      <td>01/07/1986</td>\n",
       "      <td>10.0</td>\n",
       "      <td>3.0</td>\n",
       "      <td>3990.0</td>\n",
       "      <td>A</td>\n",
       "      <td>-2.56250</td>\n",
       "      <td>C</td>\n",
       "      <td>3680.0</td>\n",
       "      <td>0.014954</td>\n",
       "    </tr>\n",
       "    <tr>\n",
       "      <th>2</th>\n",
       "      <td>10000</td>\n",
       "      <td>01/08/1986</td>\n",
       "      <td>10.0</td>\n",
       "      <td>3.0</td>\n",
       "      <td>3990.0</td>\n",
       "      <td>A</td>\n",
       "      <td>-2.50000</td>\n",
       "      <td>-0.024390</td>\n",
       "      <td>3680.0</td>\n",
       "      <td>-0.027268</td>\n",
       "    </tr>\n",
       "    <tr>\n",
       "      <th>3</th>\n",
       "      <td>10000</td>\n",
       "      <td>01/09/1986</td>\n",
       "      <td>10.0</td>\n",
       "      <td>3.0</td>\n",
       "      <td>3990.0</td>\n",
       "      <td>A</td>\n",
       "      <td>-2.50000</td>\n",
       "      <td>0.000000</td>\n",
       "      <td>3680.0</td>\n",
       "      <td>-0.008944</td>\n",
       "    </tr>\n",
       "    <tr>\n",
       "      <th>4</th>\n",
       "      <td>10000</td>\n",
       "      <td>01/10/1986</td>\n",
       "      <td>10.0</td>\n",
       "      <td>3.0</td>\n",
       "      <td>3990.0</td>\n",
       "      <td>A</td>\n",
       "      <td>-2.50000</td>\n",
       "      <td>0.000000</td>\n",
       "      <td>3680.0</td>\n",
       "      <td>-0.000728</td>\n",
       "    </tr>\n",
       "    <tr>\n",
       "      <th>...</th>\n",
       "      <td>...</td>\n",
       "      <td>...</td>\n",
       "      <td>...</td>\n",
       "      <td>...</td>\n",
       "      <td>...</td>\n",
       "      <td>...</td>\n",
       "      <td>...</td>\n",
       "      <td>...</td>\n",
       "      <td>...</td>\n",
       "      <td>...</td>\n",
       "    </tr>\n",
       "    <tr>\n",
       "      <th>74074175</th>\n",
       "      <td>93436</td>\n",
       "      <td>12/24/2020</td>\n",
       "      <td>11.0</td>\n",
       "      <td>3.0</td>\n",
       "      <td>9999.0</td>\n",
       "      <td>NaN</td>\n",
       "      <td>661.77002</td>\n",
       "      <td>0.024444</td>\n",
       "      <td>947901.0</td>\n",
       "      <td>0.003537</td>\n",
       "    </tr>\n",
       "    <tr>\n",
       "      <th>74074176</th>\n",
       "      <td>93436</td>\n",
       "      <td>12/28/2020</td>\n",
       "      <td>11.0</td>\n",
       "      <td>3.0</td>\n",
       "      <td>9999.0</td>\n",
       "      <td>NaN</td>\n",
       "      <td>663.69000</td>\n",
       "      <td>0.002901</td>\n",
       "      <td>947901.0</td>\n",
       "      <td>0.008723</td>\n",
       "    </tr>\n",
       "    <tr>\n",
       "      <th>74074177</th>\n",
       "      <td>93436</td>\n",
       "      <td>12/29/2020</td>\n",
       "      <td>11.0</td>\n",
       "      <td>3.0</td>\n",
       "      <td>9999.0</td>\n",
       "      <td>NaN</td>\n",
       "      <td>665.98999</td>\n",
       "      <td>0.003465</td>\n",
       "      <td>947901.0</td>\n",
       "      <td>-0.002227</td>\n",
       "    </tr>\n",
       "    <tr>\n",
       "      <th>74074178</th>\n",
       "      <td>93436</td>\n",
       "      <td>12/30/2020</td>\n",
       "      <td>11.0</td>\n",
       "      <td>3.0</td>\n",
       "      <td>9999.0</td>\n",
       "      <td>NaN</td>\n",
       "      <td>694.78003</td>\n",
       "      <td>0.043229</td>\n",
       "      <td>947901.0</td>\n",
       "      <td>0.001342</td>\n",
       "    </tr>\n",
       "    <tr>\n",
       "      <th>74074179</th>\n",
       "      <td>93436</td>\n",
       "      <td>12/31/2020</td>\n",
       "      <td>11.0</td>\n",
       "      <td>3.0</td>\n",
       "      <td>9999.0</td>\n",
       "      <td>NaN</td>\n",
       "      <td>705.66998</td>\n",
       "      <td>0.015674</td>\n",
       "      <td>947901.0</td>\n",
       "      <td>0.006439</td>\n",
       "    </tr>\n",
       "  </tbody>\n",
       "</table>\n",
       "<p>74074180 rows × 10 columns</p>\n",
       "</div>"
      ],
      "text/plain": [
       "          PERMNO        date  SHRCD  EXCHCD   SICCD SHRCLS        PRC  \\\n",
       "0          10000  01/06/1986    NaN     NaN     NaN    NaN        NaN   \n",
       "1          10000  01/07/1986   10.0     3.0  3990.0      A   -2.56250   \n",
       "2          10000  01/08/1986   10.0     3.0  3990.0      A   -2.50000   \n",
       "3          10000  01/09/1986   10.0     3.0  3990.0      A   -2.50000   \n",
       "4          10000  01/10/1986   10.0     3.0  3990.0      A   -2.50000   \n",
       "...          ...         ...    ...     ...     ...    ...        ...   \n",
       "74074175   93436  12/24/2020   11.0     3.0  9999.0    NaN  661.77002   \n",
       "74074176   93436  12/28/2020   11.0     3.0  9999.0    NaN  663.69000   \n",
       "74074177   93436  12/29/2020   11.0     3.0  9999.0    NaN  665.98999   \n",
       "74074178   93436  12/30/2020   11.0     3.0  9999.0    NaN  694.78003   \n",
       "74074179   93436  12/31/2020   11.0     3.0  9999.0    NaN  705.66998   \n",
       "\n",
       "                RET    SHROUT    sprtrn  \n",
       "0               NaN       NaN -0.001091  \n",
       "1                 C    3680.0  0.014954  \n",
       "2         -0.024390    3680.0 -0.027268  \n",
       "3          0.000000    3680.0 -0.008944  \n",
       "4          0.000000    3680.0 -0.000728  \n",
       "...             ...       ...       ...  \n",
       "74074175   0.024444  947901.0  0.003537  \n",
       "74074176   0.002901  947901.0  0.008723  \n",
       "74074177   0.003465  947901.0 -0.002227  \n",
       "74074178   0.043229  947901.0  0.001342  \n",
       "74074179   0.015674  947901.0  0.006439  \n",
       "\n",
       "[74074180 rows x 10 columns]"
      ]
     },
     "execution_count": 2,
     "metadata": {},
     "output_type": "execute_result"
    }
   ],
   "source": [
    "#file = pd.read_csv('5 yr returns.csv')\n",
    "file = pd.read_csv('stock returns1.csv')\n",
    "file"
   ]
  },
  {
   "cell_type": "code",
   "execution_count": 3,
   "metadata": {
    "pycharm": {
     "name": "#%%\n"
    }
   },
   "outputs": [],
   "source": [
    "# function to clean without reloading data\n",
    "\n",
    "def clean_returns(file):\n",
    "    returns = file.copy()\n",
    "    returns = returns[(returns['SHRCLS'] == 'A') | (returns['SHRCLS'].isna())]\n",
    "    returns = returns[pd.to_numeric(returns['RET'], errors = 'coerce').notna()]\n",
    "    returns['RET'] = returns['RET'].apply(lambda x : float(x))\n",
    "    returns['date'] = pd.to_datetime(returns['date'])\n",
    "    #making price always positive, using the average spread when there was little to no trading.\n",
    "    returns['PRC'] = returns['PRC'].apply(lambda x : abs(x))\n",
    "    returns = returns[pd.to_numeric(returns['SICCD'], errors = 'coerce').notna()]\n",
    "    returns['SICCD'] = returns['SICCD'].apply(lambda x : int(x))\n",
    "    returns = returns[~returns['SICCD'].between(6011, 6999)]\n",
    "    return returns"
   ]
  },
  {
   "cell_type": "code",
   "execution_count": 4,
   "metadata": {
    "pycharm": {
     "name": "#%%\n"
    }
   },
   "outputs": [],
   "source": [
    "# creating the returns dataframe\n",
    "returns = clean_returns(file)"
   ]
  },
  {
   "cell_type": "code",
   "execution_count": 5,
   "metadata": {
    "pycharm": {
     "name": "#%%\n"
    }
   },
   "outputs": [],
   "source": [
    "returns['year'] = returns['date'].dt.year\n",
    "returns['month'] = returns['date'].dt.month\n",
    "returns['day'] = returns['date'].dt.day"
   ]
  },
  {
   "cell_type": "code",
   "execution_count": 6,
   "metadata": {
    "pycharm": {
     "name": "#%%\n"
    }
   },
   "outputs": [],
   "source": [
    "# used as a function to reset for each model instead of pulling data\n",
    "#distributions and stock split data\n",
    "\n",
    "def get_split(data):\n",
    "    split = pd.read_csv(data)\n",
    "    split = split[split['DISTCD'] == 5523]\n",
    "    split['DCLRDT'] = pd.to_datetime(split['DCLRDT'])\n",
    "    split = split[['PERMNO','DISTCD','FACPR','FACSHR','DCLRDT']]\n",
    "    split = split.dropna()\n",
    "    split = split[split['DCLRDT'].between('1980-01-01','2020-12-31')]\n",
    "    # only include big splits\n",
    "    split = split[split['FACSHR'] >= 1]\n",
    "    split = split[split['FACPR'] == split['FACSHR']]\n",
    "    split['year'] = split['DCLRDT'].dt.year\n",
    "    split['month'] = split['DCLRDT'].dt.month\n",
    "    split['day'] = split['DCLRDT'].dt.day\n",
    "    return split"
   ]
  },
  {
   "cell_type": "code",
   "execution_count": 7,
   "metadata": {
    "pycharm": {
     "name": "#%%\n"
    }
   },
   "outputs": [],
   "source": [
    "split = get_split('stock distributions.csv')"
   ]
  },
  {
   "cell_type": "code",
   "execution_count": 8,
   "metadata": {
    "pycharm": {
     "name": "#%%\n"
    }
   },
   "outputs": [],
   "source": [
    "df = returns"
   ]
  },
  {
   "cell_type": "code",
   "execution_count": 9,
   "metadata": {
    "pycharm": {
     "name": "#%%\n"
    }
   },
   "outputs": [],
   "source": [
    "# this retrieves the clean version of ff data\n",
    "def getff(data):\n",
    "    ff = pd.read_csv(data)\n",
    "    ff['date'] = pd.to_datetime(ff['Unnamed: 0'])\n",
    "    ff = ff[['date','Mkt-RF','SMB','HML','RMW','CMA','RF']]\n",
    "    ff = ff.set_index('date')\n",
    "    ff['mkt'] = ff['Mkt-RF'] + ff['RF']\n",
    "    # make it not in percentage units\n",
    "    ff = ff/100\n",
    "    ff = ff.reset_index()\n",
    "    ff['year'] = ff['date'].dt.year\n",
    "    ff['month'] = ff['date'].dt.month\n",
    "    ff['day'] = ff['date'].dt.day\n",
    "    ff = ff.set_index(keys=['year','month','day'])\n",
    "    return ff"
   ]
  },
  {
   "cell_type": "code",
   "execution_count": 10,
   "metadata": {
    "pycharm": {
     "name": "#%%\n"
    }
   },
   "outputs": [],
   "source": [
    "ff = getff('DailyFF.csv')"
   ]
  },
  {
   "cell_type": "markdown",
   "metadata": {
    "pycharm": {
     "name": "#%% md\n"
    }
   },
   "source": [
    "## Part 1"
   ]
  },
  {
   "cell_type": "code",
   "execution_count": 11,
   "metadata": {
    "pycharm": {
     "name": "#%%\n"
    }
   },
   "outputs": [],
   "source": [
    "# piviot table for returns by firm for specified day\n",
    "masterreturns = pd.pivot_table(data=returns,columns='PERMNO',index=['year','month','day'],values='RET')"
   ]
  },
  {
   "cell_type": "code",
   "execution_count": 12,
   "metadata": {
    "pycharm": {
     "name": "#%%\n"
    }
   },
   "outputs": [],
   "source": [
    "split = split[split.PERMNO.isin(returns.PERMNO.unique())]"
   ]
  },
  {
   "cell_type": "code",
   "execution_count": 13,
   "metadata": {
    "pycharm": {
     "name": "#%%\n"
    }
   },
   "outputs": [],
   "source": [
    "# functions to get the returns\n",
    "def get_two_day_return(PERMNO, year, month, day) -> float:\n",
    "    return (1+masterreturns.loc[(year,month,day):,PERMNO][:2]).prod() - 1\n",
    "\n",
    "def get_two_day_return_df(row:pd.Series) -> float:\n",
    "    return (1+masterreturns.loc[(row['year'], row['month'],row['day']):,row['PERMNO']][:2]).prod() - 1\n",
    "\n",
    "def get_two_day_return_market(row:pd.Series) ->float:\n",
    "    return (1+ff.loc[(row['year'], row['month'],row['day']):,'Mkt-RF'][:2]).prod() - 1"
   ]
  },
  {
   "cell_type": "code",
   "execution_count": 14,
   "metadata": {
    "pycharm": {
     "name": "#%%\n"
    }
   },
   "outputs": [],
   "source": [
    "# df to store results\n",
    "splitresults = split.copy()\n",
    "splitresults['two_day_return'] = splitresults.apply(get_two_day_return_df,axis=1)\n",
    "splitresults['two_day_mkt']= splitresults.apply(get_two_day_return_market,axis=1)\n",
    "\n",
    "splitresults['excess_over_market'] = splitresults.two_day_return - splitresults.two_day_mkt"
   ]
  },
  {
   "cell_type": "markdown",
   "metadata": {
    "pycharm": {
     "name": "#%% md\n"
    }
   },
   "source": [
    "### Average 2 day excess over market returns"
   ]
  },
  {
   "cell_type": "code",
   "execution_count": 15,
   "metadata": {
    "pycharm": {
     "name": "#%%\n"
    }
   },
   "outputs": [
    {
     "data": {
      "text/plain": [
       "two_day_return        0.030269\n",
       "excess_over_market    0.030269\n",
       "dtype: float64"
      ]
     },
     "execution_count": 15,
     "metadata": {},
     "output_type": "execute_result"
    }
   ],
   "source": [
    "Average_return = splitresults[['two_day_return','excess_over_market']].mean()\n",
    "Average_return"
   ]
  },
  {
   "cell_type": "markdown",
   "metadata": {},
   "source": [
    "# Part 2"
   ]
  },
  {
   "cell_type": "code",
   "execution_count": 16,
   "metadata": {
    "pycharm": {
     "name": "#%%\n"
    }
   },
   "outputs": [
    {
     "name": "stderr",
     "output_type": "stream",
     "text": [
      "100%|████████████████████████████████████████████████████████████████████████████| 10340/10340 [17:15<00:00,  9.99it/s]\n"
     ]
    }
   ],
   "source": [
    "# Returns for splits in the last 6 months\n",
    "\n",
    "df = returns\n",
    "df = df[df['PERMNO'].isin(list(split['PERMNO']))]\n",
    "# old dates are just 26 weeks back from the new\n",
    "olddates = list(df.date.drop_duplicates() - pd.Timedelta(weeks = 26))\n",
    "currentdates = list(df.date.drop_duplicates())\n",
    "\n",
    "equalportfolio2 = pd.DataFrame()\n",
    "for i in tqdm(range(len(olddates))):\n",
    "    recentsplit = split[split['DCLRDT'].between(olddates[i], currentdates[i])]\n",
    "    recentstock = df[df['date']== currentdates[i]]\n",
    "    recentstock = recentstock[recentstock['PERMNO'].isin(list(recentsplit['PERMNO']))]\n",
    "    equalportfolio2 = pd.concat([equalportfolio2, recentstock])\n",
    "\n",
    "# Returns aggregated for the stocks by each date\n",
    "equalportfolio = equalportfolio2.groupby('date')['RET'].mean()"
   ]
  },
  {
   "cell_type": "code",
   "execution_count": 17,
   "metadata": {
    "pycharm": {
     "name": "#%%\n"
    }
   },
   "outputs": [
    {
     "data": {
      "text/html": [
       "<div>\n",
       "<style scoped>\n",
       "    .dataframe tbody tr th:only-of-type {\n",
       "        vertical-align: middle;\n",
       "    }\n",
       "\n",
       "    .dataframe tbody tr th {\n",
       "        vertical-align: top;\n",
       "    }\n",
       "\n",
       "    .dataframe thead th {\n",
       "        text-align: right;\n",
       "    }\n",
       "</style>\n",
       "<table border=\"1\" class=\"dataframe\">\n",
       "  <thead>\n",
       "    <tr style=\"text-align: right;\">\n",
       "      <th></th>\n",
       "      <th>Unnamed: 0</th>\n",
       "      <th>Mkt-RF</th>\n",
       "      <th>SMB</th>\n",
       "      <th>HML</th>\n",
       "      <th>RMW</th>\n",
       "      <th>CMA</th>\n",
       "      <th>RF</th>\n",
       "      <th>date</th>\n",
       "      <th>year</th>\n",
       "      <th>month</th>\n",
       "      <th>day</th>\n",
       "    </tr>\n",
       "  </thead>\n",
       "  <tbody>\n",
       "    <tr>\n",
       "      <th>0</th>\n",
       "      <td>19630701</td>\n",
       "      <td>-0.67</td>\n",
       "      <td>0.01</td>\n",
       "      <td>-0.35</td>\n",
       "      <td>0.03</td>\n",
       "      <td>0.11</td>\n",
       "      <td>0.012</td>\n",
       "      <td>1963-07-01</td>\n",
       "      <td>1963</td>\n",
       "      <td>7</td>\n",
       "      <td>1</td>\n",
       "    </tr>\n",
       "    <tr>\n",
       "      <th>1</th>\n",
       "      <td>19630702</td>\n",
       "      <td>0.79</td>\n",
       "      <td>-0.31</td>\n",
       "      <td>0.24</td>\n",
       "      <td>-0.08</td>\n",
       "      <td>-0.25</td>\n",
       "      <td>0.012</td>\n",
       "      <td>1963-07-02</td>\n",
       "      <td>1963</td>\n",
       "      <td>7</td>\n",
       "      <td>2</td>\n",
       "    </tr>\n",
       "    <tr>\n",
       "      <th>2</th>\n",
       "      <td>19630703</td>\n",
       "      <td>0.63</td>\n",
       "      <td>-0.16</td>\n",
       "      <td>-0.09</td>\n",
       "      <td>0.13</td>\n",
       "      <td>-0.24</td>\n",
       "      <td>0.012</td>\n",
       "      <td>1963-07-03</td>\n",
       "      <td>1963</td>\n",
       "      <td>7</td>\n",
       "      <td>3</td>\n",
       "    </tr>\n",
       "    <tr>\n",
       "      <th>3</th>\n",
       "      <td>19630705</td>\n",
       "      <td>0.40</td>\n",
       "      <td>0.09</td>\n",
       "      <td>-0.26</td>\n",
       "      <td>0.07</td>\n",
       "      <td>-0.28</td>\n",
       "      <td>0.012</td>\n",
       "      <td>1963-07-05</td>\n",
       "      <td>1963</td>\n",
       "      <td>7</td>\n",
       "      <td>5</td>\n",
       "    </tr>\n",
       "    <tr>\n",
       "      <th>4</th>\n",
       "      <td>19630708</td>\n",
       "      <td>-0.63</td>\n",
       "      <td>0.07</td>\n",
       "      <td>-0.19</td>\n",
       "      <td>-0.27</td>\n",
       "      <td>0.06</td>\n",
       "      <td>0.012</td>\n",
       "      <td>1963-07-08</td>\n",
       "      <td>1963</td>\n",
       "      <td>7</td>\n",
       "      <td>8</td>\n",
       "    </tr>\n",
       "    <tr>\n",
       "      <th>...</th>\n",
       "      <td>...</td>\n",
       "      <td>...</td>\n",
       "      <td>...</td>\n",
       "      <td>...</td>\n",
       "      <td>...</td>\n",
       "      <td>...</td>\n",
       "      <td>...</td>\n",
       "      <td>...</td>\n",
       "      <td>...</td>\n",
       "      <td>...</td>\n",
       "      <td>...</td>\n",
       "    </tr>\n",
       "    <tr>\n",
       "      <th>14680</th>\n",
       "      <td>20211025</td>\n",
       "      <td>0.58</td>\n",
       "      <td>0.37</td>\n",
       "      <td>-0.16</td>\n",
       "      <td>-0.39</td>\n",
       "      <td>-0.35</td>\n",
       "      <td>0.000</td>\n",
       "      <td>2021-10-25</td>\n",
       "      <td>2021</td>\n",
       "      <td>10</td>\n",
       "      <td>25</td>\n",
       "    </tr>\n",
       "    <tr>\n",
       "      <th>14681</th>\n",
       "      <td>20211026</td>\n",
       "      <td>0.04</td>\n",
       "      <td>-0.81</td>\n",
       "      <td>-0.32</td>\n",
       "      <td>-0.38</td>\n",
       "      <td>-0.12</td>\n",
       "      <td>0.000</td>\n",
       "      <td>2021-10-26</td>\n",
       "      <td>2021</td>\n",
       "      <td>10</td>\n",
       "      <td>26</td>\n",
       "    </tr>\n",
       "    <tr>\n",
       "      <th>14682</th>\n",
       "      <td>20211027</td>\n",
       "      <td>-0.76</td>\n",
       "      <td>-0.95</td>\n",
       "      <td>-1.19</td>\n",
       "      <td>0.86</td>\n",
       "      <td>-0.60</td>\n",
       "      <td>0.000</td>\n",
       "      <td>2021-10-27</td>\n",
       "      <td>2021</td>\n",
       "      <td>10</td>\n",
       "      <td>27</td>\n",
       "    </tr>\n",
       "    <tr>\n",
       "      <th>14683</th>\n",
       "      <td>20211028</td>\n",
       "      <td>1.14</td>\n",
       "      <td>0.81</td>\n",
       "      <td>-0.47</td>\n",
       "      <td>-0.30</td>\n",
       "      <td>-0.18</td>\n",
       "      <td>0.000</td>\n",
       "      <td>2021-10-28</td>\n",
       "      <td>2021</td>\n",
       "      <td>10</td>\n",
       "      <td>28</td>\n",
       "    </tr>\n",
       "    <tr>\n",
       "      <th>14684</th>\n",
       "      <td>20211029</td>\n",
       "      <td>0.22</td>\n",
       "      <td>0.13</td>\n",
       "      <td>-0.82</td>\n",
       "      <td>0.57</td>\n",
       "      <td>-0.85</td>\n",
       "      <td>0.000</td>\n",
       "      <td>2021-10-29</td>\n",
       "      <td>2021</td>\n",
       "      <td>10</td>\n",
       "      <td>29</td>\n",
       "    </tr>\n",
       "  </tbody>\n",
       "</table>\n",
       "<p>14685 rows × 11 columns</p>\n",
       "</div>"
      ],
      "text/plain": [
       "       Unnamed: 0  Mkt-RF   SMB   HML   RMW   CMA     RF       date  year  \\\n",
       "0        19630701   -0.67  0.01 -0.35  0.03  0.11  0.012 1963-07-01  1963   \n",
       "1        19630702    0.79 -0.31  0.24 -0.08 -0.25  0.012 1963-07-02  1963   \n",
       "2        19630703    0.63 -0.16 -0.09  0.13 -0.24  0.012 1963-07-03  1963   \n",
       "3        19630705    0.40  0.09 -0.26  0.07 -0.28  0.012 1963-07-05  1963   \n",
       "4        19630708   -0.63  0.07 -0.19 -0.27  0.06  0.012 1963-07-08  1963   \n",
       "...           ...     ...   ...   ...   ...   ...    ...        ...   ...   \n",
       "14680    20211025    0.58  0.37 -0.16 -0.39 -0.35  0.000 2021-10-25  2021   \n",
       "14681    20211026    0.04 -0.81 -0.32 -0.38 -0.12  0.000 2021-10-26  2021   \n",
       "14682    20211027   -0.76 -0.95 -1.19  0.86 -0.60  0.000 2021-10-27  2021   \n",
       "14683    20211028    1.14  0.81 -0.47 -0.30 -0.18  0.000 2021-10-28  2021   \n",
       "14684    20211029    0.22  0.13 -0.82  0.57 -0.85  0.000 2021-10-29  2021   \n",
       "\n",
       "       month  day  \n",
       "0          7    1  \n",
       "1          7    2  \n",
       "2          7    3  \n",
       "3          7    5  \n",
       "4          7    8  \n",
       "...      ...  ...  \n",
       "14680     10   25  \n",
       "14681     10   26  \n",
       "14682     10   27  \n",
       "14683     10   28  \n",
       "14684     10   29  \n",
       "\n",
       "[14685 rows x 11 columns]"
      ]
     },
     "execution_count": 17,
     "metadata": {},
     "output_type": "execute_result"
    }
   ],
   "source": [
    "ff = pd.read_csv('DailyFF.csv')\n",
    "ff['date'] = pd.to_datetime(ff['Unnamed: 0'], format='%Y%m%d')\n",
    "\n",
    "ff['year'] = ff['date'].dt.year\n",
    "ff['month'] = ff['date'].dt.month\n",
    "ff['day'] = ff['date'].dt.day\n",
    "ff"
   ]
  },
  {
   "cell_type": "code",
   "execution_count": 18,
   "metadata": {
    "pycharm": {
     "name": "#%%\n"
    }
   },
   "outputs": [],
   "source": [
    "# creating the regressoin data frame using the FF data frame data \n",
    "def regression_df(equalportfolio, ff, returntype):\n",
    "    regression = pd.merge(equalportfolio, ff, how = 'left', left_on = 'date', right_on = 'date')\n",
    "    regression = regression[[returntype,'Mkt-RF','SMB','HML', 'RF']]\n",
    "    regression['RF'] = regression['RF']/100\n",
    "    regression[returntype] = regression[returntype]- regression['RF']\n",
    "    regression['Mkt-RF'] = regression['Mkt-RF']/100\n",
    "    regression['SMB'] = regression['SMB']/100\n",
    "    regression['HML'] = regression['HML']/100\n",
    "    return regression\n",
    "regression = regression_df(equalportfolio, ff, 'RET')"
   ]
  },
  {
   "cell_type": "markdown",
   "metadata": {},
   "source": [
    "## CAPM for equal weighted model"
   ]
  },
  {
   "cell_type": "code",
   "execution_count": 19,
   "metadata": {},
   "outputs": [
    {
     "data": {
      "text/html": [
       "<div>\n",
       "<style scoped>\n",
       "    .dataframe tbody tr th:only-of-type {\n",
       "        vertical-align: middle;\n",
       "    }\n",
       "\n",
       "    .dataframe tbody tr th {\n",
       "        vertical-align: top;\n",
       "    }\n",
       "\n",
       "    .dataframe thead th {\n",
       "        text-align: right;\n",
       "    }\n",
       "</style>\n",
       "<table border=\"1\" class=\"dataframe\">\n",
       "  <thead>\n",
       "    <tr style=\"text-align: right;\">\n",
       "      <th></th>\n",
       "      <th>RET</th>\n",
       "      <th>Mkt-RF</th>\n",
       "      <th>SMB</th>\n",
       "      <th>HML</th>\n",
       "      <th>RF</th>\n",
       "    </tr>\n",
       "  </thead>\n",
       "  <tbody>\n",
       "    <tr>\n",
       "      <th>0</th>\n",
       "      <td>0.036510</td>\n",
       "      <td>-0.0114</td>\n",
       "      <td>0.0019</td>\n",
       "      <td>0.0070</td>\n",
       "      <td>0.00030</td>\n",
       "    </tr>\n",
       "    <tr>\n",
       "      <th>1</th>\n",
       "      <td>0.112126</td>\n",
       "      <td>0.0026</td>\n",
       "      <td>0.0019</td>\n",
       "      <td>-0.0001</td>\n",
       "      <td>0.00030</td>\n",
       "    </tr>\n",
       "    <tr>\n",
       "      <th>2</th>\n",
       "      <td>0.127300</td>\n",
       "      <td>0.0099</td>\n",
       "      <td>-0.0021</td>\n",
       "      <td>-0.0003</td>\n",
       "      <td>0.00036</td>\n",
       "    </tr>\n",
       "    <tr>\n",
       "      <th>3</th>\n",
       "      <td>0.046810</td>\n",
       "      <td>0.0192</td>\n",
       "      <td>-0.0049</td>\n",
       "      <td>-0.0040</td>\n",
       "      <td>0.00036</td>\n",
       "    </tr>\n",
       "    <tr>\n",
       "      <th>4</th>\n",
       "      <td>0.035676</td>\n",
       "      <td>-0.0038</td>\n",
       "      <td>0.0059</td>\n",
       "      <td>0.0012</td>\n",
       "      <td>0.00036</td>\n",
       "    </tr>\n",
       "    <tr>\n",
       "      <th>...</th>\n",
       "      <td>...</td>\n",
       "      <td>...</td>\n",
       "      <td>...</td>\n",
       "      <td>...</td>\n",
       "      <td>...</td>\n",
       "    </tr>\n",
       "    <tr>\n",
       "      <th>10168</th>\n",
       "      <td>0.009032</td>\n",
       "      <td>0.0021</td>\n",
       "      <td>-0.0043</td>\n",
       "      <td>-0.0018</td>\n",
       "      <td>0.00000</td>\n",
       "    </tr>\n",
       "    <tr>\n",
       "      <th>10169</th>\n",
       "      <td>0.000005</td>\n",
       "      <td>0.0046</td>\n",
       "      <td>-0.0067</td>\n",
       "      <td>0.0034</td>\n",
       "      <td>0.00000</td>\n",
       "    </tr>\n",
       "    <tr>\n",
       "      <th>10170</th>\n",
       "      <td>-0.002154</td>\n",
       "      <td>-0.0040</td>\n",
       "      <td>-0.0142</td>\n",
       "      <td>0.0023</td>\n",
       "      <td>0.00000</td>\n",
       "    </tr>\n",
       "    <tr>\n",
       "      <th>10171</th>\n",
       "      <td>0.014180</td>\n",
       "      <td>0.0027</td>\n",
       "      <td>0.0105</td>\n",
       "      <td>0.0006</td>\n",
       "      <td>0.00000</td>\n",
       "    </tr>\n",
       "    <tr>\n",
       "      <th>10172</th>\n",
       "      <td>0.003257</td>\n",
       "      <td>0.0039</td>\n",
       "      <td>-0.0070</td>\n",
       "      <td>0.0044</td>\n",
       "      <td>0.00000</td>\n",
       "    </tr>\n",
       "  </tbody>\n",
       "</table>\n",
       "<p>10173 rows × 5 columns</p>\n",
       "</div>"
      ],
      "text/plain": [
       "            RET  Mkt-RF     SMB     HML       RF\n",
       "0      0.036510 -0.0114  0.0019  0.0070  0.00030\n",
       "1      0.112126  0.0026  0.0019 -0.0001  0.00030\n",
       "2      0.127300  0.0099 -0.0021 -0.0003  0.00036\n",
       "3      0.046810  0.0192 -0.0049 -0.0040  0.00036\n",
       "4      0.035676 -0.0038  0.0059  0.0012  0.00036\n",
       "...         ...     ...     ...     ...      ...\n",
       "10168  0.009032  0.0021 -0.0043 -0.0018  0.00000\n",
       "10169  0.000005  0.0046 -0.0067  0.0034  0.00000\n",
       "10170 -0.002154 -0.0040 -0.0142  0.0023  0.00000\n",
       "10171  0.014180  0.0027  0.0105  0.0006  0.00000\n",
       "10172  0.003257  0.0039 -0.0070  0.0044  0.00000\n",
       "\n",
       "[10173 rows x 5 columns]"
      ]
     },
     "execution_count": 19,
     "metadata": {},
     "output_type": "execute_result"
    }
   ],
   "source": [
    "regression"
   ]
  },
  {
   "cell_type": "code",
   "execution_count": 20,
   "metadata": {
    "pycharm": {
     "name": "#%%\n"
    }
   },
   "outputs": [
    {
     "data": {
      "text/html": [
       "<table class=\"simpletable\">\n",
       "<caption>OLS Regression Results</caption>\n",
       "<tr>\n",
       "  <th>Dep. Variable:</th>           <td>RET</td>       <th>  R-squared:         </th>  <td>   0.620</td> \n",
       "</tr>\n",
       "<tr>\n",
       "  <th>Model:</th>                   <td>OLS</td>       <th>  Adj. R-squared:    </th>  <td>   0.620</td> \n",
       "</tr>\n",
       "<tr>\n",
       "  <th>Method:</th>             <td>Least Squares</td>  <th>  F-statistic:       </th>  <td>1.661e+04</td>\n",
       "</tr>\n",
       "<tr>\n",
       "  <th>Date:</th>             <td>Thu, 02 Dec 2021</td> <th>  Prob (F-statistic):</th>   <td>  0.00</td>  \n",
       "</tr>\n",
       "<tr>\n",
       "  <th>Time:</th>                 <td>14:16:02</td>     <th>  Log-Likelihood:    </th>  <td>  32660.</td> \n",
       "</tr>\n",
       "<tr>\n",
       "  <th>No. Observations:</th>      <td> 10173</td>      <th>  AIC:               </th> <td>-6.532e+04</td>\n",
       "</tr>\n",
       "<tr>\n",
       "  <th>Df Residuals:</th>          <td> 10171</td>      <th>  BIC:               </th> <td>-6.530e+04</td>\n",
       "</tr>\n",
       "<tr>\n",
       "  <th>Df Model:</th>              <td>     1</td>      <th>                     </th>      <td> </td>    \n",
       "</tr>\n",
       "<tr>\n",
       "  <th>Covariance Type:</th>      <td>nonrobust</td>    <th>                     </th>      <td> </td>    \n",
       "</tr>\n",
       "</table>\n",
       "<table class=\"simpletable\">\n",
       "<tr>\n",
       "     <td></td>       <th>coef</th>     <th>std err</th>      <th>t</th>      <th>P>|t|</th>  <th>[0.025</th>    <th>0.975]</th>  \n",
       "</tr>\n",
       "<tr>\n",
       "  <th>const</th>  <td>    0.0007</td> <td> 9.68e-05</td> <td>    7.485</td> <td> 0.000</td> <td>    0.001</td> <td>    0.001</td>\n",
       "</tr>\n",
       "<tr>\n",
       "  <th>Mkt-RF</th> <td>    1.1280</td> <td>    0.009</td> <td>  128.896</td> <td> 0.000</td> <td>    1.111</td> <td>    1.145</td>\n",
       "</tr>\n",
       "</table>\n",
       "<table class=\"simpletable\">\n",
       "<tr>\n",
       "  <th>Omnibus:</th>       <td>4010.463</td> <th>  Durbin-Watson:     </th>  <td>   1.899</td> \n",
       "</tr>\n",
       "<tr>\n",
       "  <th>Prob(Omnibus):</th>  <td> 0.000</td>  <th>  Jarque-Bera (JB):  </th> <td>472390.472</td>\n",
       "</tr>\n",
       "<tr>\n",
       "  <th>Skew:</th>           <td> 0.892</td>  <th>  Prob(JB):          </th>  <td>    0.00</td> \n",
       "</tr>\n",
       "<tr>\n",
       "  <th>Kurtosis:</th>       <td>36.336</td>  <th>  Cond. No.          </th>  <td>    90.4</td> \n",
       "</tr>\n",
       "</table><br/><br/>Notes:<br/>[1] Standard Errors assume that the covariance matrix of the errors is correctly specified."
      ],
      "text/plain": [
       "<class 'statsmodels.iolib.summary.Summary'>\n",
       "\"\"\"\n",
       "                            OLS Regression Results                            \n",
       "==============================================================================\n",
       "Dep. Variable:                    RET   R-squared:                       0.620\n",
       "Model:                            OLS   Adj. R-squared:                  0.620\n",
       "Method:                 Least Squares   F-statistic:                 1.661e+04\n",
       "Date:                Thu, 02 Dec 2021   Prob (F-statistic):               0.00\n",
       "Time:                        14:16:02   Log-Likelihood:                 32660.\n",
       "No. Observations:               10173   AIC:                        -6.532e+04\n",
       "Df Residuals:                   10171   BIC:                        -6.530e+04\n",
       "Df Model:                           1                                         \n",
       "Covariance Type:            nonrobust                                         \n",
       "==============================================================================\n",
       "                 coef    std err          t      P>|t|      [0.025      0.975]\n",
       "------------------------------------------------------------------------------\n",
       "const          0.0007   9.68e-05      7.485      0.000       0.001       0.001\n",
       "Mkt-RF         1.1280      0.009    128.896      0.000       1.111       1.145\n",
       "==============================================================================\n",
       "Omnibus:                     4010.463   Durbin-Watson:                   1.899\n",
       "Prob(Omnibus):                  0.000   Jarque-Bera (JB):           472390.472\n",
       "Skew:                           0.892   Prob(JB):                         0.00\n",
       "Kurtosis:                      36.336   Cond. No.                         90.4\n",
       "==============================================================================\n",
       "\n",
       "Notes:\n",
       "[1] Standard Errors assume that the covariance matrix of the errors is correctly specified.\n",
       "\"\"\""
      ]
     },
     "execution_count": 20,
     "metadata": {},
     "output_type": "execute_result"
    }
   ],
   "source": [
    "y = regression['RET']\n",
    "x = regression['Mkt-RF'].copy().dropna()\n",
    "x = sm.add_constant(x)\n",
    "\n",
    "model = sm.OLS(y, x)\n",
    "results = model.fit()\n",
    "results.summary()"
   ]
  },
  {
   "cell_type": "code",
   "execution_count": 21,
   "metadata": {},
   "outputs": [],
   "source": [
    "ff_aplha_equal = results.params[0]\n",
    "ff_t_equal = results.tvalues[0]"
   ]
  },
  {
   "cell_type": "code",
   "execution_count": 22,
   "metadata": {},
   "outputs": [
    {
     "data": {
      "text/plain": [
       "0.0007247385157920975"
      ]
     },
     "execution_count": 22,
     "metadata": {},
     "output_type": "execute_result"
    }
   ],
   "source": [
    "ff_aplha_equal"
   ]
  },
  {
   "cell_type": "code",
   "execution_count": 23,
   "metadata": {},
   "outputs": [
    {
     "data": {
      "text/plain": [
       "7.48477135580252"
      ]
     },
     "execution_count": 23,
     "metadata": {},
     "output_type": "execute_result"
    }
   ],
   "source": [
    "ff_t_equal"
   ]
  },
  {
   "cell_type": "markdown",
   "metadata": {},
   "source": [
    "## FF 3 factor for equal weighted"
   ]
  },
  {
   "cell_type": "code",
   "execution_count": 24,
   "metadata": {
    "pycharm": {
     "name": "#%%\n"
    }
   },
   "outputs": [
    {
     "data": {
      "text/html": [
       "<table class=\"simpletable\">\n",
       "<caption>OLS Regression Results</caption>\n",
       "<tr>\n",
       "  <th>Dep. Variable:</th>           <td>RET</td>       <th>  R-squared:         </th>  <td>   0.683</td> \n",
       "</tr>\n",
       "<tr>\n",
       "  <th>Model:</th>                   <td>OLS</td>       <th>  Adj. R-squared:    </th>  <td>   0.683</td> \n",
       "</tr>\n",
       "<tr>\n",
       "  <th>Method:</th>             <td>Least Squares</td>  <th>  F-statistic:       </th>  <td>   7293.</td> \n",
       "</tr>\n",
       "<tr>\n",
       "  <th>Date:</th>             <td>Thu, 02 Dec 2021</td> <th>  Prob (F-statistic):</th>   <td>  0.00</td>  \n",
       "</tr>\n",
       "<tr>\n",
       "  <th>Time:</th>                 <td>14:16:02</td>     <th>  Log-Likelihood:    </th>  <td>  33574.</td> \n",
       "</tr>\n",
       "<tr>\n",
       "  <th>No. Observations:</th>      <td> 10173</td>      <th>  AIC:               </th> <td>-6.714e+04</td>\n",
       "</tr>\n",
       "<tr>\n",
       "  <th>Df Residuals:</th>          <td> 10169</td>      <th>  BIC:               </th> <td>-6.711e+04</td>\n",
       "</tr>\n",
       "<tr>\n",
       "  <th>Df Model:</th>              <td>     3</td>      <th>                     </th>      <td> </td>    \n",
       "</tr>\n",
       "<tr>\n",
       "  <th>Covariance Type:</th>      <td>nonrobust</td>    <th>                     </th>      <td> </td>    \n",
       "</tr>\n",
       "</table>\n",
       "<table class=\"simpletable\">\n",
       "<tr>\n",
       "     <td></td>       <th>coef</th>     <th>std err</th>      <th>t</th>      <th>P>|t|</th>  <th>[0.025</th>    <th>0.975]</th>  \n",
       "</tr>\n",
       "<tr>\n",
       "  <th>const</th>  <td>    0.0008</td> <td> 8.85e-05</td> <td>    8.558</td> <td> 0.000</td> <td>    0.001</td> <td>    0.001</td>\n",
       "</tr>\n",
       "<tr>\n",
       "  <th>Mkt-RF</th> <td>    1.1300</td> <td>    0.008</td> <td>  140.181</td> <td> 0.000</td> <td>    1.114</td> <td>    1.146</td>\n",
       "</tr>\n",
       "<tr>\n",
       "  <th>SMB</th>    <td>    0.5447</td> <td>    0.015</td> <td>   35.431</td> <td> 0.000</td> <td>    0.515</td> <td>    0.575</td>\n",
       "</tr>\n",
       "<tr>\n",
       "  <th>HML</th>    <td>   -0.4625</td> <td>    0.015</td> <td>  -31.648</td> <td> 0.000</td> <td>   -0.491</td> <td>   -0.434</td>\n",
       "</tr>\n",
       "</table>\n",
       "<table class=\"simpletable\">\n",
       "<tr>\n",
       "  <th>Omnibus:</th>       <td>4661.065</td> <th>  Durbin-Watson:     </th>  <td>   1.967</td> \n",
       "</tr>\n",
       "<tr>\n",
       "  <th>Prob(Omnibus):</th>  <td> 0.000</td>  <th>  Jarque-Bera (JB):  </th> <td>837188.277</td>\n",
       "</tr>\n",
       "<tr>\n",
       "  <th>Skew:</th>           <td> 1.100</td>  <th>  Prob(JB):          </th>  <td>    0.00</td> \n",
       "</tr>\n",
       "<tr>\n",
       "  <th>Kurtosis:</th>       <td>47.387</td>  <th>  Cond. No.          </th>  <td>    181.</td> \n",
       "</tr>\n",
       "</table><br/><br/>Notes:<br/>[1] Standard Errors assume that the covariance matrix of the errors is correctly specified."
      ],
      "text/plain": [
       "<class 'statsmodels.iolib.summary.Summary'>\n",
       "\"\"\"\n",
       "                            OLS Regression Results                            \n",
       "==============================================================================\n",
       "Dep. Variable:                    RET   R-squared:                       0.683\n",
       "Model:                            OLS   Adj. R-squared:                  0.683\n",
       "Method:                 Least Squares   F-statistic:                     7293.\n",
       "Date:                Thu, 02 Dec 2021   Prob (F-statistic):               0.00\n",
       "Time:                        14:16:02   Log-Likelihood:                 33574.\n",
       "No. Observations:               10173   AIC:                        -6.714e+04\n",
       "Df Residuals:                   10169   BIC:                        -6.711e+04\n",
       "Df Model:                           3                                         \n",
       "Covariance Type:            nonrobust                                         \n",
       "==============================================================================\n",
       "                 coef    std err          t      P>|t|      [0.025      0.975]\n",
       "------------------------------------------------------------------------------\n",
       "const          0.0008   8.85e-05      8.558      0.000       0.001       0.001\n",
       "Mkt-RF         1.1300      0.008    140.181      0.000       1.114       1.146\n",
       "SMB            0.5447      0.015     35.431      0.000       0.515       0.575\n",
       "HML           -0.4625      0.015    -31.648      0.000      -0.491      -0.434\n",
       "==============================================================================\n",
       "Omnibus:                     4661.065   Durbin-Watson:                   1.967\n",
       "Prob(Omnibus):                  0.000   Jarque-Bera (JB):           837188.277\n",
       "Skew:                           1.100   Prob(JB):                         0.00\n",
       "Kurtosis:                      47.387   Cond. No.                         181.\n",
       "==============================================================================\n",
       "\n",
       "Notes:\n",
       "[1] Standard Errors assume that the covariance matrix of the errors is correctly specified.\n",
       "\"\"\""
      ]
     },
     "execution_count": 24,
     "metadata": {},
     "output_type": "execute_result"
    }
   ],
   "source": [
    "y = regression['RET']\n",
    "x = regression[['Mkt-RF','SMB','HML']].copy().dropna()\n",
    "x = sm.add_constant(x)\n",
    "\n",
    "model = sm.OLS(y, x)\n",
    "results = model.fit()\n",
    "results.summary()"
   ]
  },
  {
   "cell_type": "code",
   "execution_count": 25,
   "metadata": {},
   "outputs": [],
   "source": [
    "ff3_aplha_equal = results.params[0]\n",
    "ff3_t_equal = results.tvalues[0]"
   ]
  },
  {
   "cell_type": "code",
   "execution_count": 26,
   "metadata": {},
   "outputs": [
    {
     "data": {
      "text/plain": [
       "0.0007576733703088"
      ]
     },
     "execution_count": 26,
     "metadata": {},
     "output_type": "execute_result"
    }
   ],
   "source": [
    "ff3_aplha_equal"
   ]
  },
  {
   "cell_type": "code",
   "execution_count": 27,
   "metadata": {},
   "outputs": [
    {
     "data": {
      "text/plain": [
       "8.557703766644691"
      ]
     },
     "execution_count": 27,
     "metadata": {},
     "output_type": "execute_result"
    }
   ],
   "source": [
    "ff3_t_equal"
   ]
  },
  {
   "cell_type": "markdown",
   "metadata": {},
   "source": [
    "## Sharpe ratio for equal weighted portfolio"
   ]
  },
  {
   "cell_type": "code",
   "execution_count": 28,
   "metadata": {
    "pycharm": {
     "name": "#%%\n"
    }
   },
   "outputs": [
    {
     "data": {
      "text/plain": [
       "1.11578177198863"
      ]
     },
     "execution_count": 28,
     "metadata": {},
     "output_type": "execute_result"
    }
   ],
   "source": [
    "sre = ((regression['RET']).mean()/regression['RET'].std()) * math.sqrt(252)\n",
    "sre"
   ]
  },
  {
   "cell_type": "code",
   "execution_count": 29,
   "metadata": {
    "pycharm": {
     "name": "#%%\n"
    }
   },
   "outputs": [],
   "source": [
    "returns['mktcap'] = returns['PRC'] * returns['SHROUT']\n",
    "mktcaps = returns.groupby(['date'])['mktcap'].sum().reset_index()\n",
    "mktcaps = mktcaps.rename(columns = {'mktcap':'totalcap'})\n",
    "returns = pd.merge(returns, mktcaps, how = 'left', left_on=['date'], right_on = ['date'])\n",
    "returns['weigts'] = returns['mktcap']/ returns['totalcap']\n",
    "returns['weighted_returns'] = returns['weigts'] * returns['RET']"
   ]
  },
  {
   "cell_type": "code",
   "execution_count": 30,
   "metadata": {
    "pycharm": {
     "name": "#%%\n"
    }
   },
   "outputs": [
    {
     "name": "stderr",
     "output_type": "stream",
     "text": [
      "100%|████████████████████████████████████████████████████████████████████████████| 10340/10340 [17:54<00:00,  9.62it/s]\n"
     ]
    }
   ],
   "source": [
    "df = returns\n",
    "df = df[df['PERMNO'].isin(list(split['PERMNO']))]\n",
    "olddates = list(df.date.drop_duplicates() - pd.Timedelta(weeks = 26))\n",
    "currentdates = list(df.date.drop_duplicates())\n",
    "df = df.drop(columns = ['totalcap','weigts','weighted_returns'])\n",
    "\n",
    "equalportfolio = pd.DataFrame()\n",
    "for i in tqdm(range(len(olddates))):\n",
    "    recentsplit = split[split['DCLRDT'].between(olddates[i], currentdates[i])]\n",
    "    recentstock = df[df['date']== currentdates[i]]\n",
    "    recentstock = recentstock[recentstock['PERMNO'].isin(list(recentsplit['PERMNO']))]\n",
    "    equalportfolio = pd.concat([equalportfolio, recentstock])\n",
    "\n",
    "\n",
    "equalportfolio['mktcap'] = equalportfolio['PRC'] * equalportfolio['SHROUT']\n",
    "\n",
    "mktcaps = equalportfolio.groupby(['date'])['mktcap'].sum().reset_index()\n",
    "mktcaps = mktcaps.rename(columns = {'mktcap':'totalcap'})\n",
    "equalportfolio = pd.merge(equalportfolio, mktcaps, how = 'left', left_on=['date'], right_on = ['date'])\n",
    "equalportfolio['weigts'] = equalportfolio['mktcap']/ equalportfolio['totalcap']\n",
    "equalportfolio['weighted_returns'] = equalportfolio['weigts'] * equalportfolio['RET']\n",
    "avewt = equalportfolio['weigts']"
   ]
  },
  {
   "cell_type": "code",
   "execution_count": 31,
   "metadata": {
    "pycharm": {
     "name": "#%%\n"
    }
   },
   "outputs": [],
   "source": [
    "equalportfolio = equalportfolio.groupby('date')['weighted_returns'].sum()\n",
    "ff = pd.read_csv('DailyFF.csv')\n",
    "ff['date'] = pd.to_datetime(ff['Unnamed: 0'], format='%Y%m%d')\n",
    "regression = regression_df(equalportfolio, ff, 'weighted_returns')"
   ]
  },
  {
   "cell_type": "code",
   "execution_count": 32,
   "metadata": {},
   "outputs": [
    {
     "data": {
      "text/html": [
       "<div>\n",
       "<style scoped>\n",
       "    .dataframe tbody tr th:only-of-type {\n",
       "        vertical-align: middle;\n",
       "    }\n",
       "\n",
       "    .dataframe tbody tr th {\n",
       "        vertical-align: top;\n",
       "    }\n",
       "\n",
       "    .dataframe thead th {\n",
       "        text-align: right;\n",
       "    }\n",
       "</style>\n",
       "<table border=\"1\" class=\"dataframe\">\n",
       "  <thead>\n",
       "    <tr style=\"text-align: right;\">\n",
       "      <th></th>\n",
       "      <th>Unnamed: 0</th>\n",
       "      <th>Mkt-RF</th>\n",
       "      <th>SMB</th>\n",
       "      <th>HML</th>\n",
       "      <th>RMW</th>\n",
       "      <th>CMA</th>\n",
       "      <th>RF</th>\n",
       "      <th>date</th>\n",
       "    </tr>\n",
       "  </thead>\n",
       "  <tbody>\n",
       "    <tr>\n",
       "      <th>0</th>\n",
       "      <td>19630701</td>\n",
       "      <td>-0.67</td>\n",
       "      <td>0.01</td>\n",
       "      <td>-0.35</td>\n",
       "      <td>0.03</td>\n",
       "      <td>0.11</td>\n",
       "      <td>0.012</td>\n",
       "      <td>1963-07-01</td>\n",
       "    </tr>\n",
       "    <tr>\n",
       "      <th>1</th>\n",
       "      <td>19630702</td>\n",
       "      <td>0.79</td>\n",
       "      <td>-0.31</td>\n",
       "      <td>0.24</td>\n",
       "      <td>-0.08</td>\n",
       "      <td>-0.25</td>\n",
       "      <td>0.012</td>\n",
       "      <td>1963-07-02</td>\n",
       "    </tr>\n",
       "    <tr>\n",
       "      <th>2</th>\n",
       "      <td>19630703</td>\n",
       "      <td>0.63</td>\n",
       "      <td>-0.16</td>\n",
       "      <td>-0.09</td>\n",
       "      <td>0.13</td>\n",
       "      <td>-0.24</td>\n",
       "      <td>0.012</td>\n",
       "      <td>1963-07-03</td>\n",
       "    </tr>\n",
       "    <tr>\n",
       "      <th>3</th>\n",
       "      <td>19630705</td>\n",
       "      <td>0.40</td>\n",
       "      <td>0.09</td>\n",
       "      <td>-0.26</td>\n",
       "      <td>0.07</td>\n",
       "      <td>-0.28</td>\n",
       "      <td>0.012</td>\n",
       "      <td>1963-07-05</td>\n",
       "    </tr>\n",
       "    <tr>\n",
       "      <th>4</th>\n",
       "      <td>19630708</td>\n",
       "      <td>-0.63</td>\n",
       "      <td>0.07</td>\n",
       "      <td>-0.19</td>\n",
       "      <td>-0.27</td>\n",
       "      <td>0.06</td>\n",
       "      <td>0.012</td>\n",
       "      <td>1963-07-08</td>\n",
       "    </tr>\n",
       "    <tr>\n",
       "      <th>...</th>\n",
       "      <td>...</td>\n",
       "      <td>...</td>\n",
       "      <td>...</td>\n",
       "      <td>...</td>\n",
       "      <td>...</td>\n",
       "      <td>...</td>\n",
       "      <td>...</td>\n",
       "      <td>...</td>\n",
       "    </tr>\n",
       "    <tr>\n",
       "      <th>14680</th>\n",
       "      <td>20211025</td>\n",
       "      <td>0.58</td>\n",
       "      <td>0.37</td>\n",
       "      <td>-0.16</td>\n",
       "      <td>-0.39</td>\n",
       "      <td>-0.35</td>\n",
       "      <td>0.000</td>\n",
       "      <td>2021-10-25</td>\n",
       "    </tr>\n",
       "    <tr>\n",
       "      <th>14681</th>\n",
       "      <td>20211026</td>\n",
       "      <td>0.04</td>\n",
       "      <td>-0.81</td>\n",
       "      <td>-0.32</td>\n",
       "      <td>-0.38</td>\n",
       "      <td>-0.12</td>\n",
       "      <td>0.000</td>\n",
       "      <td>2021-10-26</td>\n",
       "    </tr>\n",
       "    <tr>\n",
       "      <th>14682</th>\n",
       "      <td>20211027</td>\n",
       "      <td>-0.76</td>\n",
       "      <td>-0.95</td>\n",
       "      <td>-1.19</td>\n",
       "      <td>0.86</td>\n",
       "      <td>-0.60</td>\n",
       "      <td>0.000</td>\n",
       "      <td>2021-10-27</td>\n",
       "    </tr>\n",
       "    <tr>\n",
       "      <th>14683</th>\n",
       "      <td>20211028</td>\n",
       "      <td>1.14</td>\n",
       "      <td>0.81</td>\n",
       "      <td>-0.47</td>\n",
       "      <td>-0.30</td>\n",
       "      <td>-0.18</td>\n",
       "      <td>0.000</td>\n",
       "      <td>2021-10-28</td>\n",
       "    </tr>\n",
       "    <tr>\n",
       "      <th>14684</th>\n",
       "      <td>20211029</td>\n",
       "      <td>0.22</td>\n",
       "      <td>0.13</td>\n",
       "      <td>-0.82</td>\n",
       "      <td>0.57</td>\n",
       "      <td>-0.85</td>\n",
       "      <td>0.000</td>\n",
       "      <td>2021-10-29</td>\n",
       "    </tr>\n",
       "  </tbody>\n",
       "</table>\n",
       "<p>14685 rows × 8 columns</p>\n",
       "</div>"
      ],
      "text/plain": [
       "       Unnamed: 0  Mkt-RF   SMB   HML   RMW   CMA     RF       date\n",
       "0        19630701   -0.67  0.01 -0.35  0.03  0.11  0.012 1963-07-01\n",
       "1        19630702    0.79 -0.31  0.24 -0.08 -0.25  0.012 1963-07-02\n",
       "2        19630703    0.63 -0.16 -0.09  0.13 -0.24  0.012 1963-07-03\n",
       "3        19630705    0.40  0.09 -0.26  0.07 -0.28  0.012 1963-07-05\n",
       "4        19630708   -0.63  0.07 -0.19 -0.27  0.06  0.012 1963-07-08\n",
       "...           ...     ...   ...   ...   ...   ...    ...        ...\n",
       "14680    20211025    0.58  0.37 -0.16 -0.39 -0.35  0.000 2021-10-25\n",
       "14681    20211026    0.04 -0.81 -0.32 -0.38 -0.12  0.000 2021-10-26\n",
       "14682    20211027   -0.76 -0.95 -1.19  0.86 -0.60  0.000 2021-10-27\n",
       "14683    20211028    1.14  0.81 -0.47 -0.30 -0.18  0.000 2021-10-28\n",
       "14684    20211029    0.22  0.13 -0.82  0.57 -0.85  0.000 2021-10-29\n",
       "\n",
       "[14685 rows x 8 columns]"
      ]
     },
     "execution_count": 32,
     "metadata": {},
     "output_type": "execute_result"
    }
   ],
   "source": [
    "ff"
   ]
  },
  {
   "cell_type": "markdown",
   "metadata": {},
   "source": [
    "## CAPM for value weighted\n",
    "This runs a regression to get the CAPM returns\n",
    "it puts the results below, you should not see any imediatly"
   ]
  },
  {
   "cell_type": "code",
   "execution_count": 33,
   "metadata": {
    "pycharm": {
     "name": "#%%\n"
    }
   },
   "outputs": [
    {
     "data": {
      "text/html": [
       "<table class=\"simpletable\">\n",
       "<caption>OLS Regression Results</caption>\n",
       "<tr>\n",
       "  <th>Dep. Variable:</th>    <td>weighted_returns</td> <th>  R-squared:         </th>  <td>   0.624</td> \n",
       "</tr>\n",
       "<tr>\n",
       "  <th>Model:</th>                   <td>OLS</td>       <th>  Adj. R-squared:    </th>  <td>   0.624</td> \n",
       "</tr>\n",
       "<tr>\n",
       "  <th>Method:</th>             <td>Least Squares</td>  <th>  F-statistic:       </th>  <td>1.687e+04</td>\n",
       "</tr>\n",
       "<tr>\n",
       "  <th>Date:</th>             <td>Thu, 02 Dec 2021</td> <th>  Prob (F-statistic):</th>   <td>  0.00</td>  \n",
       "</tr>\n",
       "<tr>\n",
       "  <th>Time:</th>                 <td>14:34:38</td>     <th>  Log-Likelihood:    </th>  <td>  32386.</td> \n",
       "</tr>\n",
       "<tr>\n",
       "  <th>No. Observations:</th>      <td> 10173</td>      <th>  AIC:               </th> <td>-6.477e+04</td>\n",
       "</tr>\n",
       "<tr>\n",
       "  <th>Df Residuals:</th>          <td> 10171</td>      <th>  BIC:               </th> <td>-6.475e+04</td>\n",
       "</tr>\n",
       "<tr>\n",
       "  <th>Df Model:</th>              <td>     1</td>      <th>                     </th>      <td> </td>    \n",
       "</tr>\n",
       "<tr>\n",
       "  <th>Covariance Type:</th>      <td>nonrobust</td>    <th>                     </th>      <td> </td>    \n",
       "</tr>\n",
       "</table>\n",
       "<table class=\"simpletable\">\n",
       "<tr>\n",
       "     <td></td>       <th>coef</th>     <th>std err</th>      <th>t</th>      <th>P>|t|</th>  <th>[0.025</th>    <th>0.975]</th>  \n",
       "</tr>\n",
       "<tr>\n",
       "  <th>const</th>  <td>    0.0007</td> <td> 9.95e-05</td> <td>    7.509</td> <td> 0.000</td> <td>    0.001</td> <td>    0.001</td>\n",
       "</tr>\n",
       "<tr>\n",
       "  <th>Mkt-RF</th> <td>    1.1678</td> <td>    0.009</td> <td>  129.896</td> <td> 0.000</td> <td>    1.150</td> <td>    1.185</td>\n",
       "</tr>\n",
       "</table>\n",
       "<table class=\"simpletable\">\n",
       "<tr>\n",
       "  <th>Omnibus:</th>       <td>4499.118</td> <th>  Durbin-Watson:     </th>  <td>   1.877</td> \n",
       "</tr>\n",
       "<tr>\n",
       "  <th>Prob(Omnibus):</th>  <td> 0.000</td>  <th>  Jarque-Bera (JB):  </th> <td>319214.482</td>\n",
       "</tr>\n",
       "<tr>\n",
       "  <th>Skew:</th>           <td> 1.269</td>  <th>  Prob(JB):          </th>  <td>    0.00</td> \n",
       "</tr>\n",
       "<tr>\n",
       "  <th>Kurtosis:</th>       <td>30.325</td>  <th>  Cond. No.          </th>  <td>    90.4</td> \n",
       "</tr>\n",
       "</table><br/><br/>Notes:<br/>[1] Standard Errors assume that the covariance matrix of the errors is correctly specified."
      ],
      "text/plain": [
       "<class 'statsmodels.iolib.summary.Summary'>\n",
       "\"\"\"\n",
       "                            OLS Regression Results                            \n",
       "==============================================================================\n",
       "Dep. Variable:       weighted_returns   R-squared:                       0.624\n",
       "Model:                            OLS   Adj. R-squared:                  0.624\n",
       "Method:                 Least Squares   F-statistic:                 1.687e+04\n",
       "Date:                Thu, 02 Dec 2021   Prob (F-statistic):               0.00\n",
       "Time:                        14:34:38   Log-Likelihood:                 32386.\n",
       "No. Observations:               10173   AIC:                        -6.477e+04\n",
       "Df Residuals:                   10171   BIC:                        -6.475e+04\n",
       "Df Model:                           1                                         \n",
       "Covariance Type:            nonrobust                                         \n",
       "==============================================================================\n",
       "                 coef    std err          t      P>|t|      [0.025      0.975]\n",
       "------------------------------------------------------------------------------\n",
       "const          0.0007   9.95e-05      7.509      0.000       0.001       0.001\n",
       "Mkt-RF         1.1678      0.009    129.896      0.000       1.150       1.185\n",
       "==============================================================================\n",
       "Omnibus:                     4499.118   Durbin-Watson:                   1.877\n",
       "Prob(Omnibus):                  0.000   Jarque-Bera (JB):           319214.482\n",
       "Skew:                           1.269   Prob(JB):                         0.00\n",
       "Kurtosis:                      30.325   Cond. No.                         90.4\n",
       "==============================================================================\n",
       "\n",
       "Notes:\n",
       "[1] Standard Errors assume that the covariance matrix of the errors is correctly specified.\n",
       "\"\"\""
      ]
     },
     "execution_count": 33,
     "metadata": {},
     "output_type": "execute_result"
    }
   ],
   "source": [
    "y = regression['weighted_returns']\n",
    "x = regression['Mkt-RF'].copy().dropna()\n",
    "x = sm.add_constant(x)\n",
    "\n",
    "model = sm.OLS(y, x)\n",
    "results = model.fit()\n",
    "results.summary()"
   ]
  },
  {
   "cell_type": "code",
   "execution_count": 34,
   "metadata": {},
   "outputs": [],
   "source": [
    "ff_aplha_value = results.params[0]\n",
    "ff_t_value = results.tvalues[0]"
   ]
  },
  {
   "cell_type": "code",
   "execution_count": 35,
   "metadata": {},
   "outputs": [
    {
     "data": {
      "text/plain": [
       "0.0007469665063487087"
      ]
     },
     "execution_count": 35,
     "metadata": {},
     "output_type": "execute_result"
    }
   ],
   "source": [
    "ff_aplha_value"
   ]
  },
  {
   "cell_type": "code",
   "execution_count": 36,
   "metadata": {},
   "outputs": [
    {
     "data": {
      "text/plain": [
       "7.508998728829235"
      ]
     },
     "execution_count": 36,
     "metadata": {},
     "output_type": "execute_result"
    }
   ],
   "source": [
    "ff_t_value"
   ]
  },
  {
   "cell_type": "markdown",
   "metadata": {},
   "source": []
  },
  {
   "cell_type": "markdown",
   "metadata": {},
   "source": [
    "## FF 3 Factor with value weighted"
   ]
  },
  {
   "cell_type": "code",
   "execution_count": 37,
   "metadata": {
    "pycharm": {
     "name": "#%%\n"
    }
   },
   "outputs": [
    {
     "data": {
      "text/html": [
       "<table class=\"simpletable\">\n",
       "<caption>OLS Regression Results</caption>\n",
       "<tr>\n",
       "  <th>Dep. Variable:</th>    <td>weighted_returns</td> <th>  R-squared:         </th>  <td>   0.655</td> \n",
       "</tr>\n",
       "<tr>\n",
       "  <th>Model:</th>                   <td>OLS</td>       <th>  Adj. R-squared:    </th>  <td>   0.655</td> \n",
       "</tr>\n",
       "<tr>\n",
       "  <th>Method:</th>             <td>Least Squares</td>  <th>  F-statistic:       </th>  <td>   6432.</td> \n",
       "</tr>\n",
       "<tr>\n",
       "  <th>Date:</th>             <td>Thu, 02 Dec 2021</td> <th>  Prob (F-statistic):</th>   <td>  0.00</td>  \n",
       "</tr>\n",
       "<tr>\n",
       "  <th>Time:</th>                 <td>14:34:38</td>     <th>  Log-Likelihood:    </th>  <td>  32823.</td> \n",
       "</tr>\n",
       "<tr>\n",
       "  <th>No. Observations:</th>      <td> 10173</td>      <th>  AIC:               </th> <td>-6.564e+04</td>\n",
       "</tr>\n",
       "<tr>\n",
       "  <th>Df Residuals:</th>          <td> 10169</td>      <th>  BIC:               </th> <td>-6.561e+04</td>\n",
       "</tr>\n",
       "<tr>\n",
       "  <th>Df Model:</th>              <td>     3</td>      <th>                     </th>      <td> </td>    \n",
       "</tr>\n",
       "<tr>\n",
       "  <th>Covariance Type:</th>      <td>nonrobust</td>    <th>                     </th>      <td> </td>    \n",
       "</tr>\n",
       "</table>\n",
       "<table class=\"simpletable\">\n",
       "<tr>\n",
       "     <td></td>       <th>coef</th>     <th>std err</th>      <th>t</th>      <th>P>|t|</th>  <th>[0.025</th>    <th>0.975]</th>  \n",
       "</tr>\n",
       "<tr>\n",
       "  <th>const</th>  <td>    0.0008</td> <td> 9.53e-05</td> <td>    8.394</td> <td> 0.000</td> <td>    0.001</td> <td>    0.001</td>\n",
       "</tr>\n",
       "<tr>\n",
       "  <th>Mkt-RF</th> <td>    1.1442</td> <td>    0.009</td> <td>  131.836</td> <td> 0.000</td> <td>    1.127</td> <td>    1.161</td>\n",
       "</tr>\n",
       "<tr>\n",
       "  <th>SMB</th>    <td>    0.0199</td> <td>    0.017</td> <td>    1.202</td> <td> 0.230</td> <td>   -0.013</td> <td>    0.052</td>\n",
       "</tr>\n",
       "<tr>\n",
       "  <th>HML</th>    <td>   -0.4732</td> <td>    0.016</td> <td>  -30.078</td> <td> 0.000</td> <td>   -0.504</td> <td>   -0.442</td>\n",
       "</tr>\n",
       "</table>\n",
       "<table class=\"simpletable\">\n",
       "<tr>\n",
       "  <th>Omnibus:</th>       <td>4945.770</td> <th>  Durbin-Watson:     </th>  <td>   1.898</td> \n",
       "</tr>\n",
       "<tr>\n",
       "  <th>Prob(Omnibus):</th>  <td> 0.000</td>  <th>  Jarque-Bera (JB):  </th> <td>392833.838</td>\n",
       "</tr>\n",
       "<tr>\n",
       "  <th>Skew:</th>           <td> 1.456</td>  <th>  Prob(JB):          </th>  <td>    0.00</td> \n",
       "</tr>\n",
       "<tr>\n",
       "  <th>Kurtosis:</th>       <td>33.303</td>  <th>  Cond. No.          </th>  <td>    181.</td> \n",
       "</tr>\n",
       "</table><br/><br/>Notes:<br/>[1] Standard Errors assume that the covariance matrix of the errors is correctly specified."
      ],
      "text/plain": [
       "<class 'statsmodels.iolib.summary.Summary'>\n",
       "\"\"\"\n",
       "                            OLS Regression Results                            \n",
       "==============================================================================\n",
       "Dep. Variable:       weighted_returns   R-squared:                       0.655\n",
       "Model:                            OLS   Adj. R-squared:                  0.655\n",
       "Method:                 Least Squares   F-statistic:                     6432.\n",
       "Date:                Thu, 02 Dec 2021   Prob (F-statistic):               0.00\n",
       "Time:                        14:34:38   Log-Likelihood:                 32823.\n",
       "No. Observations:               10173   AIC:                        -6.564e+04\n",
       "Df Residuals:                   10169   BIC:                        -6.561e+04\n",
       "Df Model:                           3                                         \n",
       "Covariance Type:            nonrobust                                         \n",
       "==============================================================================\n",
       "                 coef    std err          t      P>|t|      [0.025      0.975]\n",
       "------------------------------------------------------------------------------\n",
       "const          0.0008   9.53e-05      8.394      0.000       0.001       0.001\n",
       "Mkt-RF         1.1442      0.009    131.836      0.000       1.127       1.161\n",
       "SMB            0.0199      0.017      1.202      0.230      -0.013       0.052\n",
       "HML           -0.4732      0.016    -30.078      0.000      -0.504      -0.442\n",
       "==============================================================================\n",
       "Omnibus:                     4945.770   Durbin-Watson:                   1.898\n",
       "Prob(Omnibus):                  0.000   Jarque-Bera (JB):           392833.838\n",
       "Skew:                           1.456   Prob(JB):                         0.00\n",
       "Kurtosis:                      33.303   Cond. No.                         181.\n",
       "==============================================================================\n",
       "\n",
       "Notes:\n",
       "[1] Standard Errors assume that the covariance matrix of the errors is correctly specified.\n",
       "\"\"\""
      ]
     },
     "execution_count": 37,
     "metadata": {},
     "output_type": "execute_result"
    }
   ],
   "source": [
    "y = regression['weighted_returns']\n",
    "x = regression[['Mkt-RF','SMB','HML']].copy().dropna()\n",
    "x = sm.add_constant(x)\n",
    "\n",
    "model = sm.OLS(y, x)\n",
    "results = model.fit()\n",
    "results.summary()"
   ]
  },
  {
   "cell_type": "code",
   "execution_count": 38,
   "metadata": {},
   "outputs": [],
   "source": [
    "ff3_aplha_value = results.params[0]\n",
    "ff3_t_value = results.tvalues[0]"
   ]
  },
  {
   "cell_type": "code",
   "execution_count": 39,
   "metadata": {},
   "outputs": [
    {
     "data": {
      "text/plain": [
       "0.0008001687622576891"
      ]
     },
     "execution_count": 39,
     "metadata": {},
     "output_type": "execute_result"
    }
   ],
   "source": [
    "ff3_aplha_value"
   ]
  },
  {
   "cell_type": "code",
   "execution_count": 40,
   "metadata": {},
   "outputs": [
    {
     "data": {
      "text/plain": [
       "8.394443532593288"
      ]
     },
     "execution_count": 40,
     "metadata": {},
     "output_type": "execute_result"
    }
   ],
   "source": [
    "ff3_t_value"
   ]
  },
  {
   "cell_type": "markdown",
   "metadata": {},
   "source": [
    "## Sharpe ratio for value weighted Portfolio"
   ]
  },
  {
   "cell_type": "code",
   "execution_count": 41,
   "metadata": {
    "pycharm": {
     "name": "#%%\n"
    }
   },
   "outputs": [
    {
     "data": {
      "text/plain": [
       "1.1157780504066588"
      ]
     },
     "execution_count": 41,
     "metadata": {},
     "output_type": "execute_result"
    }
   ],
   "source": [
    "srv = regression['weighted_returns'].mean()/(regression['weighted_returns'].std()) * math.sqrt(252)\n",
    "srv"
   ]
  },
  {
   "cell_type": "markdown",
   "metadata": {},
   "source": [
    "## Part 3"
   ]
  },
  {
   "cell_type": "code",
   "execution_count": 42,
   "metadata": {
    "pycharm": {
     "name": "#%%\n"
    }
   },
   "outputs": [],
   "source": [
    "# Sorted by market caps for each date for top 500 market caps\n",
    "# Excluded those 500 market caps\n",
    "\n",
    "top500 = returns.sort_values('mktcap').groupby('date').head(500)\n",
    "bottom500 = returns.merge(top500, on = list(returns.columns), how = 'left', indicator= True)\n",
    "returns2 = bottom500[bottom500['_merge'] == 'left_only']"
   ]
  },
  {
   "cell_type": "code",
   "execution_count": 43,
   "metadata": {
    "pycharm": {
     "name": "#%%\n"
    }
   },
   "outputs": [],
   "source": [
    "df3  = returns2"
   ]
  },
  {
   "cell_type": "markdown",
   "metadata": {
    "pycharm": {
     "name": "#%% md\n"
    }
   },
   "source": [
    "## Same as part 2 but excluding top 500 firms"
   ]
  },
  {
   "cell_type": "code",
   "execution_count": 44,
   "metadata": {
    "pycharm": {
     "name": "#%%\n"
    }
   },
   "outputs": [],
   "source": [
    "split = get_split('stock distributions.csv')\n",
    "ff = getff('DailyFF.csv')"
   ]
  },
  {
   "cell_type": "code",
   "execution_count": 45,
   "metadata": {
    "pycharm": {
     "name": "#%%\n"
    }
   },
   "outputs": [],
   "source": [
    "masterreturns = pd.pivot_table(data=returns2, columns='PERMNO', index=['year', 'month', 'day'], values='RET')\n",
    "split = split[split.PERMNO.isin(returns2.PERMNO.unique())]"
   ]
  },
  {
   "cell_type": "code",
   "execution_count": 46,
   "metadata": {
    "pycharm": {
     "name": "#%%\n"
    }
   },
   "outputs": [
    {
     "data": {
      "text/plain": [
       "two_day_return        0.029735\n",
       "excess_over_market    0.029735\n",
       "dtype: float64"
      ]
     },
     "execution_count": 46,
     "metadata": {},
     "output_type": "execute_result"
    }
   ],
   "source": [
    "splitresults = split.copy()\n",
    "splitresults['two_day_return'] = splitresults.apply(get_two_day_return_df, axis=1)\n",
    "splitresults['two_day_mkt'] = splitresults.apply(get_two_day_return_market, axis=1)\n",
    "\n",
    "splitresults['excess_over_market'] = splitresults.two_day_return - splitresults.two_day_mkt\n",
    "Average_return_WO_500 =  splitresults[['two_day_return', 'excess_over_market']].mean()\n",
    "Average_return_WO_500"
   ]
  },
  {
   "cell_type": "code",
   "execution_count": 47,
   "metadata": {
    "pycharm": {
     "name": "#%%\n"
    }
   },
   "outputs": [],
   "source": [
    "ff = pd.read_csv('DailyFF.csv')\n",
    "ff['date'] = pd.to_datetime(ff['Unnamed: 0'], format='%Y%m%d')\n",
    "\n",
    "ff['year'] = ff['date'].dt.year\n",
    "ff['month'] = ff['date'].dt.month\n",
    "ff['day'] = ff['date'].dt.day"
   ]
  },
  {
   "cell_type": "code",
   "execution_count": 48,
   "metadata": {
    "pycharm": {
     "name": "#%%\n"
    }
   },
   "outputs": [
    {
     "name": "stderr",
     "output_type": "stream",
     "text": [
      "100%|████████████████████████████████████████████████████████████████████████████| 10340/10340 [20:09<00:00,  8.55it/s]\n"
     ]
    }
   ],
   "source": [
    "df = returns2\n",
    "df = df[df['PERMNO'].isin(list(split['PERMNO']))]\n",
    "olddates = list(df.date.drop_duplicates() - pd.Timedelta(weeks=26))\n",
    "currentdates = list(df.date.drop_duplicates())\n",
    "\n",
    "equalportfolio2 = pd.DataFrame()\n",
    "for i in tqdm(range(len(olddates))):\n",
    "    recentsplit = split[split['DCLRDT'].between(olddates[i], currentdates[i])]\n",
    "    recentstock = df[df['date'] == currentdates[i]]\n",
    "    recentstock = recentstock[recentstock['PERMNO'].isin(list(recentsplit['PERMNO']))]\n",
    "    equalportfolio2 = pd.concat([equalportfolio2, recentstock])\n",
    "\n",
    "equalportfolio = equalportfolio2.groupby('date')['RET'].mean()\n",
    "ff = pd.read_csv('DailyFF.csv')\n",
    "ff['date'] = pd.to_datetime(ff['Unnamed: 0'], format='%Y%m%d')\n",
    "\n",
    "regression = regression_df(equalportfolio, ff, 'RET')"
   ]
  },
  {
   "cell_type": "markdown",
   "metadata": {},
   "source": [
    "## CAPM on portfolio without 500 biggest equal weighted\n",
    "This runs a regression to get the CAPM returns\n",
    "it puts the results below, you should not see any imediatly"
   ]
  },
  {
   "cell_type": "code",
   "execution_count": 49,
   "metadata": {
    "pycharm": {
     "name": "#%%\n"
    }
   },
   "outputs": [
    {
     "data": {
      "text/html": [
       "<table class=\"simpletable\">\n",
       "<caption>OLS Regression Results</caption>\n",
       "<tr>\n",
       "  <th>Dep. Variable:</th>           <td>RET</td>       <th>  R-squared:         </th>  <td>   0.618</td> \n",
       "</tr>\n",
       "<tr>\n",
       "  <th>Model:</th>                   <td>OLS</td>       <th>  Adj. R-squared:    </th>  <td>   0.618</td> \n",
       "</tr>\n",
       "<tr>\n",
       "  <th>Method:</th>             <td>Least Squares</td>  <th>  F-statistic:       </th>  <td>1.649e+04</td>\n",
       "</tr>\n",
       "<tr>\n",
       "  <th>Date:</th>             <td>Thu, 02 Dec 2021</td> <th>  Prob (F-statistic):</th>   <td>  0.00</td>  \n",
       "</tr>\n",
       "<tr>\n",
       "  <th>Time:</th>                 <td>15:04:46</td>     <th>  Log-Likelihood:    </th>  <td>  32554.</td> \n",
       "</tr>\n",
       "<tr>\n",
       "  <th>No. Observations:</th>      <td> 10173</td>      <th>  AIC:               </th> <td>-6.510e+04</td>\n",
       "</tr>\n",
       "<tr>\n",
       "  <th>Df Residuals:</th>          <td> 10171</td>      <th>  BIC:               </th> <td>-6.509e+04</td>\n",
       "</tr>\n",
       "<tr>\n",
       "  <th>Df Model:</th>              <td>     1</td>      <th>                     </th>      <td> </td>    \n",
       "</tr>\n",
       "<tr>\n",
       "  <th>Covariance Type:</th>      <td>nonrobust</td>    <th>                     </th>      <td> </td>    \n",
       "</tr>\n",
       "</table>\n",
       "<table class=\"simpletable\">\n",
       "<tr>\n",
       "     <td></td>       <th>coef</th>     <th>std err</th>      <th>t</th>      <th>P>|t|</th>  <th>[0.025</th>    <th>0.975]</th>  \n",
       "</tr>\n",
       "<tr>\n",
       "  <th>const</th>  <td>    0.0007</td> <td> 9.78e-05</td> <td>    7.481</td> <td> 0.000</td> <td>    0.001</td> <td>    0.001</td>\n",
       "</tr>\n",
       "<tr>\n",
       "  <th>Mkt-RF</th> <td>    1.1354</td> <td>    0.009</td> <td>  128.408</td> <td> 0.000</td> <td>    1.118</td> <td>    1.153</td>\n",
       "</tr>\n",
       "</table>\n",
       "<table class=\"simpletable\">\n",
       "<tr>\n",
       "  <th>Omnibus:</th>       <td>4714.229</td> <th>  Durbin-Watson:     </th>  <td>   1.914</td> \n",
       "</tr>\n",
       "<tr>\n",
       "  <th>Prob(Omnibus):</th>  <td> 0.000</td>  <th>  Jarque-Bera (JB):  </th> <td>737644.681</td>\n",
       "</tr>\n",
       "<tr>\n",
       "  <th>Skew:</th>           <td> 1.161</td>  <th>  Prob(JB):          </th>  <td>    0.00</td> \n",
       "</tr>\n",
       "<tr>\n",
       "  <th>Kurtosis:</th>       <td>44.651</td>  <th>  Cond. No.          </th>  <td>    90.4</td> \n",
       "</tr>\n",
       "</table><br/><br/>Notes:<br/>[1] Standard Errors assume that the covariance matrix of the errors is correctly specified."
      ],
      "text/plain": [
       "<class 'statsmodels.iolib.summary.Summary'>\n",
       "\"\"\"\n",
       "                            OLS Regression Results                            \n",
       "==============================================================================\n",
       "Dep. Variable:                    RET   R-squared:                       0.618\n",
       "Model:                            OLS   Adj. R-squared:                  0.618\n",
       "Method:                 Least Squares   F-statistic:                 1.649e+04\n",
       "Date:                Thu, 02 Dec 2021   Prob (F-statistic):               0.00\n",
       "Time:                        15:04:46   Log-Likelihood:                 32554.\n",
       "No. Observations:               10173   AIC:                        -6.510e+04\n",
       "Df Residuals:                   10171   BIC:                        -6.509e+04\n",
       "Df Model:                           1                                         \n",
       "Covariance Type:            nonrobust                                         \n",
       "==============================================================================\n",
       "                 coef    std err          t      P>|t|      [0.025      0.975]\n",
       "------------------------------------------------------------------------------\n",
       "const          0.0007   9.78e-05      7.481      0.000       0.001       0.001\n",
       "Mkt-RF         1.1354      0.009    128.408      0.000       1.118       1.153\n",
       "==============================================================================\n",
       "Omnibus:                     4714.229   Durbin-Watson:                   1.914\n",
       "Prob(Omnibus):                  0.000   Jarque-Bera (JB):           737644.681\n",
       "Skew:                           1.161   Prob(JB):                         0.00\n",
       "Kurtosis:                      44.651   Cond. No.                         90.4\n",
       "==============================================================================\n",
       "\n",
       "Notes:\n",
       "[1] Standard Errors assume that the covariance matrix of the errors is correctly specified.\n",
       "\"\"\""
      ]
     },
     "execution_count": 49,
     "metadata": {},
     "output_type": "execute_result"
    }
   ],
   "source": [
    "y = regression['RET']\n",
    "x = regression['Mkt-RF'].copy().dropna()\n",
    "x = sm.add_constant(x)\n",
    "\n",
    "model = sm.OLS(y, x)\n",
    "results = model.fit()\n",
    "results.summary()"
   ]
  },
  {
   "cell_type": "code",
   "execution_count": 50,
   "metadata": {},
   "outputs": [],
   "source": [
    "ff_wo_500_aplha = results.params[0]\n",
    "ff_wo_500_t = results.tvalues[0]"
   ]
  },
  {
   "cell_type": "code",
   "execution_count": 51,
   "metadata": {},
   "outputs": [
    {
     "data": {
      "text/plain": [
       "0.0007319642200739373"
      ]
     },
     "execution_count": 51,
     "metadata": {},
     "output_type": "execute_result"
    }
   ],
   "source": [
    "ff_wo_500_aplha"
   ]
  },
  {
   "cell_type": "code",
   "execution_count": 52,
   "metadata": {},
   "outputs": [
    {
     "data": {
      "text/plain": [
       "7.481230744241065"
      ]
     },
     "execution_count": 52,
     "metadata": {},
     "output_type": "execute_result"
    }
   ],
   "source": [
    "ff_wo_500_t "
   ]
  },
  {
   "cell_type": "markdown",
   "metadata": {},
   "source": [
    "## FF 3 factors on portfolio without 500 biggest equal weighted"
   ]
  },
  {
   "cell_type": "code",
   "execution_count": 53,
   "metadata": {
    "pycharm": {
     "name": "#%%\n"
    }
   },
   "outputs": [
    {
     "data": {
      "text/html": [
       "<table class=\"simpletable\">\n",
       "<caption>OLS Regression Results</caption>\n",
       "<tr>\n",
       "  <th>Dep. Variable:</th>           <td>RET</td>       <th>  R-squared:         </th>  <td>   0.681</td> \n",
       "</tr>\n",
       "<tr>\n",
       "  <th>Model:</th>                   <td>OLS</td>       <th>  Adj. R-squared:    </th>  <td>   0.681</td> \n",
       "</tr>\n",
       "<tr>\n",
       "  <th>Method:</th>             <td>Least Squares</td>  <th>  F-statistic:       </th>  <td>   7229.</td> \n",
       "</tr>\n",
       "<tr>\n",
       "  <th>Date:</th>             <td>Thu, 02 Dec 2021</td> <th>  Prob (F-statistic):</th>   <td>  0.00</td>  \n",
       "</tr>\n",
       "<tr>\n",
       "  <th>Time:</th>                 <td>15:04:47</td>     <th>  Log-Likelihood:    </th>  <td>  33461.</td> \n",
       "</tr>\n",
       "<tr>\n",
       "  <th>No. Observations:</th>      <td> 10173</td>      <th>  AIC:               </th> <td>-6.691e+04</td>\n",
       "</tr>\n",
       "<tr>\n",
       "  <th>Df Residuals:</th>          <td> 10169</td>      <th>  BIC:               </th> <td>-6.689e+04</td>\n",
       "</tr>\n",
       "<tr>\n",
       "  <th>Df Model:</th>              <td>     3</td>      <th>                     </th>      <td> </td>    \n",
       "</tr>\n",
       "<tr>\n",
       "  <th>Covariance Type:</th>      <td>nonrobust</td>    <th>                     </th>      <td> </td>    \n",
       "</tr>\n",
       "</table>\n",
       "<table class=\"simpletable\">\n",
       "<tr>\n",
       "     <td></td>       <th>coef</th>     <th>std err</th>      <th>t</th>      <th>P>|t|</th>  <th>[0.025</th>    <th>0.975]</th>  \n",
       "</tr>\n",
       "<tr>\n",
       "  <th>const</th>  <td>    0.0008</td> <td> 8.95e-05</td> <td>    8.550</td> <td> 0.000</td> <td>    0.001</td> <td>    0.001</td>\n",
       "</tr>\n",
       "<tr>\n",
       "  <th>Mkt-RF</th> <td>    1.1373</td> <td>    0.008</td> <td>  139.536</td> <td> 0.000</td> <td>    1.121</td> <td>    1.153</td>\n",
       "</tr>\n",
       "<tr>\n",
       "  <th>SMB</th>    <td>    0.5468</td> <td>    0.016</td> <td>   35.175</td> <td> 0.000</td> <td>    0.516</td> <td>    0.577</td>\n",
       "</tr>\n",
       "<tr>\n",
       "  <th>HML</th>    <td>   -0.4677</td> <td>    0.015</td> <td>  -31.653</td> <td> 0.000</td> <td>   -0.497</td> <td>   -0.439</td>\n",
       "</tr>\n",
       "</table>\n",
       "<table class=\"simpletable\">\n",
       "<tr>\n",
       "  <th>Omnibus:</th>       <td>5511.051</td> <th>  Durbin-Watson:     </th>  <td>   1.980</td>  \n",
       "</tr>\n",
       "<tr>\n",
       "  <th>Prob(Omnibus):</th>  <td> 0.000</td>  <th>  Jarque-Bera (JB):  </th> <td>1313383.655</td>\n",
       "</tr>\n",
       "<tr>\n",
       "  <th>Skew:</th>           <td> 1.449</td>  <th>  Prob(JB):          </th>  <td>    0.00</td>  \n",
       "</tr>\n",
       "<tr>\n",
       "  <th>Kurtosis:</th>       <td>58.589</td>  <th>  Cond. No.          </th>  <td>    181.</td>  \n",
       "</tr>\n",
       "</table><br/><br/>Notes:<br/>[1] Standard Errors assume that the covariance matrix of the errors is correctly specified."
      ],
      "text/plain": [
       "<class 'statsmodels.iolib.summary.Summary'>\n",
       "\"\"\"\n",
       "                            OLS Regression Results                            \n",
       "==============================================================================\n",
       "Dep. Variable:                    RET   R-squared:                       0.681\n",
       "Model:                            OLS   Adj. R-squared:                  0.681\n",
       "Method:                 Least Squares   F-statistic:                     7229.\n",
       "Date:                Thu, 02 Dec 2021   Prob (F-statistic):               0.00\n",
       "Time:                        15:04:47   Log-Likelihood:                 33461.\n",
       "No. Observations:               10173   AIC:                        -6.691e+04\n",
       "Df Residuals:                   10169   BIC:                        -6.689e+04\n",
       "Df Model:                           3                                         \n",
       "Covariance Type:            nonrobust                                         \n",
       "==============================================================================\n",
       "                 coef    std err          t      P>|t|      [0.025      0.975]\n",
       "------------------------------------------------------------------------------\n",
       "const          0.0008   8.95e-05      8.550      0.000       0.001       0.001\n",
       "Mkt-RF         1.1373      0.008    139.536      0.000       1.121       1.153\n",
       "SMB            0.5468      0.016     35.175      0.000       0.516       0.577\n",
       "HML           -0.4677      0.015    -31.653      0.000      -0.497      -0.439\n",
       "==============================================================================\n",
       "Omnibus:                     5511.051   Durbin-Watson:                   1.980\n",
       "Prob(Omnibus):                  0.000   Jarque-Bera (JB):          1313383.655\n",
       "Skew:                           1.449   Prob(JB):                         0.00\n",
       "Kurtosis:                      58.589   Cond. No.                         181.\n",
       "==============================================================================\n",
       "\n",
       "Notes:\n",
       "[1] Standard Errors assume that the covariance matrix of the errors is correctly specified.\n",
       "\"\"\""
      ]
     },
     "execution_count": 53,
     "metadata": {},
     "output_type": "execute_result"
    }
   ],
   "source": [
    "y = regression['RET']\n",
    "x = regression[['Mkt-RF','SMB','HML']].copy().dropna()\n",
    "x = sm.add_constant(x)\n",
    "\n",
    "model = sm.OLS(y, x)\n",
    "results = model.fit()\n",
    "results.summary()"
   ]
  },
  {
   "cell_type": "code",
   "execution_count": 54,
   "metadata": {},
   "outputs": [],
   "source": [
    "ff3_wo_500_aplha_equal = results.params[0]\n",
    "ff3_wo_500_t_equal = results.tvalues[0]"
   ]
  },
  {
   "cell_type": "code",
   "execution_count": 55,
   "metadata": {},
   "outputs": [
    {
     "data": {
      "text/plain": [
       "0.0007654186965759041"
      ]
     },
     "execution_count": 55,
     "metadata": {},
     "output_type": "execute_result"
    }
   ],
   "source": [
    "ff3_wo_500_aplha_equal"
   ]
  },
  {
   "cell_type": "code",
   "execution_count": 56,
   "metadata": {},
   "outputs": [
    {
     "data": {
      "text/plain": [
       "8.55019149595779"
      ]
     },
     "execution_count": 56,
     "metadata": {},
     "output_type": "execute_result"
    }
   ],
   "source": [
    "ff3_wo_500_t_equal"
   ]
  },
  {
   "cell_type": "markdown",
   "metadata": {
    "pycharm": {
     "name": "#%% md\n"
    }
   },
   "source": [
    "## Sharp on portfolio without 500 biggest equal weighted"
   ]
  },
  {
   "cell_type": "code",
   "execution_count": 57,
   "metadata": {
    "pycharm": {
     "name": "#%%\n"
    }
   },
   "outputs": [
    {
     "data": {
      "text/plain": [
       "1.116584539774189"
      ]
     },
     "execution_count": 57,
     "metadata": {},
     "output_type": "execute_result"
    }
   ],
   "source": [
    "sre500 = regression['RET'].mean()/regression['RET'].std() * math.sqrt(252)\n",
    "sre500"
   ]
  },
  {
   "cell_type": "markdown",
   "metadata": {
    "pycharm": {
     "name": "#%% md\n"
    }
   },
   "source": [
    "## Average return premium for value weighted portfolio"
   ]
  },
  {
   "cell_type": "code",
   "execution_count": 58,
   "metadata": {
    "pycharm": {
     "name": "#%%\n"
    }
   },
   "outputs": [],
   "source": [
    "returns2 = bottom500"
   ]
  },
  {
   "cell_type": "code",
   "execution_count": 59,
   "metadata": {
    "pycharm": {
     "name": "#%%\n"
    }
   },
   "outputs": [
    {
     "name": "stderr",
     "output_type": "stream",
     "text": [
      "100%|████████████████████████████████████████████████████████████████████████████| 10340/10340 [18:08<00:00,  9.50it/s]\n"
     ]
    }
   ],
   "source": [
    "df = returns2\n",
    "df = df[df['PERMNO'].isin(list(split['PERMNO']))]\n",
    "olddates = list(df.date.drop_duplicates() - pd.Timedelta(weeks = 26))\n",
    "currentdates = list(df.date.drop_duplicates())\n",
    "df = df.drop(columns = ['totalcap','weigts','weighted_returns'])\n",
    "\n",
    "equalportfolio = pd.DataFrame()\n",
    "for i in tqdm(range(len(olddates))):\n",
    "    recentsplit = split[split['DCLRDT'].between(olddates[i], currentdates[i])]\n",
    "    recentstock = df[df['date']== currentdates[i]]\n",
    "    recentstock = recentstock[recentstock['PERMNO'].isin(list(recentsplit['PERMNO']))]\n",
    "    equalportfolio = pd.concat([equalportfolio, recentstock])\n",
    "\n",
    "equalportfolio['mktcap'] = equalportfolio['PRC'] * equalportfolio['SHROUT']\n",
    "mktcaps = equalportfolio.groupby(['date'])['mktcap'].sum().reset_index()\n",
    "mktcaps = mktcaps.rename(columns = {'mktcap':'totalcap'})\n",
    "equalportfolio = pd.merge(equalportfolio, mktcaps, how = 'left', left_on=['date'], right_on = ['date'])\n",
    "equalportfolio['weigts'] = equalportfolio['mktcap']/ equalportfolio['totalcap']\n",
    "equalportfolio['weighted_returns'] = equalportfolio['weigts'] * equalportfolio['RET']\n",
    "avewt = equalportfolio['weigts']\n",
    "\n",
    "equalportfolio = equalportfolio.groupby('date')['weighted_returns'].sum()\n",
    "ff = pd.read_csv('DailyFF.csv')\n",
    "ff['date'] = pd.to_datetime(ff['Unnamed: 0'], format='%Y%m%d')\n",
    "\n",
    "regression3 = regression_df(equalportfolio, ff, 'weighted_returns')"
   ]
  },
  {
   "cell_type": "markdown",
   "metadata": {},
   "source": [
    "## CAPM model for value weighted with out 500 largest\n",
    "This runs a regression to get the CAPM returns\n",
    "it puts the results below, you should not see any imediatly"
   ]
  },
  {
   "cell_type": "code",
   "execution_count": 60,
   "metadata": {
    "pycharm": {
     "name": "#%%\n"
    }
   },
   "outputs": [
    {
     "data": {
      "text/html": [
       "<table class=\"simpletable\">\n",
       "<caption>OLS Regression Results</caption>\n",
       "<tr>\n",
       "  <th>Dep. Variable:</th>    <td>weighted_returns</td> <th>  R-squared:         </th>  <td>   0.624</td> \n",
       "</tr>\n",
       "<tr>\n",
       "  <th>Model:</th>                   <td>OLS</td>       <th>  Adj. R-squared:    </th>  <td>   0.624</td> \n",
       "</tr>\n",
       "<tr>\n",
       "  <th>Method:</th>             <td>Least Squares</td>  <th>  F-statistic:       </th>  <td>1.687e+04</td>\n",
       "</tr>\n",
       "<tr>\n",
       "  <th>Date:</th>             <td>Thu, 02 Dec 2021</td> <th>  Prob (F-statistic):</th>   <td>  0.00</td>  \n",
       "</tr>\n",
       "<tr>\n",
       "  <th>Time:</th>                 <td>15:23:05</td>     <th>  Log-Likelihood:    </th>  <td>  32386.</td> \n",
       "</tr>\n",
       "<tr>\n",
       "  <th>No. Observations:</th>      <td> 10173</td>      <th>  AIC:               </th> <td>-6.477e+04</td>\n",
       "</tr>\n",
       "<tr>\n",
       "  <th>Df Residuals:</th>          <td> 10171</td>      <th>  BIC:               </th> <td>-6.475e+04</td>\n",
       "</tr>\n",
       "<tr>\n",
       "  <th>Df Model:</th>              <td>     1</td>      <th>                     </th>      <td> </td>    \n",
       "</tr>\n",
       "<tr>\n",
       "  <th>Covariance Type:</th>      <td>nonrobust</td>    <th>                     </th>      <td> </td>    \n",
       "</tr>\n",
       "</table>\n",
       "<table class=\"simpletable\">\n",
       "<tr>\n",
       "     <td></td>       <th>coef</th>     <th>std err</th>      <th>t</th>      <th>P>|t|</th>  <th>[0.025</th>    <th>0.975]</th>  \n",
       "</tr>\n",
       "<tr>\n",
       "  <th>const</th>  <td>    0.0007</td> <td> 9.95e-05</td> <td>    7.509</td> <td> 0.000</td> <td>    0.001</td> <td>    0.001</td>\n",
       "</tr>\n",
       "<tr>\n",
       "  <th>Mkt-RF</th> <td>    1.1678</td> <td>    0.009</td> <td>  129.896</td> <td> 0.000</td> <td>    1.150</td> <td>    1.185</td>\n",
       "</tr>\n",
       "</table>\n",
       "<table class=\"simpletable\">\n",
       "<tr>\n",
       "  <th>Omnibus:</th>       <td>4499.115</td> <th>  Durbin-Watson:     </th>  <td>   1.877</td> \n",
       "</tr>\n",
       "<tr>\n",
       "  <th>Prob(Omnibus):</th>  <td> 0.000</td>  <th>  Jarque-Bera (JB):  </th> <td>319213.891</td>\n",
       "</tr>\n",
       "<tr>\n",
       "  <th>Skew:</th>           <td> 1.269</td>  <th>  Prob(JB):          </th>  <td>    0.00</td> \n",
       "</tr>\n",
       "<tr>\n",
       "  <th>Kurtosis:</th>       <td>30.325</td>  <th>  Cond. No.          </th>  <td>    90.4</td> \n",
       "</tr>\n",
       "</table><br/><br/>Notes:<br/>[1] Standard Errors assume that the covariance matrix of the errors is correctly specified."
      ],
      "text/plain": [
       "<class 'statsmodels.iolib.summary.Summary'>\n",
       "\"\"\"\n",
       "                            OLS Regression Results                            \n",
       "==============================================================================\n",
       "Dep. Variable:       weighted_returns   R-squared:                       0.624\n",
       "Model:                            OLS   Adj. R-squared:                  0.624\n",
       "Method:                 Least Squares   F-statistic:                 1.687e+04\n",
       "Date:                Thu, 02 Dec 2021   Prob (F-statistic):               0.00\n",
       "Time:                        15:23:05   Log-Likelihood:                 32386.\n",
       "No. Observations:               10173   AIC:                        -6.477e+04\n",
       "Df Residuals:                   10171   BIC:                        -6.475e+04\n",
       "Df Model:                           1                                         \n",
       "Covariance Type:            nonrobust                                         \n",
       "==============================================================================\n",
       "                 coef    std err          t      P>|t|      [0.025      0.975]\n",
       "------------------------------------------------------------------------------\n",
       "const          0.0007   9.95e-05      7.509      0.000       0.001       0.001\n",
       "Mkt-RF         1.1678      0.009    129.896      0.000       1.150       1.185\n",
       "==============================================================================\n",
       "Omnibus:                     4499.115   Durbin-Watson:                   1.877\n",
       "Prob(Omnibus):                  0.000   Jarque-Bera (JB):           319213.891\n",
       "Skew:                           1.269   Prob(JB):                         0.00\n",
       "Kurtosis:                      30.325   Cond. No.                         90.4\n",
       "==============================================================================\n",
       "\n",
       "Notes:\n",
       "[1] Standard Errors assume that the covariance matrix of the errors is correctly specified.\n",
       "\"\"\""
      ]
     },
     "execution_count": 60,
     "metadata": {},
     "output_type": "execute_result"
    }
   ],
   "source": [
    "y = regression3['weighted_returns']\n",
    "x = regression3['Mkt-RF'].copy().dropna()\n",
    "x = sm.add_constant(x)\n",
    "\n",
    "model = sm.OLS(y, x)\n",
    "results = model.fit()\n",
    "results.summary()"
   ]
  },
  {
   "cell_type": "code",
   "execution_count": 61,
   "metadata": {},
   "outputs": [],
   "source": [
    "ff_wo_500_aplha_value = results.params[0]\n",
    "ff_wo_500_t_value = results.tvalues[0]"
   ]
  },
  {
   "cell_type": "code",
   "execution_count": 62,
   "metadata": {},
   "outputs": [
    {
     "data": {
      "text/plain": [
       "0.0007469679270489195"
      ]
     },
     "execution_count": 62,
     "metadata": {},
     "output_type": "execute_result"
    }
   ],
   "source": [
    "ff_wo_500_aplha_value"
   ]
  },
  {
   "cell_type": "code",
   "execution_count": 63,
   "metadata": {},
   "outputs": [
    {
     "data": {
      "text/plain": [
       "7.5090113937639735"
      ]
     },
     "execution_count": 63,
     "metadata": {},
     "output_type": "execute_result"
    }
   ],
   "source": [
    "ff_wo_500_t_value"
   ]
  },
  {
   "cell_type": "markdown",
   "metadata": {},
   "source": [
    "## FF 3 factor for value weighted without 500 largest\n",
    "this will get the fama french 3 factor model"
   ]
  },
  {
   "cell_type": "code",
   "execution_count": 64,
   "metadata": {
    "pycharm": {
     "name": "#%%\n"
    }
   },
   "outputs": [
    {
     "data": {
      "text/html": [
       "<table class=\"simpletable\">\n",
       "<caption>OLS Regression Results</caption>\n",
       "<tr>\n",
       "  <th>Dep. Variable:</th>    <td>weighted_returns</td> <th>  R-squared:         </th>  <td>   0.655</td> \n",
       "</tr>\n",
       "<tr>\n",
       "  <th>Model:</th>                   <td>OLS</td>       <th>  Adj. R-squared:    </th>  <td>   0.655</td> \n",
       "</tr>\n",
       "<tr>\n",
       "  <th>Method:</th>             <td>Least Squares</td>  <th>  F-statistic:       </th>  <td>   6432.</td> \n",
       "</tr>\n",
       "<tr>\n",
       "  <th>Date:</th>             <td>Thu, 02 Dec 2021</td> <th>  Prob (F-statistic):</th>   <td>  0.00</td>  \n",
       "</tr>\n",
       "<tr>\n",
       "  <th>Time:</th>                 <td>15:23:05</td>     <th>  Log-Likelihood:    </th>  <td>  32823.</td> \n",
       "</tr>\n",
       "<tr>\n",
       "  <th>No. Observations:</th>      <td> 10173</td>      <th>  AIC:               </th> <td>-6.564e+04</td>\n",
       "</tr>\n",
       "<tr>\n",
       "  <th>Df Residuals:</th>          <td> 10169</td>      <th>  BIC:               </th> <td>-6.561e+04</td>\n",
       "</tr>\n",
       "<tr>\n",
       "  <th>Df Model:</th>              <td>     3</td>      <th>                     </th>      <td> </td>    \n",
       "</tr>\n",
       "<tr>\n",
       "  <th>Covariance Type:</th>      <td>nonrobust</td>    <th>                     </th>      <td> </td>    \n",
       "</tr>\n",
       "</table>\n",
       "<table class=\"simpletable\">\n",
       "<tr>\n",
       "     <td></td>       <th>coef</th>     <th>std err</th>      <th>t</th>      <th>P>|t|</th>  <th>[0.025</th>    <th>0.975]</th>  \n",
       "</tr>\n",
       "<tr>\n",
       "  <th>const</th>  <td>    0.0008</td> <td> 9.53e-05</td> <td>    8.394</td> <td> 0.000</td> <td>    0.001</td> <td>    0.001</td>\n",
       "</tr>\n",
       "<tr>\n",
       "  <th>Mkt-RF</th> <td>    1.1442</td> <td>    0.009</td> <td>  131.836</td> <td> 0.000</td> <td>    1.127</td> <td>    1.161</td>\n",
       "</tr>\n",
       "<tr>\n",
       "  <th>SMB</th>    <td>    0.0199</td> <td>    0.017</td> <td>    1.202</td> <td> 0.230</td> <td>   -0.013</td> <td>    0.052</td>\n",
       "</tr>\n",
       "<tr>\n",
       "  <th>HML</th>    <td>   -0.4732</td> <td>    0.016</td> <td>  -30.078</td> <td> 0.000</td> <td>   -0.504</td> <td>   -0.442</td>\n",
       "</tr>\n",
       "</table>\n",
       "<table class=\"simpletable\">\n",
       "<tr>\n",
       "  <th>Omnibus:</th>       <td>4945.768</td> <th>  Durbin-Watson:     </th>  <td>   1.898</td> \n",
       "</tr>\n",
       "<tr>\n",
       "  <th>Prob(Omnibus):</th>  <td> 0.000</td>  <th>  Jarque-Bera (JB):  </th> <td>392833.314</td>\n",
       "</tr>\n",
       "<tr>\n",
       "  <th>Skew:</th>           <td> 1.456</td>  <th>  Prob(JB):          </th>  <td>    0.00</td> \n",
       "</tr>\n",
       "<tr>\n",
       "  <th>Kurtosis:</th>       <td>33.303</td>  <th>  Cond. No.          </th>  <td>    181.</td> \n",
       "</tr>\n",
       "</table><br/><br/>Notes:<br/>[1] Standard Errors assume that the covariance matrix of the errors is correctly specified."
      ],
      "text/plain": [
       "<class 'statsmodels.iolib.summary.Summary'>\n",
       "\"\"\"\n",
       "                            OLS Regression Results                            \n",
       "==============================================================================\n",
       "Dep. Variable:       weighted_returns   R-squared:                       0.655\n",
       "Model:                            OLS   Adj. R-squared:                  0.655\n",
       "Method:                 Least Squares   F-statistic:                     6432.\n",
       "Date:                Thu, 02 Dec 2021   Prob (F-statistic):               0.00\n",
       "Time:                        15:23:05   Log-Likelihood:                 32823.\n",
       "No. Observations:               10173   AIC:                        -6.564e+04\n",
       "Df Residuals:                   10169   BIC:                        -6.561e+04\n",
       "Df Model:                           3                                         \n",
       "Covariance Type:            nonrobust                                         \n",
       "==============================================================================\n",
       "                 coef    std err          t      P>|t|      [0.025      0.975]\n",
       "------------------------------------------------------------------------------\n",
       "const          0.0008   9.53e-05      8.394      0.000       0.001       0.001\n",
       "Mkt-RF         1.1442      0.009    131.836      0.000       1.127       1.161\n",
       "SMB            0.0199      0.017      1.202      0.230      -0.013       0.052\n",
       "HML           -0.4732      0.016    -30.078      0.000      -0.504      -0.442\n",
       "==============================================================================\n",
       "Omnibus:                     4945.768   Durbin-Watson:                   1.898\n",
       "Prob(Omnibus):                  0.000   Jarque-Bera (JB):           392833.314\n",
       "Skew:                           1.456   Prob(JB):                         0.00\n",
       "Kurtosis:                      33.303   Cond. No.                         181.\n",
       "==============================================================================\n",
       "\n",
       "Notes:\n",
       "[1] Standard Errors assume that the covariance matrix of the errors is correctly specified.\n",
       "\"\"\""
      ]
     },
     "execution_count": 64,
     "metadata": {},
     "output_type": "execute_result"
    }
   ],
   "source": [
    "y = regression3['weighted_returns']\n",
    "x = regression3[['Mkt-RF','SMB','HML']].copy().dropna()\n",
    "x = sm.add_constant(x)\n",
    "\n",
    "model = sm.OLS(y, x)\n",
    "results = model.fit()\n",
    "results.summary()"
   ]
  },
  {
   "cell_type": "code",
   "execution_count": 65,
   "metadata": {},
   "outputs": [],
   "source": [
    "ff3_wo_500_aplha_value = results.params[0]\n",
    "ff3_wo_500_t_value = results.tvalues[0]"
   ]
  },
  {
   "cell_type": "code",
   "execution_count": 66,
   "metadata": {},
   "outputs": [
    {
     "data": {
      "text/plain": [
       "0.0008001702594841583"
      ]
     },
     "execution_count": 66,
     "metadata": {},
     "output_type": "execute_result"
    }
   ],
   "source": [
    "ff3_wo_500_aplha_value"
   ]
  },
  {
   "cell_type": "code",
   "execution_count": 67,
   "metadata": {},
   "outputs": [
    {
     "data": {
      "text/plain": [
       "8.394458186785158"
      ]
     },
     "execution_count": 67,
     "metadata": {},
     "output_type": "execute_result"
    }
   ],
   "source": [
    "ff3_wo_500_t_value"
   ]
  },
  {
   "cell_type": "markdown",
   "metadata": {},
   "source": [
    "## Sharpe ratio for value weighted without 500 largest"
   ]
  },
  {
   "cell_type": "code",
   "execution_count": 68,
   "metadata": {
    "pycharm": {
     "name": "#%%\n"
    }
   },
   "outputs": [
    {
     "data": {
      "text/plain": [
       "1.115779258098591"
      ]
     },
     "execution_count": 68,
     "metadata": {},
     "output_type": "execute_result"
    }
   ],
   "source": [
    "srv500 = regression3['weighted_returns'].mean()/(regression3['weighted_returns'].std()) * math.sqrt(252)\n",
    "srv500"
   ]
  }
 ],
 "metadata": {
  "kernelspec": {
   "display_name": "Python 3",
   "language": "python",
   "name": "python3"
  },
  "language_info": {
   "codemirror_mode": {
    "name": "ipython",
    "version": 3
   },
   "file_extension": ".py",
   "mimetype": "text/x-python",
   "name": "python",
   "nbconvert_exporter": "python",
   "pygments_lexer": "ipython3",
   "version": "3.8.8"
  }
 },
 "nbformat": 4,
 "nbformat_minor": 1
}
