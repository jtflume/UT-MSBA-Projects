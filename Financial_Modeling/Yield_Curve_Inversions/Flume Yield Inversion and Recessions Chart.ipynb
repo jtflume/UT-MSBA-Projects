{
 "cells": [
  {
   "cell_type": "code",
   "execution_count": 107,
   "id": "f214d1d9",
   "metadata": {},
   "outputs": [],
   "source": [
    "import pandas as pd\n",
    "import numpy as np\n",
    "import yfinance as yf\n",
    "import wrds\n",
    "import matplotlib.pyplot as plt\n",
    "import math"
   ]
  },
  {
   "cell_type": "code",
   "execution_count": 108,
   "id": "b01091ad",
   "metadata": {},
   "outputs": [
    {
     "data": {
      "text/plain": [
       "<function yfinance.multi.download(tickers, start=None, end=None, actions=False, threads=True, group_by='column', auto_adjust=False, back_adjust=False, progress=True, period='max', show_errors=True, interval='1d', prepost=False, proxy=None, rounding=False, **kwargs)>"
      ]
     },
     "execution_count": 108,
     "metadata": {},
     "output_type": "execute_result"
    }
   ],
   "source": [
    "yf.download"
   ]
  },
  {
   "cell_type": "code",
   "execution_count": 140,
   "id": "55df4bd4",
   "metadata": {},
   "outputs": [
    {
     "name": "stdout",
     "output_type": "stream",
     "text": [
      "[*********************100%***********************]  1 of 1 completed\n"
     ]
    }
   ],
   "source": [
    "spy = yf.download('TR')"
   ]
  },
  {
   "cell_type": "code",
   "execution_count": 141,
   "id": "972256ee",
   "metadata": {},
   "outputs": [],
   "source": [
    "spy = spy['Adj Close']\n",
    "yc = pd.read_csv('T10Y2Y.csv')"
   ]
  },
  {
   "cell_type": "code",
   "execution_count": 142,
   "id": "695fa752",
   "metadata": {},
   "outputs": [
    {
     "data": {
      "text/html": [
       "<div>\n",
       "<style scoped>\n",
       "    .dataframe tbody tr th:only-of-type {\n",
       "        vertical-align: middle;\n",
       "    }\n",
       "\n",
       "    .dataframe tbody tr th {\n",
       "        vertical-align: top;\n",
       "    }\n",
       "\n",
       "    .dataframe thead th {\n",
       "        text-align: right;\n",
       "    }\n",
       "</style>\n",
       "<table border=\"1\" class=\"dataframe\">\n",
       "  <thead>\n",
       "    <tr style=\"text-align: right;\">\n",
       "      <th></th>\n",
       "      <th>DATE</th>\n",
       "      <th>T10Y2Y</th>\n",
       "    </tr>\n",
       "  </thead>\n",
       "  <tbody>\n",
       "    <tr>\n",
       "      <th>0</th>\n",
       "      <td>1979-01-02</td>\n",
       "      <td>-0.82</td>\n",
       "    </tr>\n",
       "    <tr>\n",
       "      <th>1</th>\n",
       "      <td>1979-01-03</td>\n",
       "      <td>-0.82</td>\n",
       "    </tr>\n",
       "    <tr>\n",
       "      <th>2</th>\n",
       "      <td>1979-01-04</td>\n",
       "      <td>-0.77</td>\n",
       "    </tr>\n",
       "    <tr>\n",
       "      <th>3</th>\n",
       "      <td>1979-01-05</td>\n",
       "      <td>-0.77</td>\n",
       "    </tr>\n",
       "    <tr>\n",
       "      <th>4</th>\n",
       "      <td>1979-01-08</td>\n",
       "      <td>-0.78</td>\n",
       "    </tr>\n",
       "    <tr>\n",
       "      <th>...</th>\n",
       "      <td>...</td>\n",
       "      <td>...</td>\n",
       "    </tr>\n",
       "    <tr>\n",
       "      <th>11168</th>\n",
       "      <td>2021-10-22</td>\n",
       "      <td>1.18</td>\n",
       "    </tr>\n",
       "    <tr>\n",
       "      <th>11169</th>\n",
       "      <td>2021-10-25</td>\n",
       "      <td>1.17</td>\n",
       "    </tr>\n",
       "    <tr>\n",
       "      <th>11170</th>\n",
       "      <td>2021-10-26</td>\n",
       "      <td>1.16</td>\n",
       "    </tr>\n",
       "    <tr>\n",
       "      <th>11171</th>\n",
       "      <td>2021-10-27</td>\n",
       "      <td>1.04</td>\n",
       "    </tr>\n",
       "    <tr>\n",
       "      <th>11172</th>\n",
       "      <td>2021-10-28</td>\n",
       "      <td>1.07</td>\n",
       "    </tr>\n",
       "  </tbody>\n",
       "</table>\n",
       "<p>10707 rows × 2 columns</p>\n",
       "</div>"
      ],
      "text/plain": [
       "             DATE  T10Y2Y\n",
       "0      1979-01-02   -0.82\n",
       "1      1979-01-03   -0.82\n",
       "2      1979-01-04   -0.77\n",
       "3      1979-01-05   -0.77\n",
       "4      1979-01-08   -0.78\n",
       "...           ...     ...\n",
       "11168  2021-10-22    1.18\n",
       "11169  2021-10-25    1.17\n",
       "11170  2021-10-26    1.16\n",
       "11171  2021-10-27    1.04\n",
       "11172  2021-10-28    1.07\n",
       "\n",
       "[10707 rows x 2 columns]"
      ]
     },
     "execution_count": 142,
     "metadata": {},
     "output_type": "execute_result"
    }
   ],
   "source": [
    "mask = yc['T10Y2Y'] != \".\"\n",
    "yc = yc[mask]\n",
    "yc['T10Y2Y'] =yc['T10Y2Y'].apply(lambda x: float(x))\n",
    "yc"
   ]
  },
  {
   "cell_type": "code",
   "execution_count": 143,
   "id": "033c793c",
   "metadata": {},
   "outputs": [
    {
     "data": {
      "text/html": [
       "<div>\n",
       "<style scoped>\n",
       "    .dataframe tbody tr th:only-of-type {\n",
       "        vertical-align: middle;\n",
       "    }\n",
       "\n",
       "    .dataframe tbody tr th {\n",
       "        vertical-align: top;\n",
       "    }\n",
       "\n",
       "    .dataframe thead th {\n",
       "        text-align: right;\n",
       "    }\n",
       "</style>\n",
       "<table border=\"1\" class=\"dataframe\">\n",
       "  <thead>\n",
       "    <tr style=\"text-align: right;\">\n",
       "      <th></th>\n",
       "      <th>DATE</th>\n",
       "      <th>T10Y2Y</th>\n",
       "    </tr>\n",
       "  </thead>\n",
       "  <tbody>\n",
       "    <tr>\n",
       "      <th>0</th>\n",
       "      <td>1979-01-02</td>\n",
       "      <td>-0.82</td>\n",
       "    </tr>\n",
       "    <tr>\n",
       "      <th>1</th>\n",
       "      <td>1979-01-03</td>\n",
       "      <td>-0.82</td>\n",
       "    </tr>\n",
       "    <tr>\n",
       "      <th>2</th>\n",
       "      <td>1979-01-04</td>\n",
       "      <td>-0.77</td>\n",
       "    </tr>\n",
       "    <tr>\n",
       "      <th>3</th>\n",
       "      <td>1979-01-05</td>\n",
       "      <td>-0.77</td>\n",
       "    </tr>\n",
       "    <tr>\n",
       "      <th>4</th>\n",
       "      <td>1979-01-08</td>\n",
       "      <td>-0.78</td>\n",
       "    </tr>\n",
       "    <tr>\n",
       "      <th>...</th>\n",
       "      <td>...</td>\n",
       "      <td>...</td>\n",
       "    </tr>\n",
       "    <tr>\n",
       "      <th>7414</th>\n",
       "      <td>2007-06-04</td>\n",
       "      <td>-0.04</td>\n",
       "    </tr>\n",
       "    <tr>\n",
       "      <th>7415</th>\n",
       "      <td>2007-06-05</td>\n",
       "      <td>-0.01</td>\n",
       "    </tr>\n",
       "    <tr>\n",
       "      <th>10605</th>\n",
       "      <td>2019-08-27</td>\n",
       "      <td>-0.04</td>\n",
       "    </tr>\n",
       "    <tr>\n",
       "      <th>10606</th>\n",
       "      <td>2019-08-28</td>\n",
       "      <td>-0.03</td>\n",
       "    </tr>\n",
       "    <tr>\n",
       "      <th>10607</th>\n",
       "      <td>2019-08-29</td>\n",
       "      <td>-0.03</td>\n",
       "    </tr>\n",
       "  </tbody>\n",
       "</table>\n",
       "<p>1417 rows × 2 columns</p>\n",
       "</div>"
      ],
      "text/plain": [
       "             DATE  T10Y2Y\n",
       "0      1979-01-02   -0.82\n",
       "1      1979-01-03   -0.82\n",
       "2      1979-01-04   -0.77\n",
       "3      1979-01-05   -0.77\n",
       "4      1979-01-08   -0.78\n",
       "...           ...     ...\n",
       "7414   2007-06-04   -0.04\n",
       "7415   2007-06-05   -0.01\n",
       "10605  2019-08-27   -0.04\n",
       "10606  2019-08-28   -0.03\n",
       "10607  2019-08-29   -0.03\n",
       "\n",
       "[1417 rows x 2 columns]"
      ]
     },
     "execution_count": 143,
     "metadata": {},
     "output_type": "execute_result"
    }
   ],
   "source": [
    "inverted = yc[yc['T10Y2Y']<0]\n",
    "inverted"
   ]
  },
  {
   "cell_type": "code",
   "execution_count": 144,
   "id": "58d9278a",
   "metadata": {},
   "outputs": [],
   "source": [
    "tmp_list=[]\n",
    "for i in yc['T10Y2Y']:\n",
    "    if float(i) < 0:\n",
    "        tmp_list.append(float(i))\n",
    "yc.set_index(yc['T10Y2Y'], inplace = True)"
   ]
  },
  {
   "cell_type": "code",
   "execution_count": 145,
   "id": "902782e2",
   "metadata": {},
   "outputs": [],
   "source": [
    "temp_list=[]\n",
    "for i in range(len(yc.index)):\n",
    "    if yc.index[i] in my_list:\n",
    "        temp_list.append(i)\n",
    "df =yc.iloc[temp_list]"
   ]
  },
  {
   "cell_type": "code",
   "execution_count": 146,
   "id": "444ab9ec",
   "metadata": {},
   "outputs": [
    {
     "name": "stderr",
     "output_type": "stream",
     "text": [
      "<ipython-input-146-d17e33d34ee3>:1: SettingWithCopyWarning: \n",
      "A value is trying to be set on a copy of a slice from a DataFrame.\n",
      "Try using .loc[row_indexer,col_indexer] = value instead\n",
      "\n",
      "See the caveats in the documentation: https://pandas.pydata.org/pandas-docs/stable/user_guide/indexing.html#returning-a-view-versus-a-copy\n",
      "  df['DATE'] = pd.to_datetime(df['DATE'])\n"
     ]
    }
   ],
   "source": [
    "df['DATE'] = pd.to_datetime(df['DATE'])\n",
    "combined=pd.merge(df, spy, left_on= 'DATE',right_on =['Date'])"
   ]
  },
  {
   "cell_type": "code",
   "execution_count": 149,
   "id": "0d39977b",
   "metadata": {},
   "outputs": [],
   "source": [
    "recession = pd.read_csv('us recession2.csv')\n",
    "mask = recession['JHDUSRGDPBR'] == 1\n",
    "recession = recession[mask]\n",
    "recession = pd.to_datetime(recession['DATE'])"
   ]
  },
  {
   "cell_type": "code",
   "execution_count": 150,
   "id": "28541fec",
   "metadata": {},
   "outputs": [
    {
     "data": {
      "text/plain": [
       "<matplotlib.legend.Legend at 0x19ac9f6fd60>"
      ]
     },
     "execution_count": 150,
     "metadata": {},
     "output_type": "execute_result"
    },
    {
     "data": {
      "image/png": "[encoded data removed]",
      "text/plain": [
       "<Figure size 432x288 with 1 Axes>"
      ]
     },
     "metadata": {
      "needs_background": "light"
     },
     "output_type": "display_data"
    }
   ],
   "source": [
    "ax = plt.gca()\n",
    "ax.plot(spy,color = 'b')\n",
    "for date in combined['DATE']:\n",
    "    plt.axvline(date, alpha=0.1, color = 'pink', label = 'Yield Inversion' if date == combined['DATE'][0] else \"\")\n",
    "    \n",
    "for line in recession:\n",
    "    plt.axvline(line, alpha = 0.5, color = 'gray' , label = 'Recession' if line ==recession.iloc[0] else \"\" )\n",
    "plt.legend(loc='best')"
   ]
  }
 ],
 "metadata": {
  "kernelspec": {
   "display_name": "Python 3",
   "language": "python",
   "name": "python3"
  },
  "language_info": {
   "codemirror_mode": {
    "name": "ipython",
    "version": 3
   },
   "file_extension": ".py",
   "mimetype": "text/x-python",
   "name": "python",
   "nbconvert_exporter": "python",
   "pygments_lexer": "ipython3",
   "version": "3.8.8"
  }
 },
 "nbformat": 4,
 "nbformat_minor": 5
}
