{
 "cells": [
  {
   "cell_type": "markdown",
   "metadata": {
    "id": "8R_k_q-xlwE7"
   },
   "source": [
    "# <p style=\"text-align: center;\">MIS 382N: Advanced Machine Learning</p>\n",
    "# <p style=\"text-align: center;\">Homework 4</p>\n",
    "### <p style=\"text-align: center;\">Total points: 55 </p>\n",
    "## <p style=\"text-align: center;\">Due: Wed, **Nov, 3rd** submitted via Canvas by 11:59 pm</p>\n",
    "\n",
    "Your homework should be written in a **Jupyter notebook**. Please make sure your code runs and the graphics (and anything else) are displayed in your notebook before submitting (%matplotlib inline). \n",
    "\n",
    "**Note: Notebooks MUST have the images embedded in them. There will be no regrades if attached images do not render in the notebook. Please re download from canvas after submission and make sure all attached images render without errors. (Hint: Image module from IPython.display)**"
   ]
  },
  {
   "cell_type": "markdown",
   "metadata": {
    "id": "K62r4Kaoly_t"
   },
   "source": [
    "**This can be an individual assignment or group of 2. If you choose to do it as a group, please specify who you are working with (name and EID), then only one student should submit the homework. Put your name and eid here.**\n",
    "\n",
    "Name: J.T. Flume\n",
    "\n",
    "EID: \n",
    "\n",
    "Name: \n",
    "\n",
    "EID: "
   ]
  },
  {
   "cell_type": "markdown",
   "metadata": {
    "id": "dJFRr3e-J9lr"
   },
   "source": [
    "#Question 1: Reject option (10 pts)\n",
    "\n",
    "Consider a binary classification problem with the following loss matrix, where the cost of rejection is a constant. \n",
    "\n",
    "$$\n",
    "   {\\begin{array}{ccccc}\n",
    "   & & \\text{Predicted class} & \\text{           } &\\\\\n",
    "   & & C_1 & C_2 & Reject\\\\\n",
    "   \\text{True class} & C_1 & 0 & 2 & c  \\\\\n",
    "   & C_2 & 4 & 0 & c \\\\\n",
    "  \\end{array} } \n",
    "$$\n",
    "\n",
    "If $c$ = 1, determine the respective predicted classes that will minimize the expected loss when $P(C_1|x)$ falls in different value intervals. That is, please give the decision rules for $C_1$, $C_2$ and $Reject$."
   ]
  },
  {
   "cell_type": "markdown",
   "metadata": {
    "id": "p3dMm-ADQ9sr"
   },
   "source": [
    "## Answer:"
   ]
  },
  {
   "cell_type": "markdown",
   "metadata": {},
   "source": [
    "We will denote $P(C_1|x)$ as $f(x)$.\n",
    "\n",
    "The expected loss of choosing class 1: $E(Loss|C_1) =  f(x)*0 + (1-f(x))*4$\n",
    "\n",
    "The expected loss of choosing class 2: $E(Loss|C_2) =  f(x)*2 + (1-f(x))*0$\n",
    "\n",
    "The loss of rejection is constant at $1$."
   ]
  },
  {
   "cell_type": "markdown",
   "metadata": {},
   "source": [
    "Our decision function is simple: we always make the decision where our expected loss is minimized."
   ]
  },
  {
   "cell_type": "markdown",
   "metadata": {},
   "source": [
    "Solving for where $ E(Loss|C_1) < E(Loss|C_2)$ we discover the loss from choosing $C_1$ is less than choosing $C_2$ when $f(x) >2/3$\n",
    "\n",
    "So we now have: choose $C_1$ when $f(x) > 2/3$, otherwise, choose $C_2$.\n",
    "\n",
    "<br>\n",
    "\n",
    "But we still need to discover when it is optimal to reject. To do so, we compare both the expected loss for $C_1$ and $C_2$ to see when they are less than 1.\n",
    "\n",
    "After solving for both, we discover that:\n",
    "\n",
    " $ E(Loss|C_1) < 1$ when $f(x) > 3/4$\n",
    " \n",
    "  and:\n",
    " \n",
    "  $ E(Loss|C_2) < 1$ when $f(x) > 1/2$\n",
    "\n",
    "<br>\n",
    "\n",
    "Therefore, the final decision rule is:\n",
    "\n",
    "* If $f(x) < 1/2$, choose: $C_2$\n",
    "\n",
    "* Else if  $f(x) < 3/4$, choose the reject option\n",
    "* Else, choose: $C_1$"
   ]
  },
  {
   "cell_type": "markdown",
   "metadata": {},
   "source": [
    "We can see the same result in the graph below!"
   ]
  },
  {
   "cell_type": "code",
   "execution_count": 5,
   "metadata": {},
   "outputs": [],
   "source": [
    "import numpy as np\n",
    "import matplotlib.pyplot as plt\n",
    "import matplotlib\n",
    "import seaborn as sns; sns.set_theme()\n",
    "from sklearn.linear_model import LogisticRegression \n",
    "from sklearn.metrics import classification_report, confusion_matrix\n",
    "\n",
    "import pandas as pd\n",
    "\n",
    "import warnings\n",
    "warnings.filterwarnings('ignore')"
   ]
  },
  {
   "cell_type": "code",
   "execution_count": 6,
   "metadata": {},
   "outputs": [
    {
     "data": {
      "text/plain": [
       "<matplotlib.legend.Legend at 0x139a127d880>"
      ]
     },
     "execution_count": 6,
     "metadata": {},
     "output_type": "execute_result"
    },
    {
     "data": {
      "image/png": "[encoded data removed]",
      "text/plain": [
       "<Figure size 432x288 with 1 Axes>"
      ]
     },
     "metadata": {},
     "output_type": "display_data"
    }
   ],
   "source": [
    "probs = np.arange(0,1,.001)\n",
    "\n",
    "loss_c_1 = (1-probs) * 4\n",
    "loss_c_2 = probs*2\n",
    "rejects = [1]*len(probs)\n",
    "\n",
    "plt.plot(probs, loss_c_1,label='Expected_Loss_$C_1$')\n",
    "plt.plot(probs, loss_c_2,label='Expected_Loss_$C_1$')\n",
    "plt.plot(probs,rejects,label='Expected_Loss_Reject')\n",
    "plt.title('Expected Losses')\n",
    "plt.xlabel('$P(C_1|x)$')\n",
    "plt.ylabel('Expected Loss')\n",
    "plt.legend()"
   ]
  },
  {
   "cell_type": "markdown",
   "metadata": {
    "id": "PXZOdsIClzeq"
   },
   "source": [
    "# Question 2: Logistic Regression (15 pts) \n",
    "\n",
    "Logistic regression has been traditionally used to classify data when a **linear decision boundary** is adequate. However, having an idea of what the distribution looks like could help one come up with a smart data transformation trick that could make the optimal decision boundary become (near) linear in the transformed space. In this question, you are given 2-dimensional data, and each data point belongs to either class 0 or class 1. \n",
    "\n",
    "a) **(5 pts)** Train a logistic regression classifier using X_train, y_train. Use the trained model to make predictions on X_train, X_test respectively, and then report the accuracies and F1-scores. Sklearn has a very nice [utility](https://scikit-learn.org/stable/modules/generated/sklearn.metrics.classification_report.html) that helps compute the precision, recall, accuracy and F1-scores. \n",
    "\n",
    "b) **(5 pts)** Plot the X_train data using matplotlib, use different colors to represent different classes. Comment on the pattern of data distributions, and reason why the logistic regression classifier in (a) does not perform very well.  \n",
    "\n",
    "c) **(5 pts)** Transform the input X_train and X_test data in such a way that a linear decision boundary will be effective. Train a new logistic regression classifier on this transformed X_train data. Use the trained model to make predictions on transformed X_train, transformed X_test respectively, and then report the accuracies and F1-scores. \n",
    "\n",
    "**Hint**: Carefully analyze the plot you made in (b), observe the decision boundaries, which should guide you towards the right direction."
   ]
  },
  {
   "cell_type": "markdown",
   "metadata": {
    "id": "8Pcj3TgwnCpr"
   },
   "source": [
    "## Answer:"
   ]
  },
  {
   "cell_type": "markdown",
   "metadata": {},
   "source": [
    "#### Load Data"
   ]
  },
  {
   "cell_type": "code",
   "execution_count": 7,
   "metadata": {},
   "outputs": [],
   "source": [
    "data = np.load('q2_data.npy', allow_pickle=True)\n",
    "\n",
    "X_train, y_train = data.item().get('X_train'), data.item().get('y_train')\n",
    "X_test, y_test = data.item().get('X_test'), data.item().get('y_test')"
   ]
  },
  {
   "cell_type": "markdown",
   "metadata": {},
   "source": [
    "### A) Make predictions with Logistic Regression and print results"
   ]
  },
  {
   "cell_type": "code",
   "execution_count": 8,
   "metadata": {},
   "outputs": [],
   "source": [
    "logistic_model = LogisticRegression() # Create Model\n",
    "logistic_model.fit(X_train, y_train) # Fit Model\n",
    "\n",
    "y_predicted_train = logistic_model.predict(X_train)\n",
    "y_predicted_test = logistic_model.predict(X_test)"
   ]
  },
  {
   "cell_type": "markdown",
   "metadata": {},
   "source": [
    "Results on training set:"
   ]
  },
  {
   "cell_type": "code",
   "execution_count": 9,
   "metadata": {},
   "outputs": [
    {
     "name": "stdout",
     "output_type": "stream",
     "text": [
      "              precision    recall  f1-score   support\n",
      "\n",
      "       False       0.71      1.00      0.83       214\n",
      "        True       0.00      0.00      0.00        86\n",
      "\n",
      "    accuracy                           0.71       300\n",
      "   macro avg       0.36      0.50      0.42       300\n",
      "weighted avg       0.51      0.71      0.59       300\n",
      "\n"
     ]
    }
   ],
   "source": [
    "print(classification_report(y_train, y_predicted_train))"
   ]
  },
  {
   "cell_type": "markdown",
   "metadata": {},
   "source": [
    "Results on test set:"
   ]
  },
  {
   "cell_type": "code",
   "execution_count": 10,
   "metadata": {},
   "outputs": [
    {
     "name": "stdout",
     "output_type": "stream",
     "text": [
      "              precision    recall  f1-score   support\n",
      "\n",
      "       False       0.69      1.00      0.82        69\n",
      "        True       0.00      0.00      0.00        31\n",
      "\n",
      "    accuracy                           0.69       100\n",
      "   macro avg       0.34      0.50      0.41       100\n",
      "weighted avg       0.48      0.69      0.56       100\n",
      "\n"
     ]
    }
   ],
   "source": [
    "print(classification_report(y_test, y_predicted_test))"
   ]
  },
  {
   "cell_type": "code",
   "execution_count": null,
   "metadata": {},
   "outputs": [],
   "source": []
  },
  {
   "cell_type": "markdown",
   "metadata": {},
   "source": [
    "### B) Plot Data\n",
    "Below, after plotting the data, we see that a simple linear separator will undoubtably do a poor job. Based, on this graph, we would really like to have an elipse, surrounding the True points as our classifier."
   ]
  },
  {
   "cell_type": "code",
   "execution_count": 11,
   "metadata": {},
   "outputs": [
    {
     "data": {
      "image/png": "[encoded data removed]",
      "text/plain": [
       "<Figure size 432x288 with 1 Axes>"
      ]
     },
     "metadata": {},
     "output_type": "display_data"
    }
   ],
   "source": [
    "df = pd.DataFrame(X_train, columns=['x_1','x_2'])\n",
    "df['y'] = y_train\n",
    "sns.scatterplot(data=df,x='x_1',y='x_2',hue='y');"
   ]
  },
  {
   "cell_type": "markdown",
   "metadata": {},
   "source": [
    "### C) Transform and Refit\n",
    "\n",
    "In attempt to make our data more malleable to a logistic regression classifier, we will raise the inputs to the power of 2, which is inspired by the above plot and the equation for an elipse. We plot the results after transformation below, and it cetainly looks like we can now find a linear separator for this data!"
   ]
  },
  {
   "cell_type": "code",
   "execution_count": 12,
   "metadata": {},
   "outputs": [
    {
     "data": {
      "image/png": "[encoded data removed]",
      "text/plain": [
       "<Figure size 432x288 with 1 Axes>"
      ]
     },
     "metadata": {},
     "output_type": "display_data"
    }
   ],
   "source": [
    "X_train_transformed = np.power(X_train,2)\n",
    "X_test_transformed = np.power(X_test,2)\n",
    "\n",
    "df = pd.DataFrame(X_train_transformed, columns=['x_1','x_2'])\n",
    "df['y'] = y_train\n",
    "sns.scatterplot(data=df,x='x_1',y='x_2',hue='y');"
   ]
  },
  {
   "cell_type": "markdown",
   "metadata": {},
   "source": [
    "Now, refit the model on transformed data and predict again."
   ]
  },
  {
   "cell_type": "code",
   "execution_count": 13,
   "metadata": {},
   "outputs": [],
   "source": [
    "logistic_model = LogisticRegression() # Create Model\n",
    "logistic_model.fit(X_train_transformed, y_train) # Fit Model\n",
    "\n",
    "x_train_predictions = logistic_model.predict(X_train_transformed)\n",
    "\n",
    "\n",
    "y_predicted_train = logistic_model.predict(X_train_transformed)\n",
    "y_predicted_test = logistic_model.predict(X_test_transformed)"
   ]
  },
  {
   "cell_type": "markdown",
   "metadata": {},
   "source": [
    "Results on training set:"
   ]
  },
  {
   "cell_type": "code",
   "execution_count": 14,
   "metadata": {},
   "outputs": [
    {
     "name": "stdout",
     "output_type": "stream",
     "text": [
      "              precision    recall  f1-score   support\n",
      "\n",
      "       False       1.00      1.00      1.00       214\n",
      "        True       0.99      0.99      0.99        86\n",
      "\n",
      "    accuracy                           0.99       300\n",
      "   macro avg       0.99      0.99      0.99       300\n",
      "weighted avg       0.99      0.99      0.99       300\n",
      "\n"
     ]
    }
   ],
   "source": [
    "print(classification_report(y_train, y_predicted_train))"
   ]
  },
  {
   "cell_type": "markdown",
   "metadata": {},
   "source": [
    "Results on test set:"
   ]
  },
  {
   "cell_type": "code",
   "execution_count": 15,
   "metadata": {},
   "outputs": [
    {
     "name": "stdout",
     "output_type": "stream",
     "text": [
      "              precision    recall  f1-score   support\n",
      "\n",
      "       False       1.00      1.00      1.00        69\n",
      "        True       1.00      1.00      1.00        31\n",
      "\n",
      "    accuracy                           1.00       100\n",
      "   macro avg       1.00      1.00      1.00       100\n",
      "weighted avg       1.00      1.00      1.00       100\n",
      "\n"
     ]
    }
   ],
   "source": [
    "print(classification_report(y_test, y_predicted_test))"
   ]
  },
  {
   "cell_type": "code",
   "execution_count": 16,
   "metadata": {},
   "outputs": [
    {
     "data": {
      "text/plain": [
       "86"
      ]
     },
     "execution_count": 16,
     "metadata": {},
     "output_type": "execute_result"
    }
   ],
   "source": [
    "y_train.sum()"
   ]
  },
  {
   "cell_type": "markdown",
   "metadata": {
    "id": "3kuJ3AByMTpI"
   },
   "source": [
    "# Question 3: Bayesian Network (5 pts)\n",
    "\n",
    "A Bayesian network is a directed acyclic graph (DAG) that captures a subset of the independence relationships of a given joint probability distribution. \n",
    "\n",
    "In a Bayesian network $G=(V,E)$, each node $i \\in V$in the directed graph corresponds to a random variable and each directed edge $e \\in E$ represents a statistical dependence. Each node is associated with a conditional probability distribution of the corresponding random variables given its parents in the DAG. The joint probability distribution factorizes w.r.t the directed graph $G$ if $p(x_1, ..., x_n)=\\prod_{i \\in V} p(x_i | x_{parents(i)})$, provided the variables are visited in a topologically sorted order. Please write the joint probability distribution that factorizes w.r.t this graph, in as simple a form as possible (i.e. that results in the smallest possible conditional probability tables:\n"
   ]
  },
  {
   "cell_type": "code",
   "execution_count": 17,
   "metadata": {
    "colab": {
     "base_uri": "https://localhost:8080/",
     "height": 505
    },
    "id": "sfd86n0uP0dp",
    "outputId": "6cad03b4-86b3-4912-84df-dc378b00cbbb"
   },
   "outputs": [
    {
     "data": {
      "text/html": [
       "<iframe src=\"https://drive.google.com/file/d/1XigbvsWpNvlols3QarVjDfYf2Dnf3emy/preview\" width=\"640\" height=\"480\" allow=\"autoplay\"></iframe>\n"
      ],
      "text/plain": [
       "<IPython.core.display.HTML object>"
      ]
     },
     "metadata": {},
     "output_type": "display_data"
    }
   ],
   "source": [
    "%%html\n",
    "<iframe src=\"https://drive.google.com/file/d/1XigbvsWpNvlols3QarVjDfYf2Dnf3emy/preview\" width=\"640\" height=\"480\" allow=\"autoplay\"></iframe>"
   ]
  },
  {
   "cell_type": "markdown",
   "metadata": {
    "id": "_kUqyveiP6zV"
   },
   "source": [
    "## Answer:\n"
   ]
  },
  {
   "cell_type": "markdown",
   "metadata": {},
   "source": [
    "$$P(A)*P(B|A)*P(D|B)*P(E|B)*P(C|A,E)*P(F|D,E,C)$$"
   ]
  },
  {
   "cell_type": "markdown",
   "metadata": {
    "id": "KPukziKknW3K"
   },
   "source": [
    "# Question 4: Counterfactuals (25 pts)\n"
   ]
  },
  {
   "cell_type": "markdown",
   "metadata": {
    "id": "tASB8c_MJ2ZD"
   },
   "source": [
    "To show the effectiveness of a newly proposed model, one needs to compare it with multiple  existing solutions, across multiple datasets with different properties, and typically using multiple evaluation metrics. \n",
    "\n",
    "One of the emerging requirements in industry is to be able to explain decisions, and counterfactual (CF) explanations turn out to be a lead contender. Hence a new CF approach also needs to be evaluated comprehensively. See [1] for a review on conterfactual explanations. \n",
    "\n",
    "An example of a short comparative testing for CFs is given in [2], (you don’t need to understand the method in [2] since I have not covered this type of techinques in class, just see the result tables). The goal of this question is to **try to obtain results that are similar to those reported in [2]** (note that they give details of their model settings in the appendix). In particular, you will evaluate the following datasets: Breast Cancer, Pima diabetes and Adult Census across 5 metrics (Validity, sparsity, proximity, diversity, in-distributionness). \n",
    "\n",
    "**Note**: **Section A** students only need to report on the **Breat Cancer and Adult Census datasets** while **Section B** students only need to report results on the **Pima diabetes and Adult Census datasets**.\n",
    "\n",
    "[1] Verma, Dickerson, Hines. Counterfactual Explanations for Machine Learning: A Review. [arXiv:2010.10596](https://arxiv.org/abs/2010.10596) (2020) \n",
    "\n",
    "[2] Samoilescu, et al. Model-agnostic and Scalable Counterfactual Explanations via Reinforcement Learning.  [arXiv:2106.02597](https://arxiv.org/abs/2106.02597) (2021) \n",
    "\n",
    "\n",
    "a) Train **Random Forest, MLP and Logistic Regression** models on your datasets and report the accuracies on each of the datasets, show the accuracy on both the training and test set in a table.\n",
    "\n",
    "Use the code snippets given below to load the datasets and make the split using the following code snippet: \n",
    "\n",
    "\n",
    "b) For each of the datasets, plot the calibration curves for the entire dataset. The [module](https://scikit-learn.org/stable/modules/calibration.html) from sklearn should help.\n",
    "\n",
    "For each dataset, the calibration curve should show a y=x line as the perfect calibration, as well as the calibration curves for each of the model predictions. Mark the plots correctly using a legend.\n",
    "\n",
    "c) [DiCE](https://github.com/interpretml/DiCE) is an open-source library that is based on the paper [Explaining Machine Learning Classifiers through Diverse Counterfactual Explanations](https://arxiv.org/abs/1905.07697). The codebase has 3 methods in which they generate counterfactuals - random sampling, KD-tree and genetic algorithm. Use DiCE (random) and DiCE (genetic) to generate 5 counterfactuals each for the first 50 data point in the test set for each of the models. Report the following metrics for each of the datasets and each of the models. So essentially, you will need to create a table for each dataset where the metrics are present in the columns and each row represents a different model. \n",
    "\n",
    "Here are some pointers that will help you get started with DiCE and the metrics needed. \n",
    "- Install the library using ```!pip install dice-ml```\n",
    "- They have an excellent documentation on their GitHub, and their implementation notebooks will be very helpful. You can check [this](https://github.com/interpretml/DiCE/blob/master/docs/source/notebooks/DiCE_model_agnostic_CFs.ipynb) to get started.\n",
    "- Section 4.1 in the [DiCE paper](https://arxiv.org/pdf/1905.07697.pdf) discuss and mathematically formulate validity, sparsity, diversity and proximity. Read those carefully and implement functions that can evaluate the metrics. Use the ```Continuous-Proximity``` metric just for simplicity. Use the ```Diversity``` metric and not ```Count-Diversity```.\n",
    "- For the in-distributionness, use the following code snippet to evaluate the MMD (maximum mean discrepancy) score."
   ]
  },
  {
   "cell_type": "markdown",
   "metadata": {
    "id": "gcLazqf-DLkq"
   },
   "source": [
    "## Answer:"
   ]
  },
  {
   "cell_type": "code",
   "execution_count": 18,
   "metadata": {},
   "outputs": [],
   "source": [
    "from sklearn.model_selection import train_test_split\n",
    "from sklearn.ensemble import RandomForestClassifier\n",
    "from sklearn.neural_network import MLPClassifier\n",
    "\n",
    "from sklearn.calibration import CalibratedClassifierCV, calibration_curve\n",
    "from sklearn.calibration import CalibrationDisplay\n",
    "\n",
    "plt.rcParams[\"figure.figsize\"] = (9, 5.5)"
   ]
  },
  {
   "cell_type": "markdown",
   "metadata": {},
   "source": [
    "## Data Set 1: Breast Cancer"
   ]
  },
  {
   "cell_type": "markdown",
   "metadata": {},
   "source": [
    "### A) Train three models and report accuracies on training and test data sets"
   ]
  },
  {
   "cell_type": "code",
   "execution_count": 19,
   "metadata": {},
   "outputs": [],
   "source": [
    "from sklearn.datasets import load_breast_cancer\n",
    "\n",
    "data = load_breast_cancer()\n",
    "X = data.data\n",
    "y = data.target\n",
    "cols = ['mean radius', 'mean texture', 'mean perimeter', 'mean area',\n",
    "        'mean smoothness', 'mean compactness', 'mean concavity',\n",
    "        'mean concave points', 'mean symmetry', 'mean fractal dimension',\n",
    "        'radius error', 'texture error', 'perimeter error', 'area error',\n",
    "        'smoothness error', 'compactness error', 'concavity error',\n",
    "        'concave points error', 'symmetry error',\n",
    "        'fractal dimension error', 'worst radius', 'worst texture',\n",
    "        'worst perimeter', 'worst area', 'worst smoothness',\n",
    "        'worst compactness', 'worst concavity', 'worst concave points',\n",
    "        'worst symmetry', 'worst fractal dimension']\n",
    "\n",
    "X = pd.DataFrame(data=X, columns=cols)\n",
    "\n",
    "X_train, X_test, y_train, y_test = train_test_split(X, y, test_size=0.33, random_state=42)"
   ]
  },
  {
   "cell_type": "code",
   "execution_count": 20,
   "metadata": {},
   "outputs": [],
   "source": [
    "# Create a dataframe to store each models accuracy for train and test set\n",
    "df_cancer_results = pd.DataFrame(data=np.zeros((3,2)), columns=['train','test'], index=['Logistic','Random_Forest','MLP'])\n",
    "\n",
    "# Fit Logistic Model and input accuracies into dataframe\n",
    "logistic_model = LogisticRegression().fit(X_train, y_train)\n",
    "df_cancer_results.loc['Logistic', 'train'] = (logistic_model.predict(X_train) == y_train).mean()\n",
    "df_cancer_results.loc['Logistic', 'test'] = (logistic_model.predict(X_test) == y_test).mean()\n",
    "\n",
    "# Fit Random Forest Model and input accuracies into dataframe\n",
    "random_forest_model = RandomForestClassifier()\n",
    "random_forest_model.fit(X_train, y_train)\n",
    "df_cancer_results.loc['Random_Forest', 'train'] = (random_forest_model.predict(X_train) == y_train).mean()\n",
    "df_cancer_results.loc['Random_Forest', 'test'] = (random_forest_model.predict(X_test) == y_test).mean()\n",
    "\n",
    "\n",
    "# Fit MLP Model and input accuracies into dataframe\n",
    "mlp_model = MLPClassifier()\n",
    "mlp_model.fit(X_train, y_train)\n",
    "df_cancer_results.loc['MLP', 'train'] = (mlp_model.predict(X_train) == y_train).mean()\n",
    "df_cancer_results.loc['MLP', 'test'] = (mlp_model.predict(X_test) == y_test).mean()"
   ]
  },
  {
   "cell_type": "markdown",
   "metadata": {},
   "source": [
    "Accuracies:"
   ]
  },
  {
   "cell_type": "code",
   "execution_count": 21,
   "metadata": {},
   "outputs": [
    {
     "data": {
      "text/html": [
       "<div>\n",
       "<style scoped>\n",
       "    .dataframe tbody tr th:only-of-type {\n",
       "        vertical-align: middle;\n",
       "    }\n",
       "\n",
       "    .dataframe tbody tr th {\n",
       "        vertical-align: top;\n",
       "    }\n",
       "\n",
       "    .dataframe thead th {\n",
       "        text-align: right;\n",
       "    }\n",
       "</style>\n",
       "<table border=\"1\" class=\"dataframe\">\n",
       "  <thead>\n",
       "    <tr style=\"text-align: right;\">\n",
       "      <th></th>\n",
       "      <th>train</th>\n",
       "      <th>test</th>\n",
       "    </tr>\n",
       "  </thead>\n",
       "  <tbody>\n",
       "    <tr>\n",
       "      <th>Logistic</th>\n",
       "      <td>0.955381</td>\n",
       "      <td>0.968085</td>\n",
       "    </tr>\n",
       "    <tr>\n",
       "      <th>Random_Forest</th>\n",
       "      <td>1.000000</td>\n",
       "      <td>0.968085</td>\n",
       "    </tr>\n",
       "    <tr>\n",
       "      <th>MLP</th>\n",
       "      <td>0.916010</td>\n",
       "      <td>0.978723</td>\n",
       "    </tr>\n",
       "  </tbody>\n",
       "</table>\n",
       "</div>"
      ],
      "text/plain": [
       "                  train      test\n",
       "Logistic       0.955381  0.968085\n",
       "Random_Forest  1.000000  0.968085\n",
       "MLP            0.916010  0.978723"
      ]
     },
     "execution_count": 21,
     "metadata": {},
     "output_type": "execute_result"
    }
   ],
   "source": [
    "df_cancer_results"
   ]
  },
  {
   "cell_type": "markdown",
   "metadata": {},
   "source": [
    "### B) Calibration Curves\n",
    "We will now plot the calibration curves on the full dataset. To do that, we will refit each model on the full data set, and then plot each calibration curve on the same plot."
   ]
  },
  {
   "cell_type": "code",
   "execution_count": 22,
   "metadata": {},
   "outputs": [
    {
     "data": {
      "image/png": "[encoded data removed]",
      "text/plain": [
       "<Figure size 648x396 with 1 Axes>"
      ]
     },
     "metadata": {},
     "output_type": "display_data"
    }
   ],
   "source": [
    "\n",
    "def plot_calibration_curves(models_dict:dict, X, y , bins=5):\n",
    "    \"\"\"Send in a dictionary of models where the keys are the model names and values are the instantiated model.\n",
    "        The funciton will fit each model based on the provided 'X' and 'y' data. Then it will plot the calibration curves.\n",
    "    \"\"\"    \n",
    "    # Plot the perfect calibration line\n",
    "    plt.plot([0,1],[0,1], linestyle='dashed', color='black', label='Perfectly Calibrated')\n",
    "\n",
    "    for model_name, model in models_dict.items():\n",
    "        model.fit(X,y)\n",
    "        y_prob = model.predict_proba(X)[:,1]\n",
    "        prob_true, prob_pred = calibration_curve(y, y_prob)\n",
    "        plt.plot(prob_pred, prob_true, marker='s', label=model_name)\n",
    "    \n",
    "    plt.legend()\n",
    "\n",
    "\n",
    "models_dict = {'Logisitc':LogisticRegression(),'Random Forest':RandomForestClassifier(),'MLP':MLPClassifier()}\n",
    "plot_calibration_curves(models_dict, X, y)\n"
   ]
  },
  {
   "cell_type": "markdown",
   "metadata": {},
   "source": [
    "### C) Counterfactuals"
   ]
  },
  {
   "cell_type": "code",
   "execution_count": 23,
   "metadata": {},
   "outputs": [],
   "source": [
    "import dice_ml\n",
    "from dice_ml.utils import helpers # helper functions\n",
    "from scipy.stats import median_abs_deviation\n",
    "\n",
    "def get_mmd_rbf(X, Y, gamma=1.0):\n",
    "    \"\"\"MMD using rbf (gaussian) kernel (i.e., k(x,y) = exp(-gamma * ||x-y||^2 / 2))\n",
    "    Arguments:\n",
    "        X {[n_sample1, dim]} -- [X matrix]\n",
    "        Y {[n_sample2, dim]} -- [Y matrix]\n",
    "    Keyword Arguments:\n",
    "        gamma {float} -- [kernel parameter] (default: {1.0})\n",
    "    Returns:\n",
    "        [scalar] -- [MMD value]\n",
    "    \"\"\"\n",
    "    XX = metrics.pairwise.rbf_kernel(X, X, gamma)\n",
    "    YY = metrics.pairwise.rbf_kernel(Y, Y, gamma)\n",
    "    XY = metrics.pairwise.rbf_kernel(X, Y, gamma)\n",
    "    return XX.mean() + YY.mean() - 2 * XY.mean()"
   ]
  },
  {
   "cell_type": "markdown",
   "metadata": {},
   "source": [
    "Two helpful function here. The first, will generate the counterfactuals using dice and return that annoying dice object that you can then loop through to get the counterfactuals. The second function will actually loop through all of the counterfactuals and put them in one big dataframe for later use."
   ]
  },
  {
   "cell_type": "code",
   "execution_count": 24,
   "metadata": {},
   "outputs": [],
   "source": [
    "def generate_counter_factuals(X_data, trained_model, continuous_features:list, cf_method:str, cf_num:int, query_instances):\n",
    "    \"\"\"Return a CounterFactualExamples object\"\"\"\n",
    "\n",
    "    d = dice_ml.Data(dataframe=X_data, continuous_features=continuous_features, outcome_name='target')\n",
    "    m = dice_ml.Model(model=trained_model, backend='sklearn')\n",
    "    exp_random = dice_ml.Dice(d, m, method=cf_method)\n",
    "    dice_exp_random = exp_random.generate_counterfactuals(query_instances=query_instances, total_CFs=cf_num)\n",
    "\n",
    "    return dice_exp_random\n",
    "\n",
    "def make_cf_dataframe(cfs_obj):\n",
    "\n",
    "    combined_cf_df = pd.DataFrame()\n",
    "    \n",
    "    for query_number, query_instance_cfs in enumerate(cfs_obj._cf_examples_list):\n",
    "        cf_df = query_instance_cfs.final_cfs_df.copy()\n",
    "        cf_df['query_number'] = query_number\n",
    "        combined_cf_df = pd.concat([combined_cf_df,cf_df])\n",
    "\n",
    "    combined_cf_df.index = range(len(combined_cf_df))\n",
    "\n",
    "    return combined_cf_df"
   ]
  },
  {
   "cell_type": "markdown",
   "metadata": {},
   "source": [
    "All of the fun functions below are just used to calculate the metrics, where they will receive a dataframe of counterfactuals and a series containing the query instance to get the metrics on."
   ]
  },
  {
   "cell_type": "code",
   "execution_count": 25,
   "metadata": {},
   "outputs": [],
   "source": [
    "def calculate_validity(cf_df:pd.DataFrame, query_instance:pd.DataFrame):\n",
    "    cf_df.drop(columns=['query_number'])\n",
    "    actual_counter_factuals = cf_df['target'] != query_instance['target']\n",
    "    \n",
    "    return sum(actual_counter_factuals)/len(cf_df)\n",
    "\n",
    "\n",
    "def calculate_distance(row_1:pd.Series, row_2:pd.Series):\n",
    "    abs_differences = np.abs(row_1 - row_2)\n",
    "    abs_diffs_scaled_by_median = abs_differences / X_train.apply(median_abs_deviation)\n",
    "    distance = sum(abs_diffs_scaled_by_median)/len(row_1)\n",
    "    return distance\n",
    "\n",
    "def calculate_proximity(cf_df:pd.DataFrame, query_instance:pd.DataFrame):\n",
    "\n",
    "    cf_df = cf_df.drop(columns=['target','query_number'])\n",
    "    all_proximities = []\n",
    "    for index, row in cf_df.iterrows():\n",
    "        all_proximities.append(calculate_distance(query_instance, row))\n",
    "        \n",
    "    avg_proximity = sum(all_proximities)/len(cf_df)\n",
    "    return -avg_proximity\n",
    "\n",
    "\n",
    "def calculate_sparsity(cf_df:pd.DataFrame, query_instance:pd.DataFrame):\n",
    "\n",
    "    cf_df = cf_df.drop(columns=['target','query_number'])\n",
    "    all_diffs = []\n",
    "    for index, row in cf_df.iterrows():\n",
    "        num_diff_features = sum((row - query_instance).astype(bool))\n",
    "        all_diffs.append(num_diff_features)\n",
    "    sparsity = 1 - sum(all_diffs)/(len(cf_df)*len(query_instance))\n",
    "\n",
    "    return sparsity\n",
    "\n",
    "def calculate_diversity(cf_df:pd.DataFrame, query_instance_df:pd.DataFrame):\n",
    "    cf_df = cf_df.drop(columns=['target','query_number'])\n",
    "    all_distances = []\n",
    "\n",
    "    cf_count = len(cf_df)\n",
    "    for i in range(cf_count):\n",
    "        for j in range(i+1,cf_count):\n",
    "            pairwise_distance = calculate_distance(cf_df.iloc[i], cf_df.iloc[j])\n",
    "            all_distances.append(pairwise_distance)\n",
    "\n",
    "    return sum(all_distances)/len(all_distances)"
   ]
  },
  {
   "cell_type": "markdown",
   "metadata": {},
   "source": [
    "#### Inputs and set up for counterfactuals\n",
    "\n",
    "We have to adjust the data to make sure it is in the right format for dice. We do that below."
   ]
  },
  {
   "cell_type": "code",
   "execution_count": 214,
   "metadata": {},
   "outputs": [],
   "source": [
    "# Copy all of the original data and put it into a formate that dice wants, where the target is in the same dataframe as inputs\n",
    "\n",
    "X_data_all = X.copy() \n",
    "X_data_all['target'] = y # Dice wants there to be a target\n",
    "all_features = list(X.columns)[:-1] # All columns are continuos, but we don't want the target variable\n",
    "continuous_feautres = all_features # All features are continious in this dataset\n",
    "X_test_diced = X_test.copy()\n",
    "X_test_diced['target'] = y_test # We will need the targets later on when calculating metrics.\n",
    "\n",
    "query_instances = X_test_diced.iloc[:15,:] # First 15"
   ]
  },
  {
   "cell_type": "markdown",
   "metadata": {},
   "source": [
    "### WARNING!! Below cell takes around 30 minutes to run."
   ]
  },
  {
   "cell_type": "markdown",
   "metadata": {},
   "source": [
    "This is the real meat of the program. It should spit out the requested dataframe in the problem for all three models and all the metrics, but unfortunately, Dice was giving us trouble when trying to run with the genetic method. So we commented it out. But if you uncomment out the third line below, it's possible that the script will run and it will be perfect! But otherwise, you'll see the dataframe below which is missing 3 more 4 more columns for the genetic counterfactuals metrics."
   ]
  },
  {
   "cell_type": "code",
   "execution_count": 215,
   "metadata": {},
   "outputs": [
    {
     "name": "stdout",
     "output_type": "stream",
     "text": [
      "random\n"
     ]
    },
    {
     "name": "stderr",
     "output_type": "stream",
     "text": [
      "100%|██████████| 15/15 [06:04<00:00, 24.32s/it]\n",
      "100%|██████████| 15/15 [22:23<00:00, 89.58s/it]\n",
      "100%|██████████| 15/15 [06:15<00:00, 25.01s/it]\n"
     ]
    }
   ],
   "source": [
    "trained_models = models_dict = {'Logisitc':logistic_model,'Random Forest':random_forest_model,'MLP':mlp_model}\n",
    "\n",
    "cf_methods = ['random']\n",
    "# cf_methods = ['random','genetic']\n",
    "\n",
    "def evaluate_all_models_and_metrics(trained_models_dict, cf_methods, all_features:list, continuous_features:list, cf_num:int, query_instances):\n",
    "    \n",
    "    df_metrics = pd.DataFrame()\n",
    "\n",
    "    query_instances_no_target = query_instances.drop(columns='target')\n",
    "\n",
    "    for cf_method in cf_methods:\n",
    "        print(cf_method)\n",
    "        for model_name, trained_model in trained_models_dict.items():\n",
    "            # Generate counter factuals for this method type and model\n",
    "            counter_factuals_obj = generate_counter_factuals(X_data_all,trained_model,continuous_features,cf_method, cf_num=cf_num,query_instances=query_instances_no_target)\n",
    "            # df to hold all counterfactuals and store their associated query number\n",
    "            combo_cf_df = make_cf_dataframe(counter_factuals_obj)\n",
    "\n",
    "            # Now we can calculate metrics!!\n",
    "            proximities = []\n",
    "            diversities = []\n",
    "            sparsities = []\n",
    "            validities = []\n",
    "\n",
    "\n",
    "            for query_number in range(len(query_instances)):\n",
    "                cf_df_filtered = combo_cf_df[combo_cf_df['query_number'] == query_number]\n",
    "                query_instance = query_instances.iloc[query_number]\n",
    "                query_instance_no_target = query_instances_no_target.iloc[query_number]\n",
    "\n",
    "                validities.append(calculate_validity(cf_df_filtered,query_instance))\n",
    "                proximities.append(calculate_proximity(cf_df_filtered, query_instance_no_target))\n",
    "                sparsities.append(calculate_sparsity(cf_df_filtered,query_instance))\n",
    "                diversities.append(calculate_diversity(cf_df_filtered,query_instance))\n",
    "\n",
    "            # Put the average for all metrics into df of metrics\n",
    "            df_metrics.loc[model_name, f'validity_{cf_method}'] = sum(validities)/len(validities)\n",
    "            df_metrics.loc[model_name, f'proximity_{cf_method}'] = sum(proximities)/len(proximities)\n",
    "            df_metrics.loc[model_name, f'sparsity_{cf_method}'] = sum(sparsities)/len(sparsities)\n",
    "            df_metrics.loc[model_name, f'diversity_{cf_method}'] = sum(diversities)/len(diversities)\n",
    "\n",
    "    return df_metrics\n",
    "\n",
    "df_metrics_breast_cancer = evaluate_all_models_and_metrics(trained_models, cf_methods, all_features, continuous_feautres,cf_num=5, query_instances = query_instances)\n",
    "# evaluate_all_models_and_metrics(trained_models, cf_methods, all_features, continuous_feautres,cf_num=2, query_instances = query_instances.iloc[:2,:])\n"
   ]
  },
  {
   "cell_type": "code",
   "execution_count": 216,
   "metadata": {},
   "outputs": [
    {
     "data": {
      "text/html": [
       "<div>\n",
       "<style scoped>\n",
       "    .dataframe tbody tr th:only-of-type {\n",
       "        vertical-align: middle;\n",
       "    }\n",
       "\n",
       "    .dataframe tbody tr th {\n",
       "        vertical-align: top;\n",
       "    }\n",
       "\n",
       "    .dataframe thead th {\n",
       "        text-align: right;\n",
       "    }\n",
       "</style>\n",
       "<table border=\"1\" class=\"dataframe\">\n",
       "  <thead>\n",
       "    <tr style=\"text-align: right;\">\n",
       "      <th></th>\n",
       "      <th>validity_random</th>\n",
       "      <th>proximity_random</th>\n",
       "      <th>sparsity_random</th>\n",
       "      <th>diversity_random</th>\n",
       "    </tr>\n",
       "  </thead>\n",
       "  <tbody>\n",
       "    <tr>\n",
       "      <th>Logisitc</th>\n",
       "      <td>1.000000</td>\n",
       "      <td>-0.472237</td>\n",
       "      <td>0.914409</td>\n",
       "      <td>0.675801</td>\n",
       "    </tr>\n",
       "    <tr>\n",
       "      <th>Random Forest</th>\n",
       "      <td>0.746667</td>\n",
       "      <td>-1.712614</td>\n",
       "      <td>0.701075</td>\n",
       "      <td>1.980102</td>\n",
       "    </tr>\n",
       "    <tr>\n",
       "      <th>MLP</th>\n",
       "      <td>0.933333</td>\n",
       "      <td>-0.525708</td>\n",
       "      <td>0.883871</td>\n",
       "      <td>0.835461</td>\n",
       "    </tr>\n",
       "  </tbody>\n",
       "</table>\n",
       "</div>"
      ],
      "text/plain": [
       "               validity_random  proximity_random  sparsity_random  \\\n",
       "Logisitc              1.000000         -0.472237         0.914409   \n",
       "Random Forest         0.746667         -1.712614         0.701075   \n",
       "MLP                   0.933333         -0.525708         0.883871   \n",
       "\n",
       "               diversity_random  \n",
       "Logisitc               0.675801  \n",
       "Random Forest          1.980102  \n",
       "MLP                    0.835461  "
      ]
     },
     "execution_count": 216,
     "metadata": {},
     "output_type": "execute_result"
    }
   ],
   "source": [
    "df_metrics_breast_cancer"
   ]
  },
  {
   "cell_type": "code",
   "execution_count": null,
   "metadata": {},
   "outputs": [],
   "source": []
  },
  {
   "cell_type": "markdown",
   "metadata": {},
   "source": [
    "## Data Set 2: Adult Census"
   ]
  },
  {
   "cell_type": "markdown",
   "metadata": {},
   "source": [
    "### A) Train three models and report accuracies on training and test data sets"
   ]
  },
  {
   "cell_type": "markdown",
   "metadata": {},
   "source": [
    "#### Adult"
   ]
  },
  {
   "cell_type": "code",
   "execution_count": 26,
   "metadata": {},
   "outputs": [],
   "source": [
    "def load_adult():\n",
    "  df = pd.read_csv('adult.csv')\n",
    "  df = pd.get_dummies(df)\n",
    "  X = df.drop(['target'], axis=1)\n",
    "  y = df[['target']].values\n",
    "  return X, np.reshape(y, (-1, ))\n",
    "\n",
    "X, y = load_adult()\n",
    "X_train, X_test, y_train, y_test = train_test_split(X, y, test_size=0.33, random_state=42)\n",
    "# X_train, X_test, y_train, y_test = X_train.values, X_test.values, y_train.values, y_test.values\n",
    "X_train, X_test, y_train, y_test = X_train, X_test, y_train, y_test"
   ]
  },
  {
   "cell_type": "code",
   "execution_count": 27,
   "metadata": {},
   "outputs": [
    {
     "data": {
      "text/html": [
       "<div>\n",
       "<style scoped>\n",
       "    .dataframe tbody tr th:only-of-type {\n",
       "        vertical-align: middle;\n",
       "    }\n",
       "\n",
       "    .dataframe tbody tr th {\n",
       "        vertical-align: top;\n",
       "    }\n",
       "\n",
       "    .dataframe thead th {\n",
       "        text-align: right;\n",
       "    }\n",
       "</style>\n",
       "<table border=\"1\" class=\"dataframe\">\n",
       "  <thead>\n",
       "    <tr style=\"text-align: right;\">\n",
       "      <th></th>\n",
       "      <th>train</th>\n",
       "      <th>test</th>\n",
       "    </tr>\n",
       "  </thead>\n",
       "  <tbody>\n",
       "    <tr>\n",
       "      <th>Logistic</th>\n",
       "      <td>0.789915</td>\n",
       "      <td>0.796669</td>\n",
       "    </tr>\n",
       "    <tr>\n",
       "      <th>Random_Forest</th>\n",
       "      <td>1.000000</td>\n",
       "      <td>0.853899</td>\n",
       "    </tr>\n",
       "    <tr>\n",
       "      <th>MLP</th>\n",
       "      <td>0.789457</td>\n",
       "      <td>0.795552</td>\n",
       "    </tr>\n",
       "  </tbody>\n",
       "</table>\n",
       "</div>"
      ],
      "text/plain": [
       "                  train      test\n",
       "Logistic       0.789915  0.796669\n",
       "Random_Forest  1.000000  0.853899\n",
       "MLP            0.789457  0.795552"
      ]
     },
     "execution_count": 27,
     "metadata": {},
     "output_type": "execute_result"
    }
   ],
   "source": [
    "\n",
    "# Create a dataframe to store each models accuracy for train and test set\n",
    "df_adult_results = pd.DataFrame(data=np.zeros((3,2)), columns=['train','test'], index=['Logistic','Random_Forest','MLP'])\n",
    "\n",
    "# Fit Logistic Model and input accuracies into dataframe\n",
    "logistic_model = LogisticRegression().fit(X_train, y_train)\n",
    "df_adult_results.loc['Logistic', 'train'] = (logistic_model.predict(X_train) == y_train).mean()\n",
    "df_adult_results.loc['Logistic', 'test'] = (logistic_model.predict(X_test) == y_test).mean()\n",
    "\n",
    "# Fit Random Forest Model and input accuracies into dataframe\n",
    "random_forest_model = RandomForestClassifier()\n",
    "random_forest_model.fit(X_train, y_train)\n",
    "df_adult_results.loc['Random_Forest', 'train'] = (random_forest_model.predict(X_train) == y_train).mean()\n",
    "df_adult_results.loc['Random_Forest', 'test'] = (random_forest_model.predict(X_test) == y_test).mean()\n",
    "\n",
    "\n",
    "# Fit MLP Model and input accuracies into dataframe\n",
    "mlp_model = MLPClassifier()\n",
    "mlp_model.fit(X_train, y_train)\n",
    "df_adult_results.loc['MLP', 'train'] = (mlp_model.predict(X_train) == y_train).mean()\n",
    "df_adult_results.loc['MLP', 'test'] = (mlp_model.predict(X_test) == y_test).mean()\n",
    "\n",
    "\n",
    "df_adult_results"
   ]
  },
  {
   "cell_type": "markdown",
   "metadata": {},
   "source": [
    "### B) Calibration Curves\n",
    "We will now plot the calibration curves on the full dataset. To do that, we will refit each model on the full data set, and then plot each calibration curve on the same plot."
   ]
  },
  {
   "cell_type": "code",
   "execution_count": 28,
   "metadata": {},
   "outputs": [
    {
     "data": {
      "image/png": "[encoded data removed]",
      "text/plain": [
       "<Figure size 648x396 with 1 Axes>"
      ]
     },
     "metadata": {},
     "output_type": "display_data"
    }
   ],
   "source": [
    "models_dict = {'Logisitc':LogisticRegression(),'Random Forest':RandomForestClassifier(),'MLP':MLPClassifier()}\n",
    "plot_calibration_curves(models_dict, X, y)"
   ]
  },
  {
   "cell_type": "markdown",
   "metadata": {},
   "source": [
    "### C) Counterfactuals"
   ]
  },
  {
   "cell_type": "markdown",
   "metadata": {},
   "source": [
    "Ideally, this should be very similiar stuff to before and we should be able to just utilize the same functions we created above. But, there appears to be a bug somewhere because of the NANs in the output and we were not able to figure it out unfortunately."
   ]
  },
  {
   "cell_type": "markdown",
   "metadata": {},
   "source": [
    "Again, below cell is getting the data in the right format for both how Dice wants it, and to make sure it is compatible with the functions we already created."
   ]
  },
  {
   "cell_type": "code",
   "execution_count": 29,
   "metadata": {},
   "outputs": [],
   "source": [
    "# Copy all of the original data and put it into a formate that dice wants, where the target is in the same dataframe as inputs\n",
    "X_data_all = X.copy() \n",
    "X_data_all['target'] = y # Dice wants there to be a target\n",
    "all_features = list(X.columns)[:-1] #  we don't want the target variable\n",
    "\n",
    "numerics = ['int16', 'int32', 'int64', 'float16', 'float32', 'float64']\n",
    "continuous_feautures = list(X.select_dtypes(include=numerics).columns) #\n",
    "\n",
    "X_test_diced = X_test.copy()\n",
    "X_test_diced['target'] = y_test\n",
    "\n",
    "query_instances = X_test_diced.iloc[:15,:] # First 15"
   ]
  },
  {
   "cell_type": "code",
   "execution_count": 32,
   "metadata": {},
   "outputs": [
    {
     "name": "stdout",
     "output_type": "stream",
     "text": [
      "random\n"
     ]
    },
    {
     "name": "stderr",
     "output_type": "stream",
     "text": [
      "100%|██████████| 15/15 [00:02<00:00,  6.95it/s]\n",
      "100%|██████████| 15/15 [00:04<00:00,  3.52it/s]\n",
      "100%|██████████| 15/15 [00:02<00:00,  6.65it/s]\n"
     ]
    }
   ],
   "source": [
    "trained_models = models_dict = {'Logisitc':logistic_model,'Random Forest':random_forest_model,'MLP':mlp_model}\n",
    "\n",
    "cf_methods = ['random']\n",
    "# cf_methods = ['random','genetic']\n",
    "\n",
    "df_metrics_adult = evaluate_all_models_and_metrics(trained_models, cf_methods, all_features, continuous_feautures,cf_num=5, query_instances = query_instances)"
   ]
  },
  {
   "cell_type": "code",
   "execution_count": 34,
   "metadata": {},
   "outputs": [
    {
     "data": {
      "text/html": [
       "<div>\n",
       "<style scoped>\n",
       "    .dataframe tbody tr th:only-of-type {\n",
       "        vertical-align: middle;\n",
       "    }\n",
       "\n",
       "    .dataframe tbody tr th {\n",
       "        vertical-align: top;\n",
       "    }\n",
       "\n",
       "    .dataframe thead th {\n",
       "        text-align: right;\n",
       "    }\n",
       "</style>\n",
       "<table border=\"1\" class=\"dataframe\">\n",
       "  <thead>\n",
       "    <tr style=\"text-align: right;\">\n",
       "      <th></th>\n",
       "      <th>validity_random</th>\n",
       "      <th>proximity_random</th>\n",
       "      <th>sparsity_random</th>\n",
       "      <th>diversity_random</th>\n",
       "    </tr>\n",
       "  </thead>\n",
       "  <tbody>\n",
       "    <tr>\n",
       "      <th>Logisitc</th>\n",
       "      <td>0.8</td>\n",
       "      <td>NaN</td>\n",
       "      <td>0.962985</td>\n",
       "      <td>NaN</td>\n",
       "    </tr>\n",
       "    <tr>\n",
       "      <th>Random Forest</th>\n",
       "      <td>1.0</td>\n",
       "      <td>NaN</td>\n",
       "      <td>0.962985</td>\n",
       "      <td>NaN</td>\n",
       "    </tr>\n",
       "    <tr>\n",
       "      <th>MLP</th>\n",
       "      <td>0.8</td>\n",
       "      <td>NaN</td>\n",
       "      <td>0.964378</td>\n",
       "      <td>NaN</td>\n",
       "    </tr>\n",
       "  </tbody>\n",
       "</table>\n",
       "</div>"
      ],
      "text/plain": [
       "               validity_random  proximity_random  sparsity_random  \\\n",
       "Logisitc                   0.8               NaN         0.962985   \n",
       "Random Forest              1.0               NaN         0.962985   \n",
       "MLP                        0.8               NaN         0.964378   \n",
       "\n",
       "               diversity_random  \n",
       "Logisitc                    NaN  \n",
       "Random Forest               NaN  \n",
       "MLP                         NaN  "
      ]
     },
     "execution_count": 34,
     "metadata": {},
     "output_type": "execute_result"
    }
   ],
   "source": [
    "df_metrics_adult"
   ]
  },
  {
   "cell_type": "code",
   "execution_count": 123,
   "metadata": {},
   "outputs": [],
   "source": []
  }
 ],
 "metadata": {
  "colab": {
   "collapsed_sections": [],
   "name": "MIS382N_HW4-1.ipynb",
   "provenance": []
  },
  "interpreter": {
   "hash": "2647ea34e536f865ab67ff9ddee7fd78773d956cec0cab53c79b32cd10da5d83"
  },
  "kernelspec": {
   "display_name": "Python 3",
   "language": "python",
   "name": "python3"
  },
  "language_info": {
   "codemirror_mode": {
    "name": "ipython",
    "version": 3
   },
   "file_extension": ".py",
   "mimetype": "text/x-python",
   "name": "python",
   "nbconvert_exporter": "python",
   "pygments_lexer": "ipython3",
   "version": "3.8.8"
  }
 },
 "nbformat": 4,
 "nbformat_minor": 1
}
