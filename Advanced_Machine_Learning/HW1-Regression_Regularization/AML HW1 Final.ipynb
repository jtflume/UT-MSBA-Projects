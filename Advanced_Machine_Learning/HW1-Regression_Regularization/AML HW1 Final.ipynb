{
 "cells": [
  {
   "cell_type": "markdown",
   "metadata": {
    "id": "evHVxwk2JA-3"
   },
   "source": [
    "# <p style=\"text-align: center;\">MIS 382N: Advanced Machine Learning</p>\n",
    "# <p style=\"text-align: center;\">Homework 1</p>\n",
    "## <p style=\"text-align: center;\">Total points: 55</p>\n",
    "## <p style=\"text-align: center;\">Due: Wednesday, Sep 8 submitted via Canvas by 11:59 pm</p>\n",
    "\n",
    "Your homework should be written in a **Jupyter notebook**. Please make sure your code runs and the graphics (and anything else) are displayed in your notebook before submitting (%matplotlib inline). **This can be an individual assignment or group of 2. If you choose to do it as a group, please specify who you are working with (name and EID), then only one student should submit the homework.**\n",
    "\n",
    "**Note: Notebooks MUST have the images embedded in them. There will be no regrades if attached images do not render in the notebook. Please re download from canvas after submission and make sure all attached images render without errors. (Hint: Image module from IPython.display)**"
   ]
  },
  {
   "cell_type": "markdown",
   "metadata": {
    "id": "0eTfjKUv7_Yo"
   },
   "source": [
    "Student Team:\n",
    "Abdullah Khan - ak46996\n",
    "JT Flume - jtf576"
   ]
  },
  {
   "cell_type": "markdown",
   "metadata": {
    "id": "TWWU_gOSLEEv"
   },
   "source": [
    "# Question 1: MLOps (10 pts)\n",
    "Read this [article](https://towardsdatascience.com/what-is-mlops-everything-you-must-know-to-get-started-523f2d0b8bd8) \"What is MLOps — Everything You Must Know to Get Started\", which gives a quick walkthrough of the machine learning development lifecycle and explains how MLOps come into play, or watch this [video](https://www.youtube.com/watch?v=06-AZXmwHjo) which you may find interesting.\n",
    "\n",
    "1. (**4 pts**) Use your own words to describe what MLOps is, and what challenges MLOps address. Limit your answer to one paragraph.\n",
    "\n",
    "2. (**6 pts**) Describe what the main phases in MLOps are. Your answer should be 2-3 paragraphs.\n",
    "\n",
    "\n",
    "## Answer:"
   ]
  },
  {
   "cell_type": "markdown",
   "metadata": {},
   "source": [
    "1. \n",
    "\n",
    "MLOps attempts to combine the development of machine learning systems(dev) with the actual deployment of those systems(ops) to make the delivery of these models more efficient and streamlined. With an increase in both the scale of data and the number of models being used in the industry today, there is a proportional increase in the room for error associated with managing these systems. This is precisely what MLOps aims to minimize. MLOps directly addresses the communication gap between technical and business teams, the variation in business objectives as data changes, and even the risk associated with the deployment of these models. ML models, while practical, sometimes deviate from their actual objectives. This opens the door to substantial risk. By linking together the business and development processes associated with maintaining these models, MLOps ensures that the risks and costs of these deviations are continuously assessed and mitigated.  \n",
    "\n",
    "2. \n",
    "\n",
    "Based on the aforementioned challenges, MLOps can be separated into specific phases that address them. Firstly, each machine learning problem is framed with the business' objectives in mind. This is accomplished by considering technical requirements, key performance indicators, and the project's budget before translating everything to an ML problem. The next phase involves searching for relevant data to address the problem then considering which models to employ for that data. The data search process is a complex one that involves checking for source credibility, making sure it complies with regulations, making the data readily accessible, identifying which cloud services to use, and building a data pipeline that prioritizes model training and optimization once it is deployed. Once one or more relevant datasets have been identified, data engineers must prepare and preprocess the data to build a pipeline that feeds compatible data into the next phase of model development. This stage involves cleaning the data, feature engineering, feature selection, and picking the most cost-effective combination of cloud services and architecture. \n",
    "\n",
    "The next phase involves training and experimenting on various ML models. This is done by identifying the best model based on metrics such as accuracy, recall, precision, and explainability. This is followed by tackling the issue of model reproducibility. By adding version control to each component and parameter of an ML system we can directly address this issue. The last step in this phase involves further testing of the ML model by comparing it to simpler models and checking against baselines and different dimensions. This phase is followed by the building and automating ML pipeline phase. To do this, we must identify system requirements, choose a suitable cloud structure, construct training and testing pipelines, track and audit each pipeline run, and perform data validation. \n",
    "\n",
    "This leads us to the actual deployment of our ML models to the production system. Companies must choose between static and dynamic employment, both of which involve some considerations. These considerations include revalidating model accuracy, ensuring proper documentation, performing explainability checks, checking data artifact quality, and load testing. Lastly, once deployed, each model must be monitored, optimized, and maintained. This is done by keeping track of performance degradation, setting up logging strategies, establishing evaluation metrics, troubleshooting system failures, and tuning model performance. \n"
   ]
  },
  {
   "cell_type": "markdown",
   "metadata": {
    "id": "wusA9L1LmUMH"
   },
   "source": [
    "# Question 2: Applications of Machine Learning (5 pts)\n",
    "Read this [article](https://builtin.com/data-science/data-science-applications-examples) \"17 Data Science Applications & Examples\" and pick one of the data science systems used by various organizations according to this blog. \n",
    "\n",
    "For this system you have chosen, answer the following questions. Please limit your answer to one paragraph:\n",
    "\n",
    "1. What kind of machine learning problem is involved (e.g. classification, regression, clustering, outlier detection,...) in this system?\n",
    "2. Speculate on what kind of data may be needed and how the results can be useful to the organization.\n",
    "3. What do you think are the ethical implications of using machine learning in a domain like this?\n",
    "\n",
    "## Answer:\n",
    "\n",
    "1. The machine learning problem for Equivant's Northeponit software attempts to gauge an incarcerated person's likelihood of being a reoffender. This is most likely a classification problem since it is trying to predict whether or not someone is a binary classification. They either are a reoffender or not. \n",
    "2. The system uses information from individuals from a questonaire, such as education level, employment status, and more. Other useful data could be the time since the individual was released, and information about the individuals social circle or family. Any data that could possibly help an individual reintegrate into society without having to turn to crime would be helpful. Law enforcement may find this useful to either to keep an eye on at risk individuals, or in a more progressive system they could give additional aid to those marked as at risk individuals to hopefully help them avoid returning to their old ways.\n",
    "3. There are ethical concerns as it is noted that the system flags black individuals as possible reoffenders 77% more of the time than white individuals, despite race not being used in the system. The results of the system could be used unfairly to treat possible reoffenders as criminals or with less respect (like to their privacy) even if they never commit another crime. \n"
   ]
  },
  {
   "cell_type": "markdown",
   "metadata": {
    "id": "2w8za9lLmVO7"
   },
   "source": [
    "# Question 3: Simpson's Paradox (10 pts)\n",
    "A data scientist should be careful about drawing unwarranted conclusions about any data that is presented. One of the 'gotchas' that can happen even in apparently very simple tabular summaries, is called Simpson's paradox.\n",
    "\n",
    "Read this [article](https://www.covid-datascience.com/post/israeli-data-how-can-efficacy-vs-severe-disease-be-strong-when-60-of-hospitalized-are-vaccinated), which explains why the computed efficacy of the Pfizer vaccine is misleadingly low (67.5%) when you lump all people together, but once you stratify people by age (which is the right thing to do), you get much higher efficacy numbers.\n",
    "\n",
    "1.(**5 pts**) Explain in your own words what Simpson's paradox is, and how this 'paradox' can happen in real data.\n",
    "\n",
    "2.(**5 pts**) Find and mention another example of Simpson's paradox (but not any of the 3 examples given in the Wikipedia entry for 'Simpson's paradox'), state why the paradox appeared in your chosen example. Also give a reference (URL) to your source for the chosen example.\n",
    "\n",
    "## Answer:\n",
    "\n",
    "1. Simpson's Paradox is a phenomenon where data obtained from observations can display misleading results when other underlying factors present are ignored. This paradox can happen in real life especially when looking at the observational data as a whole. The overall data looked at may appear to show a direct relationship, but adding other factors or stratifying the observational data by class can then show the true relationship is the inverse of overall data relationship. For instance it may appear that dosage of a drug helps recovery probability, but when the data is split into groups of young people and old people, it shows that an increase in dosage decreases recovery probability because what was really aiding recovery in the overall data was the decrease in age.\n",
    "\n",
    "2. An example of Simpson's Paradox is US median wage decline. Median US wage has risen about 1%, adjusted for inflation, since 2000. However, when stratified into groups of high school dropouts, high school graduates, some college education, and bachelor's or higher degrees median wage has actually decreased for each. The reason it appears that median wage increased is because a much larger proportion of people are now college graduates compared to the other groups, and college graduates have higher wages than all the other groups even though college graduate wages have decreased as well.\n",
    "\n",
    "source: https://blog.revolutionanalytics.com/2013/07/a-great-example-of-simpsons-paradox.html"
   ]
  },
  {
   "cell_type": "markdown",
   "metadata": {
    "id": "gth0D8jiMBSe"
   },
   "source": [
    "# Question 4: Ridge and Lasso Regression (30 pts)\n",
    "\n",
    "Download the dataset **Admission.csv** from Canvas and use the following codes to import the Admission dataset in Python. \n",
    "\n",
    "There are 7 features in the dataset:\n",
    "\n",
    "1. GRE score\n",
    "2. TOEFL score\n",
    "3. University Rating\n",
    "4. SOP(Statement of Purpose)\n",
    "5. LOR(Letter of Recommendation)\n",
    "6. CGPA\n",
    "7. Research\n",
    "\n",
    "And the target is **Chance of Admission**."
   ]
  },
  {
   "cell_type": "code",
   "execution_count": 3,
   "metadata": {
    "id": "QFazlpLgGpAa"
   },
   "outputs": [
    {
     "ename": "ModuleNotFoundError",
     "evalue": "No module named 'google'",
     "output_type": "error",
     "traceback": [
      "\u001b[0;31m---------------------------------------------------------------------------\u001b[0m",
      "\u001b[0;31mModuleNotFoundError\u001b[0m                       Traceback (most recent call last)",
      "\u001b[0;32m<ipython-input-3-25e79b7f35f7>\u001b[0m in \u001b[0;36m<module>\u001b[0;34m\u001b[0m\n\u001b[1;32m      1\u001b[0m \u001b[0;31m# Only use this code block if you are using Google Colab.\u001b[0m\u001b[0;34m\u001b[0m\u001b[0;34m\u001b[0m\u001b[0;34m\u001b[0m\u001b[0m\n\u001b[1;32m      2\u001b[0m \u001b[0;31m# If you are using Jupyter Notebook, please ignore this code block. You can directly upload the file to your Jupyter Notebook file systems.\u001b[0m\u001b[0;34m\u001b[0m\u001b[0;34m\u001b[0m\u001b[0;34m\u001b[0m\u001b[0m\n\u001b[0;32m----> 3\u001b[0;31m \u001b[0;32mfrom\u001b[0m \u001b[0mgoogle\u001b[0m\u001b[0;34m.\u001b[0m\u001b[0mcolab\u001b[0m \u001b[0;32mimport\u001b[0m \u001b[0mfiles\u001b[0m\u001b[0;34m\u001b[0m\u001b[0;34m\u001b[0m\u001b[0m\n\u001b[0m\u001b[1;32m      4\u001b[0m \u001b[0;34m\u001b[0m\u001b[0m\n\u001b[1;32m      5\u001b[0m \u001b[0;31m## It will prompt you to select a local file. Click on “Choose Files” then select and upload the file.\u001b[0m\u001b[0;34m\u001b[0m\u001b[0;34m\u001b[0m\u001b[0;34m\u001b[0m\u001b[0m\n",
      "\u001b[0;31mModuleNotFoundError\u001b[0m: No module named 'google'"
     ]
    }
   ],
   "source": []
  },
  {
   "cell_type": "code",
   "execution_count": 5,
   "metadata": {
    "id": "xsPaOOehGuU6"
   },
   "outputs": [],
   "source": [
    "# Codes below will work for both Google Colab and Jupyter Notebook.\n",
    "import numpy as np\n",
    "import pandas as pd\n",
    "import random\n",
    "from sklearn import linear_model\n",
    "from sklearn.metrics import mean_absolute_error, mean_squared_error\n",
    "from sklearn.linear_model import LogisticRegression\n",
    "\n",
    "## Load the dataset into pandas DataFrame\n",
    "df = pd.read_csv('Admission.csv', index_col=0)\n",
    "df = df.replace([np.inf, -np.inf], np.nan) # \n",
    "df = df.fillna(0) # Replace all the NaN values with 0"
   ]
  },
  {
   "cell_type": "code",
   "execution_count": 6,
   "metadata": {
    "id": "PmMz72U6Gv-z"
   },
   "outputs": [
    {
     "data": {
      "text/plain": [
       "Index(['GRE_Score', 'TOEFL_Score', 'University_Rating', 'SOP', 'LOR ', 'CGPA',\n",
       "       'Research', 'Chance_of_Admit'],\n",
       "      dtype='object')"
      ]
     },
     "execution_count": 6,
     "metadata": {},
     "output_type": "execute_result"
    }
   ],
   "source": [
    "df.columns # Show you all the columns in this file"
   ]
  },
  {
   "cell_type": "code",
   "execution_count": 7,
   "metadata": {
    "id": "CyZN-yFfGxlt"
   },
   "outputs": [
    {
     "data": {
      "text/html": [
       "<div>\n",
       "<style scoped>\n",
       "    .dataframe tbody tr th:only-of-type {\n",
       "        vertical-align: middle;\n",
       "    }\n",
       "\n",
       "    .dataframe tbody tr th {\n",
       "        vertical-align: top;\n",
       "    }\n",
       "\n",
       "    .dataframe thead th {\n",
       "        text-align: right;\n",
       "    }\n",
       "</style>\n",
       "<table border=\"1\" class=\"dataframe\">\n",
       "  <thead>\n",
       "    <tr style=\"text-align: right;\">\n",
       "      <th></th>\n",
       "      <th>GRE_Score</th>\n",
       "      <th>TOEFL_Score</th>\n",
       "      <th>University_Rating</th>\n",
       "      <th>SOP</th>\n",
       "      <th>LOR</th>\n",
       "      <th>CGPA</th>\n",
       "      <th>Research</th>\n",
       "      <th>Chance_of_Admit</th>\n",
       "    </tr>\n",
       "    <tr>\n",
       "      <th>Serial No.</th>\n",
       "      <th></th>\n",
       "      <th></th>\n",
       "      <th></th>\n",
       "      <th></th>\n",
       "      <th></th>\n",
       "      <th></th>\n",
       "      <th></th>\n",
       "      <th></th>\n",
       "    </tr>\n",
       "  </thead>\n",
       "  <tbody>\n",
       "    <tr>\n",
       "      <th>1</th>\n",
       "      <td>337</td>\n",
       "      <td>118</td>\n",
       "      <td>4</td>\n",
       "      <td>4.5</td>\n",
       "      <td>4.5</td>\n",
       "      <td>9.65</td>\n",
       "      <td>1</td>\n",
       "      <td>0.92</td>\n",
       "    </tr>\n",
       "    <tr>\n",
       "      <th>2</th>\n",
       "      <td>324</td>\n",
       "      <td>107</td>\n",
       "      <td>4</td>\n",
       "      <td>4.0</td>\n",
       "      <td>4.5</td>\n",
       "      <td>8.87</td>\n",
       "      <td>1</td>\n",
       "      <td>0.76</td>\n",
       "    </tr>\n",
       "    <tr>\n",
       "      <th>3</th>\n",
       "      <td>316</td>\n",
       "      <td>104</td>\n",
       "      <td>3</td>\n",
       "      <td>3.0</td>\n",
       "      <td>3.5</td>\n",
       "      <td>8.00</td>\n",
       "      <td>1</td>\n",
       "      <td>0.72</td>\n",
       "    </tr>\n",
       "    <tr>\n",
       "      <th>4</th>\n",
       "      <td>322</td>\n",
       "      <td>110</td>\n",
       "      <td>3</td>\n",
       "      <td>3.5</td>\n",
       "      <td>2.5</td>\n",
       "      <td>8.67</td>\n",
       "      <td>1</td>\n",
       "      <td>0.80</td>\n",
       "    </tr>\n",
       "    <tr>\n",
       "      <th>5</th>\n",
       "      <td>314</td>\n",
       "      <td>103</td>\n",
       "      <td>2</td>\n",
       "      <td>2.0</td>\n",
       "      <td>3.0</td>\n",
       "      <td>8.21</td>\n",
       "      <td>0</td>\n",
       "      <td>0.65</td>\n",
       "    </tr>\n",
       "  </tbody>\n",
       "</table>\n",
       "</div>"
      ],
      "text/plain": [
       "            GRE_Score  TOEFL_Score  University_Rating  SOP  LOR   CGPA  \\\n",
       "Serial No.                                                               \n",
       "1                 337          118                  4  4.5   4.5  9.65   \n",
       "2                 324          107                  4  4.0   4.5  8.87   \n",
       "3                 316          104                  3  3.0   3.5  8.00   \n",
       "4                 322          110                  3  3.5   2.5  8.67   \n",
       "5                 314          103                  2  2.0   3.0  8.21   \n",
       "\n",
       "            Research  Chance_of_Admit  \n",
       "Serial No.                             \n",
       "1                  1             0.92  \n",
       "2                  1             0.76  \n",
       "3                  1             0.72  \n",
       "4                  1             0.80  \n",
       "5                  0             0.65  "
      ]
     },
     "execution_count": 7,
     "metadata": {},
     "output_type": "execute_result"
    }
   ],
   "source": [
    "df.head() # Show you the first 5 rows in this file"
   ]
  },
  {
   "cell_type": "code",
   "execution_count": 8,
   "metadata": {
    "id": "S3TfR0i4G2rO"
   },
   "outputs": [],
   "source": [
    "y = df['Chance_of_Admit'] # The column named Chance_of_Admit is used as the target, and we store it in y\n",
    "X = df.drop(['Chance_of_Admit'], axis=1) # We keep the remaining columns as the features, and store them in x"
   ]
  },
  {
   "cell_type": "markdown",
   "metadata": {
    "id": "pKq1KERxJw9y",
    "tags": []
   },
   "source": [
    "1)(**2 pts**) Split the data into a training set(75% of data) and a test set(25% of data), using the [train_test_split](https://scikit-learn.org/stable/modules/generated/sklearn.model_selection.train_test_split.html) function with random_state = 50. Then scale the data (not including target) so that each of the independent variables would have zero mean and unit variance. You can use the [sklearn.preprocessing.scale](https://scikit-learn.org/stable/modules/generated/sklearn.preprocessing.scale.html) function for this. Print the first 5 rows of the training set after scaling.\n",
    "\n",
    "2)(**5 pts**) Use [sklearn.linear_model.Lasso](https://scikit-learn.org/stable/modules/generated/sklearn.linear_model.Lasso.html) and [sklearn.linear_model.Ridge](https://scikit-learn.org/stable/modules/generated/sklearn.linear_model.Ridge.html) classes to do a **5-fold** cross validation using sklearn's KFold. For the sweep of the regularization parameter, we will look at a grid of values ranging from α=10^10 to α=10^−6. In Python, you can consider this range of values as follows: alpha = 10**numpy.linspace(6,-6,100) \n",
    "so that you can generate 100 uniform values between -6 to 6 as power series.\n",
    "\n",
    "Fit the 2 regression models with scaled data and report the best chosen **α** based on cross validation as well as the corresponding scoring metric. The cross validation should happen on your training data using **MSE** as the scoring metric.\n",
    "\n",
    "3)(**5 pts**) Run ridge and lasso regression for all of the **α** specified above (on training data), and plot the coefficients learned for each of them - there should be one plot each for lasso and ridge, so a total of two plots; different features' weights of each model should be on the same plot with different colors (3pts). \n",
    "\n",
    "What do you qualitatively observe when the value of the regularization parameter changes (2pts)? \n",
    "\n",
    "4)(**3 pts**) Take the exponential of Y_train as the target, and fit the 2 regression models again. Report the best chosen **α** based on cross validation as well as the corresponding scoring metric. Compare the results of using the original target with the results of using the exponential of the target. What do you observe? \n",
    "\n",
    "5)(**5 pts**) Similarly, use [sklearn.linear_model.ElasticNet](https://scikit-learn.org/stable/modules/generated/sklearn.linear_model.ElasticNet.html) to do linear regression with different **α** values, and plot the coefficients learned for each of them (2pts). Observe the plot, then explain the pros and cons of ridge, lasso and Elastic Net models (3pts).\n",
    "\n",
    "\n",
    "6)(**5 pts**) Run the following three regression models with **MSE** loss on the training data: \n",
    "\n",
    "a. linear regression without regularization (1pts)\n",
    "\n",
    "b. linear regression with ridge regularization (2pts)\n",
    "\n",
    "c. linear regression with lasso regularization (2pts)\n",
    "\n",
    "For part (b) and (c), use only the best regularization parameters. Report the MSE and R<sup>2</sup> on the test data for each model.\n",
    "\n",
    "7)(**5 pts**) Train the 3 models and report the metrics with the original data without scaling (3pts). \n",
    "\n",
    "Why do we need to scale the data before regularization (2pts)? \n",
    "\n",
    "## Answer:\n"
   ]
  },
  {
   "cell_type": "code",
   "execution_count": 9,
   "metadata": {},
   "outputs": [
    {
     "data": {
      "text/plain": [
       "(            GRE_Score  TOEFL_Score  University_Rating  SOP  LOR   CGPA  \\\n",
       " Serial No.                                                               \n",
       " 204               334          120                  5  4.0   5.0  9.87   \n",
       " 265               325          110                  2  3.0   2.5  8.76   \n",
       " 339               323          108                  5  4.0   4.0  8.74   \n",
       " 262               312          104                  3  3.5   4.0  8.09   \n",
       " 217               322          112                  4  4.5   4.5  9.26   \n",
       " ...               ...          ...                ...  ...   ...   ...   \n",
       " 133               309          105                  5  3.5   3.5  8.56   \n",
       " 290               313          109                  3  4.0   3.5  9.00   \n",
       " 110               304          103                  5  5.0   4.0  8.64   \n",
       " 396               324          110                  3  3.5   3.5  9.04   \n",
       " 177               329          119                  4  4.5   4.5  9.16   \n",
       " \n",
       "             Research  \n",
       " Serial No.            \n",
       " 204                1  \n",
       " 265                1  \n",
       " 339                1  \n",
       " 262                0  \n",
       " 217                1  \n",
       " ...              ...  \n",
       " 133                0  \n",
       " 290                0  \n",
       " 110                0  \n",
       " 396                1  \n",
       " 177                1  \n",
       " \n",
       " [300 rows x 7 columns],\n",
       " Serial No.\n",
       " 204    0.97\n",
       " 265    0.75\n",
       " 339    0.81\n",
       " 262    0.71\n",
       " 217    0.91\n",
       "        ... \n",
       " 133    0.71\n",
       " 290    0.79\n",
       " 110    0.68\n",
       " 396    0.82\n",
       " 177    0.90\n",
       " Name: Chance_of_Admit, Length: 300, dtype: float64)"
      ]
     },
     "execution_count": 9,
     "metadata": {},
     "output_type": "execute_result"
    }
   ],
   "source": [
    "#1)train test split\n",
    "import numpy as np\n",
    "import pandas as pd\n",
    "import math\n",
    "from sklearn.model_selection import train_test_split\n",
    "\n",
    "X_train, X_test, Y_train, Y_test = train_test_split(X, y, test_size = 0.25, random_state=50)\n",
    "\n",
    "X_train, Y_train\n",
    "\n"
   ]
  },
  {
   "cell_type": "code",
   "execution_count": 10,
   "metadata": {},
   "outputs": [
    {
     "data": {
      "text/plain": [
       "array([[ 1.52725374,  2.0917706 ,  1.61594354,  0.63150829,  1.72829095,\n",
       "         2.11370277,  0.90453403],\n",
       "       [ 0.74180896,  0.46308859, -0.9310778 , -0.35266047, -1.04140609,\n",
       "         0.29488827,  0.90453403],\n",
       "       [ 0.56726568,  0.13735218,  1.61594354,  0.63150829,  0.62041214,\n",
       "         0.26211684,  0.90453403],\n",
       "       [-0.39272239, -0.51412062, -0.08207069,  0.13942391,  0.62041214,\n",
       "        -0.80295471, -1.1055416 ],\n",
       "       [ 0.47999403,  0.78882499,  0.76693642,  1.12359267,  1.17435154,\n",
       "         1.11417408,  0.90453403]])"
      ]
     },
     "execution_count": 10,
     "metadata": {},
     "output_type": "execute_result"
    }
   ],
   "source": [
    "import sklearn\n",
    "X_train_scaled = sklearn.preprocessing.scale(X_train, axis=0, with_mean=True, with_std=True, copy=True)\n",
    "\n",
    "X_test_scaled = sklearn.preprocessing.scale(X_test, axis=0, with_mean=True, with_std=True, copy=True)\n",
    "\n",
    "X_train_scaled[0:5]\n",
    "\n",
    "\n",
    "\n",
    "\n"
   ]
  },
  {
   "cell_type": "code",
   "execution_count": null,
   "metadata": {},
   "outputs": [],
   "source": []
  },
  {
   "cell_type": "markdown",
   "metadata": {},
   "source": [
    "## 2) Fit the 2 regression models with scaled data and report the best chosen **α** based on cross validation as well as the corresponding scoring metric. The cross validation should happen on your training data using **MSE** as the scoring metric."
   ]
  },
  {
   "cell_type": "code",
   "execution_count": 11,
   "metadata": {},
   "outputs": [
    {
     "data": {
      "text/plain": [
       "KFold(n_splits=5, random_state=None, shuffle=False)"
      ]
     },
     "execution_count": 11,
     "metadata": {},
     "output_type": "execute_result"
    }
   ],
   "source": [
    "from sklearn.model_selection import KFold\n",
    "kf = KFold(n_splits=5)\n",
    "kf"
   ]
  },
  {
   "cell_type": "code",
   "execution_count": 12,
   "metadata": {},
   "outputs": [],
   "source": [
    "from sklearn import linear_model\n",
    "\n",
    "from sklearn.metrics import mean_absolute_error, mean_squared_error\n",
    "\n"
   ]
  },
  {
   "cell_type": "code",
   "execution_count": 13,
   "metadata": {},
   "outputs": [
    {
     "data": {
      "text/plain": [
       "0.004098425318055381"
      ]
     },
     "execution_count": 13,
     "metadata": {},
     "output_type": "execute_result"
    }
   ],
   "source": [
    "import numpy as np\n",
    "from sklearn.metrics import make_scorer\n",
    "from sklearn.linear_model import Ridge\n",
    "from sklearn.linear_model import Lasso\n",
    "from sklearn.model_selection import cross_val_score\n",
    "from statistics import mean\n",
    "\n",
    "##Lasso##\n",
    "alpha_list_lasso = []\n",
    "\n",
    "alpha = 10**np.linspace(6,-6,100)\n",
    "alpha_dict_lasso = {}\n",
    "\n",
    "for a in alpha:\n",
    "    lasso = Lasso(alpha = a)\n",
    "    lasso.fit(X_train_scaled, Y_train)\n",
    "    score = cross_val_score(lasso, X_train_scaled, Y_train, scoring = make_scorer(mean_squared_error), cv=kf)\n",
    "    avg = mean(score)\n",
    "    alpha_dict_lasso[avg] = a\n",
    "    \n",
    "lowest_mse_lasso = min(alpha_dict_lasso.keys())\n",
    "lowest_mse_lasso\n",
    "    \n",
    "    \n",
    "    \n",
    "    \n",
    "    "
   ]
  },
  {
   "cell_type": "code",
   "execution_count": 14,
   "metadata": {},
   "outputs": [
    {
     "name": "stdout",
     "output_type": "stream",
     "text": [
      "Our ideal alpha for the lasso model is: 0.001072267222010321\n",
      "Our lowest mse for the lasso model is: 0.004098425318055381\n"
     ]
    }
   ],
   "source": [
    "print(\"Our ideal alpha for the lasso model is:\", alpha_dict_lasso[lowest_mse_lasso])\n",
    "print(\"Our lowest mse for the lasso model is:\", lowest_mse_lasso)"
   ]
  },
  {
   "cell_type": "code",
   "execution_count": 15,
   "metadata": {},
   "outputs": [
    {
     "data": {
      "text/plain": [
       "0.004118013884240709"
      ]
     },
     "execution_count": 15,
     "metadata": {},
     "output_type": "execute_result"
    }
   ],
   "source": [
    "##Ridge\n",
    "\n",
    "alpha_list = []\n",
    "\n",
    "    \n",
    "alpha = 10**np.linspace(6,-6,100)\n",
    "alpha_dict = {}\n",
    "\n",
    "for a in alpha:\n",
    "    model = Ridge(alpha = a)\n",
    "    model.fit(X_train_scaled, Y_train)\n",
    "    score = cross_val_score(model, X_train_scaled, Y_train, scoring = make_scorer(mean_squared_error), cv=kf)\n",
    "    alpha_dict[mean(score)] = a\n",
    "    \n",
    "lowest_mse = min(alpha_dict.keys())\n",
    "lowest_mse\n"
   ]
  },
  {
   "cell_type": "code",
   "execution_count": 16,
   "metadata": {},
   "outputs": [
    {
     "name": "stdout",
     "output_type": "stream",
     "text": [
      "Our ideal alpha for the ridge model is: 4.641588833612772\n",
      "Our lowest mse for the ridge model is: 0.004118013884240709\n"
     ]
    }
   ],
   "source": [
    "print(\"Our ideal alpha for the ridge model is:\", alpha_dict[lowest_mse])\n",
    "print(\"Our lowest mse for the ridge model is:\", lowest_mse)"
   ]
  },
  {
   "cell_type": "markdown",
   "metadata": {},
   "source": [
    "## 3)(**5 pts**) Run ridge and lasso regression for all of the **α** specified above (on training data), and plot the coefficients learned for each of them - there should be one plot each for lasso and ridge, so a total of two plots; different features' weights of each model should be on the same plot with different colors (3pts). \n"
   ]
  },
  {
   "cell_type": "code",
   "execution_count": 17,
   "metadata": {},
   "outputs": [
    {
     "data": {
      "image/png": "[encoded data removed]",
      "text/plain": [
       "<Figure size 432x288 with 1 Axes>"
      ]
     },
     "metadata": {
      "needs_background": "light"
     },
     "output_type": "display_data"
    }
   ],
   "source": [
    "import matplotlib.pyplot as plt\n",
    "coeffs_lasso = []\n",
    "\n",
    "for a in alpha:\n",
    "    lasso1 = Lasso(alpha = a)\n",
    "    lasso1.fit(X_train_scaled, Y_train)\n",
    "    lasso1.predict(X_test_scaled)\n",
    "    coeffs_lasso.append(lasso1.coef_)\n",
    "\n",
    "#Ridge Plot\n",
    "las = plt.gca()\n",
    "las.plot(alpha, coeffs_lasso)\n",
    "las.set_xscale(\"log\")\n",
    "las.set_xlim(las.get_xlim()[::-1])\n",
    "\n",
    "#Labels\n",
    "plt.xlabel(\"alpha\")\n",
    "plt.ylabel(\"weights\")\n",
    "plt.title(\"Coefficients vs Alpha for Lasso\")\n",
    "\n",
    "plt.axis(\"tight\")\n",
    "plt.legend(X_train.columns, loc = \"best\")\n",
    "#plt.vlines(alpha, ymin = -1, ymax = .17)\n",
    "plt.show()\n",
    "\n"
   ]
  },
  {
   "cell_type": "code",
   "execution_count": 18,
   "metadata": {},
   "outputs": [
    {
     "data": {
      "image/png": "[encoded data removed]",
      "text/plain": [
       "<Figure size 432x288 with 1 Axes>"
      ]
     },
     "metadata": {
      "needs_background": "light"
     },
     "output_type": "display_data"
    }
   ],
   "source": [
    "\n",
    "coeffs1 = []\n",
    "\n",
    "for a in alpha:\n",
    "    model1 = Ridge(alpha = a)\n",
    "    model1.fit(X_train_scaled, Y_train)\n",
    "    model1.predict(X_test_scaled)\n",
    "    coeffs1.append(model1.coef_)\n",
    "\n",
    "#Ridge Plot\n",
    "viz = plt.gca()\n",
    "viz.plot(alpha, coeffs1)\n",
    "viz.set_xscale(\"log\")\n",
    "viz.set_xlim(viz.get_xlim()[::-1])\n",
    "\n",
    "#Labels\n",
    "plt.xlabel(\"alpha\")\n",
    "plt.ylabel(\"weights\")\n",
    "plt.title(\"Coefficients vs Alpha for Ridge\")\n",
    "\n",
    "plt.axis(\"tight\")\n",
    "plt.legend(X_train.columns, loc = \"best\")\n",
    "plt.show()\n",
    "\n"
   ]
  },
  {
   "cell_type": "markdown",
   "metadata": {},
   "source": [
    "## What do you qualitatively observe when the value of the regularization parameter changes (2pts)? "
   ]
  },
  {
   "cell_type": "markdown",
   "metadata": {},
   "source": [
    "In our lasso regression, our coefficients arrive at their ideal Alpha values at a lower value with a far steeper slope. There is little to no change before this steep slope appears. For instance, CGPA reaches this value abruptly (almost in one moment). The ridge regression model has a larger value for the best alpha and the coefficients are less abrupt in reaching this ideal value than in the lasso regression. Taking into account both regressions, both of the graphs show a general divergence from 0 for the weights of the coefficients at a relative regularization parameter. "
   ]
  },
  {
   "cell_type": "markdown",
   "metadata": {},
   "source": [
    "4)(**3 pts**) Take the exponential of Y_train as the target, and fit the 2 regression models again. Report the best chosen **α** based on cross validation as well as the corresponding scoring metric. Compare the results of using the original target with the results of using the exponential of the target. What do you observe?"
   ]
  },
  {
   "cell_type": "code",
   "execution_count": 19,
   "metadata": {},
   "outputs": [
    {
     "data": {
      "text/plain": [
       "0.014767319644229933"
      ]
     },
     "execution_count": 19,
     "metadata": {},
     "output_type": "execute_result"
    }
   ],
   "source": [
    "##Same process just changing target to exp of Y_train\n",
    "las_dict = {}\n",
    "\n",
    "exp_y_train = Y_train.map(math.exp)\n",
    "\n",
    "for a in alpha:\n",
    "    lasso2 = Lasso(alpha = a)\n",
    "    lasso2.fit(X_train_scaled, exp_y_train)\n",
    "    lasso2.predict(X_test_scaled)\n",
    "    score = cross_val_score(lasso2, X_train_scaled, exp_y_train, scoring = make_scorer(mean_squared_error), cv = kf)\n",
    "    avg = mean(score)\n",
    "    las_dict[avg] = a\n",
    "    \n",
    "lowest_mse1 = min(las_dict.keys())\n",
    "lowest_mse1\n",
    "\n"
   ]
  },
  {
   "cell_type": "code",
   "execution_count": 20,
   "metadata": {},
   "outputs": [
    {
     "name": "stdout",
     "output_type": "stream",
     "text": [
      "Our ideal alpha for the lasso model is: 0.0018738174228603867\n",
      "Our lowest mse for the lasso model is: 0.014767319644229933\n"
     ]
    }
   ],
   "source": [
    "print(\"Our ideal alpha for the lasso model is:\", las_dict[lowest_mse1])\n",
    "print(\"Our lowest mse for the lasso model is:\", lowest_mse1)"
   ]
  },
  {
   "cell_type": "code",
   "execution_count": 21,
   "metadata": {},
   "outputs": [
    {
     "data": {
      "text/plain": [
       "0.01481500877535105"
      ]
     },
     "execution_count": 21,
     "metadata": {},
     "output_type": "execute_result"
    }
   ],
   "source": [
    "##Once more for ridge\n",
    "\n",
    "ridge_dict = {}\n",
    "\n",
    "exp_y_train = Y_train.map(math.exp)\n",
    "\n",
    "for a in alpha:\n",
    "    ridge2 = Ridge(alpha = a)\n",
    "    ridge2.fit(X_train_scaled, exp_y_train)\n",
    "    ridge2.predict(X_test_scaled)\n",
    "    cvs = cross_val_score(ridge2, X_train_scaled, exp_y_train, scoring = make_scorer(mean_squared_error), cv = kf)\n",
    "    avg_ridge = mean(cvs)\n",
    "    ridge_dict[avg_ridge] = a\n",
    "    \n",
    "lowest_mse_ridge = min(ridge_dict.keys())\n",
    "lowest_mse_ridge\n",
    "\n",
    "\n"
   ]
  },
  {
   "cell_type": "code",
   "execution_count": 22,
   "metadata": {},
   "outputs": [
    {
     "name": "stdout",
     "output_type": "stream",
     "text": [
      "Our ideal alpha for the ridge model is: 6.135907273413176\n",
      "Our lowest mse for the ridge model is: 0.01481500877535105\n"
     ]
    }
   ],
   "source": [
    "print(\"Our ideal alpha for the ridge model is:\", ridge_dict[lowest_mse_ridge])\n",
    "print(\"Our lowest mse for the ridge model is:\", lowest_mse_ridge)"
   ]
  },
  {
   "cell_type": "markdown",
   "metadata": {},
   "source": [
    "## Compare the results of using the original target with the results of using the exponential of the target. What do you observe?"
   ]
  },
  {
   "cell_type": "markdown",
   "metadata": {},
   "source": [
    "Lasso MSE = 0.004098425318055381\n",
    "Ridge MSE = 0.004118013884240709\n",
    "\n",
    "Lasso MSE with exponential = 0.014767319644229933\n",
    "Ridge MSE with exponential = 0.01481500877535105\n",
    "\n",
    "As we can see, when we use the exponential of the target we observe a higher mse for both models.\n",
    "The same can be said for the best alpha values we get after using the exponential of the target. Using the exponential of the target may unecessarily complicate the model so we may be better off avoiding it."
   ]
  },
  {
   "cell_type": "markdown",
   "metadata": {},
   "source": [
    "5)(**5 pts**) Similarly, use [sklearn.linear_model.ElasticNet](https://scikit-learn.org/stable/modules/generated/sklearn.linear_model.ElasticNet.html) to do linear regression with different **α** values, and plot the coefficients learned for each of them (2pts). Observe the plot, then explain the pros and cons of ridge, lasso and Elastic Net models (3pts)."
   ]
  },
  {
   "cell_type": "code",
   "execution_count": 25,
   "metadata": {},
   "outputs": [
    {
     "data": {
      "text/plain": [
       "0.004124547545637949"
      ]
     },
     "execution_count": 25,
     "metadata": {},
     "output_type": "execute_result"
    }
   ],
   "source": [
    "from sklearn.linear_model import ElasticNet\n",
    "\n",
    "EN_list = [ ]\n",
    "\n",
    "for a in alpha:\n",
    "    EN = ElasticNet(alpha=a)\n",
    "    EN.fit(X_train_scaled, Y_train)\n",
    "    EN.predict(X_test_scaled)\n",
    "    EN_list.append(EN.coef_)\n",
    "\n",
    "EN_dict = { }\n",
    "\n",
    "\n",
    "for a in alpha:\n",
    "    EN_cvs = cross_val_score(EN, X_train_scaled, Y_train, scoring = make_scorer(mean_squared_error), cv = kf)\n",
    "    avg_EN = mean(EN_cvs)\n",
    "    EN_dict[avg_EN] = a\n",
    "    \n",
    "lowest_mse_EN = min(EN_dict.keys())\n",
    "lowest_mse_EN\n"
   ]
  },
  {
   "cell_type": "code",
   "execution_count": 26,
   "metadata": {},
   "outputs": [
    {
     "data": {
      "image/png": "[encoded data removed]",
      "text/plain": [
       "<Figure size 432x288 with 1 Axes>"
      ]
     },
     "metadata": {
      "needs_background": "light"
     },
     "output_type": "display_data"
    }
   ],
   "source": [
    "EN_viz = plt.gca()\n",
    "EN_viz.plot(alpha, EN_list)\n",
    "EN_viz.set_xscale(\"log\")\n",
    "EN_viz.set_xlim(EN_viz.get_xlim()[::-1])\n",
    "\n",
    "#Labels\n",
    "plt.xlabel(\"alpha\")\n",
    "plt.ylabel(\"weights\")\n",
    "plt.title(\"Coefficients vs Alpha for ElasticNet\")\n",
    "\n",
    "plt.axis(\"tight\")\n",
    "plt.legend(X_train.columns, loc = \"best\")\n",
    "plt.show()"
   ]
  },
  {
   "cell_type": "markdown",
   "metadata": {},
   "source": [
    "## Observe the plot, then explain the pros and cons of ridge, lasso and Elastic Net models (3pts)."
   ]
  },
  {
   "cell_type": "markdown",
   "metadata": {},
   "source": [
    "The plot is very similar to the lasso regression from our previous graph in that it achieves a smaller value of alpha than the ridge regression in much the same way. The values appear to be only slightly higher for the weights of the coefficients than the lasso regression.\n",
    "\n",
    "Ridge regression trades variance for some bias and thus helps prevent over fitting of our model. With Co-linearity in the model the added bias is generally worth the lower variance. Ridge regressions suffers where an increase of bias isn't warranted. It also relies on selecting a perfect alpha and has low interpret-ability.\n",
    "\n",
    "Lasso regression helps selecting important features by shrinking co-efficients near zero, which also helps to avoid overfitting much like in a ridge regression. These features will similarly be highly biased, however. Lasso can also only handle as many features as their are data points, which can be limiting when their are less data points than features. Lasso can have issues with correlated features as it will only arbitrarily select one feature from correlated features. It can also pick very different features for different sets of boot strapped data. Lastly, it has worse predictive power than ridge regression.\n",
    "\n",
    "Elastic net regression avoids the problem of not being able to select enough features with datasets with less data points than features that lasso regression has. The only downside to elastic net regression models is that it is more exhaustive and expensive computationally than lasso or ridge."
   ]
  },
  {
   "cell_type": "markdown",
   "metadata": {},
   "source": [
    "6)(**5 pts**) Run the following three regression models with **MSE** loss on the training data: \n",
    "\n",
    "a. linear regression without regularization (1pts)\n",
    "\n",
    "b. linear regression with ridge regularization (2pts)\n",
    "\n",
    "c. linear regression with lasso regularization (2pts)\n",
    "\n",
    "For part (b) and (c), use only the best regularization parameters. Report the MSE and R<sup>2</sup> on the test data for each model.\n"
   ]
  },
  {
   "cell_type": "code",
   "execution_count": 52,
   "metadata": {},
   "outputs": [
    {
     "name": "stdout",
     "output_type": "stream",
     "text": [
      "Test Mean Squared =  0.005200215496311308\n",
      "Test Root Mean Squared Error =  0.07211251969187672\n",
      "Test R_Squared =  0.6910288907914793\n"
     ]
    }
   ],
   "source": [
    "from sklearn.linear_model import LinearRegression\n",
    "from sklearn.metrics import mean_squared_error, r2_score\n",
    "\n",
    "#a)\n",
    "\n",
    "LR = LinearRegression()\n",
    "\n",
    "LR.fit(X_train_scaled, Y_train)\n",
    "\n",
    "#prediction\n",
    "LR_hat = LR.predict(X_test_scaled)\n",
    "\n",
    "\n",
    "mse = mean_squared_error(Y_test, LR_hat)\n",
    "rmse = mse**(1/2)\n",
    "\n",
    "print(\"Test Mean Squared = \", mse)\n",
    "print(\"Test Root Mean Squared Error = \", rmse)\n",
    "print(\"Test R_Squared = \", r2_score(Y_test, LR_hat))\n",
    "\n"
   ]
  },
  {
   "cell_type": "code",
   "execution_count": 51,
   "metadata": {},
   "outputs": [
    {
     "name": "stdout",
     "output_type": "stream",
     "text": [
      "Train Mean Squared =  0.0038570690453814307\n",
      "Train Root Mean Squared Error =  0.06210530609683387\n",
      "Train R_Squared =  0.8193370700006861\n"
     ]
    }
   ],
   "source": [
    "##Train mse\n",
    "LR = LinearRegression()\n",
    "LR.fit(X_train_scaled, Y_train)\n",
    "LR_hat = LR.predict(X_train_scaled)\n",
    "\n",
    "\n",
    "mse = mean_squared_error(Y_train, LR_hat)\n",
    "rmse = mse**(1/2)\n",
    "\n",
    "\n",
    "print(\"Train Mean Squared = \", mse)\n",
    "print(\"Train Root Mean Squared Error = \", rmse)\n",
    "print(\"Train R_Squared = \", r2_score(Y_train, LR_hat))\n"
   ]
  },
  {
   "cell_type": "code",
   "execution_count": 48,
   "metadata": {},
   "outputs": [
    {
     "name": "stdout",
     "output_type": "stream",
     "text": [
      "Ridge Train Mean Squared =  0.0052002154830745415\n",
      "Ridge Train Root Mean Squared Error =  0.07211251960009817\n",
      "Ridge Train R_Squared =  0.6910288915779426\n"
     ]
    }
   ],
   "source": [
    "#b)\n",
    "ridge = Ridge(alpha = a)\n",
    "\n",
    "ridge.fit(X_train_scaled, Y_train)\n",
    "\n",
    "#prediction\n",
    "ridge_hat = ridge.predict(X_test_scaled)\n",
    "\n",
    "\n",
    "mse = mean_squared_error(Y_test, ridge_hat)\n",
    "rmse = mse**(1/2)\n",
    "\n",
    "print(\"Ridge Test Mean Squared = \", mse)\n",
    "print(\"Ridge Test Root Mean Squared Error = \", rmse)\n",
    "print(\"Ridge Test R_Squared = \", r2_score(Y_test, ridge_hat))\n",
    "\n"
   ]
  },
  {
   "cell_type": "code",
   "execution_count": 55,
   "metadata": {},
   "outputs": [
    {
     "name": "stdout",
     "output_type": "stream",
     "text": [
      "Ridge Train Mean Squared =  0.0038570690453814307\n",
      "Ridge Train Root Mean Squared Error =  0.06210530609683387\n",
      "Ridge Train R_Squared =  0.8193370700006861\n"
     ]
    }
   ],
   "source": [
    "#Train Stats\n",
    "ridge_test = Ridge(alpha = a)\n",
    "\n",
    "ridge_test.fit(X_train_scaled, Y_train)\n",
    "\n",
    "#prediction\n",
    "ridge_hat_test = ridge.predict(X_train_scaled)\n",
    "\n",
    "\n",
    "mse_test = mean_squared_error(Y_train, ridge_hat_test)\n",
    "rmse_test = mse_test**(1/2)\n",
    "\n",
    "print(\"Ridge Train Mean Squared = \", mse_test)\n",
    "print(\"Ridge Train Root Mean Squared Error = \", rmse_test)\n",
    "print(\"Ridge Train R_Squared = \", r2_score(Y_train, ridge_hat_test))"
   ]
  },
  {
   "cell_type": "code",
   "execution_count": 56,
   "metadata": {},
   "outputs": [
    {
     "name": "stdout",
     "output_type": "stream",
     "text": [
      "Ridge Test Mean Squared =  0.005200187550909611\n",
      "Ridge Test Root Mean Squared Error =  0.07211232592913372\n",
      "Ridge Test R_Squared =  0.6910305511691629\n"
     ]
    }
   ],
   "source": [
    "#c)\n",
    "lasso = Lasso(alpha = a)\n",
    "\n",
    "lasso.fit(X_train_scaled, Y_train)\n",
    "\n",
    "#prediction\n",
    "lasso_hat = lasso.predict(X_test_scaled)\n",
    "\n",
    "\n",
    "mse = mean_squared_error(Y_test, lasso_hat)\n",
    "rmse = mse**(1/2)\n",
    "\n",
    "print(\"Ridge Test Mean Squared = \", mse)\n",
    "print(\"Ridge Test Root Mean Squared Error = \", rmse)\n",
    "print(\"Ridge Test R_Squared = \", r2_score(Y_test, lasso_hat))"
   ]
  },
  {
   "cell_type": "code",
   "execution_count": 59,
   "metadata": {},
   "outputs": [
    {
     "name": "stdout",
     "output_type": "stream",
     "text": [
      "Lasso Train Mean Squared =  0.003857069046945651\n",
      "Lasso Train Root Mean Squared Error =  0.06210530610942716\n",
      "Lasso Train R_Squared =  0.819337069927419\n"
     ]
    }
   ],
   "source": [
    "lasso = Lasso(alpha = a)\n",
    "\n",
    "lasso.fit(X_train_scaled, Y_train)\n",
    "\n",
    "#prediction\n",
    "lasso_hat = lasso.predict(X_train_scaled)\n",
    "\n",
    "\n",
    "mse = mean_squared_error(Y_train, lasso_hat)\n",
    "rmse = mse**(1/2)\n",
    "\n",
    "print(\"Lasso Train Mean Squared = \", mse)\n",
    "print(\"Lasso Train Root Mean Squared Error = \", rmse)\n",
    "print(\"Lasso Train R_Squared = \", r2_score(Y_train, lasso_hat))"
   ]
  },
  {
   "cell_type": "markdown",
   "metadata": {},
   "source": [
    "7)(**5 pts**) Train the 3 models and report the metrics with the original data without scaling (3pts). \n",
    "\n",
    "Why do we need to scale the data before regularization (2pts)? \n"
   ]
  },
  {
   "cell_type": "code",
   "execution_count": 60,
   "metadata": {},
   "outputs": [
    {
     "name": "stdout",
     "output_type": "stream",
     "text": [
      "Test Mean Squared =  0.004526319242200027\n",
      "Test Root Mean Squared Error =  0.06727792537080812\n",
      "Test R_Squared =  0.7310684763186412\n"
     ]
    }
   ],
   "source": [
    "#Linear Regression\n",
    "\n",
    "LR = LinearRegression()\n",
    "\n",
    "LR.fit(X_train, Y_train)\n",
    "\n",
    "#prediction\n",
    "LR_hat = LR.predict(X_test)\n",
    "\n",
    "\n",
    "mse = mean_squared_error(Y_test, LR_hat)\n",
    "rmse = mse**(1/2)\n",
    "\n",
    "print(\"Test Mean Squared = \", mse)\n",
    "print(\"Test Root Mean Squared Error = \", rmse)\n",
    "print(\"Test R_Squared = \", r2_score(Y_test, LR_hat))"
   ]
  },
  {
   "cell_type": "code",
   "execution_count": 61,
   "metadata": {},
   "outputs": [
    {
     "name": "stdout",
     "output_type": "stream",
     "text": [
      "Train Mean Squared =  0.0038570690453814307\n",
      "Train Root Mean Squared Error =  0.06210530609683387\n",
      "Train R_Squared =  0.8193370700006861\n"
     ]
    }
   ],
   "source": [
    "##Train mse\n",
    "LR = LinearRegression()\n",
    "LR.fit(X_train, Y_train)\n",
    "LR_hat = LR.predict(X_train)\n",
    "\n",
    "\n",
    "mse = mean_squared_error(Y_train, LR_hat)\n",
    "rmse = mse**(1/2)\n",
    "\n",
    "\n",
    "print(\"Train Mean Squared = \", mse)\n",
    "print(\"Train Root Mean Squared Error = \", rmse)\n",
    "print(\"Train R_Squared = \", r2_score(Y_train, LR_hat))"
   ]
  },
  {
   "cell_type": "code",
   "execution_count": 62,
   "metadata": {},
   "outputs": [
    {
     "name": "stdout",
     "output_type": "stream",
     "text": [
      "Ridge Test Mean Squared =  0.004526319232957392\n",
      "Ridge Test Root Mean Squared Error =  0.06727792530211817\n",
      "Ridge Test R_Squared =  0.7310684768677931\n"
     ]
    }
   ],
   "source": [
    "##Ridge\n",
    "ridge = Ridge(alpha = a)\n",
    "\n",
    "ridge.fit(X_train, Y_train)\n",
    "\n",
    "#prediction\n",
    "ridge_hat = ridge.predict(X_test)\n",
    "\n",
    "\n",
    "mse = mean_squared_error(Y_test, ridge_hat)\n",
    "rmse = mse**(1/2)\n",
    "\n",
    "print(\"Ridge Test Mean Squared = \", mse)\n",
    "print(\"Ridge Test Root Mean Squared Error = \", rmse)\n",
    "print(\"Ridge Test R_Squared = \", r2_score(Y_test, ridge_hat))\n",
    "\n"
   ]
  },
  {
   "cell_type": "code",
   "execution_count": 63,
   "metadata": {},
   "outputs": [
    {
     "name": "stdout",
     "output_type": "stream",
     "text": [
      "Ridge Train Mean Squared =  0.0038570690453814324\n",
      "Ridge Train Root Mean Squared Error =  0.06210530609683389\n",
      "Ridge Train R_Squared =  0.819337070000686\n"
     ]
    }
   ],
   "source": [
    "#Ridge Train\n",
    "ridge_test = Ridge(alpha = a)\n",
    "\n",
    "ridge_test.fit(X_train, Y_train)\n",
    "\n",
    "#prediction\n",
    "ridge_hat_test = ridge.predict(X_train)\n",
    "\n",
    "\n",
    "mse_test = mean_squared_error(Y_train, ridge_hat_test)\n",
    "rmse_test = mse_test**(1/2)\n",
    "\n",
    "print(\"Ridge Train Mean Squared = \", mse_test)\n",
    "print(\"Ridge Train Root Mean Squared Error = \", rmse_test)\n",
    "print(\"Ridge Train R_Squared = \", r2_score(Y_train, ridge_hat_test))"
   ]
  },
  {
   "cell_type": "code",
   "execution_count": 64,
   "metadata": {},
   "outputs": [
    {
     "name": "stdout",
     "output_type": "stream",
     "text": [
      "Ridge Test Mean Squared =  0.00452635977938929\n",
      "Ridge Test Root Mean Squared Error =  0.06727822663677521\n",
      "Ridge Test R_Squared =  0.7310660677991598\n"
     ]
    }
   ],
   "source": [
    "#Lasso\n",
    "lasso = Lasso(alpha = a)\n",
    "\n",
    "lasso.fit(X_train, Y_train)\n",
    "\n",
    "#prediction\n",
    "lasso_hat = lasso.predict(X_test)\n",
    "\n",
    "\n",
    "mse = mean_squared_error(Y_test, lasso_hat)\n",
    "rmse = mse**(1/2)\n",
    "\n",
    "print(\"Ridge Test Mean Squared = \", mse)\n",
    "print(\"Ridge Test Root Mean Squared Error = \", rmse)\n",
    "print(\"Ridge Test R_Squared = \", r2_score(Y_test, lasso_hat))"
   ]
  },
  {
   "cell_type": "code",
   "execution_count": 65,
   "metadata": {},
   "outputs": [
    {
     "name": "stdout",
     "output_type": "stream",
     "text": [
      "Lasso Train Mean Squared =  0.003857069059927234\n",
      "Lasso Train Root Mean Squared Error =  0.06210530621393984\n",
      "Lasso Train R_Squared =  0.8193370693193689\n"
     ]
    }
   ],
   "source": [
    "lasso = Lasso(alpha = a)\n",
    "\n",
    "lasso.fit(X_train, Y_train)\n",
    "\n",
    "#prediction\n",
    "lasso_hat = lasso.predict(X_train)\n",
    "\n",
    "\n",
    "mse = mean_squared_error(Y_train, lasso_hat)\n",
    "rmse = mse**(1/2)\n",
    "\n",
    "print(\"Lasso Train Mean Squared = \", mse)\n",
    "print(\"Lasso Train Root Mean Squared Error = \", rmse)\n",
    "print(\"Lasso Train R_Squared = \", r2_score(Y_train, lasso_hat))"
   ]
  },
  {
   "cell_type": "markdown",
   "metadata": {},
   "source": [
    "## Why do we need to scale the data before regularization (2pts)?"
   ]
  },
  {
   "cell_type": "markdown",
   "metadata": {},
   "source": [
    "Before the regularization we need to scale the data in order to normalize our inputs. This normalization gives a similar range for our inputs that helps to eliminate outliers and the bias that comes with the outliers. Had we not done this, our regression statistics for each model would have been inaccurate and given us the wrong insights about our data! By regularizing the the variables beforehand, we ensure that the regularization parameter will affect our models similarly."
   ]
  }
 ],
 "metadata": {
  "colab": {
   "collapsed_sections": [],
   "name": "MIS 382N - HW1.ipynb",
   "provenance": []
  },
  "kernelspec": {
   "display_name": "Python 3",
   "language": "python",
   "name": "python3"
  },
  "language_info": {
   "codemirror_mode": {
    "name": "ipython",
    "version": 3
   },
   "file_extension": ".py",
   "mimetype": "text/x-python",
   "name": "python",
   "nbconvert_exporter": "python",
   "pygments_lexer": "ipython3",
   "version": "3.8.8"
  }
 },
 "nbformat": 4,
 "nbformat_minor": 4
}
